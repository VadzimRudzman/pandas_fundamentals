{
 "cells": [
  {
   "cell_type": "markdown",
   "id": "1725b82a",
   "metadata": {},
   "source": [
    "## 2.1 Зачем при изучении Pandas нужен Numpy?"
   ]
  },
  {
   "cell_type": "markdown",
   "id": "0b7f1d03",
   "metadata": {},
   "source": [
    "Контейнеры из библиотеки numpy называются **массивами** "
   ]
  },
  {
   "cell_type": "code",
   "execution_count": 5,
   "id": "c7077915",
   "metadata": {},
   "outputs": [
    {
     "data": {
      "text/plain": [
       "array([       0,        1,        2, ..., 99999997, 99999998, 99999999])"
      ]
     },
     "execution_count": 5,
     "metadata": {},
     "output_type": "execute_result"
    }
   ],
   "source": [
    "import numpy as np # Импортируем библиотеку\n",
    "\n",
    "arr = np.arange(100_000_000)\n",
    "arr"
   ]
  },
  {
   "cell_type": "markdown",
   "id": "24214421",
   "metadata": {},
   "source": [
    "* Массивы из библиотеки Numpy работают быстрее в 10-100 раз чем наши любимые питоновские списки (list).  А еще они сильно меньше потребляют оперативной памяти. Это важно, когда мы работаем с реальными проектами.  \n",
    "\n",
    "\n",
    "* Numpy лег в основу многих библиотек для анализа данных и машинного обучения."
   ]
  },
  {
   "cell_type": "markdown",
   "id": "6d1ef945",
   "metadata": {},
   "source": [
    "**Создание массива:**"
   ]
  },
  {
   "cell_type": "code",
   "execution_count": 2,
   "id": "93018b7e",
   "metadata": {},
   "outputs": [
    {
     "data": {
      "text/plain": [
       "array([1. , 2. , 3. , 4. , 5.2])"
      ]
     },
     "execution_count": 2,
     "metadata": {},
     "output_type": "execute_result"
    }
   ],
   "source": [
    "import numpy as np\n",
    "\n",
    "lst = [1, 2, 3, 4, 5.2]\n",
    "arr1 = np.array(lst) # принимает список\n",
    "arr1"
   ]
  },
  {
   "cell_type": "markdown",
   "id": "1e5d8919",
   "metadata": {},
   "source": [
    "Можно передавать вложенные списки"
   ]
  },
  {
   "cell_type": "code",
   "execution_count": 6,
   "id": "2d95c40c",
   "metadata": {},
   "outputs": [
    {
     "data": {
      "text/plain": [
       "array([[1, 2, 3],\n",
       "       [3, 4, 5],\n",
       "       [6, 7, 8]])"
      ]
     },
     "execution_count": 6,
     "metadata": {},
     "output_type": "execute_result"
    }
   ],
   "source": [
    "arr2 = np.array([[1, 2, 3], [3, 4, 5], [6, 7, 8]])\n",
    "arr2\n"
   ]
  },
  {
   "cell_type": "markdown",
   "id": "c3f00769",
   "metadata": {},
   "source": [
    "Свойство **shape** (переводится как форма) - показывает размер каждого измерений.  \n",
    "* Если у вас shape = (4,) это значит, что у вас одномерный массив длинной 4\n",
    "* Если у вас shape = (2, 3) это значит, что у вас двумерный массив (массив, который состоит из подмассивов). Каждый подмассив длинной 3.  \n",
    "* Если у вас shape = (4, 3, 2) это значит, что у вас трехмерный массив. Но из чего он состоит? Представьте себе двумерный массив размером (3, 2). Вот таких двухмерных массивов (называют матрицами) у вас будет 4."
   ]
  },
  {
   "cell_type": "code",
   "execution_count": 28,
   "id": "9827ffbe",
   "metadata": {},
   "outputs": [
    {
     "data": {
      "text/plain": [
       "(3, 3)"
      ]
     },
     "execution_count": 28,
     "metadata": {},
     "output_type": "execute_result"
    }
   ],
   "source": [
    "arr2.shape"
   ]
  },
  {
   "cell_type": "markdown",
   "id": "adc16f91",
   "metadata": {},
   "source": [
    "С помощью стандартной функции **len** можно получить только количество подмассивов в массиве."
   ]
  },
  {
   "cell_type": "code",
   "execution_count": 29,
   "id": "6c5fde23",
   "metadata": {},
   "outputs": [
    {
     "data": {
      "text/plain": [
       "3"
      ]
     },
     "execution_count": 29,
     "metadata": {},
     "output_type": "execute_result"
    }
   ],
   "source": [
    "len(arr2)"
   ]
  },
  {
   "cell_type": "markdown",
   "id": "9561d627",
   "metadata": {},
   "source": [
    "Свойство **ndim** - сокращение от number of dimensions (переводится как количество измерений).  Поможет ответить на вопрос: а сколько измерений в моем массиве (какая вложенность)?  \n",
    "* Если ndim =1 значит у вас 1D array (см. выше). Он же одномерный массив.\n",
    "* Если ndim =2 значит у вас 2D array (см. выше). Он же двумерный массив. Она же матрица.\n",
    "* Если ndim =3 значит у вас 3D array (см. выше). "
   ]
  },
  {
   "cell_type": "code",
   "execution_count": 34,
   "id": "935d8d25",
   "metadata": {},
   "outputs": [
    {
     "data": {
      "text/plain": [
       "2"
      ]
     },
     "execution_count": 34,
     "metadata": {},
     "output_type": "execute_result"
    }
   ],
   "source": [
    "arr2.ndim"
   ]
  },
  {
   "cell_type": "markdown",
   "id": "afdca006",
   "metadata": {},
   "source": [
    "Когда вы создаете массив, Numpy пытается понять из каких элементов вы пытаетесь его создать и подбирает **наиболее подходящий тип данных.** Свойство **dtype** подскажет, какой тип данных у каждого элемента вашего массива"
   ]
  },
  {
   "cell_type": "code",
   "execution_count": 36,
   "id": "3ae15789",
   "metadata": {},
   "outputs": [
    {
     "data": {
      "text/plain": [
       "dtype('int32')"
      ]
     },
     "execution_count": 36,
     "metadata": {},
     "output_type": "execute_result"
    }
   ],
   "source": [
    "arr.dtype"
   ]
  },
  {
   "cell_type": "markdown",
   "id": "27b6a4fd",
   "metadata": {},
   "source": [
    "Часто на практике надо создать массив, который предварительно заполнен нулями. Функция **zeros** поможет нам в этом!  \n",
    "\n",
    "Если в функцию **zeros** передать просто число, тогда будет создан одномерный массив"
   ]
  },
  {
   "cell_type": "code",
   "execution_count": 43,
   "id": "5652f2d5",
   "metadata": {},
   "outputs": [
    {
     "data": {
      "text/plain": [
       "array([0., 0., 0., 0., 0.])"
      ]
     },
     "execution_count": 43,
     "metadata": {},
     "output_type": "execute_result"
    }
   ],
   "source": [
    "arr2 = np.zeros(5)\n",
    "arr2"
   ]
  },
  {
   "cell_type": "markdown",
   "id": "3ee2362f",
   "metadata": {},
   "source": [
    "Если в функцию **zeros** передать кортеж из двух чисел, например zeros((3, 2)), тогда будет создана матрица с тремя строками и двумя столбцами. (или если вам проще: будет создан массив, в котором будет три подмассива, где каждый подмассив будет на два элемента)"
   ]
  },
  {
   "cell_type": "code",
   "execution_count": 54,
   "id": "7485c30a",
   "metadata": {},
   "outputs": [
    {
     "data": {
      "text/plain": [
       "array([[0., 0.],\n",
       "       [0., 0.],\n",
       "       [0., 0.]])"
      ]
     },
     "execution_count": 54,
     "metadata": {},
     "output_type": "execute_result"
    }
   ],
   "source": [
    "arr2 = np.zeros((3, 2))\n",
    "arr2"
   ]
  },
  {
   "cell_type": "markdown",
   "id": "6212fd95",
   "metadata": {},
   "source": [
    "Аналогичная функция - **ones**, но для 1"
   ]
  },
  {
   "cell_type": "code",
   "execution_count": 57,
   "id": "e000b879",
   "metadata": {},
   "outputs": [
    {
     "data": {
      "text/plain": [
       "array([[1., 1.],\n",
       "       [1., 1.],\n",
       "       [1., 1.]])"
      ]
     },
     "execution_count": 57,
     "metadata": {},
     "output_type": "execute_result"
    }
   ],
   "source": [
    "arr2 = np.ones((3, 2))\n",
    "arr2"
   ]
  },
  {
   "cell_type": "markdown",
   "id": "726ab06e",
   "metadata": {},
   "source": [
    "Функция **full** еще лучше, т.к. с помощью нее можно инциализировать любое значение"
   ]
  },
  {
   "cell_type": "code",
   "execution_count": 8,
   "id": "39efcd2e",
   "metadata": {},
   "outputs": [
    {
     "data": {
      "text/plain": [
       "array([[-5, -5],\n",
       "       [-5, -5],\n",
       "       [-5, -5]])"
      ]
     },
     "execution_count": 8,
     "metadata": {},
     "output_type": "execute_result"
    }
   ],
   "source": [
    "arr2 = np.full((3, 2), -5)\n",
    "arr2"
   ]
  },
  {
   "cell_type": "markdown",
   "id": "190cba99",
   "metadata": {},
   "source": [
    "Функция **arange** аналогична встроенной функции **range** и заполняет массив данными"
   ]
  },
  {
   "cell_type": "code",
   "execution_count": 64,
   "id": "2078feee",
   "metadata": {},
   "outputs": [
    {
     "data": {
      "text/plain": [
       "array([0, 1, 2, 3, 4])"
      ]
     },
     "execution_count": 64,
     "metadata": {},
     "output_type": "execute_result"
    }
   ],
   "source": [
    "arr2 = np.arange(5)\n",
    "arr2"
   ]
  },
  {
   "cell_type": "markdown",
   "id": "3ac52fb8",
   "metadata": {},
   "source": [
    "# Задачи урока 2.1"
   ]
  },
  {
   "cell_type": "markdown",
   "id": "3525d260",
   "metadata": {},
   "source": [
    "1. Напишите функцию, которая возвращает numpy массив на основе предложенного списка (lst)."
   ]
  },
  {
   "cell_type": "code",
   "execution_count": 69,
   "id": "8d3d8238",
   "metadata": {},
   "outputs": [
    {
     "data": {
      "text/plain": [
       "array([1, 2, 3])"
      ]
     },
     "execution_count": 69,
     "metadata": {},
     "output_type": "execute_result"
    }
   ],
   "source": [
    "import numpy as np\n",
    "\n",
    "def solution(lst):\n",
    "    arr = np.array(lst)\n",
    "    return arr\n",
    "\n",
    "solution([1, 2, 3])"
   ]
  },
  {
   "cell_type": "markdown",
   "id": "580c9152",
   "metadata": {},
   "source": [
    "2. Напишите функцию, которая возвращает одномерный массив длинной 100 и заполненный нулями."
   ]
  },
  {
   "cell_type": "code",
   "execution_count": 70,
   "id": "66502f07",
   "metadata": {},
   "outputs": [
    {
     "name": "stdout",
     "output_type": "stream",
     "text": [
      "[0. 0. 0. 0. 0. 0. 0. 0. 0. 0. 0. 0. 0. 0. 0. 0. 0. 0. 0. 0. 0. 0. 0. 0.\n",
      " 0. 0. 0. 0. 0. 0. 0. 0. 0. 0. 0. 0. 0. 0. 0. 0. 0. 0. 0. 0. 0. 0. 0. 0.\n",
      " 0. 0. 0. 0. 0. 0. 0. 0. 0. 0. 0. 0. 0. 0. 0. 0. 0. 0. 0. 0. 0. 0. 0. 0.\n",
      " 0. 0. 0. 0. 0. 0. 0. 0. 0. 0. 0. 0. 0. 0. 0. 0. 0. 0. 0. 0. 0. 0. 0. 0.\n",
      " 0. 0. 0. 0.]\n"
     ]
    }
   ],
   "source": [
    "import numpy as np\n",
    "\n",
    "def solution():\n",
    "    arr = np.zeros(100)\n",
    "    return arr\n",
    "\n",
    "print(solution())"
   ]
  },
  {
   "cell_type": "markdown",
   "id": "8ededdfa",
   "metadata": {},
   "source": [
    "## 2.2 Практика: shape, dtype, ndim, zeros, ones, arange"
   ]
  },
  {
   "cell_type": "markdown",
   "id": "0f898d3c",
   "metadata": {},
   "source": [
    "1. Создайте массив заполненный нулями у которого shape = (2, 5)"
   ]
  },
  {
   "cell_type": "code",
   "execution_count": 1,
   "id": "25a7b465",
   "metadata": {},
   "outputs": [
    {
     "name": "stdout",
     "output_type": "stream",
     "text": [
      "[[0. 0. 0. 0. 0.]\n",
      " [0. 0. 0. 0. 0.]]\n"
     ]
    }
   ],
   "source": [
    "import numpy as np\n",
    "\n",
    "def solution():\n",
    "    arr = np.zeros((2, 5))\n",
    "    return arr\n",
    "\n",
    "\n",
    "print(solution())"
   ]
  },
  {
   "cell_type": "markdown",
   "id": "a42d3112",
   "metadata": {},
   "source": [
    "2. Создайте массив заполненный единицами у которого 5 строк и 8 столбцов (5 вложенных массивов длинной 8)"
   ]
  },
  {
   "cell_type": "code",
   "execution_count": 4,
   "id": "50403967",
   "metadata": {},
   "outputs": [
    {
     "data": {
      "text/plain": [
       "array([[1., 1., 1., 1., 1., 1., 1., 1.],\n",
       "       [1., 1., 1., 1., 1., 1., 1., 1.],\n",
       "       [1., 1., 1., 1., 1., 1., 1., 1.],\n",
       "       [1., 1., 1., 1., 1., 1., 1., 1.],\n",
       "       [1., 1., 1., 1., 1., 1., 1., 1.]])"
      ]
     },
     "execution_count": 4,
     "metadata": {},
     "output_type": "execute_result"
    }
   ],
   "source": [
    "import numpy as np\n",
    "\n",
    "def solution():\n",
    "    arr = np.ones((5, 8))\n",
    "    return arr\n",
    "\n",
    "solution()"
   ]
  },
  {
   "cell_type": "markdown",
   "id": "9ef1a792",
   "metadata": {},
   "source": [
    "3. Создайте одномерный numpy массив со значениями 0, 1, 2, .... 99 (диапазон значений от 0 до 99)"
   ]
  },
  {
   "cell_type": "code",
   "execution_count": 5,
   "id": "50809b2e",
   "metadata": {},
   "outputs": [
    {
     "data": {
      "text/plain": [
       "array([ 0,  1,  2,  3,  4,  5,  6,  7,  8,  9, 10, 11, 12, 13, 14, 15, 16,\n",
       "       17, 18, 19, 20, 21, 22, 23, 24, 25, 26, 27, 28, 29, 30, 31, 32, 33,\n",
       "       34, 35, 36, 37, 38, 39, 40, 41, 42, 43, 44, 45, 46, 47, 48, 49, 50,\n",
       "       51, 52, 53, 54, 55, 56, 57, 58, 59, 60, 61, 62, 63, 64, 65, 66, 67,\n",
       "       68, 69, 70, 71, 72, 73, 74, 75, 76, 77, 78, 79, 80, 81, 82, 83, 84,\n",
       "       85, 86, 87, 88, 89, 90, 91, 92, 93, 94, 95, 96, 97, 98, 99])"
      ]
     },
     "execution_count": 5,
     "metadata": {},
     "output_type": "execute_result"
    }
   ],
   "source": [
    "import numpy as np\n",
    "\n",
    "def solution():\n",
    "    arr = np.arange(100)\n",
    "    return arr\n",
    "\n",
    "\n",
    "solution()"
   ]
  },
  {
   "cell_type": "markdown",
   "id": "8db41a80",
   "metadata": {},
   "source": [
    "4. Создайте двумерный массив размером 5 х 2, который полностью будет заполнен значением 'G' "
   ]
  },
  {
   "cell_type": "code",
   "execution_count": null,
   "id": "7bc58ef4",
   "metadata": {},
   "outputs": [],
   "source": [
    "import numpy as np\n",
    "\n",
    "def solution():\n",
    "    arr = np.full((5, 2), 'G')\n",
    "    return arr\n",
    "\n",
    "\n",
    "solution()"
   ]
  },
  {
   "cell_type": "markdown",
   "id": "3ef0a915",
   "metadata": {},
   "source": [
    "## 2.3 Типы данных и их преобразование, арифметика, доступ к элементам"
   ]
  },
  {
   "cell_type": "markdown",
   "id": "4ae7d7b6",
   "metadata": {},
   "source": [
    "Функция **array** может принимать второй необязательный аргумент **dtype** для формирования массива с определённым типом данных"
   ]
  },
  {
   "cell_type": "code",
   "execution_count": 12,
   "id": "48d4b821",
   "metadata": {},
   "outputs": [
    {
     "name": "stdout",
     "output_type": "stream",
     "text": [
      "int64\n"
     ]
    }
   ],
   "source": [
    "import numpy as np\n",
    "\n",
    "arr = np.array([1, 2, 3, 4, 5], dtype=np.float64)\n",
    "\n",
    "print(new_arr.dtype)"
   ]
  },
  {
   "cell_type": "markdown",
   "id": "1b16f9f3",
   "metadata": {},
   "source": [
    "Функция **astype** выполнит преобразование типов и вернет новый массив с новым типом данных."
   ]
  },
  {
   "cell_type": "code",
   "execution_count": 13,
   "id": "9fac1f10",
   "metadata": {},
   "outputs": [
    {
     "name": "stdout",
     "output_type": "stream",
     "text": [
      "int64 float64\n"
     ]
    }
   ],
   "source": [
    "new_arr = arr.astype(np.int64)\n",
    "\n",
    "print(new_arr.dtype, arr.dtype)"
   ]
  },
  {
   "cell_type": "markdown",
   "id": "37d59973",
   "metadata": {},
   "source": [
    "Если вы поменяете тип данных с **float_** на **int_**, то numpy отрежет десятичную часть от каждого числа и оставит только целую. Округления не будет! Округление делается по другому."
   ]
  },
  {
   "cell_type": "code",
   "execution_count": 16,
   "id": "fc8e5b25",
   "metadata": {},
   "outputs": [
    {
     "name": "stdout",
     "output_type": "stream",
     "text": [
      "[1 2 3 4 5]\n"
     ]
    }
   ],
   "source": [
    "import numpy as np\n",
    "\n",
    "arr = np.array([1.5, 2.5, 3.1, 4.2, 5.8], dtype=np.float64)\n",
    "\n",
    "print(arr.astype(np.int32))"
   ]
  },
  {
   "cell_type": "markdown",
   "id": "268bc0f6",
   "metadata": {},
   "source": [
    "### Арифметические операции в NumPy"
   ]
  },
  {
   "cell_type": "code",
   "execution_count": 26,
   "id": "24baa1db",
   "metadata": {},
   "outputs": [
    {
     "name": "stdout",
     "output_type": "stream",
     "text": [
      "[ 2  4  6  8 10]\n",
      "[2 3 4 5 6]\n",
      "\n",
      "[0 0 0 0 0]\n",
      "[0 1 2 3 4]\n",
      "\n",
      "[ 1  4  9 16 25]\n",
      "[ 2  4  6  8 10]\n",
      "\n",
      "[1. 1. 1. 1. 1.]\n",
      "[0.5 1.  1.5 2.  2.5]\n",
      "\n",
      "[   1    4   27  256 3125]\n",
      "[ 1  4  9 16 25]\n"
     ]
    }
   ],
   "source": [
    "import numpy as np\n",
    "\n",
    "arr = np.array([1, 2, 3, 4, 5])\n",
    "\n",
    "# сложение\n",
    "print(arr + arr)\n",
    "print(arr + 1, end='\\n\\n')\n",
    "\n",
    "# разность\n",
    "print(arr - arr)\n",
    "print(arr - 1, end='\\n\\n')\n",
    "\n",
    "# умножение\n",
    "print(arr * arr)\n",
    "print(arr * 2, end='\\n\\n')\n",
    "\n",
    "# деление\n",
    "print(arr / arr)\n",
    "print(arr / 2, end='\\n\\n')\n",
    " \n",
    "# возведение в степень\n",
    "print(arr ** arr)\n",
    "print(arr ** 2)"
   ]
  },
  {
   "cell_type": "markdown",
   "id": "9fa97556",
   "metadata": {},
   "source": [
    "### Сравнение элементов между массивами"
   ]
  },
  {
   "cell_type": "markdown",
   "id": "10e0434c",
   "metadata": {},
   "source": [
    "Если необходимо сравнить два массива поэлементно, то не нужно писать цикл! Достаточно просто написать:"
   ]
  },
  {
   "cell_type": "code",
   "execution_count": 34,
   "id": "fe398848",
   "metadata": {},
   "outputs": [
    {
     "name": "stdout",
     "output_type": "stream",
     "text": [
      "[False False  True]\n",
      "[ True False False]\n",
      "[ True  True False]\n",
      "[False  True  True]\n",
      "[False  True False]\n",
      "[ True False  True]\n"
     ]
    }
   ],
   "source": [
    "import numpy as np\n",
    "\n",
    "m1 = np.array([36.6, 36.5, 37.0])\n",
    "m2 = np.array([36.9, 36.5, 35.6])\n",
    "\n",
    "print(m1 > m2)\n",
    "print(m1 < m2)\n",
    "print(m1 <= m2)\n",
    "print(m1 >= m2)\n",
    "print(m1 == m2)\n",
    "print(m1 != m2)"
   ]
  },
  {
   "cell_type": "markdown",
   "id": "5c50f199",
   "metadata": {},
   "source": [
    "### Доступ к элементам массива"
   ]
  },
  {
   "cell_type": "markdown",
   "id": "c3ea721a",
   "metadata": {},
   "source": [
    "Для доступа к одному элементу массива указываем индекс этого элемента в квадратных скобках, а для получения доступа к нескольким элементам указываем диапазон через двоеточие"
   ]
  },
  {
   "cell_type": "code",
   "execution_count": 36,
   "id": "cf29409f",
   "metadata": {},
   "outputs": [
    {
     "name": "stdout",
     "output_type": "stream",
     "text": [
      "3\n",
      "[3 4]\n",
      "5\n"
     ]
    }
   ],
   "source": [
    "import numpy as np\n",
    "\n",
    "m = np.array([1, 2, 3, 4, 5])\n",
    "\n",
    "print(m[2])\n",
    "print(m[2:4])\n",
    "print(m[-1])"
   ]
  },
  {
   "cell_type": "markdown",
   "id": "162a9fad",
   "metadata": {},
   "source": [
    "Массивы как и списки в Python **изменяемые**, поэтому если мы поменяли элемент в массиве, то он изменится во всех связанных массивах"
   ]
  },
  {
   "cell_type": "markdown",
   "id": "29eba1c2",
   "metadata": {},
   "source": [
    "### Задачи урока 2.2"
   ]
  },
  {
   "cell_type": "markdown",
   "id": "bcf86c63",
   "metadata": {},
   "source": [
    "1. Напишите функцию, которая на основе существующего списка создает numpy массив с типом float64"
   ]
  },
  {
   "cell_type": "code",
   "execution_count": 40,
   "id": "95ff0992",
   "metadata": {},
   "outputs": [
    {
     "name": "stdout",
     "output_type": "stream",
     "text": [
      "[1. 2. 3. 4. 5.]\n"
     ]
    }
   ],
   "source": [
    "import numpy as np\n",
    "\n",
    "def solution(lst):\n",
    "    arr = np.array(lst, dtype=np.float64)\n",
    "    return arr\n",
    "\n",
    "\n",
    "print(solution([1, 2, 3, 4, 5]))"
   ]
  },
  {
   "cell_type": "markdown",
   "id": "69b71247",
   "metadata": {},
   "source": [
    "2. К вам в распоряжение поступает массив arr с типом float64. Преобразуйте, пожалуйста, в int32"
   ]
  },
  {
   "cell_type": "code",
   "execution_count": 100,
   "id": "839a19e5",
   "metadata": {},
   "outputs": [
    {
     "name": "stdout",
     "output_type": "stream",
     "text": [
      "[1 2 4]\n"
     ]
    }
   ],
   "source": [
    "import numpy as np\n",
    "\n",
    "def solution(arr):\n",
    "    arr = arr.astype(np.int32)\n",
    "    return arr\n",
    "\n",
    "\n",
    "print(solution(np.array([1.5, 2.3, 4.3])))"
   ]
  },
  {
   "cell_type": "markdown",
   "id": "d88f7a4e",
   "metadata": {},
   "source": [
    "## 2.4 Практика: арифметика, преобразование типов, доступ к элементам"
   ]
  },
  {
   "cell_type": "markdown",
   "id": "9a02efbd",
   "metadata": {},
   "source": [
    "1. На вход подается одномерный массив со значениями от 0 до 5 (включительно). Примените некоторую операцию  чтобы на выходе получился массив со значениями 1000, 1001....1005"
   ]
  },
  {
   "cell_type": "code",
   "execution_count": 16,
   "id": "0dbe6ead",
   "metadata": {},
   "outputs": [
    {
     "name": "stdout",
     "output_type": "stream",
     "text": [
      "[1000 1001 1002 1003 1004 1005]\n"
     ]
    }
   ],
   "source": [
    "import numpy as np\n",
    "\n",
    "def solution(arr):\n",
    "    arr = arr + 1000\n",
    "    return arr\n",
    "\n",
    "\n",
    "print(solution(np.array([0, 1, 2, 3, 4, 5])))"
   ]
  },
  {
   "cell_type": "markdown",
   "id": "d0be90da",
   "metadata": {},
   "source": [
    "2. На вход подается одномерный массив в котором хранится информация о количестве картофеля на каждом складе (всего 5 складов). Посчитайте для каждого склада, сколько процентов картофеля от общего количества хранится на каждом складе. Общее количество картофеля на всех складах 115 кг. Не забудьте что каждое значение надо умножить на 100. Округлять значения не требуется! Знак процента тоже добавлять не следует. Просто выполните арифметические операции."
   ]
  },
  {
   "cell_type": "code",
   "execution_count": 98,
   "id": "0c8364fa",
   "metadata": {},
   "outputs": [
    {
     "name": "stdout",
     "output_type": "stream",
     "text": [
      "[26.08695652 34.7826087  26.08695652  8.69565217  4.34782609]\n"
     ]
    }
   ],
   "source": [
    "import numpy as np\n",
    "\n",
    "def solution(arr):\n",
    "    arr = arr / sum(arr) * 100\n",
    "    return arr\n",
    "\n",
    "\n",
    "print(solution(np.array([30, 40, 30, 10, 5])))"
   ]
  },
  {
   "cell_type": "markdown",
   "id": "88482930",
   "metadata": {},
   "source": [
    "3. Выполните действия:\n",
    "\n",
    "   1) Создайте одномерный массив со значениями в диапазоне от 0 до 10 (включительно). \n",
    "\n",
    "   2) Создайте второй одномерный массив со значениями в диапазоне от 10 до 20 (включительно). \n",
    "\n",
    "   3) Вычтите из второго массива первый. \n",
    "\n",
    "   4) Проверьте каждое значение получившегося массива на равенство значению 10. Результат сравнения верните в отдельном numpy массиве."
   ]
  },
  {
   "cell_type": "code",
   "execution_count": 97,
   "id": "898b6526",
   "metadata": {},
   "outputs": [
    {
     "data": {
      "text/plain": [
       "array([ True,  True,  True,  True,  True,  True,  True,  True,  True,\n",
       "        True,  True])"
      ]
     },
     "execution_count": 97,
     "metadata": {},
     "output_type": "execute_result"
    }
   ],
   "source": [
    "import numpy as np\n",
    "\n",
    "def solution():\n",
    "    arr = np.arange(11)\n",
    "    arr2 = np.arange(10, 21)\n",
    "    return (arr2 - arr) == 10\n",
    "\n",
    "\n",
    "solution()"
   ]
  },
  {
   "cell_type": "markdown",
   "id": "4aab84d4",
   "metadata": {},
   "source": [
    "4. Во входящем массиве arr содержится информация о водителях, которые превысили скорость на некотором участке дороги. Определите насколько каждый водитель превысил скорость, если допустимая скорость равна 80. Результаты представьте в отдельном numpy массиве"
   ]
  },
  {
   "cell_type": "code",
   "execution_count": 58,
   "id": "362f7de5",
   "metadata": {},
   "outputs": [
    {
     "data": {
      "text/plain": [
       "array([20, 40, 19])"
      ]
     },
     "execution_count": 58,
     "metadata": {},
     "output_type": "execute_result"
    }
   ],
   "source": [
    "import numpy as np\n",
    "\n",
    "solution = lambda arr: arr - 80\n",
    "\n",
    "solution(np.array([100, 120, 99]))"
   ]
  },
  {
   "cell_type": "markdown",
   "id": "a983fa0f",
   "metadata": {},
   "source": [
    "5. На вход вашей функции подается некоторый одномерный массив. Предполагается, что там лежат числа с плавающей точкой, но записаны они как строка. Выполните сложение элементов с индексами 1 и 3. На выходе ваша функция должна вернуть число (сумма двух элементов массива)."
   ]
  },
  {
   "cell_type": "code",
   "execution_count": 10,
   "id": "3f335270",
   "metadata": {},
   "outputs": [
    {
     "name": "stdout",
     "output_type": "stream",
     "text": [
      "17.6\n"
     ]
    }
   ],
   "source": [
    "import numpy as np\n",
    "\n",
    "def solution(arr):\n",
    "    arr = arr.astype('float64')\n",
    "    return arr[1] + arr[3]\n",
    "\n",
    "\n",
    "print(solution(np.array(['5.1', '8.2', '4.3', '9.4', '10.5'])))"
   ]
  },
  {
   "cell_type": "markdown",
   "id": "a99721c9",
   "metadata": {},
   "source": [
    "6. На вход вашей функции подается два одномерных массива. Сложите первые два элемента первого массива с последними двумя элементами второго массива (поэлементно). На выходе должен получится новый одномерный массив, который будет хранить два значения"
   ]
  },
  {
   "cell_type": "code",
   "execution_count": 9,
   "id": "c8fb7c94",
   "metadata": {},
   "outputs": [
    {
     "data": {
      "text/plain": [
       "array([6, 8])"
      ]
     },
     "execution_count": 9,
     "metadata": {},
     "output_type": "execute_result"
    }
   ],
   "source": [
    "import numpy as np\n",
    "\n",
    "def solution(arr1, arr2):\n",
    "    return arr1[:2] + arr2[-2:]\n",
    "\n",
    "\n",
    "solution(np.array([1, 2, 3]), np.array([4, 5, 6]))"
   ]
  },
  {
   "cell_type": "markdown",
   "id": "9a4ea710",
   "metadata": {},
   "source": [
    "7. На вход подается некоторый одномерный массив. Занулите первые 3 элемента."
   ]
  },
  {
   "cell_type": "code",
   "execution_count": 8,
   "id": "6db5ab7b",
   "metadata": {},
   "outputs": [
    {
     "name": "stdout",
     "output_type": "stream",
     "text": [
      "[0 0 0 4 5]\n"
     ]
    }
   ],
   "source": [
    "import numpy as np\n",
    "\n",
    "def solution(arr):\n",
    "    arr[:3] = 0\n",
    "    return arr\n",
    "\n",
    "\n",
    "print(solution(np.array([1, 2, 3, 4, 5])))"
   ]
  },
  {
   "cell_type": "markdown",
   "id": "b6129d6d",
   "metadata": {},
   "source": [
    "## 2.5 Двумерные и трехмерные массивы. Учимся применять индексы"
   ]
  },
  {
   "cell_type": "markdown",
   "id": "bbc7a90e",
   "metadata": {},
   "source": [
    "### Индексация одномерного массива"
   ]
  },
  {
   "cell_type": "markdown",
   "id": "c75f8b68",
   "metadata": {},
   "source": [
    "Если из массива необходимо вытянуть часть данных с помощью среза (слайсинга), то необходимо использовать метод **copy()**, т.к. при слайсинге мы копируем не объект, а делаем ссылку на него"
   ]
  },
  {
   "cell_type": "code",
   "execution_count": 4,
   "id": "0a9cb5ca",
   "metadata": {},
   "outputs": [
    {
     "name": "stdout",
     "output_type": "stream",
     "text": [
      "[ 1  2 10  4  5]\n"
     ]
    }
   ],
   "source": [
    "import numpy as np\n",
    "\n",
    "arr = np.array([1, 2, 3, 4, 5])\n",
    "new_arr = arr[2:4]\n",
    "new_arr[0] = 10\n",
    "\n",
    "print(arr)"
   ]
  },
  {
   "cell_type": "code",
   "execution_count": 7,
   "id": "a9d0c211",
   "metadata": {},
   "outputs": [
    {
     "name": "stdout",
     "output_type": "stream",
     "text": [
      "[1 2 3 4 5]\n",
      "[10  4]\n"
     ]
    }
   ],
   "source": [
    "import numpy as np\n",
    "\n",
    "arr = np.array([1, 2, 3, 4, 5])\n",
    "new_arr = arr[2:4].copy()\n",
    "new_arr[0] = 10\n",
    "\n",
    "print(arr, new_arr, sep='\\n')"
   ]
  },
  {
   "cell_type": "markdown",
   "id": "264c666f",
   "metadata": {},
   "source": [
    "### Индексация двумерного массива"
   ]
  },
  {
   "cell_type": "markdown",
   "id": "8186dea7",
   "metadata": {},
   "source": [
    "Обратиться к элементу вложенного массива можно 2 способами. 1 вариант через индексацию, как в стандартном Python, 2 вариант через индексацию NumpPy"
   ]
  },
  {
   "cell_type": "code",
   "execution_count": 14,
   "id": "e9cb3b49",
   "metadata": {},
   "outputs": [
    {
     "name": "stdout",
     "output_type": "stream",
     "text": [
      "40\n",
      "40\n"
     ]
    }
   ],
   "source": [
    "import numpy as np\n",
    "\n",
    "arr = np.array([[1, 2, 3, 4, 5], [10, 20, 30, 40, 50]])\n",
    "\n",
    "print(arr[1][3])\n",
    "print(arr[1, 3])"
   ]
  },
  {
   "cell_type": "markdown",
   "id": "2132e01f",
   "metadata": {},
   "source": [
    "### Индексация трехмерного массива"
   ]
  },
  {
   "cell_type": "code",
   "execution_count": 31,
   "id": "3992581c",
   "metadata": {},
   "outputs": [
    {
     "name": "stdout",
     "output_type": "stream",
     "text": [
      "20\n",
      "20\n",
      "[[[ 1  2  3  4  5]\n",
      "  [ 0  0  0  0  0]]\n",
      "\n",
      " [[ 1  2  3  4  5]\n",
      "  [10 20 30 40 50]]]\n",
      "\n"
     ]
    }
   ],
   "source": [
    "import numpy as np\n",
    "\n",
    "arr = np.array([[[1, 2, 3, 4, 5], [10, 20, 30, 40, 50]], [[1, 2, 3, 4, 5], [10, 20, 30, 40, 50]]])\n",
    "\n",
    "print(arr[0][1][1]) # Python вариант\n",
    "print(arr[0, 1, 1]) # NumPy вариант\n",
    "\n",
    "arr[0][1] = 0 # Замента всех значений на 0\n",
    "print(arr, end='\\n\\n')"
   ]
  },
  {
   "cell_type": "markdown",
   "id": "47bcad34",
   "metadata": {},
   "source": [
    "### Слайсинг в NumPy"
   ]
  },
  {
   "cell_type": "markdown",
   "id": "d31b9bf0",
   "metadata": {},
   "source": [
    "Если необходимо вытянуть данные по определенному \"Столбцу\" или \"Строке\", в слайсинге сначала указывается выборка по строке, а потом по столбцу"
   ]
  },
  {
   "cell_type": "code",
   "execution_count": 99,
   "id": "f4f181c1",
   "metadata": {},
   "outputs": [
    {
     "name": "stdout",
     "output_type": "stream",
     "text": [
      "[ 3 30 33]\n",
      "\n",
      "[[ 3  4]\n",
      " [30 40]\n",
      " [33 44]]\n",
      "\n",
      "[[ 1  2]\n",
      " [10 20]]\n"
     ]
    }
   ],
   "source": [
    "import numpy as np\n",
    "\n",
    "m = np.array([[1, 2, 3, 4, 5], [10, 20, 30, 40, 50], [11, 22, 33, 44, 55]])\n",
    "\n",
    "print(m[:, 2], end='\\n\\n')\n",
    "print(m[:, 2:4], end='\\n\\n')\n",
    "print(m[0:2, 0:2])"
   ]
  },
  {
   "cell_type": "markdown",
   "id": "48945621",
   "metadata": {},
   "source": [
    "### Индексация с Mask"
   ]
  },
  {
   "cell_type": "markdown",
   "id": "a315e528",
   "metadata": {},
   "source": [
    "**Маска** - это массив (одномерный или многомерный), который состоит из булевых значений. Если True - то элемент будет вытянут, если False - нет."
   ]
  },
  {
   "cell_type": "code",
   "execution_count": 96,
   "id": "989748fc",
   "metadata": {},
   "outputs": [
    {
     "name": "stdout",
     "output_type": "stream",
     "text": [
      "[1 3 5]\n"
     ]
    }
   ],
   "source": [
    "import numpy as np\n",
    "\n",
    "m = np.array([1, 2, 3, 4, 5])\n",
    "mask = [True, False, True, False, True]\n",
    "\n",
    "print(m[mask])"
   ]
  },
  {
   "cell_type": "markdown",
   "id": "70f83861",
   "metadata": {},
   "source": [
    "Важно запомнить, что возвращается массив, который не содержит ссылку на исходный массив, т.е. он скопирован"
   ]
  },
  {
   "cell_type": "markdown",
   "id": "059efe70",
   "metadata": {},
   "source": [
    "**Маски очень удобно использовать для фильтрации данных, примеры:**"
   ]
  },
  {
   "cell_type": "code",
   "execution_count": 55,
   "id": "8177f77a",
   "metadata": {},
   "outputs": [
    {
     "name": "stdout",
     "output_type": "stream",
     "text": [
      "[3 4 5]\n",
      "[1 2]\n"
     ]
    }
   ],
   "source": [
    "import numpy as np\n",
    "\n",
    "m = np.array([1, 2, 3, 4, 5])\n",
    "mask = m > 2\n",
    "\n",
    "print(m[mask])\n",
    "print(m[m < 3])"
   ]
  },
  {
   "cell_type": "code",
   "execution_count": 75,
   "id": "c33f38d0",
   "metadata": {},
   "outputs": [
    {
     "name": "stdout",
     "output_type": "stream",
     "text": [
      "[[1 1 2 0 1 0 1]]\n"
     ]
    }
   ],
   "source": [
    "import numpy as np\n",
    "\n",
    "users = np.array(['Вадим', 'Ян', 'Илья', 'Рома', 'Алексей'])\n",
    "visits = np.array([[1, 1, 2, 0, 1, 0, 1], [1, 0, 1, 0, 1, 0, 2], [1, 3, 2, 1, 1, 0, 1], [0, 1, 2, 2, 1, 0, 0], [0, 1, 1, 2, 1, 1, 0]])\n",
    "mask = users == 'Вадим'\n",
    "\n",
    "print(visits[mask])"
   ]
  },
  {
   "cell_type": "markdown",
   "id": "aee1fac3",
   "metadata": {},
   "source": [
    "### Задачи урока 2.5"
   ]
  },
  {
   "cell_type": "markdown",
   "id": "f2dfc1d1",
   "metadata": {},
   "source": [
    "1. На вход подается двумерный массив (матрица), вытяните из матрицы указанную область.:\n",
    "\n",
    "![1](https://ucarecdn.com/d2707fa4-3105-46da-a1d7-0a4ca4e40362/)\n",
    "\n"
   ]
  },
  {
   "cell_type": "code",
   "execution_count": 81,
   "id": "e9615128",
   "metadata": {},
   "outputs": [],
   "source": [
    "import numpy as np\n",
    "\n",
    "def solution(arr):\n",
    "    arr = arr[:2, :2]\n",
    "    return arr"
   ]
  },
  {
   "cell_type": "markdown",
   "id": "94ed77e7",
   "metadata": {},
   "source": [
    "2. На вход подается двумерный массив (матрица), вытяните из матрицы указанную область.\n",
    "\n",
    "![1](https://ucarecdn.com/7f96bccf-dce4-430f-8f5e-9842a24b5000/)"
   ]
  },
  {
   "cell_type": "code",
   "execution_count": 84,
   "id": "beb87841",
   "metadata": {},
   "outputs": [],
   "source": [
    "import numpy as np\n",
    "\n",
    "def solution(arr):\n",
    "    arr = arr[1:3, 3:]\n",
    "    return arr"
   ]
  },
  {
   "cell_type": "markdown",
   "id": "e1bebad1",
   "metadata": {},
   "source": [
    "## 2.6 Практика: закрепляем работу с индексами"
   ]
  },
  {
   "cell_type": "markdown",
   "id": "66356afa",
   "metadata": {},
   "source": [
    "1. Выполните поэлементное сложение двух столбцов:\n",
    "\n",
    "![1](https://ucarecdn.com/1d6c0c70-0f78-4827-8f21-072923404f5d/)"
   ]
  },
  {
   "cell_type": "code",
   "execution_count": 91,
   "id": "f7b4ee62",
   "metadata": {},
   "outputs": [
    {
     "data": {
      "text/plain": [
       "array([28, 27, 42, 33,  9])"
      ]
     },
     "execution_count": 91,
     "metadata": {},
     "output_type": "execute_result"
    }
   ],
   "source": [
    "import numpy as np\n",
    "\n",
    "def solution(arr):\n",
    "    arr = arr[:, 0] + arr[:, 3]\n",
    "    return arr\n",
    "\n",
    "\n",
    "arr1 = np.array([[10, 12, 14, 18, 20],\n",
    "                 [8,  22, 18, 19, 12],\n",
    "                 [4,  14, 84, 38, 11],\n",
    "                 [2,  32, 4,  31,  9],\n",
    "                 [1,  11, 1,  8,  6]])\n",
    "\n",
    "solution(arr1)"
   ]
  },
  {
   "cell_type": "markdown",
   "id": "6c26e337",
   "metadata": {},
   "source": [
    "2. Выполните поэлементное сложение двух строк:\n",
    "\n",
    "![1](https://ucarecdn.com/7531165c-7236-4a03-af90-970f76bdf2e1/)"
   ]
  },
  {
   "cell_type": "code",
   "execution_count": 92,
   "id": "d8fc2c5c",
   "metadata": {},
   "outputs": [],
   "source": [
    "import numpy as np\n",
    "\n",
    "def solution(arr):\n",
    "    arr = arr[1] + arr[3]\n",
    "    return arr"
   ]
  },
  {
   "cell_type": "markdown",
   "id": "c066a97c",
   "metadata": {},
   "source": [
    "3. Выполните поэлементное сложение двух столбцов:\n",
    "\n",
    "![1](https://ucarecdn.com/7a2be0a9-154f-4324-a1c3-86413db31247/)"
   ]
  },
  {
   "cell_type": "code",
   "execution_count": 94,
   "id": "68270eca",
   "metadata": {},
   "outputs": [],
   "source": [
    "import numpy as np\n",
    "\n",
    "def solution(arr):\n",
    "    arr = arr[1:4, 1] + arr[1:4, 3]\n",
    "    return arr"
   ]
  },
  {
   "cell_type": "markdown",
   "id": "92f64b9a",
   "metadata": {},
   "source": [
    "4.  Выполните поэлементное сложение двух строк:\n",
    "\n",
    "![1](https://ucarecdn.com/2f1ff817-4521-44d2-8b96-bf866ef9e932/)"
   ]
  },
  {
   "cell_type": "code",
   "execution_count": 97,
   "id": "4764debd",
   "metadata": {},
   "outputs": [],
   "source": [
    "import numpy as np\n",
    "\n",
    "def solution(arr):\n",
    "    arr = arr[0, :-1] + arr[-1, 1:]\n",
    "    return arr"
   ]
  },
  {
   "cell_type": "markdown",
   "id": "f4a409fd",
   "metadata": {},
   "source": [
    "5.  Выполните поэлементное сложение двух столбцов:\n",
    "\n",
    "![1](https://ucarecdn.com/faa3d37f-a16c-49b0-aeb7-e45512d9dcf7/)"
   ]
  },
  {
   "cell_type": "code",
   "execution_count": 100,
   "id": "4a61cf59",
   "metadata": {},
   "outputs": [],
   "source": [
    "import numpy as np\n",
    "\n",
    "def solution(arr):\n",
    "    arr = arr[1:-1, 1] + arr[2:, 2]\n",
    "    return arr"
   ]
  },
  {
   "cell_type": "markdown",
   "id": "f878a3ca",
   "metadata": {},
   "source": [
    "6. Выполните поэлементное сложение двух матриц:\n",
    "\n",
    "![1](https://ucarecdn.com/2bf71390-a37e-4420-a0e9-27f3b3ce6b06/)"
   ]
  },
  {
   "cell_type": "code",
   "execution_count": null,
   "id": "f26d79af",
   "metadata": {},
   "outputs": [],
   "source": [
    "import numpy as np\n",
    "\n",
    "def solution(arr):\n",
    "    arr = arr[2:, :2] + arr[:-2, -2:]\n",
    "    return arr"
   ]
  },
  {
   "cell_type": "markdown",
   "id": "f00449c7",
   "metadata": {},
   "source": [
    "7. Выполните поэлементное сравнение двух столбцов, если значение в первом столбце больше чем значение во втором, тогда в результирующем массиве должно быть True, иначе False:\n",
    "\n",
    "![1](https://ucarecdn.com/21f66abd-1a69-444c-9138-eeaf8d9d54de/)"
   ]
  },
  {
   "cell_type": "code",
   "execution_count": 1,
   "id": "7d6f0932",
   "metadata": {},
   "outputs": [
    {
     "data": {
      "text/plain": [
       "array([False, False, False, False, False, False])"
      ]
     },
     "execution_count": 1,
     "metadata": {},
     "output_type": "execute_result"
    }
   ],
   "source": [
    "import numpy as np\n",
    "\n",
    "def solution(arr):\n",
    "    arr = arr[:, 0] > arr[:, 2]\n",
    "    return arr\n",
    "\n",
    "\n",
    "m = np.array([[ 0,  1,  2,  3,  4],\n",
    "       [ 5,  6,  7,  8,  9],\n",
    "       [10, 11, 12, 13, 14],\n",
    "       [15, 16, 17, 18, 19],\n",
    "       [20, 21, 22, 23, 24],\n",
    "       [25, 26, 27, 28, 29]])\n",
    "\n",
    "solution(m)"
   ]
  },
  {
   "cell_type": "markdown",
   "id": "d06454f5",
   "metadata": {},
   "source": [
    "## 2.7 Маска и слайсинг вместе, прихотливая индексация, а еще reshape"
   ]
  },
  {
   "cell_type": "markdown",
   "id": "abf7798d",
   "metadata": {},
   "source": [
    "В скобках можно работать и с маской и с индексами одновременно!"
   ]
  },
  {
   "cell_type": "code",
   "execution_count": 14,
   "id": "0864d573",
   "metadata": {},
   "outputs": [
    {
     "name": "stdout",
     "output_type": "stream",
     "text": [
      "[[0 1]]\n"
     ]
    }
   ],
   "source": [
    "import numpy as np\n",
    "\n",
    "users = np.array(['Вадим', 'Ян', 'Илья', 'Рома', 'Алексей'])\n",
    "visits = np.array([[1, 1, 2, 0, 1, 0, 1], [1, 0, 1, 0, 1, 0, 2], [1, 3, 2, 1, 1, 0, 1], [0, 1, 2, 2, 1, 0, 0], [0, 1, 1, 2, 1, 1, 0]])\n",
    "mask = users == 'Вадим'\n",
    "\n",
    "print(visits[mask, 5:])"
   ]
  },
  {
   "cell_type": "markdown",
   "id": "5f705ec5",
   "metadata": {},
   "source": [
    "Если вы хотите выполнить инверсию булевых значений(True заменить на False, а False на True), то не стоит использовать команду not. Для этого есть знак ~ (тильда). На клавиатуре ищите рядом с буквой Ё."
   ]
  },
  {
   "cell_type": "code",
   "execution_count": 16,
   "id": "f16ed1bd",
   "metadata": {},
   "outputs": [
    {
     "name": "stdout",
     "output_type": "stream",
     "text": [
      "[[1 0 1 0 1 0 2]\n",
      " [1 3 2 1 1 0 1]\n",
      " [0 1 2 2 1 0 0]\n",
      " [0 1 1 2 1 1 0]]\n"
     ]
    }
   ],
   "source": [
    "import numpy as np\n",
    "\n",
    "users = np.array(['Вадим', 'Ян', 'Илья', 'Рома', 'Алексей'])\n",
    "visits = np.array([[1, 1, 2, 0, 1, 0, 1], [1, 0, 1, 0, 1, 0, 2], [1, 3, 2, 1, 1, 0, 1], [0, 1, 2, 2, 1, 0, 0], [0, 1, 1, 2, 1, 1, 0]])\n",
    "mask = users == 'Вадим'\n",
    "\n",
    "print(visits[~mask])"
   ]
  },
  {
   "cell_type": "markdown",
   "id": "6c0e3844",
   "metadata": {},
   "source": [
    "При работе с numpy для логических операций вы не работаете со стандартными питоновскими and и or. У numpy свои операторы:\n",
    "1. Логическое ИЛИ:   |  (ищите выше клавиши Enter)\n",
    "2. Логическое И:  & (ищите на клавише с цифрой 7)  "
   ]
  },
  {
   "cell_type": "code",
   "execution_count": 28,
   "id": "bff516df",
   "metadata": {},
   "outputs": [
    {
     "name": "stdout",
     "output_type": "stream",
     "text": [
      "[[1 1 2 0 1 0 1]\n",
      " [1 3 2 1 1 0 1]]\n",
      "\n",
      "[[1 0 1 0 1 0 2]\n",
      " [0 1 2 2 1 0 0]\n",
      " [0 1 1 2 1 1 0]]\n"
     ]
    }
   ],
   "source": [
    "import numpy as np\n",
    "\n",
    "users = np.array(['Вадим', 'Ян', 'Илья', 'Рома', 'Алексей'])\n",
    "visits = np.array([[1, 1, 2, 0, 1, 0, 1], [1, 0, 1, 0, 1, 0, 2], [1, 3, 2, 1, 1, 0, 1], [0, 1, 2, 2, 1, 0, 0], [0, 1, 1, 2, 1, 1, 0]])\n",
    "mask = (users == 'Вадим') | (users == 'Илья')\n",
    "\n",
    "print(visits[mask], end='\\n\\n')\n",
    "print(visits[~mask])"
   ]
  },
  {
   "cell_type": "markdown",
   "id": "e2a2e146",
   "metadata": {},
   "source": [
    "Можно вытягивать данные с помощью **прихотливой индексации**.\n",
    "Алгоритм таков: передаем список/массив с индексами по которым надо вытащить значения. Индексы могут идти не по порядку."
   ]
  },
  {
   "cell_type": "code",
   "execution_count": 40,
   "id": "16e15efc",
   "metadata": {},
   "outputs": [
    {
     "name": "stdout",
     "output_type": "stream",
     "text": [
      "[[11 12 13 14]\n",
      " [21 22 23 24]\n",
      " [ 6  7  8  9]]\n",
      "\n",
      "[ 1 12 23]\n"
     ]
    }
   ],
   "source": [
    "import numpy as np\n",
    "\n",
    "m = np.array([[ 0,  1,  2,  3,  4],\n",
    "       [ 5,  6,  7,  8,  9],\n",
    "       [10, 11, 12, 13, 14],\n",
    "       [15, 16, 17, 18, 19],\n",
    "       [20, 21, 22, 23, 24],\n",
    "       [25, 26, 27, 28, 29]])\n",
    "\n",
    "print(m[[2, 4, 1], 1:], end='\\n\\n')\n",
    "print(m[[0, 2, 4], [1, 2, 3]])"
   ]
  },
  {
   "cell_type": "markdown",
   "id": "b409f7cb",
   "metadata": {},
   "source": [
    "Функция **reshape** позволяет преобразовать массив данных в определенное кол-во подмассивов с нужным кол-вом элементов. В функцию передается кортеж, где первым элементом является кол-во строк, а втором кол-во столбцов, их произведение должно равнятся количеству всех элементов в исходном массиве"
   ]
  },
  {
   "cell_type": "code",
   "execution_count": 52,
   "id": "521bc4c0",
   "metadata": {},
   "outputs": [
    {
     "name": "stdout",
     "output_type": "stream",
     "text": [
      "[[ 0  1  2  3  4  5  6  7  8  9 10 11 12 13 14 15 16 17 18 19]\n",
      " [20 21 22 23 24 25 26 27 28 29 30 31 32 33 34 35 36 37 38 39]\n",
      " [40 41 42 43 44 45 46 47 48 49 50 51 52 53 54 55 56 57 58 59]\n",
      " [60 61 62 63 64 65 66 67 68 69 70 71 72 73 74 75 76 77 78 79]\n",
      " [80 81 82 83 84 85 86 87 88 89 90 91 92 93 94 95 96 97 98 99]]\n",
      "\n",
      "[[[ 0  1  2  3  4  5  6  7  8  9]\n",
      "  [10 11 12 13 14 15 16 17 18 19]]\n",
      "\n",
      " [[20 21 22 23 24 25 26 27 28 29]\n",
      "  [30 31 32 33 34 35 36 37 38 39]]\n",
      "\n",
      " [[40 41 42 43 44 45 46 47 48 49]\n",
      "  [50 51 52 53 54 55 56 57 58 59]]\n",
      "\n",
      " [[60 61 62 63 64 65 66 67 68 69]\n",
      "  [70 71 72 73 74 75 76 77 78 79]]\n",
      "\n",
      " [[80 81 82 83 84 85 86 87 88 89]\n",
      "  [90 91 92 93 94 95 96 97 98 99]]]\n"
     ]
    }
   ],
   "source": [
    "import numpy as np\n",
    "\n",
    "m = np.arange(100)\n",
    "\n",
    "print(m.reshape((5, 20)), end='\\n\\n') # двумерный вариант\n",
    "print(m.reshape((5, 2, 10))) # трёхмерный вариант"
   ]
  },
  {
   "cell_type": "markdown",
   "id": "87c01cf2",
   "metadata": {},
   "source": [
    "### Задачи урока 2.7"
   ]
  },
  {
   "cell_type": "markdown",
   "id": "272aa25b",
   "metadata": {},
   "source": [
    "1. На вход функции подается двумерный массив, доработайте функцию так чтобы она вернула маску по которой потом можно будет выбрать значения меньше 20 или больше 40.\n",
    "\n",
    "![1](https://ucarecdn.com/49ccd304-d7b8-4203-9457-1cf4338b4056/)"
   ]
  },
  {
   "cell_type": "code",
   "execution_count": 87,
   "id": "9faa089a",
   "metadata": {},
   "outputs": [],
   "source": [
    "import numpy as np\n",
    "\n",
    "def solution(arr):\n",
    "    mask = (arr < 20) | (arr > 40)\n",
    "    return mask"
   ]
  },
  {
   "cell_type": "markdown",
   "id": "41c0e10f",
   "metadata": {},
   "source": [
    "2. На вход функции подается двумерный массив, доработайте функцию так чтобы она вернула значения, которые лежат на главной диагонали. Значения должны быть в одномерном массиве (Для особых знатоков: функцией diag не пользоваться!). Работайте с прихотливой индексацией.\n",
    "\n",
    "![1](https://ucarecdn.com/62de17b8-9f2b-41e1-964e-736642e80acc/)"
   ]
  },
  {
   "cell_type": "code",
   "execution_count": 74,
   "id": "939a0bf0",
   "metadata": {},
   "outputs": [],
   "source": [
    "import numpy as np\n",
    "\n",
    "def solution(arr):\n",
    "    arr = arr[range(5), range(5)]\n",
    "    return arr"
   ]
  },
  {
   "cell_type": "markdown",
   "id": "dbb4837e",
   "metadata": {},
   "source": [
    "3. На вход функции подается двумерный массив, доработайте функцию так чтобы она вернула значения, которые лежат на побочной диагонали. Значения должны быть в одномерном массиве array([1, 32, 84, 19, 20]) (Для особых знатоков: функцией diag не пользоваться!). Работайте с прихотливой индексацией.\n",
    "\n",
    "![1](https://ucarecdn.com/3bb5b4e9-f8bf-4230-be95-304d24c5ae1f/)"
   ]
  },
  {
   "cell_type": "code",
   "execution_count": 86,
   "id": "e44792bf",
   "metadata": {},
   "outputs": [],
   "source": [
    "import numpy as np\n",
    "\n",
    "def solution(arr):\n",
    "    arr = arr[range(4, -1, -1), range(5)]\n",
    "    return arr"
   ]
  },
  {
   "cell_type": "markdown",
   "id": "367b8862",
   "metadata": {},
   "source": [
    "## 2.8 Практика: учимся изменять форму массива "
   ]
  },
  {
   "cell_type": "markdown",
   "id": "8fe2c219",
   "metadata": {},
   "source": [
    "1. На вход подается одномерный массив, преобразуйте его в матрицу с 5 строками и 6 столбцами"
   ]
  },
  {
   "cell_type": "code",
   "execution_count": null,
   "id": "62b748d7",
   "metadata": {},
   "outputs": [],
   "source": [
    "import numpy as np\n",
    "\n",
    "def solution(arr):\n",
    "    arr = np.reshape(5, 6)\n",
    "    return arr"
   ]
  },
  {
   "cell_type": "markdown",
   "id": "87a39c6b",
   "metadata": {},
   "source": [
    "2.На вход подается одномерный массив, преобразуйте его в трехмерный массив, где каждая матрица будет размером 4х5 и таких матриц должно быть 10"
   ]
  },
  {
   "cell_type": "code",
   "execution_count": null,
   "id": "4e28591f",
   "metadata": {},
   "outputs": [],
   "source": [
    "import numpy as np\n",
    "\n",
    "def solution(arr):\n",
    "    arr = arr.reshape(10, 4, 5)\n",
    "    return arr"
   ]
  },
  {
   "cell_type": "markdown",
   "id": "c286f381",
   "metadata": {},
   "source": [
    "3. На вход подается двумерная матрица, вытяните из нее последние три строки, но так чтобы строки были расположены в обратном порядке:\n",
    "\n",
    "![1](https://ucarecdn.com/6b649a66-c9ba-4949-851e-8e87820df813/)\n",
    "\n",
    "![2](https://ucarecdn.com/6bcec988-10bc-4c44-ac3c-8c4ef5500c4a/)"
   ]
  },
  {
   "cell_type": "code",
   "execution_count": 13,
   "id": "b5349d68",
   "metadata": {},
   "outputs": [
    {
     "data": {
      "text/plain": [
       "array([[ 1, 11,  1,  8,  6],\n",
       "       [ 2, 32,  4, 31,  9],\n",
       "       [ 4, 14, 84, 38, 11]])"
      ]
     },
     "execution_count": 13,
     "metadata": {},
     "output_type": "execute_result"
    }
   ],
   "source": [
    "import numpy as np\n",
    "\n",
    "def solution(arr):\n",
    "    arr = arr[[-1, -2, -3]]\n",
    "    return arr\n",
    "\n",
    "\n",
    "m = np.array([[10, 12, 14, 18, 20],\n",
    "              [8, 22, 18, 19, 12],\n",
    "              [4, 14, 84, 38, 11],\n",
    "              [2, 32, 4, 31, 9],\n",
    "              [1, 11, 1, 8, 6]])\n",
    "\n",
    "solution(m)"
   ]
  },
  {
   "cell_type": "markdown",
   "id": "652b877f",
   "metadata": {},
   "source": [
    "3.  На вход подается двумерная матрица, вытяните из нее последние три строки, но так чтобы строки были расположены в обратном порядке. Затем возьмите только последние два столбца:\n",
    "\n",
    "![1](https://ucarecdn.com/6b649a66-c9ba-4949-851e-8e87820df813/)\n",
    "\n",
    "![2](https://ucarecdn.com/24a15cb1-a2be-4ef2-b551-bab7c8a1854f/)"
   ]
  },
  {
   "cell_type": "code",
   "execution_count": 39,
   "id": "7cc56d8d",
   "metadata": {},
   "outputs": [
    {
     "data": {
      "text/plain": [
       "array([[ 1, 11,  1,  8,  6],\n",
       "       [ 2, 32,  4, 31,  9],\n",
       "       [ 4, 14, 84, 38, 11]])"
      ]
     },
     "execution_count": 39,
     "metadata": {},
     "output_type": "execute_result"
    }
   ],
   "source": [
    "import numpy as np\n",
    "\n",
    "def solution(arr):\n",
    "    arr = arr[2:, -2:][::-1]\n",
    "    return arr\n",
    "\n",
    "\n",
    "m = np.array([[10, 12, 14, 18, 20],\n",
    "              [8, 22, 18, 19, 12],\n",
    "              [4, 14, 84, 38, 11],\n",
    "              [2, 32, 4, 31, 9],\n",
    "              [1, 11, 1, 8, 6]])\n",
    "\n",
    "solution(m)"
   ]
  },
  {
   "cell_type": "markdown",
   "id": "25d8dd3f",
   "metadata": {},
   "source": [
    "4. На вход подается двумерная матрица размером 5х5. Преобразуйте ее в одномерный массив."
   ]
  },
  {
   "cell_type": "code",
   "execution_count": null,
   "id": "9a350e8f",
   "metadata": {},
   "outputs": [],
   "source": [
    "import numpy as np\n",
    "\n",
    "def solution(arr):\n",
    "    arr = arr.reshape(-1)\n",
    "    return arr"
   ]
  },
  {
   "cell_type": "markdown",
   "id": "2ea1e103",
   "metadata": {},
   "source": [
    "5. На вход подается трехмерная матрица размером 6х5х5. Преобразуйте ее в одномерный массив."
   ]
  },
  {
   "cell_type": "code",
   "execution_count": null,
   "id": "6baf1bb9",
   "metadata": {},
   "outputs": [],
   "source": [
    "import numpy as np\n",
    "\n",
    "def solution(arr):\n",
    "    arr = arr.reshape(-1)\n",
    "    return arr"
   ]
  },
  {
   "cell_type": "markdown",
   "id": "3acbfbc8",
   "metadata": {},
   "source": [
    "## 2.9 Еще о reshape, транспонирование, унарные и бинарные функции"
   ]
  },
  {
   "cell_type": "markdown",
   "id": "d6578afc",
   "metadata": {},
   "source": [
    "При использовании **reshape** не создается новый объект, это ссылка на существующий объект"
   ]
  },
  {
   "cell_type": "markdown",
   "id": "8e16470e",
   "metadata": {},
   "source": [
    "### Транспонирование"
   ]
  },
  {
   "cell_type": "markdown",
   "id": "1c4fc362",
   "metadata": {},
   "source": [
    "Для транспонирования используется функция **transpose()** или свойство **.T**"
   ]
  },
  {
   "cell_type": "code",
   "execution_count": 4,
   "id": "2b11de09",
   "metadata": {},
   "outputs": [
    {
     "name": "stdout",
     "output_type": "stream",
     "text": [
      "[[10  8  4  2  1]\n",
      " [12 22 14 32 11]\n",
      " [14 18 84  4  1]\n",
      " [18 19 38 31  8]\n",
      " [20 12 11  9  6]]\n",
      "\n",
      "[[10  8  4  2  1]\n",
      " [12 22 14 32 11]\n",
      " [14 18 84  4  1]\n",
      " [18 19 38 31  8]\n",
      " [20 12 11  9  6]]\n"
     ]
    }
   ],
   "source": [
    "import numpy as np\n",
    "\n",
    "\n",
    "m = np.array([[10, 12, 14, 18, 20],\n",
    "              [8, 22, 18, 19, 12],\n",
    "              [4, 14, 84, 38, 11],\n",
    "              [2, 32, 4, 31, 9],\n",
    "              [1, 11, 1, 8, 6]])\n",
    "\n",
    "print(m.transpose(), end='\\n\\n')\n",
    "print(m.T)"
   ]
  },
  {
   "cell_type": "markdown",
   "id": "fb4f1516",
   "metadata": {},
   "source": [
    "### Унарные функции NumPy"
   ]
  },
  {
   "cell_type": "code",
   "execution_count": 11,
   "id": "a8bd36b3",
   "metadata": {},
   "outputs": [
    {
     "name": "stdout",
     "output_type": "stream",
     "text": [
      "[ 2.  4.  6.  8. 10.]\n",
      "[  4  16  36  64 100]\n"
     ]
    }
   ],
   "source": [
    "import numpy as np\n",
    "\n",
    "m = np.array([2, 4, 6, 8, 10])**2\n",
    "\n",
    "print(np.sqrt(m)) # вычисление корня\n",
    "print(np.abs(m)) # модуль\n",
    "             "
   ]
  },
  {
   "cell_type": "markdown",
   "id": "db317f80",
   "metadata": {},
   "source": [
    "Округление значений:"
   ]
  },
  {
   "cell_type": "code",
   "execution_count": 18,
   "id": "f3ba5800",
   "metadata": {},
   "outputs": [
    {
     "name": "stdout",
     "output_type": "stream",
     "text": [
      "[2. 2. 2. 3. 3.]\n",
      "[3. 3. 3. 3. 3.]\n",
      "[2. 2. 2. 2. 2.]\n"
     ]
    }
   ],
   "source": [
    "import numpy as np\n",
    "\n",
    "m = np.array([2.1, 2.2, 2.5, 2.6, 2.9])\n",
    "\n",
    "print(np.round(m)) # обычное округление\n",
    "print(np.ceil(m)) # в большую сторону\n",
    "print(np.floor(m)) # в меньшую сторону\n"
   ]
  },
  {
   "cell_type": "markdown",
   "id": "81eaea5c",
   "metadata": {},
   "source": [
    "В NumPy существует аналог None - **nan**, нужно быть осторожным так как он является объектом, соответственно при вызове функции len() длина массива будет выведена с учетом **nan**. Чтобы определить есть ли **nan** в массиве можно воспользоваться функцией **isnan()**:"
   ]
  },
  {
   "cell_type": "code",
   "execution_count": 24,
   "id": "66342103",
   "metadata": {},
   "outputs": [
    {
     "name": "stdout",
     "output_type": "stream",
     "text": [
      "[ 2.  4.  6.  8. 10. nan]\n",
      "6\n",
      "[ True  True  True  True  True False]\n"
     ]
    }
   ],
   "source": [
    "import numpy as np\n",
    "\n",
    "m = np.array([2, 4, 6, 8, 10, np.nan])\n",
    "\n",
    "print(m)\n",
    "print(len(m))\n",
    "print(~np.isnan(m))"
   ]
  },
  {
   "cell_type": "markdown",
   "id": "781537dd",
   "metadata": {},
   "source": [
    "### Бинарные функции NumPy"
   ]
  },
  {
   "cell_type": "markdown",
   "id": "090414ad",
   "metadata": {},
   "source": [
    "Бинарные функции - функции, которые могут принимать 2 массива"
   ]
  },
  {
   "cell_type": "code",
   "execution_count": 32,
   "id": "3bdf2b0d",
   "metadata": {},
   "outputs": [
    {
     "name": "stdout",
     "output_type": "stream",
     "text": [
      "[ 5  4  6  8 11]\n"
     ]
    }
   ],
   "source": [
    "import numpy as np\n",
    "\n",
    "m1 = np.array([2, 4, 6, 8, 10])\n",
    "m2 = np.array([5, 4, 1, 2, 11])\n",
    "\n",
    "print(np.maximum(m1, m2)) # максимальные значения из 2 массивов"
   ]
  },
  {
   "cell_type": "markdown",
   "id": "37eebff2",
   "metadata": {},
   "source": [
    "## 2.10 Практика: закрепляем знания про унарные и бинарные функции"
   ]
  },
  {
   "cell_type": "markdown",
   "id": "c46905e6",
   "metadata": {},
   "source": [
    "1. На вход подаётся матрица. Выполните ее транспонирование, а затем выполните возведение в квадрат каждого значения."
   ]
  },
  {
   "cell_type": "code",
   "execution_count": 39,
   "id": "4f462176",
   "metadata": {},
   "outputs": [
    {
     "data": {
      "text/plain": [
       "array([[   4,  484],\n",
       "       [  16, 1936],\n",
       "       [  36, 4356],\n",
       "       [  64, 7744],\n",
       "       [ 100,  121]])"
      ]
     },
     "execution_count": 39,
     "metadata": {},
     "output_type": "execute_result"
    }
   ],
   "source": [
    "import numpy as np\n",
    "\n",
    "def solution(arr):\n",
    "    arr = arr.transpose()**2\n",
    "    return arr\n",
    "\n",
    "\n",
    "m = np.array([[2, 4, 6, 8, 10], [22, 44, 66, 88, 11]])\n",
    "solution(m)"
   ]
  },
  {
   "cell_type": "markdown",
   "id": "e2951521",
   "metadata": {},
   "source": [
    "2. На вход подаётся матрица. Вытяните первую и последнюю строчки. Сравните поэлементно две строчки и постройте новый одномерный массив, который будет состоять из минимальных значений. Например, если первый элемент первой строки больше чем первый элемент последней строки, то в результат должен пойти первый элемент последней строки. Тоже проделайте с остальными элементами."
   ]
  },
  {
   "cell_type": "code",
   "execution_count": 47,
   "id": "7bf44489",
   "metadata": {},
   "outputs": [
    {
     "data": {
      "text/plain": [
       "array([ 2,  4,  6,  1, 10])"
      ]
     },
     "execution_count": 47,
     "metadata": {},
     "output_type": "execute_result"
    }
   ],
   "source": [
    "import numpy as np\n",
    "\n",
    "def solution(arr):\n",
    "    return np.minimum(arr[0], arr[-1])\n",
    "\n",
    "\n",
    "m = np.array([[2, 4, 6, 8, 10], \n",
    "              [22, 44, 66, 88, 11], \n",
    "              [82, 5, 9, 1, 14]])\n",
    "solution(m)"
   ]
  },
  {
   "cell_type": "markdown",
   "id": "e5d7d697",
   "metadata": {},
   "source": [
    "3. Прежде чем применять бинарную функцию на двух массивах, вы должны быть уверены, что ваши массивы имеют одинаковую размерность. На вход вашей функции подаётся два контейнера. Проверьте, равны ли размерности. Функция должна вернуть True, если размерности равны и False если нет. Попробуйте оттолкнуться от свойства shape. Посмотрите какие длины у кортежей и что за значения внутри них."
   ]
  },
  {
   "cell_type": "code",
   "execution_count": 53,
   "id": "2ffb9512",
   "metadata": {},
   "outputs": [
    {
     "data": {
      "text/plain": [
       "True"
      ]
     },
     "execution_count": 53,
     "metadata": {},
     "output_type": "execute_result"
    }
   ],
   "source": [
    "import numpy as np\n",
    "\n",
    "def solution(a1, a2):\n",
    "    return a1.shape == a2.shape\n",
    "\n",
    "\n",
    "m1 = np.array([2, 4, 6, 8, 10])\n",
    "m2 = np.array([5, 4, 1, 2, 11])\n",
    "\n",
    "solution(m1, m2)"
   ]
  },
  {
   "cell_type": "markdown",
   "id": "ecc08853",
   "metadata": {},
   "source": [
    "## 2.11 Логические функции и функция в функции, а еще where и статистика"
   ]
  },
  {
   "cell_type": "markdown",
   "id": "ec8a9602",
   "metadata": {},
   "source": [
    "Функция **where** принимает 3 аргумента - условие, значение если истина, значение если ложь. Таким образом можно, преобразовать значения массива в нужные нам данные"
   ]
  },
  {
   "cell_type": "code",
   "execution_count": 20,
   "id": "19c5eb2e",
   "metadata": {},
   "outputs": [
    {
     "name": "stdout",
     "output_type": "stream",
     "text": [
      "[1 1 0 1 1]\n",
      "\n",
      "[100.         100.         100.           2.82842712   3.16227766]\n"
     ]
    }
   ],
   "source": [
    "import numpy as np\n",
    "\n",
    "m = np.array([2, 4, 5, 8, 10])\n",
    "\n",
    "print(np.where(m % 2 == 0, 1, 0), end='\\n\\n')\n",
    "print(np.where(m**2 > 25, np.sqrt(m), 100))\n"
   ]
  },
  {
   "cell_type": "markdown",
   "id": "94c92ce9",
   "metadata": {},
   "source": [
    "Функция **where** аналогично работает и с двумерными массивами"
   ]
  },
  {
   "cell_type": "code",
   "execution_count": 21,
   "id": "2c8dc9dd",
   "metadata": {},
   "outputs": [
    {
     "data": {
      "text/plain": [
       "array([[ 0,  0,  6,  8, 10],\n",
       "       [22, 44, 66, 88, 11]])"
      ]
     },
     "execution_count": 21,
     "metadata": {},
     "output_type": "execute_result"
    }
   ],
   "source": [
    "import numpy as np\n",
    "\n",
    "m = np.array([[2, 4, 6, 8, 10], [22, 44, 66, 88, 11]])\n",
    "\n",
    "np.where(m > 5, m, 0)"
   ]
  },
  {
   "cell_type": "markdown",
   "id": "10643938",
   "metadata": {},
   "source": [
    "### Статистические и математические функции"
   ]
  },
  {
   "cell_type": "code",
   "execution_count": 25,
   "id": "0a83cb45",
   "metadata": {},
   "outputs": [
    {
     "name": "stdout",
     "output_type": "stream",
     "text": [
      "29\n",
      "\n",
      "5.8\n",
      "\n",
      "29\n",
      "\n",
      "5.8\n",
      "\n"
     ]
    }
   ],
   "source": [
    "import numpy as np\n",
    "\n",
    "m = np.array([2, 4, 5, 8, 10])\n",
    "\n",
    "print(m.sum(), end='\\n\\n') # сумма 1 вариант записи\n",
    "print(m.mean(), end='\\n\\n') # среднее 1 вариант записи\n",
    "\n",
    "print(np.sum(m), end='\\n\\n') # сумма 2 вариант записи\n",
    "print(np.mean(m), end='\\n\\n') # среднее 2 вариант записи"
   ]
  },
  {
   "cell_type": "markdown",
   "id": "e877110c",
   "metadata": {},
   "source": [
    "Если массив многомерный и необходимо произвести расчёт по строке или по столбцу отдельно, то можно передать в функцию именованный аргумент **axis**. Если **axis** равна 1, то суммируются строки, если равна 0, то суммируются столбцы"
   ]
  },
  {
   "cell_type": "code",
   "execution_count": 28,
   "id": "f5466dbf",
   "metadata": {},
   "outputs": [
    {
     "name": "stdout",
     "output_type": "stream",
     "text": [
      "[ 74  79 151  78  27]\n",
      "[ 5.  18.2 24.2 22.8 11.6]\n"
     ]
    }
   ],
   "source": [
    "import numpy as np\n",
    "\n",
    "\n",
    "m = np.array([[10, 12, 14, 18, 20],\n",
    "              [8, 22, 18, 19, 12],\n",
    "              [4, 14, 84, 38, 11],\n",
    "              [2, 32, 4, 31, 9],\n",
    "              [1, 11, 1, 8, 6]])\n",
    "\n",
    "print(m.sum(axis=1)) # суммирование всех значений по строке\n",
    "print(m.mean(axis=0)) # среднее всех значений по столбцу"
   ]
  },
  {
   "cell_type": "markdown",
   "id": "d64a417f",
   "metadata": {},
   "source": [
    "**Другие полезные функции:**"
   ]
  },
  {
   "cell_type": "code",
   "execution_count": 50,
   "id": "57cf0f4c",
   "metadata": {},
   "outputs": [
    {
     "name": "stdout",
     "output_type": "stream",
     "text": [
      "[ 1 11  1  8  6]\n",
      "[20 22 84 32 11]\n",
      "279.67040000000003\n",
      "16.723348946906537\n",
      "[4 4 4 4 4]\n",
      "12\n"
     ]
    }
   ],
   "source": [
    "import numpy as np\n",
    "\n",
    "\n",
    "m = np.array([[10, 12, 14, 18, 20],\n",
    "              [8, 22, 18, 19, 12],\n",
    "              [4, 14, 84, 38, 11],\n",
    "              [2, 32, 4, 31, 9],\n",
    "              [1, 11, 1, 8, 6]])\n",
    "\n",
    "print(m.min(axis=0)) # минимальное значение по столбцам\n",
    "print(m.max(axis=1)) # максимальное значение по строкам\n",
    "print(m.var()) # дисперсия\n",
    "print(m.std()) # стандартное отклонение\n",
    "print(m.argmin(axis=0)) # индекс минимального значения по столбцу\n",
    "print(m.argmax()) # индекс максимального значения"
   ]
  },
  {
   "cell_type": "markdown",
   "id": "220baf88",
   "metadata": {},
   "source": [
    "### Задачи урока 2.11"
   ]
  },
  {
   "cell_type": "markdown",
   "id": "bc427d27",
   "metadata": {},
   "source": [
    "1. На вход подаётся два одномерных массива. Сравните их поэлементно: постройте новый массив из минимальных значений. У нового одномерного массива найдите максимальное значение"
   ]
  },
  {
   "cell_type": "code",
   "execution_count": 55,
   "id": "c0c51daa",
   "metadata": {},
   "outputs": [
    {
     "data": {
      "text/plain": [
       "10"
      ]
     },
     "execution_count": 55,
     "metadata": {},
     "output_type": "execute_result"
    }
   ],
   "source": [
    "import numpy as np\n",
    "\n",
    "def solution(m1, m2):\n",
    "    return np.minimum(m1, m2).max()\n",
    "\n",
    "m1 = np.array([2, 4, 6, 8, 10])\n",
    "m2 = np.array([5, 4, 1, 2, 11])\n",
    "\n",
    "solution(m1, m2)"
   ]
  },
  {
   "cell_type": "markdown",
   "id": "b76eceb3",
   "metadata": {},
   "source": [
    "2. На вход подаётся два одномерных массива. Сравните их поэлементно. Постройте новый массив из максимальных значений. У нового одномерного массива найдите минимальное значение"
   ]
  },
  {
   "cell_type": "code",
   "execution_count": 62,
   "id": "2f339d71",
   "metadata": {},
   "outputs": [
    {
     "data": {
      "text/plain": [
       "4"
      ]
     },
     "execution_count": 62,
     "metadata": {},
     "output_type": "execute_result"
    }
   ],
   "source": [
    "import numpy as np\n",
    "\n",
    "def solution(m1, m2):\n",
    "    return np.where(m1 > m2, m1, m2).min()\n",
    "\n",
    "\n",
    "m1 = np.array([2, 4, 6, 8, 10])\n",
    "m2 = np.array([5, 4, 1, 2, 11])\n",
    "\n",
    "solution(m1, m2)"
   ]
  },
  {
   "cell_type": "markdown",
   "id": "ce35f467",
   "metadata": {},
   "source": [
    "3. На вход подаётся одномерный массив. Найдите среднее значение."
   ]
  },
  {
   "cell_type": "code",
   "execution_count": 63,
   "id": "e70ac326",
   "metadata": {},
   "outputs": [],
   "source": [
    "import numpy as np\n",
    "\n",
    "def solution(m1):\n",
    "    return m1.mean()\n",
    "\n",
    "\n",
    "m1 = np.array([2, 4, 6, 8, 10])"
   ]
  },
  {
   "cell_type": "markdown",
   "id": "46eb14ac",
   "metadata": {},
   "source": [
    "## 2.12 Практика: доводим до мастерства работу с полезными функциями"
   ]
  },
  {
   "cell_type": "markdown",
   "id": "2c2f0459",
   "metadata": {},
   "source": [
    "1. На вход подается матрица. Посчитайте минимальные значения по каждому столбцу"
   ]
  },
  {
   "cell_type": "code",
   "execution_count": 70,
   "id": "ce10c0c3",
   "metadata": {},
   "outputs": [
    {
     "data": {
      "text/plain": [
       "array([ 1, 11,  1,  8,  6])"
      ]
     },
     "execution_count": 70,
     "metadata": {},
     "output_type": "execute_result"
    }
   ],
   "source": [
    "import numpy as np\n",
    "\n",
    "def solution(m2d):\n",
    "    return m2d.min(axis=0)\n",
    "\n",
    "\n",
    "m = np.array([[10, 12, 14, 18, 20],\n",
    "              [8, 22, 18, 19, 12],\n",
    "              [4, 14, 84, 38, 11],\n",
    "              [2, 32, 4, 31, 9],\n",
    "              [1, 11, 1, 8, 6]])\n",
    "solution(m)"
   ]
  },
  {
   "cell_type": "markdown",
   "id": "f317e4b5",
   "metadata": {},
   "source": [
    "2. На вход подается матрица. Посчитайте максимальные значения по каждой строке"
   ]
  },
  {
   "cell_type": "code",
   "execution_count": 71,
   "id": "8e6fce3a",
   "metadata": {},
   "outputs": [
    {
     "data": {
      "text/plain": [
       "array([20, 22, 84, 32, 11])"
      ]
     },
     "execution_count": 71,
     "metadata": {},
     "output_type": "execute_result"
    }
   ],
   "source": [
    "import numpy as np\n",
    "\n",
    "def solution(m2d):\n",
    "    return m2d.max(axis=1)\n",
    "\n",
    "\n",
    "m = np.array([[10, 12, 14, 18, 20],\n",
    "              [8, 22, 18, 19, 12],\n",
    "              [4, 14, 84, 38, 11],\n",
    "              [2, 32, 4, 31, 9],\n",
    "              [1, 11, 1, 8, 6]])\n",
    "solution(m)"
   ]
  },
  {
   "cell_type": "markdown",
   "id": "c6fb9967",
   "metadata": {},
   "source": [
    "3. Ранее пройденная задача, но попробуем решить ее снова:\n",
    "\n",
    "    На вход подается одномерный массив в котором хранится информация о количестве картофеля на каждом складе (всего 4 склада). Посчитайте для каждого склада, сколько процентов картофеля от общего количества хранится на каждом складе. Общее количество картофеля на всех складах (определите сами через функцию). Не забудьте что каждое значение надо умножить на 100.\n",
    "Округлять значения не требуется! Знак процента тоже добавлять не следует. Просто выполните арифметические операции."
   ]
  },
  {
   "cell_type": "code",
   "execution_count": 74,
   "id": "64415516",
   "metadata": {},
   "outputs": [
    {
     "data": {
      "text/plain": [
       "array([ 6.66666667, 13.33333333, 20.        , 26.66666667, 33.33333333])"
      ]
     },
     "execution_count": 74,
     "metadata": {},
     "output_type": "execute_result"
    }
   ],
   "source": [
    "import numpy as np\n",
    "\n",
    "def solution(m1d):\n",
    "    return m1d / m1d.sum() * 100\n",
    "\n",
    "\n",
    "m = np.array([2, 4, 6, 8, 10])\n",
    "solution(m)"
   ]
  },
  {
   "cell_type": "markdown",
   "id": "4cc962f2",
   "metadata": {},
   "source": [
    "4. Вам передан одномерный массив. Если значение меньше или равно нулю, то замените его на нуль. Если значение больше нуля, то замените на 1."
   ]
  },
  {
   "cell_type": "code",
   "execution_count": 76,
   "id": "d6eefbb2",
   "metadata": {},
   "outputs": [
    {
     "data": {
      "text/plain": [
       "array([1, 1, 1, 1, 1])"
      ]
     },
     "execution_count": 76,
     "metadata": {},
     "output_type": "execute_result"
    }
   ],
   "source": [
    "import numpy as np\n",
    "\n",
    "def solution(m1d):\n",
    "    return np.where(m1d <= 0, 0, 1)\n",
    "\n",
    "\n",
    "m = np.array([2, 4, 6, 8, 10])\n",
    "solution(m)"
   ]
  },
  {
   "cell_type": "markdown",
   "id": "8e1a1d38",
   "metadata": {},
   "source": [
    "5. Вам передана матрица. Если значение меньше или равно нулю, то замените его на нуль. Остальное не трогать)"
   ]
  },
  {
   "cell_type": "code",
   "execution_count": 84,
   "id": "1fbdd762",
   "metadata": {},
   "outputs": [
    {
     "data": {
      "text/plain": [
       "array([ 0,  4,  6,  8, 10])"
      ]
     },
     "execution_count": 84,
     "metadata": {},
     "output_type": "execute_result"
    }
   ],
   "source": [
    "import numpy as np\n",
    "\n",
    "def solution(m1d):\n",
    "    return np.where(m1d <=0, 0, m1d)\n",
    "\n",
    "\n",
    "m = np.array([2, 4, 6, 8, 10])\n",
    "solution(m)"
   ]
  },
  {
   "cell_type": "markdown",
   "id": "4c6ae7bb",
   "metadata": {},
   "source": [
    "6. Вам передана матрица. Если значение меньше нуля, то возьмите его по модулю. Если значение больше нуля, то извлеките из него квадратный корень."
   ]
  },
  {
   "cell_type": "code",
   "execution_count": 108,
   "id": "fb6bc124",
   "metadata": {},
   "outputs": [
    {
     "data": {
      "text/plain": [
       "array([2.        , 2.        , 2.44948974, 2.82842712, 3.16227766])"
      ]
     },
     "execution_count": 108,
     "metadata": {},
     "output_type": "execute_result"
    }
   ],
   "source": [
    "import numpy as np\n",
    "\n",
    "def solution(m1d):\n",
    "    return np.where(m1d < 0, np.abs(m1d), np.sqrt(m1))\n",
    "\n",
    "\n",
    "m = np.array([-2, 4, 6, 8, 10])\n",
    "solution(m)"
   ]
  },
  {
   "cell_type": "markdown",
   "id": "1fb1951c",
   "metadata": {},
   "source": [
    "7. На вход подается матрица. Для каждого столбца определите индекс строки в которой содержится минимальное значение."
   ]
  },
  {
   "cell_type": "code",
   "execution_count": 112,
   "id": "1aa751cf",
   "metadata": {},
   "outputs": [
    {
     "data": {
      "text/plain": [
       "array([4, 4, 4, 4, 4], dtype=int64)"
      ]
     },
     "execution_count": 112,
     "metadata": {},
     "output_type": "execute_result"
    }
   ],
   "source": [
    "import numpy as np\n",
    "\n",
    "def solution(m2d):\n",
    "    return m2d.argmin(axis=0)\n",
    "\n",
    "\n",
    "m = np.array([[10, 12, 14, 18, 20],\n",
    "              [8, 22, 18, 19, 12],\n",
    "              [4, 14, 84, 38, 11],\n",
    "              [2, 32, 4, 31, 9],\n",
    "              [1, 11, 1, 8, 6]])\n",
    "solution(m)"
   ]
  },
  {
   "cell_type": "markdown",
   "id": "ede27efe",
   "metadata": {},
   "source": [
    "8. На вход подается матрица. Для каждой строки определите индекс столбца в котором содержится максимальное значение."
   ]
  },
  {
   "cell_type": "code",
   "execution_count": 114,
   "id": "868b7765",
   "metadata": {},
   "outputs": [
    {
     "data": {
      "text/plain": [
       "array([4, 1, 2, 1, 1], dtype=int64)"
      ]
     },
     "execution_count": 114,
     "metadata": {},
     "output_type": "execute_result"
    }
   ],
   "source": [
    "import numpy as np\n",
    "\n",
    "def solution(m2d):\n",
    "    return m2d.argmax(axis=1)\n",
    "\n",
    "\n",
    "m = np.array([[10, 12, 14, 18, 20],\n",
    "              [8, 22, 18, 19, 12],\n",
    "              [4, 14, 84, 38, 11],\n",
    "              [2, 32, 4, 31, 9],\n",
    "              [1, 11, 1, 8, 6]])\n",
    "solution(m)"
   ]
  },
  {
   "cell_type": "markdown",
   "id": "d77e2d0a",
   "metadata": {},
   "source": [
    "## 2.13 Функции any, all, sort, unique, in1d. Обзор линейной алгебры"
   ]
  },
  {
   "cell_type": "markdown",
   "id": "6a5ba361",
   "metadata": {},
   "source": [
    "Функция **any** возвращает Truе, если в массиве есть хоть одно значение равное True, а False в остальных случаях. Функция **all** возвращает Truе, если в массиве все значения равны True и False в остальных случаях."
   ]
  },
  {
   "cell_type": "code",
   "execution_count": 7,
   "id": "87f3b478",
   "metadata": {},
   "outputs": [
    {
     "name": "stdout",
     "output_type": "stream",
     "text": [
      "False\n",
      "True\n"
     ]
    }
   ],
   "source": [
    "import numpy as np\n",
    "\n",
    "m = np.array([2, 4, 6, 8, 10])\n",
    "\n",
    "print(any(m < 0))\n",
    "print(all(m > 0))"
   ]
  },
  {
   "cell_type": "markdown",
   "id": "e2f2fe25",
   "metadata": {},
   "source": [
    "Функция **sort** сортирует массив \"на месте\" не возваращая массива"
   ]
  },
  {
   "cell_type": "code",
   "execution_count": 10,
   "id": "a43720f1",
   "metadata": {},
   "outputs": [
    {
     "name": "stdout",
     "output_type": "stream",
     "text": [
      "[ 2  4  6  8 10]\n"
     ]
    }
   ],
   "source": [
    "import numpy as np\n",
    "\n",
    "m = np.array([10, 2, 4, 6, 8])\n",
    "m.sort()\n",
    "\n",
    "print(m)"
   ]
  },
  {
   "cell_type": "markdown",
   "id": "b9dabf42",
   "metadata": {},
   "source": [
    "Если массив многомерный, то по умолчанию сортировка идёт по строкам"
   ]
  },
  {
   "cell_type": "code",
   "execution_count": 16,
   "id": "9ce643ef",
   "metadata": {},
   "outputs": [
    {
     "name": "stdout",
     "output_type": "stream",
     "text": [
      "[[10 12 14 18 20]\n",
      " [ 8 12 18 19 22]\n",
      " [ 4 11 14 38 84]\n",
      " [ 2  4  9 31 32]\n",
      " [ 1  1  6  8 11]]\n"
     ]
    }
   ],
   "source": [
    "import numpy as np\n",
    "\n",
    "m = np.array([[10, 12, 14, 18, 20],\n",
    "              [8, 22, 18, 19, 12],\n",
    "              [4, 14, 84, 38, 11],\n",
    "              [2, 32, 4, 31, 9],\n",
    "              [1, 11, 1, 8, 6]])\n",
    "\n",
    "m.sort()\n",
    "print(m) # сортировка по строке"
   ]
  },
  {
   "cell_type": "code",
   "execution_count": 17,
   "id": "aa0a6a63",
   "metadata": {},
   "outputs": [
    {
     "name": "stdout",
     "output_type": "stream",
     "text": [
      "[[ 1 11  1  8  6]\n",
      " [ 2 12  4 18  9]\n",
      " [ 4 14 14 19 11]\n",
      " [ 8 22 18 31 12]\n",
      " [10 32 84 38 20]]\n"
     ]
    }
   ],
   "source": [
    "import numpy as np\n",
    "\n",
    "m = np.array([[10, 12, 14, 18, 20],\n",
    "              [8, 22, 18, 19, 12],\n",
    "              [4, 14, 84, 38, 11],\n",
    "              [2, 32, 4, 31, 9],\n",
    "              [1, 11, 1, 8, 6]])\n",
    "\n",
    "m.sort(0)\n",
    "print(m) # сортировка по столбцам"
   ]
  },
  {
   "cell_type": "markdown",
   "id": "cf4f2082",
   "metadata": {},
   "source": [
    "Функция **unique** чистит массив от дубликатов и сортирует данные по возрастанию, что-то типа **set** от стандартного питона"
   ]
  },
  {
   "cell_type": "code",
   "execution_count": 20,
   "id": "5350c8fe",
   "metadata": {},
   "outputs": [
    {
     "data": {
      "text/plain": [
       "array(['Артём', 'Вадим'], dtype='<U5')"
      ]
     },
     "execution_count": 20,
     "metadata": {},
     "output_type": "execute_result"
    }
   ],
   "source": [
    "import numpy as np\n",
    "\n",
    "names = np.array(['Вадим', 'Вадим', 'Артём'])\n",
    "\n",
    "np.unique(names)"
   ]
  },
  {
   "cell_type": "markdown",
   "id": "f9669e96",
   "metadata": {},
   "source": [
    "Функция **in1d** позволяет найти нужные значения в массиве с помощью передачи любой последовательности (список, кортеж и т.д.)"
   ]
  },
  {
   "cell_type": "code",
   "execution_count": 30,
   "id": "4d532a06",
   "metadata": {},
   "outputs": [
    {
     "data": {
      "text/plain": [
       "array([False, False, False, False, False, False, False, False, False,\n",
       "       False, False, False, False, False, False,  True, False, False,\n",
       "       False, False,  True, False,  True, False, False])"
      ]
     },
     "execution_count": 30,
     "metadata": {},
     "output_type": "execute_result"
    }
   ],
   "source": [
    "import numpy as np\n",
    "\n",
    "m = np.array([[10, 12, 14, 18, 20],\n",
    "              [8, 22, 18, 19, 12],\n",
    "              [4, 14, 84, 38, 11],\n",
    "              [2, 32, 4, 31, 9],\n",
    "              [1, 11, 1, 8, 6]])\n",
    "\n",
    "np.in1d(m, [1, 2])"
   ]
  },
  {
   "cell_type": "markdown",
   "id": "45a1477a",
   "metadata": {},
   "source": [
    "Функции линейной алгебры:"
   ]
  },
  {
   "cell_type": "code",
   "execution_count": 42,
   "id": "fd22260e",
   "metadata": {},
   "outputs": [
    {
     "name": "stdout",
     "output_type": "stream",
     "text": [
      "[[ 185  427  629  554  364]\n",
      " [ 427 1969 1879 2246 1012]\n",
      " [ 629 1879 7593 3918 1462]\n",
      " [ 554 2246 3918 3154 1333]\n",
      " [ 364 1012 1462 1333  782]]\n",
      "\n",
      "852104.0000000016\n",
      "\n",
      "[10 22 84 31  6]\n",
      "\n",
      "[[10 12 14 18 20]\n",
      " [ 0 22 18 19 12]\n",
      " [ 0  0 84 38 11]\n",
      " [ 0  0  0 31  9]\n",
      " [ 0  0  0  0  6]]\n",
      "\n",
      "[[10  0  0  0  0]\n",
      " [ 8 22  0  0  0]\n",
      " [ 4 14 84  0  0]\n",
      " [ 2 32  4 31  0]\n",
      " [ 1 11  1  8  6]]\n",
      "\n"
     ]
    }
   ],
   "source": [
    "import numpy as np\n",
    "\n",
    "m = np.array([[10, 12, 14, 18, 20],\n",
    "              [8, 22, 18, 19, 12],\n",
    "              [4, 14, 84, 38, 11],\n",
    "              [2, 32, 4, 31, 9],\n",
    "              [1, 11, 1, 8, 6]])\n",
    "\n",
    "print(np.dot(m.transpose(), m), end='\\n\\n') # перемножение матриц\n",
    "print(np.linalg.det(m), end='\\n\\n') # детерминант\n",
    "print(np.diag(m), end='\\n\\n') # вывод элементов главной диагонали\n",
    "print(np.triu(m), end='\\n\\n') # вывод верхнего треугольника матрицы\n",
    "print(np.tril(m), end='\\n\\n') # вывод нижнего треугольника матрицы"
   ]
  },
  {
   "cell_type": "markdown",
   "id": "4e2cdd17",
   "metadata": {},
   "source": [
    "Если необходимо инициализировать массив случайными числами, то можно использовать пакет **random** в бибилиотке NumPy"
   ]
  },
  {
   "cell_type": "code",
   "execution_count": 48,
   "id": "3ba75819",
   "metadata": {},
   "outputs": [
    {
     "name": "stdout",
     "output_type": "stream",
     "text": [
      "[50 61 71 12 76]\n",
      "\n",
      "[[69 23 59 34 54 25 33 62 37 99]\n",
      " [44 13 88 46 11 38 46 19 27 72]\n",
      " [53 73 35 36 20 37 26 66 64 17]\n",
      " [13 67 15 26 94 87 32 30 27 99]\n",
      " [15 48 38 96 32 63 87 57 30 48]]\n"
     ]
    }
   ],
   "source": [
    "import numpy as np\n",
    "\n",
    "m1 = np.random.randint(1, 101, size=5) # генерация 5 случайных чисел в одномерной массиве\n",
    "m2 = np.random.randint(1, 101, size=(5, 10)) # генерация 5 массивов с 10 случайными числами\n",
    "\n",
    "print(m1, end='\\n\\n')\n",
    "print(m2)"
   ]
  },
  {
   "cell_type": "markdown",
   "id": "97b2fe5b",
   "metadata": {},
   "source": [
    "### Задачи урока 2.13"
   ]
  },
  {
   "cell_type": "markdown",
   "id": "93589e55",
   "metadata": {},
   "source": [
    "1. На вход подаётся одномерный массив типа np.bool. Функция должна вернуть True если все значения в массиве равны False. Иначе функция должна вернуть False."
   ]
  },
  {
   "cell_type": "code",
   "execution_count": 52,
   "id": "90f441ab",
   "metadata": {},
   "outputs": [
    {
     "data": {
      "text/plain": [
       "False"
      ]
     },
     "execution_count": 52,
     "metadata": {},
     "output_type": "execute_result"
    }
   ],
   "source": [
    "import numpy as np\n",
    "\n",
    "def solution(m1d):\n",
    "    return all(~m)\n",
    "\n",
    "\n",
    "m = np.array([False, True])\n",
    "solution(m)"
   ]
  },
  {
   "cell_type": "markdown",
   "id": "bc22c18d",
   "metadata": {},
   "source": [
    "2. На вход подаётся матрица. Посчитайте сумму элементов верхнего треугольника:\n",
    "\n",
    "![1](https://ucarecdn.com/934e33ab-ab16-4063-a600-267384dcdd03/)"
   ]
  },
  {
   "cell_type": "code",
   "execution_count": 59,
   "id": "45551077",
   "metadata": {},
   "outputs": [
    {
     "data": {
      "text/plain": [
       "324"
      ]
     },
     "execution_count": 59,
     "metadata": {},
     "output_type": "execute_result"
    }
   ],
   "source": [
    "import numpy as np\n",
    "\n",
    "def solution(m2d):\n",
    "    return np.triu(m2d).sum()\n",
    "\n",
    "\n",
    "m = np.array([[10, 12, 14, 18, 20],\n",
    "              [8, 22, 18, 19, 12],\n",
    "              [4, 14, 84, 38, 11],\n",
    "              [2, 32, 4, 31, 9],\n",
    "              [1, 11, 1, 8, 6]])\n",
    "solution(m)"
   ]
  },
  {
   "cell_type": "markdown",
   "id": "e120a2a3",
   "metadata": {},
   "source": [
    "3. На вход подаётся одномерный массив. Посчитайте количество уникальных значений."
   ]
  },
  {
   "cell_type": "code",
   "execution_count": 65,
   "id": "1aae6c7e",
   "metadata": {},
   "outputs": [
    {
     "data": {
      "text/plain": [
       "18"
      ]
     },
     "execution_count": 65,
     "metadata": {},
     "output_type": "execute_result"
    }
   ],
   "source": [
    "import numpy as np\n",
    "\n",
    "def solution(m1d):\n",
    "    return len(np.unique(m1d))\n",
    "\n",
    "\n",
    "m = np.array([[10, 12, 14, 18, 20],\n",
    "              [8, 22, 18, 19, 12],\n",
    "              [4, 14, 84, 38, 11],\n",
    "              [2, 32, 4, 31, 9],\n",
    "              [1, 11, 1, 8, 6]])\n",
    "solution(m)"
   ]
  },
  {
   "cell_type": "markdown",
   "id": "8bfb7e8f",
   "metadata": {},
   "source": [
    "## 2.14 Функции permutation и shuffle. Сохранение массива в файл"
   ]
  },
  {
   "cell_type": "markdown",
   "id": "847df81f",
   "metadata": {},
   "source": [
    "Функция **permutation** позволяет сгенерировать массив внтури которого будут перемешаны значения в случайном порядке"
   ]
  },
  {
   "cell_type": "code",
   "execution_count": 73,
   "id": "63740b25",
   "metadata": {},
   "outputs": [
    {
     "name": "stdout",
     "output_type": "stream",
     "text": [
      "[4 3 2 0 1]\n"
     ]
    }
   ],
   "source": [
    "import numpy as np\n",
    "\n",
    "m = np.random.permutation(5)\n",
    "\n",
    "print(m)"
   ]
  },
  {
   "cell_type": "markdown",
   "id": "0491ef69",
   "metadata": {},
   "source": [
    "Функция **shuffle** позволяет перемешать уже существующий массив"
   ]
  },
  {
   "cell_type": "code",
   "execution_count": 72,
   "id": "e2b19f24",
   "metadata": {},
   "outputs": [
    {
     "name": "stdout",
     "output_type": "stream",
     "text": [
      "[4 1 3 5 2]\n"
     ]
    }
   ],
   "source": [
    "import numpy as np\n",
    "\n",
    "m = np.array([1, 2, 3, 4, 5])\n",
    "np.random.shuffle(m)\n",
    "\n",
    "print(m)"
   ]
  },
  {
   "cell_type": "markdown",
   "id": "b11de492",
   "metadata": {},
   "source": [
    "Функция **randn** генерирует случайные числа типа **float**, которые имеют нормально распределение"
   ]
  },
  {
   "cell_type": "code",
   "execution_count": 106,
   "id": "fe5e9da2",
   "metadata": {},
   "outputs": [
    {
     "name": "stdout",
     "output_type": "stream",
     "text": [
      "[ 1.39411511 -1.27552359  1.29975252  1.12035835 -1.40983589  2.01396861\n",
      "  0.51446084 -1.21590665 -0.02071283 -0.30366904]\n",
      "\n",
      "[[-0.73168258 -0.6283983  -1.5969641   0.36131154 -0.79229258]\n",
      " [ 0.30441886  0.61343465 -0.8268409   0.70540189  0.14775543]]\n"
     ]
    }
   ],
   "source": [
    "import numpy as np\n",
    "\n",
    "m1 = np.random.randn(10) # одномерный массив\n",
    "m2 = np.random.randn(2, 5) # двумерный массив\n",
    "\n",
    "print(m1, end='\\n\\n')\n",
    "print(m2)"
   ]
  },
  {
   "cell_type": "markdown",
   "id": "c751f6bf",
   "metadata": {},
   "source": [
    "Чтобы записать массив необходмо использовать функцию **save**, а чтобы загрузить его **load**"
   ]
  },
  {
   "cell_type": "code",
   "execution_count": 112,
   "id": "f9dbd9b5",
   "metadata": {},
   "outputs": [
    {
     "data": {
      "text/plain": [
       "array([ 1.2357292 ,  0.28742663, -0.64458895,  1.25433802,  0.73822406,\n",
       "        0.24176962,  1.10710045,  1.66294941,  0.31559417,  0.05407744])"
      ]
     },
     "execution_count": 112,
     "metadata": {},
     "output_type": "execute_result"
    }
   ],
   "source": [
    "import numpy as np\n",
    "\n",
    "m1 = np.random.randn(10) # одномерный массив\n",
    "m2 = np.random.randn(2, 5) # двумерный массив\n",
    "\n",
    "np.save('rdk.npy', m1)\n",
    "np.load('rdk.npy')"
   ]
  },
  {
   "cell_type": "markdown",
   "id": "2b3bf9a3",
   "metadata": {},
   "source": [
    "Чтобы записать несколько массивов необходмо использовать функцию **savez**. Если необходимо сжать данные, то можно использвать **savez_compressed**"
   ]
  },
  {
   "cell_type": "code",
   "execution_count": 126,
   "id": "676b2a69",
   "metadata": {},
   "outputs": [
    {
     "data": {
      "text/plain": [
       "array([ 1.10516167, -0.75884957, -1.5716967 , -0.32711621,  0.7811125 ,\n",
       "       -0.22071066, -1.44354515,  0.8899862 ,  1.5403879 , -0.50879677])"
      ]
     },
     "execution_count": 126,
     "metadata": {},
     "output_type": "execute_result"
    }
   ],
   "source": [
    "import numpy as np\n",
    "\n",
    "m1 = np.random.randn(10) # одномерный массив\n",
    "m2 = np.random.randn(2, 5) # двумерный массив\n",
    "\n",
    "np.savez('arrays', name1=m1, name2=m2)\n",
    "\n",
    "m = np.load('arrays.npz')\n",
    "m['name1']"
   ]
  },
  {
   "cell_type": "markdown",
   "id": "11042fa5",
   "metadata": {},
   "source": [
    "## ВСЕ ПРОЙДЕННЫЕ ФУНКЦИИ"
   ]
  },
  {
   "cell_type": "markdown",
   "id": "125eb6ba",
   "metadata": {},
   "source": [
    "np.array() | создание массива.\n",
    "\n",
    "np.zeros() | создание массива, заполненного нулями.\n",
    "\n",
    "np.ones() | создание массива, заполненного единицами.\n",
    "\n",
    "np.full() | создает массив с заданными значениями.\n",
    "\n",
    "np.sqrt() | взятие квадратного корня.\n",
    "\n",
    "np.abs() | взятие по модулю.\n",
    "\n",
    "np.round() | округление.\n",
    "\n",
    "np.ceil() | округление в большую сторону.\n",
    "\n",
    "np.floor() | округление в меньшую сторону.\n",
    "\n",
    "np.nan() | значение пропущено(NaN).\n",
    "\n",
    "np.isnan() | проверка, что значение пропущено.\n",
    "\n",
    "аргумент out | доп. параметр, указывающий куда нужно записать результат(переменная).\n",
    "\n",
    "np.maximum() | сравнение двух массивов >.\n",
    "\n",
    "np.minimum() | сравнение двух массивов <.\n",
    "\n",
    "np.subtract() | вычитание двух массивов.\n",
    "\n",
    "np.add() | сложение двух массивов.\n",
    "\n",
    "np.multiply() | умножение двух массивов.\n",
    "\n",
    "np.divide() | деление двух массивов.\n",
    "\n",
    "np.isinf() | проверка на inf(деление на нуль).\n",
    "\n",
    "np.greater() | сравнение двух массивов >.\n",
    "\n",
    "np.greater_equal() | сравнение двух массивов >=.\n",
    "\n",
    "np.less() | сравнение двух массивов <.\n",
    "\n",
    "np.less_equal() | сравнение двух массивов <=.\n",
    "\n",
    "np.equal() | сравнение двух массивов ==.\n",
    "\n",
    "np.not_equal() | сравнение двух массивов !=.\n",
    "\n",
    "np.sum() | суммирует все элементы в массиве.\n",
    "\n",
    "np.mean() | среднее значение.\n",
    "\n",
    "np.min() | минимальное значение.\n",
    "\n",
    "np.max() | максимальное значение.\n",
    "\n",
    "np.argmin() | индекс минимального значения в массиве.\n",
    "\n",
    "np.argmax() | индекс максимального значения в массиве.\n",
    "\n",
    "np.std() | стандартное отклонение.\n",
    "\n",
    "np.var() | дисперсия.\n",
    "\n",
    "аргумент axis(ось) | принимает значение 1 или 0. \n",
    "\n",
    "     Пример axis в функции np.sum() | axis=1 - значит подсчет по все строке, axis = 0 - значит подсчет по каждому столбцу.\n",
    "\n",
    "np.unique() | возвращает массив уникальных значений.\n",
    "\n",
    "np.in1d() | проверка на сущ. элемента в массиве.\n",
    "\n",
    "np.dot() | перемножение матриц.\n",
    "\n",
    "np.linalg.det() | детерминант.\n",
    "\n",
    "np.linalg.inv() | обратная матрица.\n",
    "\n",
    "np.diag() | значения с главной диагонали.\n",
    "\n",
    "np.triu() | верхний треугольник(матрица).\n",
    "\n",
    "np.tril() | нижний треугольник(матрица).\n",
    "\n",
    "np.trace() | вычисляет cумму диагональных элементов (след) матрицы.\n",
    "\n",
    "np.where() | задает условие, создает новый массив.\n",
    "\n",
    "аргумент k(np.diag(), np.triu(), np.tril()) | смещение.\n",
    "\n",
    "аргумент offset(np.trace()) | смещение.\n",
    "\n",
    "np.random.randint() | массив случайных целых чисел.\n",
    "\n",
    "np.random.permutation() | перемешивание массива, возвращает массив.\n",
    "\n",
    "np.random.shuffle() | перемешивание массива, изменяет  массив,  не возвращает массив.\n",
    "\n",
    "np.random.randn() | массив случайных значений с нормальным распределением.\n",
    "\n",
    "np.save() | сохранение массива(.npy).\n",
    "\n",
    "np.savez() | сохранение нескольких массивов(.npz).\n",
    "\n",
    "np.load() | чтение массива.\n",
    "\n",
    "np.savez_compressed() | cохраняет несколько массивов в сжатом файле(.npz).\n",
    "\n",
    "arr.shape() | возвращает размер arr.\n",
    "\n",
    "arr.dtype() | возвращает тип элементов arr.\n",
    "\n",
    "arr.ndim() | возвращает кол-во измерений в массиве.\n",
    "\n",
    "arr.astype() | выполняет преобразование типов, вернет новый массив.\n",
    "\n",
    "arr.copy() | копирование.\n",
    "\n",
    "arr.reshape() | выполняет преобразование массива, не создает новый массив, трансформирует старый.\n",
    "\n",
    "arr.T или arr.transpose() | транспонирование, не копирует.\n",
    "\n",
    "значок тильда ~\n",
    "\n",
    "arr.any() | поиск в массиве хотя бы одного True.\n",
    "\n",
    "arr.all() | проверка, что все элементы массива True\n",
    "\n",
    "arr.sort() | сортировка, (при такой записи)не возвращает, сортирует исходный массив"
   ]
  }
 ],
 "metadata": {
  "kernelspec": {
   "display_name": "Python 3 (ipykernel)",
   "language": "python",
   "name": "python3"
  },
  "language_info": {
   "codemirror_mode": {
    "name": "ipython",
    "version": 3
   },
   "file_extension": ".py",
   "mimetype": "text/x-python",
   "name": "python",
   "nbconvert_exporter": "python",
   "pygments_lexer": "ipython3",
   "version": "3.10.4"
  }
 },
 "nbformat": 4,
 "nbformat_minor": 5
}
