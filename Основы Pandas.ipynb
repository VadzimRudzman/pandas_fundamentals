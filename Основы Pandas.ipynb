{
 "cells": [
  {
   "cell_type": "markdown",
   "id": "1725b82a",
   "metadata": {},
   "source": [
    "## 2.1 Зачем при изучении Pandas нужен Numpy?"
   ]
  },
  {
   "cell_type": "markdown",
   "id": "0b7f1d03",
   "metadata": {},
   "source": [
    "Контейнеры из библиотеки numpy называются **массивами** "
   ]
  },
  {
   "cell_type": "code",
   "execution_count": 5,
   "id": "c7077915",
   "metadata": {},
   "outputs": [
    {
     "data": {
      "text/plain": [
       "array([       0,        1,        2, ..., 99999997, 99999998, 99999999])"
      ]
     },
     "execution_count": 5,
     "metadata": {},
     "output_type": "execute_result"
    }
   ],
   "source": [
    "import numpy as np # Импортируем библиотеку\n",
    "\n",
    "arr = np.arange(100_000_000)\n",
    "arr"
   ]
  },
  {
   "cell_type": "markdown",
   "id": "24214421",
   "metadata": {},
   "source": [
    "* Массивы из библиотеки Numpy работают быстрее в 10-100 раз чем наши любимые питоновские списки (list).  А еще они сильно меньше потребляют оперативной памяти. Это важно, когда мы работаем с реальными проектами.  \n",
    "\n",
    "\n",
    "* Numpy лег в основу многих библиотек для анализа данных и машинного обучения."
   ]
  },
  {
   "cell_type": "markdown",
   "id": "6d1ef945",
   "metadata": {},
   "source": [
    "**Создание массива:**"
   ]
  },
  {
   "cell_type": "code",
   "execution_count": 2,
   "id": "93018b7e",
   "metadata": {},
   "outputs": [
    {
     "data": {
      "text/plain": [
       "array([1. , 2. , 3. , 4. , 5.2])"
      ]
     },
     "execution_count": 2,
     "metadata": {},
     "output_type": "execute_result"
    }
   ],
   "source": [
    "import numpy as np\n",
    "\n",
    "lst = [1, 2, 3, 4, 5.2]\n",
    "arr1 = np.array(lst) # принимает список\n",
    "arr1"
   ]
  },
  {
   "cell_type": "markdown",
   "id": "1e5d8919",
   "metadata": {},
   "source": [
    "Можно передавать вложенные списки"
   ]
  },
  {
   "cell_type": "code",
   "execution_count": 6,
   "id": "2d95c40c",
   "metadata": {},
   "outputs": [
    {
     "data": {
      "text/plain": [
       "array([[1, 2, 3],\n",
       "       [3, 4, 5],\n",
       "       [6, 7, 8]])"
      ]
     },
     "execution_count": 6,
     "metadata": {},
     "output_type": "execute_result"
    }
   ],
   "source": [
    "arr2 = np.array([[1, 2, 3], [3, 4, 5], [6, 7, 8]])\n",
    "arr2\n"
   ]
  },
  {
   "cell_type": "markdown",
   "id": "c3f00769",
   "metadata": {},
   "source": [
    "Свойство **shape** (переводится как форма) - показывает размер каждого измерений.  \n",
    "* Если у вас shape = (4,) это значит, что у вас одномерный массив длинной 4\n",
    "* Если у вас shape = (2, 3) это значит, что у вас двумерный массив (массив, который состоит из подмассивов). Каждый подмассив длинной 3.  \n",
    "* Если у вас shape = (4, 3, 2) это значит, что у вас трехмерный массив. Но из чего он состоит? Представьте себе двумерный массив размером (3, 2). Вот таких двухмерных массивов (называют матрицами) у вас будет 4."
   ]
  },
  {
   "cell_type": "code",
   "execution_count": 28,
   "id": "9827ffbe",
   "metadata": {},
   "outputs": [
    {
     "data": {
      "text/plain": [
       "(3, 3)"
      ]
     },
     "execution_count": 28,
     "metadata": {},
     "output_type": "execute_result"
    }
   ],
   "source": [
    "arr2.shape"
   ]
  },
  {
   "cell_type": "markdown",
   "id": "adc16f91",
   "metadata": {},
   "source": [
    "С помощью стандартной функции **len** можно получить только количество подмассивов в массиве."
   ]
  },
  {
   "cell_type": "code",
   "execution_count": 29,
   "id": "6c5fde23",
   "metadata": {},
   "outputs": [
    {
     "data": {
      "text/plain": [
       "3"
      ]
     },
     "execution_count": 29,
     "metadata": {},
     "output_type": "execute_result"
    }
   ],
   "source": [
    "len(arr2)"
   ]
  },
  {
   "cell_type": "markdown",
   "id": "9561d627",
   "metadata": {},
   "source": [
    "Свойство **ndim** - сокращение от number of dimensions (переводится как количество измерений).  Поможет ответить на вопрос: а сколько измерений в моем массиве (какая вложенность)?  \n",
    "* Если ndim =1 значит у вас 1D array (см. выше). Он же одномерный массив.\n",
    "* Если ndim =2 значит у вас 2D array (см. выше). Он же двумерный массив. Она же матрица.\n",
    "* Если ndim =3 значит у вас 3D array (см. выше). "
   ]
  },
  {
   "cell_type": "code",
   "execution_count": 34,
   "id": "935d8d25",
   "metadata": {},
   "outputs": [
    {
     "data": {
      "text/plain": [
       "2"
      ]
     },
     "execution_count": 34,
     "metadata": {},
     "output_type": "execute_result"
    }
   ],
   "source": [
    "arr2.ndim"
   ]
  },
  {
   "cell_type": "markdown",
   "id": "afdca006",
   "metadata": {},
   "source": [
    "Когда вы создаете массив, Numpy пытается понять из каких элементов вы пытаетесь его создать и подбирает **наиболее подходящий тип данных.** Свойство **dtype** подскажет, какой тип данных у каждого элемента вашего массива"
   ]
  },
  {
   "cell_type": "code",
   "execution_count": 36,
   "id": "3ae15789",
   "metadata": {},
   "outputs": [
    {
     "data": {
      "text/plain": [
       "dtype('int32')"
      ]
     },
     "execution_count": 36,
     "metadata": {},
     "output_type": "execute_result"
    }
   ],
   "source": [
    "arr.dtype"
   ]
  },
  {
   "cell_type": "markdown",
   "id": "27b6a4fd",
   "metadata": {},
   "source": [
    "Часто на практике надо создать массив, который предварительно заполнен нулями. Функция **zeros** поможет нам в этом!  \n",
    "\n",
    "Если в функцию **zeros** передать просто число, тогда будет создан одномерный массив"
   ]
  },
  {
   "cell_type": "code",
   "execution_count": 43,
   "id": "5652f2d5",
   "metadata": {},
   "outputs": [
    {
     "data": {
      "text/plain": [
       "array([0., 0., 0., 0., 0.])"
      ]
     },
     "execution_count": 43,
     "metadata": {},
     "output_type": "execute_result"
    }
   ],
   "source": [
    "arr2 = np.zeros(5)\n",
    "arr2"
   ]
  },
  {
   "cell_type": "markdown",
   "id": "3ee2362f",
   "metadata": {},
   "source": [
    "Если в функцию **zeros** передать кортеж из двух чисел, например zeros((3, 2)), тогда будет создана матрица с тремя строками и двумя столбцами. (или если вам проще: будет создан массив, в котором будет три подмассива, где каждый подмассив будет на два элемента)"
   ]
  },
  {
   "cell_type": "code",
   "execution_count": 54,
   "id": "7485c30a",
   "metadata": {},
   "outputs": [
    {
     "data": {
      "text/plain": [
       "array([[0., 0.],\n",
       "       [0., 0.],\n",
       "       [0., 0.]])"
      ]
     },
     "execution_count": 54,
     "metadata": {},
     "output_type": "execute_result"
    }
   ],
   "source": [
    "arr2 = np.zeros((3, 2))\n",
    "arr2"
   ]
  },
  {
   "cell_type": "markdown",
   "id": "6212fd95",
   "metadata": {},
   "source": [
    "Аналогичная функция - **ones**, но для 1"
   ]
  },
  {
   "cell_type": "code",
   "execution_count": 57,
   "id": "e000b879",
   "metadata": {},
   "outputs": [
    {
     "data": {
      "text/plain": [
       "array([[1., 1.],\n",
       "       [1., 1.],\n",
       "       [1., 1.]])"
      ]
     },
     "execution_count": 57,
     "metadata": {},
     "output_type": "execute_result"
    }
   ],
   "source": [
    "arr2 = np.ones((3, 2))\n",
    "arr2"
   ]
  },
  {
   "cell_type": "markdown",
   "id": "726ab06e",
   "metadata": {},
   "source": [
    "Функция **full** еще лучше, т.к. с помощью нее можно инциализировать любое значение"
   ]
  },
  {
   "cell_type": "code",
   "execution_count": 8,
   "id": "39efcd2e",
   "metadata": {},
   "outputs": [
    {
     "data": {
      "text/plain": [
       "array([[-5, -5],\n",
       "       [-5, -5],\n",
       "       [-5, -5]])"
      ]
     },
     "execution_count": 8,
     "metadata": {},
     "output_type": "execute_result"
    }
   ],
   "source": [
    "arr2 = np.full((3, 2), -5)\n",
    "arr2"
   ]
  },
  {
   "cell_type": "markdown",
   "id": "190cba99",
   "metadata": {},
   "source": [
    "Функция **arange** аналогична встроенной функции **range** и заполняет массив данными"
   ]
  },
  {
   "cell_type": "code",
   "execution_count": 64,
   "id": "2078feee",
   "metadata": {},
   "outputs": [
    {
     "data": {
      "text/plain": [
       "array([0, 1, 2, 3, 4])"
      ]
     },
     "execution_count": 64,
     "metadata": {},
     "output_type": "execute_result"
    }
   ],
   "source": [
    "arr2 = np.arange(5)\n",
    "arr2"
   ]
  },
  {
   "cell_type": "markdown",
   "id": "3ac52fb8",
   "metadata": {},
   "source": [
    "# Задачи урока 2.1"
   ]
  },
  {
   "cell_type": "markdown",
   "id": "3525d260",
   "metadata": {},
   "source": [
    "1. Напишите функцию, которая возвращает numpy массив на основе предложенного списка (lst)."
   ]
  },
  {
   "cell_type": "code",
   "execution_count": 69,
   "id": "8d3d8238",
   "metadata": {},
   "outputs": [
    {
     "data": {
      "text/plain": [
       "array([1, 2, 3])"
      ]
     },
     "execution_count": 69,
     "metadata": {},
     "output_type": "execute_result"
    }
   ],
   "source": [
    "import numpy as np\n",
    "\n",
    "def solution(lst):\n",
    "    arr = np.array(lst)\n",
    "    return arr\n",
    "\n",
    "solution([1, 2, 3])"
   ]
  },
  {
   "cell_type": "markdown",
   "id": "580c9152",
   "metadata": {},
   "source": [
    "2. Напишите функцию, которая возвращает одномерный массив длинной 100 и заполненный нулями."
   ]
  },
  {
   "cell_type": "code",
   "execution_count": 70,
   "id": "66502f07",
   "metadata": {},
   "outputs": [
    {
     "name": "stdout",
     "output_type": "stream",
     "text": [
      "[0. 0. 0. 0. 0. 0. 0. 0. 0. 0. 0. 0. 0. 0. 0. 0. 0. 0. 0. 0. 0. 0. 0. 0.\n",
      " 0. 0. 0. 0. 0. 0. 0. 0. 0. 0. 0. 0. 0. 0. 0. 0. 0. 0. 0. 0. 0. 0. 0. 0.\n",
      " 0. 0. 0. 0. 0. 0. 0. 0. 0. 0. 0. 0. 0. 0. 0. 0. 0. 0. 0. 0. 0. 0. 0. 0.\n",
      " 0. 0. 0. 0. 0. 0. 0. 0. 0. 0. 0. 0. 0. 0. 0. 0. 0. 0. 0. 0. 0. 0. 0. 0.\n",
      " 0. 0. 0. 0.]\n"
     ]
    }
   ],
   "source": [
    "import numpy as np\n",
    "\n",
    "def solution():\n",
    "    arr = np.zeros(100)\n",
    "    return arr\n",
    "\n",
    "print(solution())"
   ]
  },
  {
   "cell_type": "markdown",
   "id": "8ededdfa",
   "metadata": {},
   "source": [
    "## 2.2 Практика: shape, dtype, ndim, zeros, ones, arange"
   ]
  },
  {
   "cell_type": "markdown",
   "id": "0f898d3c",
   "metadata": {},
   "source": [
    "1. Создайте массив заполненный нулями у которого shape = (2, 5)"
   ]
  },
  {
   "cell_type": "code",
   "execution_count": 1,
   "id": "25a7b465",
   "metadata": {},
   "outputs": [
    {
     "name": "stdout",
     "output_type": "stream",
     "text": [
      "[[0. 0. 0. 0. 0.]\n",
      " [0. 0. 0. 0. 0.]]\n"
     ]
    }
   ],
   "source": [
    "import numpy as np\n",
    "\n",
    "def solution():\n",
    "    arr = np.zeros((2, 5))\n",
    "    return arr\n",
    "\n",
    "\n",
    "print(solution())"
   ]
  },
  {
   "cell_type": "markdown",
   "id": "a42d3112",
   "metadata": {},
   "source": [
    "2. Создайте массив заполненный единицами у которого 5 строк и 8 столбцов (5 вложенных массивов длинной 8)"
   ]
  },
  {
   "cell_type": "code",
   "execution_count": 4,
   "id": "50403967",
   "metadata": {},
   "outputs": [
    {
     "data": {
      "text/plain": [
       "array([[1., 1., 1., 1., 1., 1., 1., 1.],\n",
       "       [1., 1., 1., 1., 1., 1., 1., 1.],\n",
       "       [1., 1., 1., 1., 1., 1., 1., 1.],\n",
       "       [1., 1., 1., 1., 1., 1., 1., 1.],\n",
       "       [1., 1., 1., 1., 1., 1., 1., 1.]])"
      ]
     },
     "execution_count": 4,
     "metadata": {},
     "output_type": "execute_result"
    }
   ],
   "source": [
    "import numpy as np\n",
    "\n",
    "def solution():\n",
    "    arr = np.ones((5, 8))\n",
    "    return arr\n",
    "\n",
    "solution()"
   ]
  },
  {
   "cell_type": "markdown",
   "id": "9ef1a792",
   "metadata": {},
   "source": [
    "3. Создайте одномерный numpy массив со значениями 0, 1, 2, .... 99 (диапазон значений от 0 до 99)"
   ]
  },
  {
   "cell_type": "code",
   "execution_count": 5,
   "id": "50809b2e",
   "metadata": {},
   "outputs": [
    {
     "data": {
      "text/plain": [
       "array([ 0,  1,  2,  3,  4,  5,  6,  7,  8,  9, 10, 11, 12, 13, 14, 15, 16,\n",
       "       17, 18, 19, 20, 21, 22, 23, 24, 25, 26, 27, 28, 29, 30, 31, 32, 33,\n",
       "       34, 35, 36, 37, 38, 39, 40, 41, 42, 43, 44, 45, 46, 47, 48, 49, 50,\n",
       "       51, 52, 53, 54, 55, 56, 57, 58, 59, 60, 61, 62, 63, 64, 65, 66, 67,\n",
       "       68, 69, 70, 71, 72, 73, 74, 75, 76, 77, 78, 79, 80, 81, 82, 83, 84,\n",
       "       85, 86, 87, 88, 89, 90, 91, 92, 93, 94, 95, 96, 97, 98, 99])"
      ]
     },
     "execution_count": 5,
     "metadata": {},
     "output_type": "execute_result"
    }
   ],
   "source": [
    "import numpy as np\n",
    "\n",
    "def solution():\n",
    "    arr = np.arange(100)\n",
    "    return arr\n",
    "\n",
    "\n",
    "solution()"
   ]
  },
  {
   "cell_type": "markdown",
   "id": "8db41a80",
   "metadata": {},
   "source": [
    "4. Создайте двумерный массив размером 5 х 2, который полностью будет заполнен значением 'G' "
   ]
  },
  {
   "cell_type": "code",
   "execution_count": null,
   "id": "7bc58ef4",
   "metadata": {},
   "outputs": [],
   "source": [
    "import numpy as np\n",
    "\n",
    "def solution():\n",
    "    arr = np.full((5, 2), 'G')\n",
    "    return arr\n",
    "\n",
    "\n",
    "solution()"
   ]
  },
  {
   "cell_type": "markdown",
   "id": "3ef0a915",
   "metadata": {},
   "source": [
    "## 2.3 Типы данных и их преобразование, арифметика, доступ к элементам"
   ]
  },
  {
   "cell_type": "markdown",
   "id": "4ae7d7b6",
   "metadata": {},
   "source": [
    "Функция **array** может принимать второй необязательный аргумент **dtype** для формирования массива с определённым типом данных"
   ]
  },
  {
   "cell_type": "code",
   "execution_count": 12,
   "id": "48d4b821",
   "metadata": {},
   "outputs": [
    {
     "name": "stdout",
     "output_type": "stream",
     "text": [
      "int64\n"
     ]
    }
   ],
   "source": [
    "import numpy as np\n",
    "\n",
    "arr = np.array([1, 2, 3, 4, 5], dtype=np.float64)\n",
    "\n",
    "print(new_arr.dtype)"
   ]
  },
  {
   "cell_type": "markdown",
   "id": "1b16f9f3",
   "metadata": {},
   "source": [
    "Функция **astype** выполнит преобразование типов и вернет новый массив с новым типом данных."
   ]
  },
  {
   "cell_type": "code",
   "execution_count": 13,
   "id": "9fac1f10",
   "metadata": {},
   "outputs": [
    {
     "name": "stdout",
     "output_type": "stream",
     "text": [
      "int64 float64\n"
     ]
    }
   ],
   "source": [
    "new_arr = arr.astype(np.int64)\n",
    "\n",
    "print(new_arr.dtype, arr.dtype)"
   ]
  },
  {
   "cell_type": "markdown",
   "id": "37d59973",
   "metadata": {},
   "source": [
    "Если вы поменяете тип данных с **float_** на **int_**, то numpy отрежет десятичную часть от каждого числа и оставит только целую. Округления не будет! Округление делается по другому."
   ]
  },
  {
   "cell_type": "code",
   "execution_count": 16,
   "id": "fc8e5b25",
   "metadata": {},
   "outputs": [
    {
     "name": "stdout",
     "output_type": "stream",
     "text": [
      "[1 2 3 4 5]\n"
     ]
    }
   ],
   "source": [
    "import numpy as np\n",
    "\n",
    "arr = np.array([1.5, 2.5, 3.1, 4.2, 5.8], dtype=np.float64)\n",
    "\n",
    "print(arr.astype(np.int32))"
   ]
  },
  {
   "cell_type": "markdown",
   "id": "268bc0f6",
   "metadata": {},
   "source": [
    "### Арифметические операции в NumPy"
   ]
  },
  {
   "cell_type": "code",
   "execution_count": 26,
   "id": "24baa1db",
   "metadata": {},
   "outputs": [
    {
     "name": "stdout",
     "output_type": "stream",
     "text": [
      "[ 2  4  6  8 10]\n",
      "[2 3 4 5 6]\n",
      "\n",
      "[0 0 0 0 0]\n",
      "[0 1 2 3 4]\n",
      "\n",
      "[ 1  4  9 16 25]\n",
      "[ 2  4  6  8 10]\n",
      "\n",
      "[1. 1. 1. 1. 1.]\n",
      "[0.5 1.  1.5 2.  2.5]\n",
      "\n",
      "[   1    4   27  256 3125]\n",
      "[ 1  4  9 16 25]\n"
     ]
    }
   ],
   "source": [
    "import numpy as np\n",
    "\n",
    "arr = np.array([1, 2, 3, 4, 5])\n",
    "\n",
    "# сложение\n",
    "print(arr + arr)\n",
    "print(arr + 1, end='\\n\\n')\n",
    "\n",
    "# разность\n",
    "print(arr - arr)\n",
    "print(arr - 1, end='\\n\\n')\n",
    "\n",
    "# умножение\n",
    "print(arr * arr)\n",
    "print(arr * 2, end='\\n\\n')\n",
    "\n",
    "# деление\n",
    "print(arr / arr)\n",
    "print(arr / 2, end='\\n\\n')\n",
    " \n",
    "# возведение в степень\n",
    "print(arr ** arr)\n",
    "print(arr ** 2)"
   ]
  },
  {
   "cell_type": "markdown",
   "id": "9fa97556",
   "metadata": {},
   "source": [
    "### Сравнение элементов между массивами"
   ]
  },
  {
   "cell_type": "markdown",
   "id": "10e0434c",
   "metadata": {},
   "source": [
    "Если необходимо сравнить два массива поэлементно, то не нужно писать цикл! Достаточно просто написать:"
   ]
  },
  {
   "cell_type": "code",
   "execution_count": 34,
   "id": "fe398848",
   "metadata": {},
   "outputs": [
    {
     "name": "stdout",
     "output_type": "stream",
     "text": [
      "[False False  True]\n",
      "[ True False False]\n",
      "[ True  True False]\n",
      "[False  True  True]\n",
      "[False  True False]\n",
      "[ True False  True]\n"
     ]
    }
   ],
   "source": [
    "import numpy as np\n",
    "\n",
    "m1 = np.array([36.6, 36.5, 37.0])\n",
    "m2 = np.array([36.9, 36.5, 35.6])\n",
    "\n",
    "print(m1 > m2)\n",
    "print(m1 < m2)\n",
    "print(m1 <= m2)\n",
    "print(m1 >= m2)\n",
    "print(m1 == m2)\n",
    "print(m1 != m2)"
   ]
  },
  {
   "cell_type": "markdown",
   "id": "5c50f199",
   "metadata": {},
   "source": [
    "### Доступ к элементам массива"
   ]
  },
  {
   "cell_type": "markdown",
   "id": "c3ea721a",
   "metadata": {},
   "source": [
    "Для доступа к одному элементу массива указываем индекс этого элемента в квадратных скобках, а для получения доступа к нескольким элементам указываем диапазон через двоеточие"
   ]
  },
  {
   "cell_type": "code",
   "execution_count": 36,
   "id": "cf29409f",
   "metadata": {},
   "outputs": [
    {
     "name": "stdout",
     "output_type": "stream",
     "text": [
      "3\n",
      "[3 4]\n",
      "5\n"
     ]
    }
   ],
   "source": [
    "import numpy as np\n",
    "\n",
    "m = np.array([1, 2, 3, 4, 5])\n",
    "\n",
    "print(m[2])\n",
    "print(m[2:4])\n",
    "print(m[-1])"
   ]
  },
  {
   "cell_type": "markdown",
   "id": "162a9fad",
   "metadata": {},
   "source": [
    "Массивы как и списки в Python **изменяемые**, поэтому если мы поменяли элемент в массиве, то он изменится во всех связанных массивах"
   ]
  },
  {
   "cell_type": "markdown",
   "id": "29eba1c2",
   "metadata": {},
   "source": [
    "### Задачи урока 2.2"
   ]
  },
  {
   "cell_type": "markdown",
   "id": "bcf86c63",
   "metadata": {},
   "source": [
    "1. Напишите функцию, которая на основе существующего списка создает numpy массив с типом float64"
   ]
  },
  {
   "cell_type": "code",
   "execution_count": 40,
   "id": "95ff0992",
   "metadata": {},
   "outputs": [
    {
     "name": "stdout",
     "output_type": "stream",
     "text": [
      "[1. 2. 3. 4. 5.]\n"
     ]
    }
   ],
   "source": [
    "import numpy as np\n",
    "\n",
    "def solution(lst):\n",
    "    arr = np.array(lst, dtype=np.float64)\n",
    "    return arr\n",
    "\n",
    "\n",
    "print(solution([1, 2, 3, 4, 5]))"
   ]
  },
  {
   "cell_type": "markdown",
   "id": "69b71247",
   "metadata": {},
   "source": [
    "2. К вам в распоряжение поступает массив arr с типом float64. Преобразуйте, пожалуйста, в int32"
   ]
  },
  {
   "cell_type": "code",
   "execution_count": 100,
   "id": "839a19e5",
   "metadata": {},
   "outputs": [
    {
     "name": "stdout",
     "output_type": "stream",
     "text": [
      "[1 2 4]\n"
     ]
    }
   ],
   "source": [
    "import numpy as np\n",
    "\n",
    "def solution(arr):\n",
    "    arr = arr.astype(np.int32)\n",
    "    return arr\n",
    "\n",
    "\n",
    "print(solution(np.array([1.5, 2.3, 4.3])))"
   ]
  },
  {
   "cell_type": "markdown",
   "id": "d88f7a4e",
   "metadata": {},
   "source": [
    "## 2.4 Практика: арифметика, преобразование типов, доступ к элементам"
   ]
  },
  {
   "cell_type": "markdown",
   "id": "9a02efbd",
   "metadata": {},
   "source": [
    "1. На вход подается одномерный массив со значениями от 0 до 5 (включительно). Примените некоторую операцию  чтобы на выходе получился массив со значениями 1000, 1001....1005"
   ]
  },
  {
   "cell_type": "code",
   "execution_count": 16,
   "id": "0dbe6ead",
   "metadata": {},
   "outputs": [
    {
     "name": "stdout",
     "output_type": "stream",
     "text": [
      "[1000 1001 1002 1003 1004 1005]\n"
     ]
    }
   ],
   "source": [
    "import numpy as np\n",
    "\n",
    "def solution(arr):\n",
    "    arr = arr + 1000\n",
    "    return arr\n",
    "\n",
    "\n",
    "print(solution(np.array([0, 1, 2, 3, 4, 5])))"
   ]
  },
  {
   "cell_type": "markdown",
   "id": "d0be90da",
   "metadata": {},
   "source": [
    "2. На вход подается одномерный массив в котором хранится информация о количестве картофеля на каждом складе (всего 5 складов). Посчитайте для каждого склада, сколько процентов картофеля от общего количества хранится на каждом складе. Общее количество картофеля на всех складах 115 кг. Не забудьте что каждое значение надо умножить на 100. Округлять значения не требуется! Знак процента тоже добавлять не следует. Просто выполните арифметические операции."
   ]
  },
  {
   "cell_type": "code",
   "execution_count": 98,
   "id": "0c8364fa",
   "metadata": {},
   "outputs": [
    {
     "name": "stdout",
     "output_type": "stream",
     "text": [
      "[26.08695652 34.7826087  26.08695652  8.69565217  4.34782609]\n"
     ]
    }
   ],
   "source": [
    "import numpy as np\n",
    "\n",
    "def solution(arr):\n",
    "    arr = arr / sum(arr) * 100\n",
    "    return arr\n",
    "\n",
    "\n",
    "print(solution(np.array([30, 40, 30, 10, 5])))"
   ]
  },
  {
   "cell_type": "markdown",
   "id": "88482930",
   "metadata": {},
   "source": [
    "3. Выполните действия:\n",
    "\n",
    "   1) Создайте одномерный массив со значениями в диапазоне от 0 до 10 (включительно). \n",
    "\n",
    "   2) Создайте второй одномерный массив со значениями в диапазоне от 10 до 20 (включительно). \n",
    "\n",
    "   3) Вычтите из второго массива первый. \n",
    "\n",
    "   4) Проверьте каждое значение получившегося массива на равенство значению 10. Результат сравнения верните в отдельном numpy массиве."
   ]
  },
  {
   "cell_type": "code",
   "execution_count": 97,
   "id": "898b6526",
   "metadata": {},
   "outputs": [
    {
     "data": {
      "text/plain": [
       "array([ True,  True,  True,  True,  True,  True,  True,  True,  True,\n",
       "        True,  True])"
      ]
     },
     "execution_count": 97,
     "metadata": {},
     "output_type": "execute_result"
    }
   ],
   "source": [
    "import numpy as np\n",
    "\n",
    "def solution():\n",
    "    arr = np.arange(11)\n",
    "    arr2 = np.arange(10, 21)\n",
    "    return (arr2 - arr) == 10\n",
    "\n",
    "\n",
    "solution()"
   ]
  },
  {
   "cell_type": "markdown",
   "id": "4aab84d4",
   "metadata": {},
   "source": [
    "4. Во входящем массиве arr содержится информация о водителях, которые превысили скорость на некотором участке дороги. Определите насколько каждый водитель превысил скорость, если допустимая скорость равна 80. Результаты представьте в отдельном numpy массиве"
   ]
  },
  {
   "cell_type": "code",
   "execution_count": 58,
   "id": "362f7de5",
   "metadata": {},
   "outputs": [
    {
     "data": {
      "text/plain": [
       "array([20, 40, 19])"
      ]
     },
     "execution_count": 58,
     "metadata": {},
     "output_type": "execute_result"
    }
   ],
   "source": [
    "import numpy as np\n",
    "\n",
    "solution = lambda arr: arr - 80\n",
    "\n",
    "solution(np.array([100, 120, 99]))"
   ]
  },
  {
   "cell_type": "markdown",
   "id": "a983fa0f",
   "metadata": {},
   "source": [
    "5. На вход вашей функции подается некоторый одномерный массив. Предполагается, что там лежат числа с плавающей точкой, но записаны они как строка. Выполните сложение элементов с индексами 1 и 3. На выходе ваша функция должна вернуть число (сумма двух элементов массива)."
   ]
  },
  {
   "cell_type": "code",
   "execution_count": 10,
   "id": "3f335270",
   "metadata": {},
   "outputs": [
    {
     "name": "stdout",
     "output_type": "stream",
     "text": [
      "17.6\n"
     ]
    }
   ],
   "source": [
    "import numpy as np\n",
    "\n",
    "def solution(arr):\n",
    "    arr = arr.astype('float64')\n",
    "    return arr[1] + arr[3]\n",
    "\n",
    "\n",
    "print(solution(np.array(['5.1', '8.2', '4.3', '9.4', '10.5'])))"
   ]
  },
  {
   "cell_type": "markdown",
   "id": "a99721c9",
   "metadata": {},
   "source": [
    "6. На вход вашей функции подается два одномерных массива. Сложите первые два элемента первого массива с последними двумя элементами второго массива (поэлементно). На выходе должен получится новый одномерный массив, который будет хранить два значения"
   ]
  },
  {
   "cell_type": "code",
   "execution_count": 9,
   "id": "c8fb7c94",
   "metadata": {},
   "outputs": [
    {
     "data": {
      "text/plain": [
       "array([6, 8])"
      ]
     },
     "execution_count": 9,
     "metadata": {},
     "output_type": "execute_result"
    }
   ],
   "source": [
    "import numpy as np\n",
    "\n",
    "def solution(arr1, arr2):\n",
    "    return arr1[:2] + arr2[-2:]\n",
    "\n",
    "\n",
    "solution(np.array([1, 2, 3]), np.array([4, 5, 6]))"
   ]
  },
  {
   "cell_type": "markdown",
   "id": "9a4ea710",
   "metadata": {},
   "source": [
    "7. На вход подается некоторый одномерный массив. Занулите первые 3 элемента."
   ]
  },
  {
   "cell_type": "code",
   "execution_count": 8,
   "id": "6db5ab7b",
   "metadata": {},
   "outputs": [
    {
     "name": "stdout",
     "output_type": "stream",
     "text": [
      "[0 0 0 4 5]\n"
     ]
    }
   ],
   "source": [
    "import numpy as np\n",
    "\n",
    "def solution(arr):\n",
    "    arr[:3] = 0\n",
    "    return arr\n",
    "\n",
    "\n",
    "print(solution(np.array([1, 2, 3, 4, 5])))"
   ]
  },
  {
   "cell_type": "markdown",
   "id": "b6129d6d",
   "metadata": {},
   "source": [
    "## 2.5 Двумерные и трехмерные массивы. Учимся применять индексы"
   ]
  },
  {
   "cell_type": "markdown",
   "id": "bbc7a90e",
   "metadata": {},
   "source": [
    "### Индексация одномерного массива"
   ]
  },
  {
   "cell_type": "markdown",
   "id": "c75f8b68",
   "metadata": {},
   "source": [
    "Если из массива необходимо вытянуть часть данных с помощью среза (слайсинга), то необходимо использовать метод **copy()**, т.к. при слайсинге мы копируем не объект, а делаем ссылку на него"
   ]
  },
  {
   "cell_type": "code",
   "execution_count": 4,
   "id": "0a9cb5ca",
   "metadata": {},
   "outputs": [
    {
     "name": "stdout",
     "output_type": "stream",
     "text": [
      "[ 1  2 10  4  5]\n"
     ]
    }
   ],
   "source": [
    "import numpy as np\n",
    "\n",
    "arr = np.array([1, 2, 3, 4, 5])\n",
    "new_arr = arr[2:4]\n",
    "new_arr[0] = 10\n",
    "\n",
    "print(arr)"
   ]
  },
  {
   "cell_type": "code",
   "execution_count": 7,
   "id": "a9d0c211",
   "metadata": {},
   "outputs": [
    {
     "name": "stdout",
     "output_type": "stream",
     "text": [
      "[1 2 3 4 5]\n",
      "[10  4]\n"
     ]
    }
   ],
   "source": [
    "import numpy as np\n",
    "\n",
    "arr = np.array([1, 2, 3, 4, 5])\n",
    "new_arr = arr[2:4].copy()\n",
    "new_arr[0] = 10\n",
    "\n",
    "print(arr, new_arr, sep='\\n')"
   ]
  },
  {
   "cell_type": "markdown",
   "id": "264c666f",
   "metadata": {},
   "source": [
    "### Индексация двумерного массива"
   ]
  },
  {
   "cell_type": "markdown",
   "id": "8186dea7",
   "metadata": {},
   "source": [
    "Обратиться к элементу вложенного массива можно 2 способами. 1 вариант через индексацию, как в стандартном Python, 2 вариант через индексацию NumpPy"
   ]
  },
  {
   "cell_type": "code",
   "execution_count": 14,
   "id": "e9cb3b49",
   "metadata": {},
   "outputs": [
    {
     "name": "stdout",
     "output_type": "stream",
     "text": [
      "40\n",
      "40\n"
     ]
    }
   ],
   "source": [
    "import numpy as np\n",
    "\n",
    "arr = np.array([[1, 2, 3, 4, 5], [10, 20, 30, 40, 50]])\n",
    "\n",
    "print(arr[1][3])\n",
    "print(arr[1, 3])"
   ]
  },
  {
   "cell_type": "markdown",
   "id": "2132e01f",
   "metadata": {},
   "source": [
    "### Индексация трехмерного массива"
   ]
  },
  {
   "cell_type": "code",
   "execution_count": 31,
   "id": "3992581c",
   "metadata": {},
   "outputs": [
    {
     "name": "stdout",
     "output_type": "stream",
     "text": [
      "20\n",
      "20\n",
      "[[[ 1  2  3  4  5]\n",
      "  [ 0  0  0  0  0]]\n",
      "\n",
      " [[ 1  2  3  4  5]\n",
      "  [10 20 30 40 50]]]\n",
      "\n"
     ]
    }
   ],
   "source": [
    "import numpy as np\n",
    "\n",
    "arr = np.array([[[1, 2, 3, 4, 5], [10, 20, 30, 40, 50]], [[1, 2, 3, 4, 5], [10, 20, 30, 40, 50]]])\n",
    "\n",
    "print(arr[0][1][1]) # Python вариант\n",
    "print(arr[0, 1, 1]) # NumPy вариант\n",
    "\n",
    "arr[0][1] = 0 # Замента всех значений на 0\n",
    "print(arr, end='\\n\\n')"
   ]
  },
  {
   "cell_type": "markdown",
   "id": "47bcad34",
   "metadata": {},
   "source": [
    "### Слайсинг в NumPy"
   ]
  },
  {
   "cell_type": "markdown",
   "id": "d31b9bf0",
   "metadata": {},
   "source": [
    "Если необходимо вытянуть данные по определенному \"Столбцу\" или \"Строке\", в слайсинге сначала указывается выборка по строке, а потом по столбцу"
   ]
  },
  {
   "cell_type": "code",
   "execution_count": 99,
   "id": "f4f181c1",
   "metadata": {},
   "outputs": [
    {
     "name": "stdout",
     "output_type": "stream",
     "text": [
      "[ 3 30 33]\n",
      "\n",
      "[[ 3  4]\n",
      " [30 40]\n",
      " [33 44]]\n",
      "\n",
      "[[ 1  2]\n",
      " [10 20]]\n"
     ]
    }
   ],
   "source": [
    "import numpy as np\n",
    "\n",
    "m = np.array([[1, 2, 3, 4, 5], [10, 20, 30, 40, 50], [11, 22, 33, 44, 55]])\n",
    "\n",
    "print(m[:, 2], end='\\n\\n')\n",
    "print(m[:, 2:4], end='\\n\\n')\n",
    "print(m[0:2, 0:2])"
   ]
  },
  {
   "cell_type": "markdown",
   "id": "48945621",
   "metadata": {},
   "source": [
    "### Индексация с Mask"
   ]
  },
  {
   "cell_type": "markdown",
   "id": "a315e528",
   "metadata": {},
   "source": [
    "**Маска** - это массив (одномерный или многомерный), который состоит из булевых значений. Если True - то элемент будет вытянут, если False - нет."
   ]
  },
  {
   "cell_type": "code",
   "execution_count": 96,
   "id": "989748fc",
   "metadata": {},
   "outputs": [
    {
     "name": "stdout",
     "output_type": "stream",
     "text": [
      "[1 3 5]\n"
     ]
    }
   ],
   "source": [
    "import numpy as np\n",
    "\n",
    "m = np.array([1, 2, 3, 4, 5])\n",
    "mask = [True, False, True, False, True]\n",
    "\n",
    "print(m[mask])"
   ]
  },
  {
   "cell_type": "markdown",
   "id": "70f83861",
   "metadata": {},
   "source": [
    "Важно запомнить, что возвращается массив, который не содержит ссылку на исходный массив, т.е. он скопирован"
   ]
  },
  {
   "cell_type": "markdown",
   "id": "059efe70",
   "metadata": {},
   "source": [
    "**Маски очень удобно использовать для фильтрации данных, примеры:**"
   ]
  },
  {
   "cell_type": "code",
   "execution_count": 55,
   "id": "8177f77a",
   "metadata": {},
   "outputs": [
    {
     "name": "stdout",
     "output_type": "stream",
     "text": [
      "[3 4 5]\n",
      "[1 2]\n"
     ]
    }
   ],
   "source": [
    "import numpy as np\n",
    "\n",
    "m = np.array([1, 2, 3, 4, 5])\n",
    "mask = m > 2\n",
    "\n",
    "print(m[mask])\n",
    "print(m[m < 3])"
   ]
  },
  {
   "cell_type": "code",
   "execution_count": 75,
   "id": "c33f38d0",
   "metadata": {},
   "outputs": [
    {
     "name": "stdout",
     "output_type": "stream",
     "text": [
      "[[1 1 2 0 1 0 1]]\n"
     ]
    }
   ],
   "source": [
    "import numpy as np\n",
    "\n",
    "users = np.array(['Вадим', 'Ян', 'Илья', 'Рома', 'Алексей'])\n",
    "visits = np.array([[1, 1, 2, 0, 1, 0, 1], [1, 0, 1, 0, 1, 0, 2], [1, 3, 2, 1, 1, 0, 1], [0, 1, 2, 2, 1, 0, 0], [0, 1, 1, 2, 1, 1, 0]])\n",
    "mask = users == 'Вадим'\n",
    "\n",
    "print(visits[mask])"
   ]
  },
  {
   "cell_type": "markdown",
   "id": "aee1fac3",
   "metadata": {},
   "source": [
    "### Задачи урока 2.5"
   ]
  },
  {
   "cell_type": "markdown",
   "id": "f2dfc1d1",
   "metadata": {},
   "source": [
    "1. На вход подается двумерный массив (матрица), вытяните из матрицы указанную область.:\n",
    "\n",
    "![1](https://ucarecdn.com/d2707fa4-3105-46da-a1d7-0a4ca4e40362/)\n",
    "\n"
   ]
  },
  {
   "cell_type": "code",
   "execution_count": 81,
   "id": "e9615128",
   "metadata": {},
   "outputs": [],
   "source": [
    "import numpy as np\n",
    "\n",
    "def solution(arr):\n",
    "    arr = arr[:2, :2]\n",
    "    return arr"
   ]
  },
  {
   "cell_type": "markdown",
   "id": "94ed77e7",
   "metadata": {},
   "source": [
    "2. На вход подается двумерный массив (матрица), вытяните из матрицы указанную область.\n",
    "\n",
    "![1](https://ucarecdn.com/7f96bccf-dce4-430f-8f5e-9842a24b5000/)"
   ]
  },
  {
   "cell_type": "code",
   "execution_count": 84,
   "id": "beb87841",
   "metadata": {},
   "outputs": [],
   "source": [
    "import numpy as np\n",
    "\n",
    "def solution(arr):\n",
    "    arr = arr[1:3, 3:]\n",
    "    return arr"
   ]
  },
  {
   "cell_type": "markdown",
   "id": "e1bebad1",
   "metadata": {},
   "source": [
    "## 2.6 Практика: закрепляем работу с индексами"
   ]
  },
  {
   "cell_type": "markdown",
   "id": "66356afa",
   "metadata": {},
   "source": [
    "1. Выполните поэлементное сложение двух столбцов:\n",
    "\n",
    "![1](https://ucarecdn.com/1d6c0c70-0f78-4827-8f21-072923404f5d/)"
   ]
  },
  {
   "cell_type": "code",
   "execution_count": 91,
   "id": "f7b4ee62",
   "metadata": {},
   "outputs": [
    {
     "data": {
      "text/plain": [
       "array([28, 27, 42, 33,  9])"
      ]
     },
     "execution_count": 91,
     "metadata": {},
     "output_type": "execute_result"
    }
   ],
   "source": [
    "import numpy as np\n",
    "\n",
    "def solution(arr):\n",
    "    arr = arr[:, 0] + arr[:, 3]\n",
    "    return arr\n",
    "\n",
    "\n",
    "arr1 = np.array([[10, 12, 14, 18, 20],\n",
    "                 [8,  22, 18, 19, 12],\n",
    "                 [4,  14, 84, 38, 11],\n",
    "                 [2,  32, 4,  31,  9],\n",
    "                 [1,  11, 1,  8,  6]])\n",
    "\n",
    "solution(arr1)"
   ]
  },
  {
   "cell_type": "markdown",
   "id": "6c26e337",
   "metadata": {},
   "source": [
    "2. Выполните поэлементное сложение двух строк:\n",
    "\n",
    "![1](https://ucarecdn.com/7531165c-7236-4a03-af90-970f76bdf2e1/)"
   ]
  },
  {
   "cell_type": "code",
   "execution_count": 92,
   "id": "d8fc2c5c",
   "metadata": {},
   "outputs": [],
   "source": [
    "import numpy as np\n",
    "\n",
    "def solution(arr):\n",
    "    arr = arr[1] + arr[3]\n",
    "    return arr"
   ]
  },
  {
   "cell_type": "markdown",
   "id": "c066a97c",
   "metadata": {},
   "source": [
    "3. Выполните поэлементное сложение двух столбцов:\n",
    "\n",
    "![1](https://ucarecdn.com/7a2be0a9-154f-4324-a1c3-86413db31247/)"
   ]
  },
  {
   "cell_type": "code",
   "execution_count": 94,
   "id": "68270eca",
   "metadata": {},
   "outputs": [],
   "source": [
    "import numpy as np\n",
    "\n",
    "def solution(arr):\n",
    "    arr = arr[1:4, 1] + arr[1:4, 3]\n",
    "    return arr"
   ]
  },
  {
   "cell_type": "markdown",
   "id": "92f64b9a",
   "metadata": {},
   "source": [
    "4.  Выполните поэлементное сложение двух строк:\n",
    "\n",
    "![1](https://ucarecdn.com/2f1ff817-4521-44d2-8b96-bf866ef9e932/)"
   ]
  },
  {
   "cell_type": "code",
   "execution_count": 97,
   "id": "4764debd",
   "metadata": {},
   "outputs": [],
   "source": [
    "import numpy as np\n",
    "\n",
    "def solution(arr):\n",
    "    arr = arr[0, :-1] + arr[-1, 1:]\n",
    "    return arr"
   ]
  },
  {
   "cell_type": "markdown",
   "id": "f4a409fd",
   "metadata": {},
   "source": [
    "5.  Выполните поэлементное сложение двух столбцов:\n",
    "\n",
    "![1](https://ucarecdn.com/faa3d37f-a16c-49b0-aeb7-e45512d9dcf7/)"
   ]
  },
  {
   "cell_type": "code",
   "execution_count": 100,
   "id": "4a61cf59",
   "metadata": {},
   "outputs": [],
   "source": [
    "import numpy as np\n",
    "\n",
    "def solution(arr):\n",
    "    arr = arr[1:-1, 1] + arr[2:, 2]\n",
    "    return arr"
   ]
  },
  {
   "cell_type": "markdown",
   "id": "f878a3ca",
   "metadata": {},
   "source": [
    "6. Выполните поэлементное сложение двух матриц:\n",
    "\n",
    "![1](https://ucarecdn.com/2bf71390-a37e-4420-a0e9-27f3b3ce6b06/)"
   ]
  },
  {
   "cell_type": "code",
   "execution_count": null,
   "id": "f26d79af",
   "metadata": {},
   "outputs": [],
   "source": [
    "import numpy as np\n",
    "\n",
    "def solution(arr):\n",
    "    arr = arr[2:, :2] + arr[:-2, -2:]\n",
    "    return arr"
   ]
  },
  {
   "cell_type": "markdown",
   "id": "f00449c7",
   "metadata": {},
   "source": [
    "7. Выполните поэлементное сравнение двух столбцов, если значение в первом столбце больше чем значение во втором, тогда в результирующем массиве должно быть True, иначе False:\n",
    "\n",
    "![1](https://ucarecdn.com/21f66abd-1a69-444c-9138-eeaf8d9d54de/)"
   ]
  },
  {
   "cell_type": "code",
   "execution_count": 1,
   "id": "7d6f0932",
   "metadata": {},
   "outputs": [
    {
     "data": {
      "text/plain": [
       "array([False, False, False, False, False, False])"
      ]
     },
     "execution_count": 1,
     "metadata": {},
     "output_type": "execute_result"
    }
   ],
   "source": [
    "import numpy as np\n",
    "\n",
    "def solution(arr):\n",
    "    arr = arr[:, 0] > arr[:, 2]\n",
    "    return arr\n",
    "\n",
    "\n",
    "m = np.array([[ 0,  1,  2,  3,  4],\n",
    "       [ 5,  6,  7,  8,  9],\n",
    "       [10, 11, 12, 13, 14],\n",
    "       [15, 16, 17, 18, 19],\n",
    "       [20, 21, 22, 23, 24],\n",
    "       [25, 26, 27, 28, 29]])\n",
    "\n",
    "solution(m)"
   ]
  },
  {
   "cell_type": "markdown",
   "id": "d06454f5",
   "metadata": {},
   "source": [
    "## 2.7 Маска и слайсинг вместе, прихотливая индексация, а еще reshape"
   ]
  },
  {
   "cell_type": "markdown",
   "id": "abf7798d",
   "metadata": {},
   "source": [
    "В скобках можно работать и с маской и с индексами одновременно!"
   ]
  },
  {
   "cell_type": "code",
   "execution_count": 14,
   "id": "0864d573",
   "metadata": {},
   "outputs": [
    {
     "name": "stdout",
     "output_type": "stream",
     "text": [
      "[[0 1]]\n"
     ]
    }
   ],
   "source": [
    "import numpy as np\n",
    "\n",
    "users = np.array(['Вадим', 'Ян', 'Илья', 'Рома', 'Алексей'])\n",
    "visits = np.array([[1, 1, 2, 0, 1, 0, 1], [1, 0, 1, 0, 1, 0, 2], [1, 3, 2, 1, 1, 0, 1], [0, 1, 2, 2, 1, 0, 0], [0, 1, 1, 2, 1, 1, 0]])\n",
    "mask = users == 'Вадим'\n",
    "\n",
    "print(visits[mask, 5:])"
   ]
  },
  {
   "cell_type": "markdown",
   "id": "5f705ec5",
   "metadata": {},
   "source": [
    "Если вы хотите выполнить инверсию булевых значений(True заменить на False, а False на True), то не стоит использовать команду not. Для этого есть знак ~ (тильда). На клавиатуре ищите рядом с буквой Ё."
   ]
  },
  {
   "cell_type": "code",
   "execution_count": 16,
   "id": "f16ed1bd",
   "metadata": {},
   "outputs": [
    {
     "name": "stdout",
     "output_type": "stream",
     "text": [
      "[[1 0 1 0 1 0 2]\n",
      " [1 3 2 1 1 0 1]\n",
      " [0 1 2 2 1 0 0]\n",
      " [0 1 1 2 1 1 0]]\n"
     ]
    }
   ],
   "source": [
    "import numpy as np\n",
    "\n",
    "users = np.array(['Вадим', 'Ян', 'Илья', 'Рома', 'Алексей'])\n",
    "visits = np.array([[1, 1, 2, 0, 1, 0, 1], [1, 0, 1, 0, 1, 0, 2], [1, 3, 2, 1, 1, 0, 1], [0, 1, 2, 2, 1, 0, 0], [0, 1, 1, 2, 1, 1, 0]])\n",
    "mask = users == 'Вадим'\n",
    "\n",
    "print(visits[~mask])"
   ]
  },
  {
   "cell_type": "markdown",
   "id": "6c0e3844",
   "metadata": {},
   "source": [
    "При работе с numpy для логических операций вы не работаете со стандартными питоновскими and и or. У numpy свои операторы:\n",
    "1. Логическое ИЛИ:   |  (ищите выше клавиши Enter)\n",
    "2. Логическое И:  & (ищите на клавише с цифрой 7)  "
   ]
  },
  {
   "cell_type": "code",
   "execution_count": 28,
   "id": "bff516df",
   "metadata": {},
   "outputs": [
    {
     "name": "stdout",
     "output_type": "stream",
     "text": [
      "[[1 1 2 0 1 0 1]\n",
      " [1 3 2 1 1 0 1]]\n",
      "\n",
      "[[1 0 1 0 1 0 2]\n",
      " [0 1 2 2 1 0 0]\n",
      " [0 1 1 2 1 1 0]]\n"
     ]
    }
   ],
   "source": [
    "import numpy as np\n",
    "\n",
    "users = np.array(['Вадим', 'Ян', 'Илья', 'Рома', 'Алексей'])\n",
    "visits = np.array([[1, 1, 2, 0, 1, 0, 1], [1, 0, 1, 0, 1, 0, 2], [1, 3, 2, 1, 1, 0, 1], [0, 1, 2, 2, 1, 0, 0], [0, 1, 1, 2, 1, 1, 0]])\n",
    "mask = (users == 'Вадим') | (users == 'Илья')\n",
    "\n",
    "print(visits[mask], end='\\n\\n')\n",
    "print(visits[~mask])"
   ]
  },
  {
   "cell_type": "markdown",
   "id": "e2a2e146",
   "metadata": {},
   "source": [
    "Можно вытягивать данные с помощью **прихотливой индексации**.\n",
    "Алгоритм таков: передаем список/массив с индексами по которым надо вытащить значения. Индексы могут идти не по порядку."
   ]
  },
  {
   "cell_type": "code",
   "execution_count": 40,
   "id": "16e15efc",
   "metadata": {},
   "outputs": [
    {
     "name": "stdout",
     "output_type": "stream",
     "text": [
      "[[11 12 13 14]\n",
      " [21 22 23 24]\n",
      " [ 6  7  8  9]]\n",
      "\n",
      "[ 1 12 23]\n"
     ]
    }
   ],
   "source": [
    "import numpy as np\n",
    "\n",
    "m = np.array([[ 0,  1,  2,  3,  4],\n",
    "       [ 5,  6,  7,  8,  9],\n",
    "       [10, 11, 12, 13, 14],\n",
    "       [15, 16, 17, 18, 19],\n",
    "       [20, 21, 22, 23, 24],\n",
    "       [25, 26, 27, 28, 29]])\n",
    "\n",
    "print(m[[2, 4, 1], 1:], end='\\n\\n')\n",
    "print(m[[0, 2, 4], [1, 2, 3]])"
   ]
  },
  {
   "cell_type": "markdown",
   "id": "b409f7cb",
   "metadata": {},
   "source": [
    "Функция **reshape** позволяет преобразовать массив данных в определенное кол-во подмассивов с нужным кол-вом элементов. В функцию передается кортеж, где первым элементом является кол-во строк, а втором кол-во столбцов, их произведение должно равнятся количеству всех элементов в исходном массиве"
   ]
  },
  {
   "cell_type": "code",
   "execution_count": 52,
   "id": "521bc4c0",
   "metadata": {},
   "outputs": [
    {
     "name": "stdout",
     "output_type": "stream",
     "text": [
      "[[ 0  1  2  3  4  5  6  7  8  9 10 11 12 13 14 15 16 17 18 19]\n",
      " [20 21 22 23 24 25 26 27 28 29 30 31 32 33 34 35 36 37 38 39]\n",
      " [40 41 42 43 44 45 46 47 48 49 50 51 52 53 54 55 56 57 58 59]\n",
      " [60 61 62 63 64 65 66 67 68 69 70 71 72 73 74 75 76 77 78 79]\n",
      " [80 81 82 83 84 85 86 87 88 89 90 91 92 93 94 95 96 97 98 99]]\n",
      "\n",
      "[[[ 0  1  2  3  4  5  6  7  8  9]\n",
      "  [10 11 12 13 14 15 16 17 18 19]]\n",
      "\n",
      " [[20 21 22 23 24 25 26 27 28 29]\n",
      "  [30 31 32 33 34 35 36 37 38 39]]\n",
      "\n",
      " [[40 41 42 43 44 45 46 47 48 49]\n",
      "  [50 51 52 53 54 55 56 57 58 59]]\n",
      "\n",
      " [[60 61 62 63 64 65 66 67 68 69]\n",
      "  [70 71 72 73 74 75 76 77 78 79]]\n",
      "\n",
      " [[80 81 82 83 84 85 86 87 88 89]\n",
      "  [90 91 92 93 94 95 96 97 98 99]]]\n"
     ]
    }
   ],
   "source": [
    "import numpy as np\n",
    "\n",
    "m = np.arange(100)\n",
    "\n",
    "print(m.reshape((5, 20)), end='\\n\\n') # двумерный вариант\n",
    "print(m.reshape((5, 2, 10))) # трёхмерный вариант"
   ]
  },
  {
   "cell_type": "markdown",
   "id": "87c01cf2",
   "metadata": {},
   "source": [
    "### Задачи урока 2.7"
   ]
  },
  {
   "cell_type": "markdown",
   "id": "272aa25b",
   "metadata": {},
   "source": [
    "1. На вход функции подается двумерный массив, доработайте функцию так чтобы она вернула маску по которой потом можно будет выбрать значения меньше 20 или больше 40.\n",
    "\n",
    "![1](https://ucarecdn.com/49ccd304-d7b8-4203-9457-1cf4338b4056/)"
   ]
  },
  {
   "cell_type": "code",
   "execution_count": 87,
   "id": "9faa089a",
   "metadata": {},
   "outputs": [],
   "source": [
    "import numpy as np\n",
    "\n",
    "def solution(arr):\n",
    "    mask = (arr < 20) | (arr > 40)\n",
    "    return mask"
   ]
  },
  {
   "cell_type": "markdown",
   "id": "41c0e10f",
   "metadata": {},
   "source": [
    "2. На вход функции подается двумерный массив, доработайте функцию так чтобы она вернула значения, которые лежат на главной диагонали. Значения должны быть в одномерном массиве (Для особых знатоков: функцией diag не пользоваться!). Работайте с прихотливой индексацией.\n",
    "\n",
    "![1](https://ucarecdn.com/62de17b8-9f2b-41e1-964e-736642e80acc/)"
   ]
  },
  {
   "cell_type": "code",
   "execution_count": 74,
   "id": "939a0bf0",
   "metadata": {},
   "outputs": [],
   "source": [
    "import numpy as np\n",
    "\n",
    "def solution(arr):\n",
    "    arr = arr[range(5), range(5)]\n",
    "    return arr"
   ]
  },
  {
   "cell_type": "markdown",
   "id": "dbb4837e",
   "metadata": {},
   "source": [
    "3. На вход функции подается двумерный массив, доработайте функцию так чтобы она вернула значения, которые лежат на побочной диагонали. Значения должны быть в одномерном массиве array([1, 32, 84, 19, 20]) (Для особых знатоков: функцией diag не пользоваться!). Работайте с прихотливой индексацией.\n",
    "\n",
    "![1](https://ucarecdn.com/3bb5b4e9-f8bf-4230-be95-304d24c5ae1f/)"
   ]
  },
  {
   "cell_type": "code",
   "execution_count": 86,
   "id": "e44792bf",
   "metadata": {},
   "outputs": [],
   "source": [
    "import numpy as np\n",
    "\n",
    "def solution(arr):\n",
    "    arr = arr[range(4, -1, -1), range(5)]\n",
    "    return arr"
   ]
  }
 ],
 "metadata": {
  "kernelspec": {
   "display_name": "Python 3 (ipykernel)",
   "language": "python",
   "name": "python3"
  },
  "language_info": {
   "codemirror_mode": {
    "name": "ipython",
    "version": 3
   },
   "file_extension": ".py",
   "mimetype": "text/x-python",
   "name": "python",
   "nbconvert_exporter": "python",
   "pygments_lexer": "ipython3",
   "version": "3.10.4"
  }
 },
 "nbformat": 4,
 "nbformat_minor": 5
}
