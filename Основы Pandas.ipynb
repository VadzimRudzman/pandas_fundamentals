{
 "cells": [
  {
   "cell_type": "markdown",
   "id": "3f3a2600",
   "metadata": {},
   "source": [
    "## 3.1 Первое знакомство с Series"
   ]
  },
  {
   "cell_type": "code",
   "execution_count": 8,
   "id": "87364d08",
   "metadata": {},
   "outputs": [],
   "source": [
    "import pandas as pd # импорт библиотеки"
   ]
  },
  {
   "cell_type": "markdown",
   "id": "9e44945b",
   "metadata": {},
   "source": [
    "Numpy хорошо работает с числовыми данными - для этого он и создавался. Но на практике таблицы содержат не только числа, но и текст. Поэтому пришлось создавать другие контейнеры данных, которые хорошо будут работать с другими типами."
   ]
  },
  {
   "cell_type": "markdown",
   "id": "3f35b88d",
   "metadata": {},
   "source": [
    "**Series (серия или по простому ряд значений)** - контейнер в библиотеке Pandas, который создан для хранения одномерного массива данных. В нее нельзя погрузить матрицу или трехмерный массив. Серия может унести только одномерный массив. Именно серия будет хранить содержимое наших столбцов и строк поэтому давайте посмотрим на нее подробнее. Сейчас запомните, что серия это фундамент будущей Pandas таблицы!"
   ]
  },
  {
   "cell_type": "markdown",
   "id": "261ad515",
   "metadata": {},
   "source": [
    "Серия состоит из двух очень важных компонентов:\n",
    "\n",
    "1) хранилище наших значений (именно эти значения мы видим в столбце/строке)\n",
    "\n",
    "2) хранилище индексов. Индексы могут быть как числовые так и строковые. Обращаясь к серии через индекс мы просим серию вернуть из хранилища значений элемент, который связан с индексом. Очень похоже на словарь! \n",
    "\n",
    "Индексы и значения жестко связаны между собой."
   ]
  },
  {
   "cell_type": "markdown",
   "id": "e3436442",
   "metadata": {},
   "source": [
    "Чтобы создать серию вам надо обратиться к библиотеке pandas и у неё спросить серию: **pandas.Series()**. В скобки передайте одномерный список или массив. Кстати, словарь тоже сработает! Pandas примет ваш массив/словарь и создаст на их основе серию.\n",
    "\n",
    "При попытке распечатать на экране серию, питон печатает две колонки: левая - индексы, правая - наши значения.\n",
    "\n",
    "Через свойство **.index** вы получите одномерный numpy массив индексов\n",
    "\n",
    "Через свойство **.values** вы получите одномерный numpy массив с нашими значениями"
   ]
  },
  {
   "cell_type": "code",
   "execution_count": 16,
   "id": "2a7d516b",
   "metadata": {},
   "outputs": [
    {
     "name": "stdout",
     "output_type": "stream",
     "text": [
      "0     1\n",
      "1     3\n",
      "2    -5\n",
      "3    12\n",
      "dtype: int64\n",
      "\n",
      "[ 1  3 -5 12]\n",
      "\n",
      "RangeIndex(start=0, stop=4, step=1)\n"
     ]
    }
   ],
   "source": [
    "import pandas as pd\n",
    "\n",
    "s1 = pd.Series([1, 3, -5, 12])\n",
    "\n",
    "print(s1, end='\\n\\n') # серия\n",
    "print(s1.values, end='\\n\\n') # значения\n",
    "print(s1.index) # индексы"
   ]
  },
  {
   "cell_type": "markdown",
   "id": "d1d6cfeb",
   "metadata": {},
   "source": [
    "Если при создании серии вы не задаёте индексы, то серия автоматически создает их для себя. Вы можете задать свои индексы, для этого в конструктор серии передайте значения, которые надо хранить в серии и индексы для них."
   ]
  },
  {
   "cell_type": "code",
   "execution_count": 18,
   "id": "19264f0e",
   "metadata": {},
   "outputs": [
    {
     "name": "stdout",
     "output_type": "stream",
     "text": [
      "a     1\n",
      "b     3\n",
      "c    -5\n",
      "d    12\n",
      "dtype: int64\n",
      "\n",
      "[ 1  3 -5 12]\n",
      "\n",
      "Index(['a', 'b', 'c', 'd'], dtype='object')\n"
     ]
    }
   ],
   "source": [
    "import pandas as pd\n",
    "\n",
    "s2 = pd.Series([1, 3, -5, 12], index=['a', 'b', 'c', 'd'])\n",
    "\n",
    "print(s2, end='\\n\\n') # серия\n",
    "print(s2.values, end='\\n\\n') # значения\n",
    "print(s2.index) # индексы"
   ]
  },
  {
   "cell_type": "markdown",
   "id": "10bf45b7",
   "metadata": {},
   "source": [
    "Для доступа к элементу серии в скобках укажите индекс, который связан с этим элементом. Если индекс числовой, то в квадратных скобках укажите число: **s[1]**. Если индексы строковые, то укажите в кавычках: **s['c']** (можно одинарные, можно двойные)."
   ]
  },
  {
   "cell_type": "code",
   "execution_count": 22,
   "id": "7787a890",
   "metadata": {},
   "outputs": [
    {
     "name": "stdout",
     "output_type": "stream",
     "text": [
      "-5\n",
      "12\n"
     ]
    }
   ],
   "source": [
    "import pandas as pd\n",
    "\n",
    "s3 = pd.Series([1, 3, -5, 12], index=['a', 'b', 'c', 'd'])\n",
    "\n",
    "print(s3['c']) # доступ по строковому индексу\n",
    "print(s3[3]) # доступ по числовому индексу"
   ]
  },
  {
   "cell_type": "markdown",
   "id": "037876f9",
   "metadata": {},
   "source": [
    "Вы можете создавать серию как на основе списка, так и на основе numpy массива - результат будет одинаковый). Для получения доступа к нескольким элементам серии передайте список индексов: **s[['a', 'b', 'c']]**"
   ]
  },
  {
   "cell_type": "code",
   "execution_count": 28,
   "id": "0f554d36",
   "metadata": {},
   "outputs": [
    {
     "name": "stdout",
     "output_type": "stream",
     "text": [
      "b    100\n",
      "a      1\n",
      "c     -5\n",
      "dtype: int64\n"
     ]
    }
   ],
   "source": [
    "import pandas as pd\n",
    "\n",
    "s4 = pd.Series([1, 3, -5, 12], index=['a', 'b', 'c', 'd'])\n",
    "\n",
    "s4['b'] = 100 # замена значения в исходной серии\n",
    "\n",
    "print(s4[['b', 'a', 'c']]) # доступ по строковому индексу к нескольким значениям"
   ]
  },
  {
   "cell_type": "markdown",
   "id": "72d915dc",
   "metadata": {},
   "source": [
    "## Задачи урока 3.1"
   ]
  },
  {
   "cell_type": "markdown",
   "id": "08a87d95",
   "metadata": {},
   "source": [
    "1. Создайте серию, которая будет содержать элементы 1, 2, 3, 4, 5. Функция должна вернуть серию."
   ]
  },
  {
   "cell_type": "code",
   "execution_count": null,
   "id": "3a6b525f",
   "metadata": {},
   "outputs": [],
   "source": [
    "import pandas as pd\n",
    "\n",
    "def solution():\n",
    "    return pd.Series(range(1, 6))"
   ]
  },
  {
   "cell_type": "markdown",
   "id": "9af7d6fa",
   "metadata": {},
   "source": [
    "2. На вход функции подаётся серия. Доработайте функцию так чтобы она возвращала индексы серии"
   ]
  },
  {
   "cell_type": "code",
   "execution_count": null,
   "id": "19c4d9f3",
   "metadata": {},
   "outputs": [],
   "source": [
    "import pandas as pd\n",
    "\n",
    "def solution(s1):\n",
    "    return s1.index"
   ]
  },
  {
   "cell_type": "markdown",
   "id": "53638184",
   "metadata": {},
   "source": [
    "3. Создайте серию, которая будет содержать элементы 1, 2, 3, 4, 5 и индексы a, b, c, d, e. Функция должна вернуть серию."
   ]
  },
  {
   "cell_type": "code",
   "execution_count": 31,
   "id": "2ea44658",
   "metadata": {},
   "outputs": [],
   "source": [
    "import pandas as pd\n",
    "import string\n",
    "\n",
    "def solution():\n",
    "    return pd.Series(range(1, 6), list(string.ascii_lowercase[:5])"
   ]
  },
  {
   "cell_type": "markdown",
   "id": "36d8a4ff",
   "metadata": {},
   "source": [
    "4. На вход функции подаётся серия. Вытяните из нее элементы с индексами a и с. Функция должна вернуть серию."
   ]
  },
  {
   "cell_type": "code",
   "execution_count": null,
   "id": "93d43262",
   "metadata": {},
   "outputs": [],
   "source": [
    "import pandas as pd\n",
    "\n",
    "def solution(s1):\n",
    "    return s1[['a', 'c']]"
   ]
  },
  {
   "cell_type": "markdown",
   "id": "9d60089d",
   "metadata": {},
   "source": [
    "5. На вход функции подаётся серия. Замените элемент по индексу c на 0. Функция должна вернуть серию с измененным элементом по индексу с."
   ]
  },
  {
   "cell_type": "code",
   "execution_count": null,
   "id": "603e1c00",
   "metadata": {},
   "outputs": [],
   "source": [
    "import pandas as pd\n",
    "\n",
    "def solution(s1):\n",
    "    s1['c'] = 0\n",
    "    return s1"
   ]
  },
  {
   "cell_type": "markdown",
   "id": "d527e904",
   "metadata": {},
   "source": [
    "6. На вход функции подаётся серия. Доработайте функцию так чтобы она возвращала numpy массив, который содержит значения серии"
   ]
  },
  {
   "cell_type": "code",
   "execution_count": null,
   "id": "74ef8a40",
   "metadata": {},
   "outputs": [],
   "source": [
    "import pandas as pd\n",
    "import numpy as np\n",
    "\n",
    "def solution(s1):\n",
    "    return np.array(s1.values)"
   ]
  },
  {
   "cell_type": "markdown",
   "id": "f49b3572",
   "metadata": {},
   "source": [
    "## 3.3 Поподробнее про серии: идексы, сложение, проверка на NaN"
   ]
  },
  {
   "cell_type": "markdown",
   "id": "bd67a818",
   "metadata": {},
   "source": [
    "1) При фильтрации серии индексы остаются, а не пересоздаются.  \n",
    "2) Арифметические операции не распространяются на индексы"
   ]
  },
  {
   "cell_type": "code",
   "execution_count": 50,
   "id": "86ce869d",
   "metadata": {},
   "outputs": [
    {
     "name": "stdout",
     "output_type": "stream",
     "text": [
      "a    101\n",
      "b    103\n",
      "d    112\n",
      "dtype: int64\n"
     ]
    }
   ],
   "source": [
    "import pandas as pd\n",
    "\n",
    "s1 = pd.Series([1, 3, -5, 12], index=['a', 'b', 'c', 'd'])\n",
    "s1 = s1 + 100\n",
    "\n",
    "print(s1[s1 > 100])"
   ]
  },
  {
   "cell_type": "markdown",
   "id": "aff47873",
   "metadata": {},
   "source": [
    "Серию можно создавать не только на основе списка. Еще один распространённый сценарий это создание серии из словаря. В этом случае ключи словаря перейдут в индексы серии."
   ]
  },
  {
   "cell_type": "code",
   "execution_count": 56,
   "id": "4d200c72",
   "metadata": {},
   "outputs": [
    {
     "name": "stdout",
     "output_type": "stream",
     "text": [
      "Moscow      100\n",
      "Murmansk    200\n",
      "Ufa         300\n",
      "dtype: int64\n",
      "\n",
      "True\n",
      "\n",
      "Moscow      200\n",
      "Murmansk    400\n",
      "Ufa         600\n",
      "dtype: int64\n"
     ]
    }
   ],
   "source": [
    "import pandas as pd\n",
    "\n",
    "d = {'Moscow': 100, 'Murmansk': 200, 'Ufa': 300}\n",
    "s2 = pd.Series(d)\n",
    "\n",
    "print(s2, end='\\n\\n')\n",
    "print('Moscow' in s2, end='\\n\\n')\n",
    "print(s2 + s2)"
   ]
  },
  {
   "cell_type": "markdown",
   "id": "c3b0c319",
   "metadata": {},
   "source": [
    "1) Вы можете задавать индексы на этапе создания серии  \n",
    "2) Не обязательно чтобы индексы шли по порядку  \n",
    "3) Если вы создаёте серию на основе словаря и указали индекс, которого не существует в словаре, то pandas добавит в серию такой индекс, но значение будет равно NaN (пропуск)  \n",
    "4) Если вы создаете серию на основе словаря и не передали все индексы, то никакой ошибки не будет. Пандас добавит в серию только те значения, которые вы указали в индексе"
   ]
  },
  {
   "cell_type": "code",
   "execution_count": 59,
   "id": "27b4addd",
   "metadata": {},
   "outputs": [
    {
     "name": "stdout",
     "output_type": "stream",
     "text": [
      "Murmansk       200.0\n",
      "Moscow         100.0\n",
      "Vladivostok      NaN\n",
      "Ufa            300.0\n",
      "dtype: float64\n"
     ]
    }
   ],
   "source": [
    "import pandas as pd\n",
    "\n",
    "d = {'Moscow': 100, 'Murmansk': 200, 'Ufa': 300}\n",
    "s3 = pd.Series(d, index=['Murmansk', 'Moscow', 'Vladivostok', 'Ufa']) # задаём собственный порядок отображения\n",
    "\n",
    "print(s3)"
   ]
  },
  {
   "cell_type": "markdown",
   "id": "827813e4",
   "metadata": {},
   "source": [
    "Чтобы проверить серию на NaN, можно использовать функцию **isnull**. Существует обратная функции **notnull**"
   ]
  },
  {
   "cell_type": "code",
   "execution_count": 63,
   "id": "3241f149",
   "metadata": {},
   "outputs": [
    {
     "name": "stdout",
     "output_type": "stream",
     "text": [
      "Murmansk       False\n",
      "Moscow         False\n",
      "Vladivostok     True\n",
      "Ufa            False\n",
      "dtype: bool\n",
      "\n",
      "Murmansk        True\n",
      "Moscow          True\n",
      "Vladivostok    False\n",
      "Ufa             True\n",
      "dtype: bool\n"
     ]
    }
   ],
   "source": [
    "import pandas as pd\n",
    "\n",
    "d = {'Moscow': 100, 'Murmansk': 200, 'Ufa': 300}\n",
    "s3 = pd.Series(d, index=['Murmansk', 'Moscow', 'Vladivostok', 'Ufa']) # задаём собственный порядок отображения\n",
    "\n",
    "print(s3.isnull(), end='\\n\\n')\n",
    "print(s3.notnull())"
   ]
  },
  {
   "cell_type": "markdown",
   "id": "2ff702cb",
   "metadata": {},
   "source": [
    "**Важно запомнить, что при сложении серий:**\n",
    "\n",
    "1) не обязательно чтобы они были одинаковой длины  \n",
    "2) сложение будет происходить по индексам  \n",
    "3) если в одной из серий есть индекс, которого нет в другой серии, то индекс добавляется в результирующую серию, но значение присваивается NaN  "
   ]
  },
  {
   "cell_type": "code",
   "execution_count": 65,
   "id": "9c6b73e7",
   "metadata": {},
   "outputs": [
    {
     "name": "stdout",
     "output_type": "stream",
     "text": [
      "Moscow         600.0\n",
      "Murmansk       400.0\n",
      "Ufa              NaN\n",
      "Vladivostok      NaN\n",
      "dtype: float64\n"
     ]
    }
   ],
   "source": [
    "import pandas as pd\n",
    "\n",
    "s1 = pd.Series({'Moscow': 100, 'Murmansk': 200, 'Ufa': 300})\n",
    "s2 = pd.Series({'Moscow': 500, 'Murmansk': 200, 'Vladivostok': 300})\n",
    "\n",
    "print(s1 + s2)"
   ]
  },
  {
   "cell_type": "markdown",
   "id": "e9d66f30",
   "metadata": {},
   "source": [
    "В случае если необходимо изменить индексы у уже существующей серии, то аглоритм таков:"
   ]
  },
  {
   "cell_type": "code",
   "execution_count": 68,
   "id": "9e8e6f49",
   "metadata": {},
   "outputs": [
    {
     "name": "stdout",
     "output_type": "stream",
     "text": [
      "0     5\n",
      "1    10\n",
      "2    20\n",
      "3    30\n",
      "4    40\n",
      "5    50\n",
      "dtype: int64\n",
      "\n",
      "a     5\n",
      "b    10\n",
      "c    20\n",
      "d    30\n",
      "e    40\n",
      "f    50\n",
      "dtype: int64\n"
     ]
    }
   ],
   "source": [
    "import pandas as pd\n",
    "\n",
    "s = pd.Series([5, 10, 20, 30 , 40, 50])\n",
    "\n",
    "print(s, end='\\n\\n')\n",
    "\n",
    "s.index = ['a', 'b', 'c', 'd', 'e', 'f'] # меняем индексы\n",
    "\n",
    "print(s)"
   ]
  },
  {
   "cell_type": "markdown",
   "id": "c699638f",
   "metadata": {},
   "source": [
    "У каждой серии есть своё имя. Задать или прочитать имя можно через свойство **name**. Имя используется при работе с хранилищем серий - DataFrame (про него смотрите дальше, но сначала тест)."
   ]
  },
  {
   "cell_type": "code",
   "execution_count": 69,
   "id": "94f6fc3f",
   "metadata": {},
   "outputs": [
    {
     "name": "stdout",
     "output_type": "stream",
     "text": [
      "0     5\n",
      "1    10\n",
      "2    20\n",
      "3    30\n",
      "4    40\n",
      "5    50\n",
      "Name: values, dtype: int64\n"
     ]
    }
   ],
   "source": [
    "import pandas as pd\n",
    "\n",
    "s = pd.Series([5, 10, 20, 30 , 40, 50])\n",
    "\n",
    "s.name = 'values'\n",
    "print(s)"
   ]
  },
  {
   "cell_type": "markdown",
   "id": "b702c25f",
   "metadata": {},
   "source": [
    "## Задачи урока 3.3"
   ]
  },
  {
   "cell_type": "markdown",
   "id": "e1b05089",
   "metadata": {},
   "source": [
    "1. На вход функции подаётся серия из 7 значений. Известно, что она хранит количество посещенных сайтов некоторого пользователя за первую неделю:\n",
    "\n",
    "![1](https://ucarecdn.com/624e853b-0065-4f4d-977c-5173040f0168/)\n",
    "\n",
    "Известно, что за вторую неделю пользователь посетил в два раза больше сайтов  \n",
    "![2](https://ucarecdn.com/1985976f-ed26-4bf9-bdb8-6ce2fb1a93c9/)\n",
    "\n",
    "Определите сколько сайтов посетил пользователь в сумме за две недели в разрезе по дням недели. Функция должна вернуть только те дни, где количество посещенных сайтов больше 20:\n",
    "\n",
    "![3](https://ucarecdn.com/c89026ec-0080-4671-a61e-2e47f4cf314a/)"
   ]
  },
  {
   "cell_type": "code",
   "execution_count": null,
   "id": "0fef7172",
   "metadata": {},
   "outputs": [],
   "source": [
    "import pandas as pd\n",
    "\n",
    "def solution(ser1):\n",
    "    result = ser1 + ser1 * 2\n",
    "    return result[result > 20]"
   ]
  },
  {
   "cell_type": "markdown",
   "id": "e27048dd",
   "metadata": {},
   "source": [
    "2. На вход поступает некоторая серия. Проверьте, есть ли в ней индекс 'Пятница'. Верните True если есть иначе False."
   ]
  },
  {
   "cell_type": "code",
   "execution_count": null,
   "id": "e0f40a95",
   "metadata": {},
   "outputs": [],
   "source": [
    "import pandas as pd\n",
    "\n",
    "def solution(ser1):\n",
    "    return 'Пятница' in ser1"
   ]
  },
  {
   "cell_type": "markdown",
   "id": "3331fbf4",
   "metadata": {},
   "source": [
    "## 3.4 Практика: тонкости при работе с сериями"
   ]
  },
  {
   "cell_type": "markdown",
   "id": "9c712e9d",
   "metadata": {},
   "source": [
    "1. На вход функции подаётся словарь. Постройте из него серию и умножьте каждое значение серии на 2. Функция должна вернуть серию. "
   ]
  },
  {
   "cell_type": "code",
   "execution_count": null,
   "id": "7f72611f",
   "metadata": {},
   "outputs": [],
   "source": [
    "import pandas as pd\n",
    "\n",
    "def solution(d):\n",
    "    return pd.Series(d) * 2"
   ]
  },
  {
   "cell_type": "markdown",
   "id": "2c6ab629",
   "metadata": {},
   "source": [
    "2. На вход функции подаётся словарь. Постройте из него серию так чтобы индексы были расположены в порядке: e, a, c, b, d"
   ]
  },
  {
   "cell_type": "code",
   "execution_count": null,
   "id": "d7e005f3",
   "metadata": {},
   "outputs": [],
   "source": [
    "import pandas as pd\n",
    "\n",
    "def solution(d):\n",
    "    return pd.Series(d, ['e', 'a', 'c', 'b', 'd'])"
   ]
  },
  {
   "cell_type": "markdown",
   "id": "af96e598",
   "metadata": {},
   "source": [
    "3. На вход функции подаётся словарь. Постройте из него серию и добавьте еще один индекс g. Индексу g присвойте значение 10. Функция должна вернуть серию."
   ]
  },
  {
   "cell_type": "code",
   "execution_count": null,
   "id": "0bea5474",
   "metadata": {},
   "outputs": [],
   "source": [
    "import pandas as pd\n",
    "\n",
    "def solution(d):\n",
    "    s = pd.Series(d)\n",
    "    s['g'] = 10\n",
    "    return s"
   ]
  },
  {
   "cell_type": "markdown",
   "id": "db1d36f8",
   "metadata": {},
   "source": [
    "4. Проверьте, все ли значения серии заполнены? Верните одно значение False - если не все; True - если все заполнены"
   ]
  },
  {
   "cell_type": "code",
   "execution_count": null,
   "id": "b431c7c6",
   "metadata": {},
   "outputs": [],
   "source": [
    "import pandas as pd\n",
    "\n",
    "def solution(s1):\n",
    "    return all(s1.isnull())"
   ]
  },
  {
   "cell_type": "markdown",
   "id": "f624c3e0",
   "metadata": {},
   "source": [
    "5. На вход вам подаётся серия. Разверните индексы в обратном направлении:\n",
    "\n",
    "![1](https://ucarecdn.com/618e5198-6834-43fd-b4c5-c8b8eaad97c0/)"
   ]
  },
  {
   "cell_type": "code",
   "execution_count": 75,
   "id": "82c821a8",
   "metadata": {},
   "outputs": [
    {
     "data": {
      "text/plain": [
       "2    6\n",
       "1    5\n",
       "0    4\n",
       "dtype: int64"
      ]
     },
     "execution_count": 75,
     "metadata": {},
     "output_type": "execute_result"
    }
   ],
   "source": [
    "import pandas as pd\n",
    "\n",
    "def solution(s1):\n",
    "    result = pd.Series(s1.values, s1.index[::-1])\n",
    "    return result\n",
    "\n",
    "s1 = pd.Series([6, 5, 4])\n",
    "solution(s1)"
   ]
  },
  {
   "cell_type": "markdown",
   "id": "c93c2a6a",
   "metadata": {},
   "source": [
    "## 3.5 Первое знакомство с DataFrame"
   ]
  },
  {
   "cell_type": "markdown",
   "id": "25f8e62e",
   "metadata": {},
   "source": [
    "Для хранения серий разработчики Pandas не стали брать словарь, а решили создать свой контейнер - DataFrame (датафрейм). Чтобы датафрейм легко ориентировался в сериях, их наделили свойством name. "
   ]
  },
  {
   "cell_type": "markdown",
   "id": "e9b11caf",
   "metadata": {},
   "source": [
    "У серии индексы не уникальные! Они могут повторяться."
   ]
  },
  {
   "cell_type": "code",
   "execution_count": 6,
   "id": "9fdb10aa",
   "metadata": {},
   "outputs": [
    {
     "name": "stdout",
     "output_type": "stream",
     "text": [
      "a    1\n",
      "b    2\n",
      "a    3\n",
      "dtype: int64\n",
      "\n",
      "a    1\n",
      "a    3\n",
      "dtype: int64\n"
     ]
    }
   ],
   "source": [
    "import pandas as pd\n",
    "\n",
    "s = pd.Series([1, 2, 3], index=['a', 'b', 'a'])\n",
    "\n",
    "print(s, end='\\n\\n')\n",
    "print(s['a'])"
   ]
  },
  {
   "cell_type": "markdown",
   "id": "4c9ba019",
   "metadata": {},
   "source": [
    "Датафреймы очень хорошо создаются на основе словаря, который состоит из ключей и значений в качестве вложенных списков. Ключи словаря в датафрейме станут названиями столбцов, а вложенные списки - колонками."
   ]
  },
  {
   "cell_type": "code",
   "execution_count": 7,
   "id": "6f51ad2e",
   "metadata": {},
   "outputs": [
    {
     "name": "stdout",
     "output_type": "stream",
     "text": [
      "     city  year  visits\n",
      "0  Moscow  2022     500\n",
      "1  Moscow  2021    2000\n",
      "2  Moscow  2020    1500\n",
      "3   Kazan  2022     100\n",
      "4   Kazan  2021     230\n",
      "5   Kazan  2020     200\n"
     ]
    }
   ],
   "source": [
    "import pandas as pd\n",
    "\n",
    "data = { 'city': ['Moscow', 'Moscow', 'Moscow', 'Kazan', 'Kazan', 'Kazan'],\n",
    "        'year':  [2022,      2021,     2020,     2022,    2021,    2020],\n",
    "        'visits': [500,      2000,     1500,     100,     230,     200]}\n",
    "\n",
    "df = pd.DataFrame(data)\n",
    "\n",
    "print(df)"
   ]
  },
  {
   "cell_type": "code",
   "execution_count": 9,
   "id": "ba76eff4",
   "metadata": {},
   "outputs": [
    {
     "name": "stdout",
     "output_type": "stream",
     "text": [
      "     city  year country\n",
      "0  Moscow  2022     NaN\n",
      "1  Moscow  2021     NaN\n",
      "2  Moscow  2020     NaN\n",
      "3   Kazan  2022     NaN\n",
      "4   Kazan  2021     NaN\n",
      "5   Kazan  2020     NaN\n"
     ]
    }
   ],
   "source": [
    "import pandas as pd\n",
    "\n",
    "data = { 'city': ['Moscow', 'Moscow', 'Moscow', 'Kazan', 'Kazan', 'Kazan'],\n",
    "        'year':  [2022,      2021,     2020,     2022,    2021,    2020],\n",
    "        'visits': [500,      2000,     1500,     100,     230,     200]}\n",
    "\n",
    "df = pd.DataFrame(data, columns=['city', 'year', 'country']) # можно выбрать любое кол-во колонок, или создать новую\n",
    "\n",
    "print(df)"
   ]
  },
  {
   "cell_type": "markdown",
   "id": "dc602c26",
   "metadata": {},
   "source": [
    "При создании датафрейма вы можете задать свои собственные индексы (как и с серией)"
   ]
  },
  {
   "cell_type": "code",
   "execution_count": 17,
   "id": "943992e7",
   "metadata": {},
   "outputs": [
    {
     "name": "stdout",
     "output_type": "stream",
     "text": [
      "     city  year\n",
      "a  Moscow  2022\n",
      "b  Moscow  2021\n",
      "c  Moscow  2020\n",
      "d   Kazan  2022\n",
      "e   Kazan  2021\n",
      "f   Kazan  2020\n"
     ]
    }
   ],
   "source": [
    "import pandas as pd\n",
    "\n",
    "data = { 'city': ['Moscow', 'Moscow', 'Moscow', 'Kazan', 'Kazan', 'Kazan'],\n",
    "        'year':  [2022,      2021,     2020,     2022,    2021,    2020],\n",
    "        'visits': [500,      2000,     1500,     100,     230,     200]}\n",
    "\n",
    "# можно задать любой индекс, главное чтобы кол-во совпадало\n",
    "df = pd.DataFrame(data, index=['a', 'b', 'c', 'd','e', 'f'], columns=['city', 'year'])\n",
    "\n",
    "print(df)"
   ]
  },
  {
   "cell_type": "markdown",
   "id": "09109789",
   "metadata": {},
   "source": [
    "Доступ к целой колонке мы можем получить указав название колонки в квадратных скобках: **df['название колонки']**. Этот способ разрешает вытягивать колонки с пробелами и спец. символами. Менее гибкий способ это обращение к колонки через **атрибут(свойство)** датафрейма"
   ]
  },
  {
   "cell_type": "code",
   "execution_count": 24,
   "id": "abbae441",
   "metadata": {},
   "outputs": [
    {
     "name": "stdout",
     "output_type": "stream",
     "text": [
      "a    Moscow\n",
      "b    Moscow\n",
      "c    Moscow\n",
      "d     Kazan\n",
      "e     Kazan\n",
      "f     Kazan\n",
      "Name: city, dtype: object\n",
      "\n",
      "a    Moscow\n",
      "b    Moscow\n",
      "c    Moscow\n",
      "d     Kazan\n",
      "e     Kazan\n",
      "f     Kazan\n",
      "Name: city, dtype: object\n",
      "\n"
     ]
    }
   ],
   "source": [
    "import pandas as pd\n",
    "\n",
    "data = { 'city': ['Moscow', 'Moscow', 'Moscow', 'Kazan', 'Kazan', 'Kazan'],\n",
    "        'year':  [2022,      2021,     2020,     2022,    2021,    2020],\n",
    "        'visits': [500,      2000,     1500,     100,     230,     200]}\n",
    "\n",
    "df = pd.DataFrame(data, index=['a', 'b', 'c', 'd','e', 'f'], columns=['city', 'year'])\n",
    "\n",
    "print(df['city'], end='\\n\\n') # доступ по первому способу\n",
    "print(df.city, end='\\n\\n') # доступ по второму способу"
   ]
  },
  {
   "cell_type": "code",
   "execution_count": 27,
   "id": "f4c1e07e",
   "metadata": {},
   "outputs": [
    {
     "name": "stdout",
     "output_type": "stream",
     "text": [
      "city    Moscow\n",
      "year      2020\n",
      "Name: c, dtype: object\n"
     ]
    }
   ],
   "source": [
    "print(df.loc['c']) # еще один способ вытянутть данные в виде серии"
   ]
  },
  {
   "cell_type": "markdown",
   "id": "0c864977",
   "metadata": {},
   "source": [
    "Возможно у вас был вопрос: а как создать новую колонку? Все очень просто! В квадратных скобках указываем название новой колонки и передаем либо одно значение либо массив.\n",
    "\n",
    "Если передаёте массив, то помните, что количество элементов должно быть равно количеству строк в датафрейме. Иначе датафрейм не сможет положить к себе одномерный массив."
   ]
  },
  {
   "cell_type": "code",
   "execution_count": 30,
   "id": "9c12052d",
   "metadata": {},
   "outputs": [
    {
     "name": "stdout",
     "output_type": "stream",
     "text": [
      "     city  year  visits  new_visits\n",
      "a  Moscow  2022       0         100\n",
      "b  Moscow  2021       0         200\n",
      "c  Moscow  2020       0         300\n",
      "d   Kazan  2022       0         400\n",
      "e   Kazan  2021       0         500\n",
      "f   Kazan  2020       0         600\n"
     ]
    }
   ],
   "source": [
    "import pandas as pd\n",
    "\n",
    "data = { 'city': ['Moscow', 'Moscow', 'Moscow', 'Kazan', 'Kazan', 'Kazan'],\n",
    "        'year':  [2022,      2021,     2020,     2022,    2021,    2020],\n",
    "        'visits': [500,      2000,     1500,     100,     230,     200]}\n",
    "\n",
    "df = pd.DataFrame(data, index=['a', 'b', 'c', 'd','e', 'f'])\n",
    "df['visits'] = 0\n",
    "df['new_visits'] = [100, 200, 300, 400, 500, 600]\n",
    "\n",
    "print(df)"
   ]
  },
  {
   "cell_type": "markdown",
   "id": "44edc2e7",
   "metadata": {},
   "source": [
    "Кстати, можно добавить и серию! Только не забывайте про индексы - они должны совпадать, иначе датафрейм ничего не добавит)"
   ]
  },
  {
   "cell_type": "code",
   "execution_count": 34,
   "id": "d56ce9b3",
   "metadata": {},
   "outputs": [
    {
     "name": "stdout",
     "output_type": "stream",
     "text": [
      "     city  year  visits  new_data\n",
      "a  Moscow  2022     500       1.0\n",
      "b  Moscow  2021    2000       NaN\n",
      "c  Moscow  2020    1500       NaN\n",
      "d   Kazan  2022     100      10.0\n",
      "e   Kazan  2021     230       NaN\n",
      "f   Kazan  2020     200      20.0\n"
     ]
    }
   ],
   "source": [
    "import pandas as pd\n",
    "\n",
    "data = { 'city': ['Moscow', 'Moscow', 'Moscow', 'Kazan', 'Kazan', 'Kazan'],\n",
    "        'year':  [2022,      2021,     2020,     2022,    2021,    2020],\n",
    "        'visits': [500,      2000,     1500,     100,     230,     200]}\n",
    "\n",
    "df = pd.DataFrame(data, index=['a', 'b', 'c', 'd','e', 'f'])\n",
    "s = pd.Series([1, 10, 20], index=['a', 'd', 'f'])\n",
    "\n",
    "df['new_data'] = s\n",
    "\n",
    "print(df)"
   ]
  },
  {
   "cell_type": "markdown",
   "id": "0d0837c9",
   "metadata": {},
   "source": [
    "## Задачи урока 3.5"
   ]
  },
  {
   "cell_type": "markdown",
   "id": "9ea6764c",
   "metadata": {},
   "source": [
    "1. На основе словаря создайте датафрейм с индексами user1, user2, user3, user4"
   ]
  },
  {
   "cell_type": "code",
   "execution_count": 43,
   "id": "d6dd3f88",
   "metadata": {},
   "outputs": [
    {
     "data": {
      "text/html": [
       "<div>\n",
       "<style scoped>\n",
       "    .dataframe tbody tr th:only-of-type {\n",
       "        vertical-align: middle;\n",
       "    }\n",
       "\n",
       "    .dataframe tbody tr th {\n",
       "        vertical-align: top;\n",
       "    }\n",
       "\n",
       "    .dataframe thead th {\n",
       "        text-align: right;\n",
       "    }\n",
       "</style>\n",
       "<table border=\"1\" class=\"dataframe\">\n",
       "  <thead>\n",
       "    <tr style=\"text-align: right;\">\n",
       "      <th></th>\n",
       "      <th>user</th>\n",
       "      <th>time_per_page</th>\n",
       "      <th>pages</th>\n",
       "    </tr>\n",
       "  </thead>\n",
       "  <tbody>\n",
       "    <tr>\n",
       "      <th>user1</th>\n",
       "      <td>Ivan</td>\n",
       "      <td>10</td>\n",
       "      <td>7</td>\n",
       "    </tr>\n",
       "    <tr>\n",
       "      <th>user2</th>\n",
       "      <td>Petr</td>\n",
       "      <td>30</td>\n",
       "      <td>9</td>\n",
       "    </tr>\n",
       "    <tr>\n",
       "      <th>user3</th>\n",
       "      <td>Nikolay</td>\n",
       "      <td>15</td>\n",
       "      <td>12</td>\n",
       "    </tr>\n",
       "    <tr>\n",
       "      <th>user4</th>\n",
       "      <td>Andrey</td>\n",
       "      <td>5</td>\n",
       "      <td>3</td>\n",
       "    </tr>\n",
       "  </tbody>\n",
       "</table>\n",
       "</div>"
      ],
      "text/plain": [
       "          user  time_per_page  pages\n",
       "user1     Ivan             10      7\n",
       "user2     Petr             30      9\n",
       "user3  Nikolay             15     12\n",
       "user4   Andrey              5      3"
      ]
     },
     "execution_count": 43,
     "metadata": {},
     "output_type": "execute_result"
    }
   ],
   "source": [
    "import pandas as pd\n",
    "\n",
    "def solution():\n",
    "    data = {'user' : ['Ivan', 'Petr', 'Nikolay', 'Andrey'], \n",
    "            'time_per_page' :  [10, 30 , 15, 5], \n",
    "             'pages' : [7, 9, 12, 3]}\n",
    "    result = pd.DataFrame(data, index=['user1', 'user2', 'user3', 'user4'])\n",
    "    return result\n",
    "\n",
    "\n",
    "solution()"
   ]
  },
  {
   "cell_type": "markdown",
   "id": "a6d76daf",
   "metadata": {},
   "source": [
    "2. На вход функции подаётся датафрейм с прошлого степа. Добавьте в датафрейм новую колонку с названием total_time, и присвойте ей произведение значений из столбцов time_per_page и pages. Функция должна вернуть итоговый датафрейм."
   ]
  },
  {
   "cell_type": "code",
   "execution_count": 40,
   "id": "dbbe7e87",
   "metadata": {},
   "outputs": [],
   "source": [
    "import pandas as pd\n",
    "\n",
    "def solution(df):\n",
    "    df['total_time'] = df['time_per_page'] * df['pages']\n",
    "    return df"
   ]
  },
  {
   "cell_type": "markdown",
   "id": "ffd61957",
   "metadata": {},
   "source": [
    "3. На вход функции подаётся датафрейм с прошлого степа и серия, которая содержит информацию о балансе пользователя, добавьте в датафрейм столбец balance, который будет хранить информацию о балансе из серии.\n",
    "\n",
    "![1](https://ucarecdn.com/7fa011bf-a2bb-4f9d-a6d3-ebed9dc47bdb/)\n",
    "\n"
   ]
  },
  {
   "cell_type": "code",
   "execution_count": 44,
   "id": "972c33f9",
   "metadata": {},
   "outputs": [],
   "source": [
    "import pandas as pd\n",
    "\n",
    "def solution(df, s1):\n",
    "    df['balance'] = s1\n",
    "    return df"
   ]
  },
  {
   "cell_type": "markdown",
   "id": "27e1a12d",
   "metadata": {},
   "source": [
    "4. На вход функции подаётся датафрейм с прошлого степа. Найдите индексы строк, где баланс не подтянулся. На выходе функция должна вернуть объект Index"
   ]
  },
  {
   "cell_type": "code",
   "execution_count": 64,
   "id": "7c82e935",
   "metadata": {},
   "outputs": [],
   "source": [
    "import pandas as pd\n",
    "\n",
    "def solution(df):\n",
    "    return df[df.balance.isnull()].index"
   ]
  },
  {
   "cell_type": "markdown",
   "id": "a4c8cb2b",
   "metadata": {},
   "source": [
    "5. На вход функции подаётся датафрейм с прошлого степа. Создайте новую колонку c названием is_correct. Проверьте каждое значение из столбца total_time. Если значение меньше 100, то в колонку is_correct вставьте True, а иначе False. Функция должна вернуть датафрейм с внесёнными изменениями."
   ]
  },
  {
   "cell_type": "code",
   "execution_count": 80,
   "id": "4f18eb8e",
   "metadata": {},
   "outputs": [],
   "source": [
    "import pandas as pd\n",
    "\n",
    "def solution(df):\n",
    "    df['is_correct'] = df['total_time'] > 100\n",
    "    return df"
   ]
  },
  {
   "cell_type": "markdown",
   "id": "2863e754",
   "metadata": {},
   "source": [
    "## 3.6 Поподробнее про DataFrame: индексы, вложенные словари, del и .T"
   ]
  },
  {
   "cell_type": "markdown",
   "id": "dec2b338",
   "metadata": {},
   "source": [
    "Если вы добавляете серию к датафрейму, то будьте внимательны с индексами! Если у серии будут индексы, которых нет у датафрейма, то значения из серии просто не добавятся к датафрейму!"
   ]
  },
  {
   "cell_type": "code",
   "execution_count": 8,
   "id": "e210468f",
   "metadata": {},
   "outputs": [
    {
     "name": "stdout",
     "output_type": "stream",
     "text": [
      "     city  year  visits  old_visits\n",
      "0  Moscow  2022       1         1.0\n",
      "1  Moscow  2021       2         NaN\n",
      "2  Moscow  2020       3         NaN\n",
      "3   Kazan  2022       4        10.0\n",
      "4   Kazan  2021       5         NaN\n",
      "5   Kazan  2020       6         NaN\n"
     ]
    }
   ],
   "source": [
    "import pandas as pd\n",
    "\n",
    "data = { 'city': ['Moscow', 'Moscow', 'Moscow', 'Kazan', 'Kazan', 'Kazan'],\n",
    "        'year':  [2022, 2021, 2020, 2022, 2021, 2020],\n",
    "        'visits': [1, 2, 3, 4, 5, 6]}\n",
    "\n",
    "\n",
    "s1 = pd.Series([1, 10, 20], index=[0, 3, 7]) # 7 не добавится так как такого индеккса нету в df\n",
    "df['old_visits'] = s1 \n",
    "\n",
    "print(df)"
   ]
  },
  {
   "cell_type": "markdown",
   "id": "ef4a07b9",
   "metadata": {},
   "source": [
    "В колонку можно добавить объект типа **range** или **список**. Удалить колонку можно с помощью оператора **del**"
   ]
  },
  {
   "cell_type": "code",
   "execution_count": 19,
   "id": "b1c11c30",
   "metadata": {},
   "outputs": [
    {
     "name": "stdout",
     "output_type": "stream",
     "text": [
      "     city  year  visits  new_column\n",
      "0  Moscow  2022       1           0\n",
      "1  Moscow  2021       2           1\n",
      "2  Moscow  2020       3           2\n",
      "3   Kazan  2022       4           3\n",
      "4   Kazan  2021       5           4\n",
      "5   Kazan  2020       6           5\n",
      "\n",
      "   year  visits  new_column\n",
      "0  2022       1           0\n",
      "1  2021       2           1\n",
      "2  2020       3           2\n",
      "3  2022       4           3\n",
      "4  2021       5           4\n",
      "5  2020       6           5\n"
     ]
    }
   ],
   "source": [
    "import pandas as pd\n",
    "\n",
    "data = { 'city': ['Moscow', 'Moscow', 'Moscow', 'Kazan', 'Kazan', 'Kazan'],\n",
    "        'year':  [2022, 2021, 2020, 2022, 2021, 2020],\n",
    "        'visits': [1, 2, 3, 4, 5, 6]}\n",
    "df = pd.DataFrame(data)\n",
    "df['new_column'] = range(6)\n",
    "\n",
    "print(df, end='\\n\\n')\n",
    "\n",
    "del df['city'] # удаление колонки\n",
    "\n",
    "print(df)\n",
    "\n",
    "\n"
   ]
  },
  {
   "cell_type": "markdown",
   "id": "51a20407",
   "metadata": {},
   "source": [
    "Разработчики Pandas позаботились о нас и наделили датафрейм возможностью создаваться на основе вложенных словарей. Что это означает? А то, что вложенные словари уже содержат индексы строк. Внешние ключи будут отвечать за название колонок, а внутренние ключи за индексы строк:"
   ]
  },
  {
   "cell_type": "code",
   "execution_count": 34,
   "id": "cd567381",
   "metadata": {},
   "outputs": [
    {
     "data": {
      "text/html": [
       "<div>\n",
       "<style scoped>\n",
       "    .dataframe tbody tr th:only-of-type {\n",
       "        vertical-align: middle;\n",
       "    }\n",
       "\n",
       "    .dataframe tbody tr th {\n",
       "        vertical-align: top;\n",
       "    }\n",
       "\n",
       "    .dataframe thead th {\n",
       "        text-align: right;\n",
       "    }\n",
       "</style>\n",
       "<table border=\"1\" class=\"dataframe\">\n",
       "  <thead>\n",
       "    <tr style=\"text-align: right;\">\n",
       "      <th></th>\n",
       "      <th>Moscow</th>\n",
       "      <th>Kazan</th>\n",
       "    </tr>\n",
       "  </thead>\n",
       "  <tbody>\n",
       "    <tr>\n",
       "      <th>2020</th>\n",
       "      <td>1500</td>\n",
       "      <td>200</td>\n",
       "    </tr>\n",
       "    <tr>\n",
       "      <th>2021</th>\n",
       "      <td>2000</td>\n",
       "      <td>230</td>\n",
       "    </tr>\n",
       "    <tr>\n",
       "      <th>2022</th>\n",
       "      <td>500</td>\n",
       "      <td>100</td>\n",
       "    </tr>\n",
       "  </tbody>\n",
       "</table>\n",
       "</div>"
      ],
      "text/plain": [
       "      Moscow  Kazan\n",
       "2020    1500    200\n",
       "2021    2000    230\n",
       "2022     500    100"
      ]
     },
     "execution_count": 34,
     "metadata": {},
     "output_type": "execute_result"
    }
   ],
   "source": [
    "import pandas as pd\n",
    "\n",
    "data2 = {'Moscow': {2020: 1500, 2021: 2000, 2022:500},\n",
    "         'Kazan':  {2020: 200, 2021: 230, 2022: 100}} # вложенные ключи являются индексами\n",
    "\n",
    "df = pd.DataFrame(data2)\n",
    "\n",
    "print(df)"
   ]
  },
  {
   "cell_type": "markdown",
   "id": "ee4d3c02",
   "metadata": {},
   "source": [
    "Уже знакомое нам свойство транспонирование работает и с датафреймом! Помните, где мы его уже встречали?)"
   ]
  },
  {
   "cell_type": "code",
   "execution_count": 35,
   "id": "61493a45",
   "metadata": {},
   "outputs": [
    {
     "name": "stdout",
     "output_type": "stream",
     "text": [
      "        2020  2021  2022\n",
      "Moscow  1500  2000   500\n",
      "Kazan    200   230   100\n"
     ]
    }
   ],
   "source": [
    "import pandas as pd\n",
    "\n",
    "data2 = {'Moscow': {2020: 1500, 2021: 2000, 2022:500},\n",
    "         'Kazan':  {2020: 200, 2021: 230, 2022: 100}} # вложенные ключи являются индексами\n",
    "\n",
    "df = pd.DataFrame(data2)\n",
    "\n",
    "print(df.T)"
   ]
  },
  {
   "cell_type": "markdown",
   "id": "185794ac",
   "metadata": {},
   "source": [
    "Если необходимо получить все значения из колонки, то используется свойство **values**, которое возвращает NumPy массив"
   ]
  },
  {
   "cell_type": "code",
   "execution_count": 36,
   "id": "04631468",
   "metadata": {},
   "outputs": [
    {
     "name": "stdout",
     "output_type": "stream",
     "text": [
      "[[1500  200]\n",
      " [2000  230]\n",
      " [ 500  100]]\n"
     ]
    }
   ],
   "source": [
    "import pandas as pd\n",
    "\n",
    "data2 = {'Moscow': {2020: 1500, 2021: 2000, 2022:500},\n",
    "         'Kazan':  {2020: 200, 2021: 230, 2022: 100}} # вложенные ключи являются индексами\n",
    "\n",
    "df = pd.DataFrame(data2)\n",
    "\n",
    "print(df.values)"
   ]
  },
  {
   "cell_type": "markdown",
   "id": "e3a34444",
   "metadata": {},
   "source": [
    "На самом деле у датафрейма два индекса: один для навигации по строкам, а второй по навигации по колонкам:\n",
    "\n",
    "![1](https://ucarecdn.com/604dd2a7-e1d7-4701-a687-2c43df4802c4/)\n",
    "\n",
    "Первый можно получить через свойство index, а второй через свойство .columns. \n",
    "\n",
    "Да, свойство называется columns (от англ. колонки), но это тоже индекс. "
   ]
  },
  {
   "cell_type": "markdown",
   "id": "d835702a",
   "metadata": {},
   "source": [
    "## Задачи урока 3.5"
   ]
  },
  {
   "cell_type": "markdown",
   "id": "0aec1dee",
   "metadata": {},
   "source": [
    "1. На вход подаётся датафрейм. Удалите столбец clicks:\n",
    "\n",
    "![1](https://ucarecdn.com/8ab4cc8d-302c-4735-89fb-63ef2520e977/)"
   ]
  },
  {
   "cell_type": "code",
   "execution_count": 39,
   "id": "d9dc43e6",
   "metadata": {},
   "outputs": [
    {
     "data": {
      "text/html": [
       "<div>\n",
       "<style scoped>\n",
       "    .dataframe tbody tr th:only-of-type {\n",
       "        vertical-align: middle;\n",
       "    }\n",
       "\n",
       "    .dataframe tbody tr th {\n",
       "        vertical-align: top;\n",
       "    }\n",
       "\n",
       "    .dataframe thead th {\n",
       "        text-align: right;\n",
       "    }\n",
       "</style>\n",
       "<table border=\"1\" class=\"dataframe\">\n",
       "  <thead>\n",
       "    <tr style=\"text-align: right;\">\n",
       "      <th></th>\n",
       "      <th>user_name</th>\n",
       "      <th>time_interval</th>\n",
       "    </tr>\n",
       "  </thead>\n",
       "  <tbody>\n",
       "    <tr>\n",
       "      <th>0</th>\n",
       "      <td>Ivan</td>\n",
       "      <td>3</td>\n",
       "    </tr>\n",
       "    <tr>\n",
       "      <th>1</th>\n",
       "      <td>Alex</td>\n",
       "      <td>6</td>\n",
       "    </tr>\n",
       "    <tr>\n",
       "      <th>2</th>\n",
       "      <td>Ugen</td>\n",
       "      <td>9</td>\n",
       "    </tr>\n",
       "  </tbody>\n",
       "</table>\n",
       "</div>"
      ],
      "text/plain": [
       "  user_name  time_interval\n",
       "0      Ivan              3\n",
       "1      Alex              6\n",
       "2      Ugen              9"
      ]
     },
     "execution_count": 39,
     "metadata": {},
     "output_type": "execute_result"
    }
   ],
   "source": [
    "import pandas as pd\n",
    "\n",
    "def solution(_df):\n",
    "    del _df['clicks']\n",
    "    return _df\n",
    "\n",
    "\n",
    "df = pd.DataFrame({'user_name': ('Ivan', 'Alex', 'Ugen'),  \n",
    "                   'clicks': (2, 5, 8), \n",
    "                   'time_interval':(3, 6, 9)})\n",
    "\n",
    "solution(df)"
   ]
  },
  {
   "cell_type": "markdown",
   "id": "809c3f84",
   "metadata": {},
   "source": [
    "2. На вход функции подаётся датафрейм, отредактируйте индекс второй строки:\n",
    "\n",
    "![1](https://ucarecdn.com/79075c75-c697-4006-b19a-1b09b43eeba1/)\n",
    "\n",
    "![2](https://ucarecdn.com/251cf53c-9d7f-4914-ac16-00c8059b1124/)"
   ]
  },
  {
   "cell_type": "code",
   "execution_count": 57,
   "id": "8d4b4c7e",
   "metadata": {},
   "outputs": [
    {
     "data": {
      "text/html": [
       "<div>\n",
       "<style scoped>\n",
       "    .dataframe tbody tr th:only-of-type {\n",
       "        vertical-align: middle;\n",
       "    }\n",
       "\n",
       "    .dataframe tbody tr th {\n",
       "        vertical-align: top;\n",
       "    }\n",
       "\n",
       "    .dataframe thead th {\n",
       "        text-align: right;\n",
       "    }\n",
       "</style>\n",
       "<table border=\"1\" class=\"dataframe\">\n",
       "  <thead>\n",
       "    <tr style=\"text-align: right;\">\n",
       "      <th></th>\n",
       "      <th>user_name</th>\n",
       "      <th>clicks</th>\n",
       "      <th>time_interval</th>\n",
       "    </tr>\n",
       "  </thead>\n",
       "  <tbody>\n",
       "    <tr>\n",
       "      <th>0</th>\n",
       "      <td>Ivan</td>\n",
       "      <td>2</td>\n",
       "      <td>3</td>\n",
       "    </tr>\n",
       "    <tr>\n",
       "      <th>one</th>\n",
       "      <td>Alex</td>\n",
       "      <td>5</td>\n",
       "      <td>6</td>\n",
       "    </tr>\n",
       "    <tr>\n",
       "      <th>1</th>\n",
       "      <td>Ugen</td>\n",
       "      <td>8</td>\n",
       "      <td>9</td>\n",
       "    </tr>\n",
       "  </tbody>\n",
       "</table>\n",
       "</div>"
      ],
      "text/plain": [
       "    user_name  clicks  time_interval\n",
       "0        Ivan       2              3\n",
       "one      Alex       5              6\n",
       "1        Ugen       8              9"
      ]
     },
     "execution_count": 57,
     "metadata": {},
     "output_type": "execute_result"
    }
   ],
   "source": [
    "import pandas as pd\n",
    "\n",
    "def solution(_df):\n",
    "    _df.index = [0, 'one', 2]\n",
    "    return _df\n",
    "\n",
    "\n",
    "df = pd.DataFrame({'user_name': ('Ivan', 'Alex', 'Ugen'),  \n",
    "                   'clicks': (2, 5, 8), \n",
    "                   'time_interval':(3, 6, 9)})\n",
    "\n",
    "solution(df)"
   ]
  },
  {
   "cell_type": "markdown",
   "id": "64947035",
   "metadata": {},
   "source": [
    " 3. На вход функции подаётся датафрейм, переведите название (лейблы) колонок в верхний регистр:\n",
    " \n",
    " ![1](https://ucarecdn.com/79075c75-c697-4006-b19a-1b09b43eeba1/)\n",
    " \n",
    " ![2](https://ucarecdn.com/46a2fb3b-d728-4b79-8f08-bdafd0545ece/)"
   ]
  },
  {
   "cell_type": "code",
   "execution_count": 64,
   "id": "a15b8f09",
   "metadata": {},
   "outputs": [
    {
     "data": {
      "text/html": [
       "<div>\n",
       "<style scoped>\n",
       "    .dataframe tbody tr th:only-of-type {\n",
       "        vertical-align: middle;\n",
       "    }\n",
       "\n",
       "    .dataframe tbody tr th {\n",
       "        vertical-align: top;\n",
       "    }\n",
       "\n",
       "    .dataframe thead th {\n",
       "        text-align: right;\n",
       "    }\n",
       "</style>\n",
       "<table border=\"1\" class=\"dataframe\">\n",
       "  <thead>\n",
       "    <tr style=\"text-align: right;\">\n",
       "      <th></th>\n",
       "      <th>USER_NAME</th>\n",
       "      <th>CLICKS</th>\n",
       "      <th>TIME_INTERVAL</th>\n",
       "    </tr>\n",
       "  </thead>\n",
       "  <tbody>\n",
       "    <tr>\n",
       "      <th>0</th>\n",
       "      <td>Ivan</td>\n",
       "      <td>2</td>\n",
       "      <td>3</td>\n",
       "    </tr>\n",
       "    <tr>\n",
       "      <th>1</th>\n",
       "      <td>Alex</td>\n",
       "      <td>5</td>\n",
       "      <td>6</td>\n",
       "    </tr>\n",
       "    <tr>\n",
       "      <th>2</th>\n",
       "      <td>Ugen</td>\n",
       "      <td>8</td>\n",
       "      <td>9</td>\n",
       "    </tr>\n",
       "  </tbody>\n",
       "</table>\n",
       "</div>"
      ],
      "text/plain": [
       "  USER_NAME  CLICKS  TIME_INTERVAL\n",
       "0      Ivan       2              3\n",
       "1      Alex       5              6\n",
       "2      Ugen       8              9"
      ]
     },
     "execution_count": 64,
     "metadata": {},
     "output_type": "execute_result"
    }
   ],
   "source": [
    "import pandas as pd\n",
    "\n",
    "def solution(_df):\n",
    "    _df.columns = map(str.upper, _df.columns)\n",
    "    return _df\n",
    "\n",
    "\n",
    "df = pd.DataFrame({'user_name': ('Ivan', 'Alex', 'Ugen'),  \n",
    "                   'clicks': (2, 5, 8), \n",
    "                   'time_interval':(3, 6, 9)})\n",
    "\n",
    "solution(df)"
   ]
  },
  {
   "cell_type": "markdown",
   "id": "2cccfc66",
   "metadata": {},
   "source": [
    "4. На вход функции подаётся некоторый датафрейм. Определите количество строк и количество столбцов в датафрейме. Функция должна вернуть кортеж: (количество строк, количество столбцов)"
   ]
  },
  {
   "cell_type": "code",
   "execution_count": 67,
   "id": "7ccfb64d",
   "metadata": {},
   "outputs": [
    {
     "data": {
      "text/plain": [
       "(3, 3)"
      ]
     },
     "execution_count": 67,
     "metadata": {},
     "output_type": "execute_result"
    }
   ],
   "source": [
    "import pandas as pd\n",
    "\n",
    "def solution(_df):\n",
    "    return _df.shape\n",
    "\n",
    "\n",
    "df = pd.DataFrame({'user_name': ('Ivan', 'Alex', 'Ugen'),  \n",
    "                   'clicks': (2, 5, 8), \n",
    "                   'time_interval':(3, 6, 9)})\n",
    "\n",
    "solution(df)"
   ]
  },
  {
   "cell_type": "markdown",
   "id": "40331eb3",
   "metadata": {},
   "source": [
    "## 3.7 Практика: особенности индексации"
   ]
  },
  {
   "cell_type": "code",
   "execution_count": 84,
   "id": "6b9d3a11",
   "metadata": {},
   "outputs": [
    {
     "data": {
      "text/html": [
       "<div>\n",
       "<style scoped>\n",
       "    .dataframe tbody tr th:only-of-type {\n",
       "        vertical-align: middle;\n",
       "    }\n",
       "\n",
       "    .dataframe tbody tr th {\n",
       "        vertical-align: top;\n",
       "    }\n",
       "\n",
       "    .dataframe thead th {\n",
       "        text-align: right;\n",
       "    }\n",
       "</style>\n",
       "<table border=\"1\" class=\"dataframe\">\n",
       "  <thead>\n",
       "    <tr style=\"text-align: right;\">\n",
       "      <th></th>\n",
       "      <th>user_name</th>\n",
       "      <th>clicks</th>\n",
       "      <th>time_interval</th>\n",
       "      <th>balance</th>\n",
       "    </tr>\n",
       "  </thead>\n",
       "  <tbody>\n",
       "    <tr>\n",
       "      <th>0</th>\n",
       "      <td>Ivan</td>\n",
       "      <td>2</td>\n",
       "      <td>3</td>\n",
       "      <td>100</td>\n",
       "    </tr>\n",
       "    <tr>\n",
       "      <th>1</th>\n",
       "      <td>Alex</td>\n",
       "      <td>5</td>\n",
       "      <td>6</td>\n",
       "      <td>200</td>\n",
       "    </tr>\n",
       "    <tr>\n",
       "      <th>2</th>\n",
       "      <td>Ugen</td>\n",
       "      <td>8</td>\n",
       "      <td>9</td>\n",
       "      <td>800</td>\n",
       "    </tr>\n",
       "  </tbody>\n",
       "</table>\n",
       "</div>"
      ],
      "text/plain": [
       "  user_name  clicks  time_interval  balance\n",
       "0      Ivan       2              3      100\n",
       "1      Alex       5              6      200\n",
       "2      Ugen       8              9      800"
      ]
     },
     "execution_count": 84,
     "metadata": {},
     "output_type": "execute_result"
    }
   ],
   "source": [
    "import pandas as pd\n",
    "\n",
    "def solution(_df, _s1):\n",
    "    _s1.index = map(int, _s1.index)\n",
    "    _df['balance'] = _s1\n",
    "    return _df\n",
    "\n",
    "\n",
    "\n",
    "df = pd.DataFrame({'user_name': ('Ivan', 'Alex', 'Ugen'),  \n",
    "                   'clicks': (2, 5, 8), \n",
    "                   'time_interval':(3, 6, 9)})\n",
    "\n",
    "s = pd.Series([100, 200, 800], index=['0', '1', '2'])\n",
    "\n",
    "solution(df, s)"
   ]
  },
  {
   "cell_type": "markdown",
   "id": "165afee2",
   "metadata": {},
   "source": [
    "## 3.8 Функции reindex, drop и индексация в датафрейме"
   ]
  },
  {
   "cell_type": "markdown",
   "id": "f9e4e1b1",
   "metadata": {},
   "source": [
    "Если необходимо поменять названия индексов(строк) или колонок, то нужно присваивать не одно значение, а сразу весь список"
   ]
  },
  {
   "cell_type": "code",
   "execution_count": 19,
   "id": "d70e7580",
   "metadata": {},
   "outputs": [
    {
     "data": {
      "text/html": [
       "<div>\n",
       "<style scoped>\n",
       "    .dataframe tbody tr th:only-of-type {\n",
       "        vertical-align: middle;\n",
       "    }\n",
       "\n",
       "    .dataframe tbody tr th {\n",
       "        vertical-align: top;\n",
       "    }\n",
       "\n",
       "    .dataframe thead th {\n",
       "        text-align: right;\n",
       "    }\n",
       "</style>\n",
       "<table border=\"1\" class=\"dataframe\">\n",
       "  <thead>\n",
       "    <tr style=\"text-align: right;\">\n",
       "      <th></th>\n",
       "      <th>Name</th>\n",
       "      <th>Clicks</th>\n",
       "      <th>Time</th>\n",
       "    </tr>\n",
       "  </thead>\n",
       "  <tbody>\n",
       "    <tr>\n",
       "      <th>a</th>\n",
       "      <td>Ivan</td>\n",
       "      <td>2</td>\n",
       "      <td>3</td>\n",
       "    </tr>\n",
       "    <tr>\n",
       "      <th>b</th>\n",
       "      <td>Alex</td>\n",
       "      <td>5</td>\n",
       "      <td>6</td>\n",
       "    </tr>\n",
       "    <tr>\n",
       "      <th>c</th>\n",
       "      <td>Ugen</td>\n",
       "      <td>8</td>\n",
       "      <td>9</td>\n",
       "    </tr>\n",
       "  </tbody>\n",
       "</table>\n",
       "</div>"
      ],
      "text/plain": [
       "   Name  Clicks  Time\n",
       "a  Ivan       2     3\n",
       "b  Alex       5     6\n",
       "c  Ugen       8     9"
      ]
     },
     "execution_count": 19,
     "metadata": {},
     "output_type": "execute_result"
    }
   ],
   "source": [
    "import pandas as pd\n",
    "\n",
    "df = pd.DataFrame({'user_name': ('Ivan', 'Alex', 'Ugen'),  \n",
    "                   'clicks': (2, 5, 8), \n",
    "                   'time_interval':(3, 6, 9)})\n",
    "\n",
    "df.index = ['a', 'b', 'c']\n",
    "df.columns = ['Name', 'Clicks', 'Time']\n",
    "\n",
    "df"
   ]
  },
  {
   "cell_type": "markdown",
   "id": "4abf0d48",
   "metadata": {},
   "source": [
    "С помощью функции **reindex** можно переназначить, либо выбрать только необходмые столбцы/строки из DataFrame. Используем тогда, когда необходимо что-то оставить"
   ]
  },
  {
   "cell_type": "code",
   "execution_count": 33,
   "id": "509ae290",
   "metadata": {},
   "outputs": [
    {
     "data": {
      "text/html": [
       "<div>\n",
       "<style scoped>\n",
       "    .dataframe tbody tr th:only-of-type {\n",
       "        vertical-align: middle;\n",
       "    }\n",
       "\n",
       "    .dataframe tbody tr th {\n",
       "        vertical-align: top;\n",
       "    }\n",
       "\n",
       "    .dataframe thead th {\n",
       "        text-align: right;\n",
       "    }\n",
       "</style>\n",
       "<table border=\"1\" class=\"dataframe\">\n",
       "  <thead>\n",
       "    <tr style=\"text-align: right;\">\n",
       "      <th></th>\n",
       "      <th>user_name</th>\n",
       "      <th>time_interval</th>\n",
       "      <th>new_column</th>\n",
       "    </tr>\n",
       "  </thead>\n",
       "  <tbody>\n",
       "    <tr>\n",
       "      <th>0</th>\n",
       "      <td>Ivan</td>\n",
       "      <td>3</td>\n",
       "      <td>NaN</td>\n",
       "    </tr>\n",
       "    <tr>\n",
       "      <th>1</th>\n",
       "      <td>Alex</td>\n",
       "      <td>6</td>\n",
       "      <td>NaN</td>\n",
       "    </tr>\n",
       "    <tr>\n",
       "      <th>2</th>\n",
       "      <td>Ugen</td>\n",
       "      <td>9</td>\n",
       "      <td>NaN</td>\n",
       "    </tr>\n",
       "  </tbody>\n",
       "</table>\n",
       "</div>"
      ],
      "text/plain": [
       "  user_name  time_interval  new_column\n",
       "0      Ivan              3         NaN\n",
       "1      Alex              6         NaN\n",
       "2      Ugen              9         NaN"
      ]
     },
     "execution_count": 33,
     "metadata": {},
     "output_type": "execute_result"
    }
   ],
   "source": [
    "import pandas as pd\n",
    "\n",
    "df = pd.DataFrame({'user_name': ('Ivan', 'Alex', 'Ugen'),  \n",
    "                   'clicks': (2, 5, 8), \n",
    "                   'time_interval':(3, 6, 9)})\n",
    "\n",
    "df.reindex(['user_name', 'time_interval', 'new_column'], axis=1)"
   ]
  },
  {
   "cell_type": "markdown",
   "id": "03f455e8",
   "metadata": {},
   "source": [
    "функция **drop** позволяет удалить элементы по нужной нам оси. Используем тогда, когда необходимо что-то удалить"
   ]
  },
  {
   "cell_type": "code",
   "execution_count": 39,
   "id": "9f38c137",
   "metadata": {},
   "outputs": [
    {
     "name": "stdout",
     "output_type": "stream",
     "text": [
      "   clicks\n",
      "0       2\n",
      "1       5\n",
      "2       8\n",
      "\n",
      "   clicks  time_interval\n",
      "0       2              3\n",
      "1       5              6\n",
      "2       8              9\n"
     ]
    }
   ],
   "source": [
    "import pandas as pd\n",
    "\n",
    "df = pd.DataFrame({'user_name': ('Ivan', 'Alex', 'Ugen'),  \n",
    "                   'clicks': (2, 5, 8), \n",
    "                   'time_interval':(3, 6, 9)})\n",
    "\n",
    "df2 = df.drop(['user_name', 'time_interval'], axis=1) # возваращает новый DataFrame\n",
    "print(df2, end='\\n\\n')\n",
    "\n",
    "df.drop('user_name', axis=1, inplace=True) # удалеяет на месте\n",
    "print(df)\n",
    "\n"
   ]
  },
  {
   "cell_type": "markdown",
   "id": "0f50a94d",
   "metadata": {},
   "source": [
    "**Индексация по сериям осуществляется следующими способами:**"
   ]
  },
  {
   "cell_type": "code",
   "execution_count": 52,
   "id": "2419fa1d",
   "metadata": {},
   "outputs": [
    {
     "name": "stdout",
     "output_type": "stream",
     "text": [
      "50\n",
      "50\n",
      "\n",
      "c    200\n",
      "d    500\n",
      "e    350\n",
      "dtype: int64\n",
      "\n",
      "d    500\n",
      "e    350\n",
      "dtype: int64\n",
      "\n",
      "e    350\n",
      "b     10\n",
      "dtype: int64\n",
      "\n",
      "b     10\n",
      "c    200\n",
      "d    500\n",
      "e    350\n",
      "dtype: int64\n"
     ]
    }
   ],
   "source": [
    "import pandas as pd\n",
    "\n",
    "s = pd.Series([50, 10, 200, 500, 350], index=['a', 'b', 'c', 'd', 'e'])\n",
    "\n",
    "print(s['a']) # по лэйблу\n",
    "print(s[0], end='\\n\\n') # по индексу\n",
    "print(s[2:], end='\\n\\n') # по срезу\n",
    "print(s[df > 200], end='\\n\\n') # по маске\n",
    "print(s[['e', 'b']], end='\\n\\n') # несколько лэйблов в разном порядке\n",
    "print(s['b':'e']) # срез лэйблов с включением последнего элемента"
   ]
  },
  {
   "cell_type": "markdown",
   "id": "49b81dbf",
   "metadata": {},
   "source": [
    "Pandas позволяет присваивать значения по срезу лэйблов"
   ]
  },
  {
   "cell_type": "code",
   "execution_count": 55,
   "id": "13a57e29",
   "metadata": {},
   "outputs": [
    {
     "data": {
      "text/plain": [
       "a    50\n",
       "b    10\n",
       "c     0\n",
       "d     0\n",
       "e     0\n",
       "dtype: int64"
      ]
     },
     "execution_count": 55,
     "metadata": {},
     "output_type": "execute_result"
    }
   ],
   "source": [
    "s['c':'e'] = 0\n",
    "\n",
    "s"
   ]
  },
  {
   "cell_type": "markdown",
   "id": "15c1e893",
   "metadata": {},
   "source": [
    "**Индексация по DataFrame осуществляется следующими способами:**"
   ]
  },
  {
   "cell_type": "code",
   "execution_count": 75,
   "id": "e3fed10a",
   "metadata": {},
   "outputs": [
    {
     "name": "stdout",
     "output_type": "stream",
     "text": [
      "  user_name  time_interval\n",
      "0      Ivan              3\n",
      "1      Alex              6\n",
      "2      Ugen              9\n",
      "\n",
      "  user_name  clicks  time_interval\n",
      "0      Ivan       2              3\n",
      "1      Alex       5              6\n",
      "2      Ugen       8              9\n",
      "\n",
      "  user_name  clicks  time_interval\n",
      "1      Alex       5              6\n",
      "2      Ugen       8              9\n"
     ]
    }
   ],
   "source": [
    "import pandas as pd\n",
    "\n",
    "df = pd.DataFrame({'user_name': ('Ivan', 'Alex', 'Ugen'),  \n",
    "                   'clicks': (2, 5, 8), \n",
    "                   'time_interval':(3, 6, 9)})\n",
    "\n",
    "print(df[['user_name', 'time_interval']], end='\\n\\n') # вытягивание разных колонок\n",
    "print(df[:3], end='\\n\\n') # вытягивание разных строк\n",
    "print(df[df.clicks >= 5]) # вытягивание данных по маске"
   ]
  },
  {
   "cell_type": "markdown",
   "id": "bc51bfdb",
   "metadata": {},
   "source": [
    "Данные можно вытягивать и по двумерной маске"
   ]
  },
  {
   "cell_type": "code",
   "execution_count": 74,
   "id": "b8e2355d",
   "metadata": {},
   "outputs": [
    {
     "name": "stdout",
     "output_type": "stream",
     "text": [
      "   user_name  clicks  time_interval\n",
      "0       True   False          False\n",
      "1       True   False           True\n",
      "2       True    True           True\n",
      "\n",
      "   user_name  clicks  time_interval\n",
      "0          0       2              3\n",
      "1          0       5              0\n",
      "2          0       0              0\n"
     ]
    }
   ],
   "source": [
    "import pandas as pd\n",
    "\n",
    "df = pd.DataFrame({'user_name': (10, 20, 30),  \n",
    "                   'clicks': (2, 5, 8), \n",
    "                   'time_interval':(3, 6, 9)})\n",
    "mask = df > 5\n",
    "print(mask, end='\\n\\n')\n",
    "\n",
    "df[df > 5] = 0\n",
    "print(df)"
   ]
  },
  {
   "cell_type": "markdown",
   "id": "aca89a03",
   "metadata": {},
   "source": [
    "## 3.9 Практика: вытягиваем нужное, удаляем ненужное"
   ]
  },
  {
   "cell_type": "markdown",
   "id": "ea45d399",
   "metadata": {},
   "source": [
    "1. На вход подаётся датафрейм. Проверьте, есть ли в нём строка с лейблом **f**. Функция должна вернуть True если строка есть, иначе False"
   ]
  },
  {
   "cell_type": "code",
   "execution_count": null,
   "id": "47c6c4b8",
   "metadata": {},
   "outputs": [],
   "source": [
    "import pandas as pd\n",
    "\n",
    "def solution(_df):\n",
    "    return 'f' in _df.index"
   ]
  },
  {
   "cell_type": "markdown",
   "id": "9cee58e4",
   "metadata": {},
   "source": [
    "2. На вход подаётся датафрейм. Проверьте, есть ли в нём колонка user_name и строка с лейблом f. Функция должна вернуть True если колонка и строка существуют, иначе False"
   ]
  },
  {
   "cell_type": "code",
   "execution_count": null,
   "id": "b0adaf6f",
   "metadata": {},
   "outputs": [],
   "source": [
    "import pandas as pd\n",
    "\n",
    "def solution(_df):\n",
    "    return 'f' in _df.index and 'user_name' in _df.column"
   ]
  },
  {
   "cell_type": "markdown",
   "id": "e8419a14",
   "metadata": {},
   "source": [
    "2. На вход подаётся датафрейм, удалите из названий колонок префикс user_. Функция должна вернуть датафрейм с названием колонок без префикса user_:"
   ]
  },
  {
   "cell_type": "code",
   "execution_count": 9,
   "id": "4a837120",
   "metadata": {},
   "outputs": [
    {
     "data": {
      "text/html": [
       "<div>\n",
       "<style scoped>\n",
       "    .dataframe tbody tr th:only-of-type {\n",
       "        vertical-align: middle;\n",
       "    }\n",
       "\n",
       "    .dataframe tbody tr th {\n",
       "        vertical-align: top;\n",
       "    }\n",
       "\n",
       "    .dataframe thead th {\n",
       "        text-align: right;\n",
       "    }\n",
       "</style>\n",
       "<table border=\"1\" class=\"dataframe\">\n",
       "  <thead>\n",
       "    <tr style=\"text-align: right;\">\n",
       "      <th></th>\n",
       "      <th>name</th>\n",
       "      <th>age</th>\n",
       "      <th>clicks</th>\n",
       "      <th>balance</th>\n",
       "      <th>history</th>\n",
       "    </tr>\n",
       "  </thead>\n",
       "  <tbody>\n",
       "    <tr>\n",
       "      <th>a</th>\n",
       "      <td>Ivan</td>\n",
       "      <td>25</td>\n",
       "      <td>4</td>\n",
       "      <td>50</td>\n",
       "      <td>1</td>\n",
       "    </tr>\n",
       "    <tr>\n",
       "      <th>b</th>\n",
       "      <td>Petr</td>\n",
       "      <td>40</td>\n",
       "      <td>9</td>\n",
       "      <td>250</td>\n",
       "      <td>8</td>\n",
       "    </tr>\n",
       "    <tr>\n",
       "      <th>c</th>\n",
       "      <td>Nikolay</td>\n",
       "      <td>19</td>\n",
       "      <td>12</td>\n",
       "      <td>25</td>\n",
       "      <td>1</td>\n",
       "    </tr>\n",
       "    <tr>\n",
       "      <th>d</th>\n",
       "      <td>Sergey</td>\n",
       "      <td>33</td>\n",
       "      <td>6</td>\n",
       "      <td>115</td>\n",
       "      <td>6</td>\n",
       "    </tr>\n",
       "    <tr>\n",
       "      <th>e</th>\n",
       "      <td>Andrey</td>\n",
       "      <td>38</td>\n",
       "      <td>2</td>\n",
       "      <td>152</td>\n",
       "      <td>4</td>\n",
       "    </tr>\n",
       "    <tr>\n",
       "      <th>f</th>\n",
       "      <td>Ilya</td>\n",
       "      <td>20</td>\n",
       "      <td>18</td>\n",
       "      <td>15</td>\n",
       "      <td>2</td>\n",
       "    </tr>\n",
       "    <tr>\n",
       "      <th>g</th>\n",
       "      <td>Igor</td>\n",
       "      <td>19</td>\n",
       "      <td>2</td>\n",
       "      <td>10</td>\n",
       "      <td>1</td>\n",
       "    </tr>\n",
       "  </tbody>\n",
       "</table>\n",
       "</div>"
      ],
      "text/plain": [
       "      name  age  clicks  balance  history\n",
       "a     Ivan   25       4       50        1\n",
       "b     Petr   40       9      250        8\n",
       "c  Nikolay   19      12       25        1\n",
       "d   Sergey   33       6      115        6\n",
       "e   Andrey   38       2      152        4\n",
       "f     Ilya   20      18       15        2\n",
       "g     Igor   19       2       10        1"
      ]
     },
     "execution_count": 9,
     "metadata": {},
     "output_type": "execute_result"
    }
   ],
   "source": [
    "import pandas as pd\n",
    "import numpy as np\n",
    "\n",
    "def solution(_df):\n",
    "    _df.columns = [column_name[5:] for column_name in _df.columns]\n",
    "    return _df\n",
    "\n",
    "\n",
    "data = [['Ivan', 25, 4, 50, 1], \n",
    "        ['Petr', 40, 9, 250, 8], \n",
    "        ['Nikolay', 19, 12, 25, 1], \n",
    "        ['Sergey', 33, 6, 115, 6],\n",
    "        ['Andrey', 38, 2, 152, 4],\n",
    "        ['Ilya', 20, 18, 15, 2],\n",
    "        ['Igor', 19, 2, 10, 1]]\n",
    "\n",
    "_df = pd.DataFrame(data, columns=['user_name', 'user_age', 'user_clicks', 'user_balance', 'user_history'], index=list('abcdefg'))\n",
    "\n",
    "solution(_df)"
   ]
  },
  {
   "cell_type": "markdown",
   "id": "bf7c780b",
   "metadata": {},
   "source": [
    "3. На вход подаётся датафрейм, выполните реиндекс строк таким образом, чтобы остались только строчки с лейблами, которые перечислены в листе"
   ]
  },
  {
   "cell_type": "code",
   "execution_count": 15,
   "id": "1cfe24a2",
   "metadata": {},
   "outputs": [
    {
     "data": {
      "text/html": [
       "<div>\n",
       "<style scoped>\n",
       "    .dataframe tbody tr th:only-of-type {\n",
       "        vertical-align: middle;\n",
       "    }\n",
       "\n",
       "    .dataframe tbody tr th {\n",
       "        vertical-align: top;\n",
       "    }\n",
       "\n",
       "    .dataframe thead th {\n",
       "        text-align: right;\n",
       "    }\n",
       "</style>\n",
       "<table border=\"1\" class=\"dataframe\">\n",
       "  <thead>\n",
       "    <tr style=\"text-align: right;\">\n",
       "      <th></th>\n",
       "      <th>user_name</th>\n",
       "      <th>user_age</th>\n",
       "      <th>user_clicks</th>\n",
       "      <th>user_balance</th>\n",
       "      <th>user_history</th>\n",
       "    </tr>\n",
       "  </thead>\n",
       "  <tbody>\n",
       "    <tr>\n",
       "      <th>a</th>\n",
       "      <td>Ivan</td>\n",
       "      <td>25</td>\n",
       "      <td>4</td>\n",
       "      <td>50</td>\n",
       "      <td>1</td>\n",
       "    </tr>\n",
       "    <tr>\n",
       "      <th>f</th>\n",
       "      <td>Ilya</td>\n",
       "      <td>20</td>\n",
       "      <td>18</td>\n",
       "      <td>15</td>\n",
       "      <td>2</td>\n",
       "    </tr>\n",
       "    <tr>\n",
       "      <th>g</th>\n",
       "      <td>Igor</td>\n",
       "      <td>19</td>\n",
       "      <td>2</td>\n",
       "      <td>10</td>\n",
       "      <td>1</td>\n",
       "    </tr>\n",
       "  </tbody>\n",
       "</table>\n",
       "</div>"
      ],
      "text/plain": [
       "  user_name  user_age  user_clicks  user_balance  user_history\n",
       "a      Ivan        25            4            50             1\n",
       "f      Ilya        20           18            15             2\n",
       "g      Igor        19            2            10             1"
      ]
     },
     "execution_count": 15,
     "metadata": {},
     "output_type": "execute_result"
    }
   ],
   "source": [
    "import pandas as pd\n",
    "\n",
    "def solution(_df):\n",
    "    lst = ['a', 'f', 'g']\n",
    "    return _df.reindex(lst)\n",
    "\n",
    "\n",
    "data = [['Ivan', 25, 4, 50, 1], \n",
    "        ['Petr', 40, 9, 250, 8], \n",
    "        ['Nikolay', 19, 12, 25, 1], \n",
    "        ['Sergey', 33, 6, 115, 6],\n",
    "        ['Andrey', 38, 2, 152, 4],\n",
    "        ['Ilya', 20, 18, 15, 2],\n",
    "        ['Igor', 19, 2, 10, 1]]\n",
    "\n",
    "_df = pd.DataFrame(data, columns=['user_name', 'user_age', 'user_clicks', 'user_balance', 'user_history'], index=list('abcdefg'))\n",
    "\n",
    "solution(_df)"
   ]
  },
  {
   "cell_type": "markdown",
   "id": "730914ad",
   "metadata": {},
   "source": [
    "4. На вход подаётся датафрейм, удалите из датафрейма строчки c лейблами c, f, g и колонку c лейблом history. Верните итоговый датафрейм."
   ]
  },
  {
   "cell_type": "code",
   "execution_count": 24,
   "id": "bccb66c6",
   "metadata": {},
   "outputs": [
    {
     "data": {
      "text/html": [
       "<div>\n",
       "<style scoped>\n",
       "    .dataframe tbody tr th:only-of-type {\n",
       "        vertical-align: middle;\n",
       "    }\n",
       "\n",
       "    .dataframe tbody tr th {\n",
       "        vertical-align: top;\n",
       "    }\n",
       "\n",
       "    .dataframe thead th {\n",
       "        text-align: right;\n",
       "    }\n",
       "</style>\n",
       "<table border=\"1\" class=\"dataframe\">\n",
       "  <thead>\n",
       "    <tr style=\"text-align: right;\">\n",
       "      <th></th>\n",
       "      <th>user_name</th>\n",
       "      <th>user_age</th>\n",
       "      <th>user_clicks</th>\n",
       "      <th>user_balance</th>\n",
       "    </tr>\n",
       "  </thead>\n",
       "  <tbody>\n",
       "    <tr>\n",
       "      <th>a</th>\n",
       "      <td>Ivan</td>\n",
       "      <td>25</td>\n",
       "      <td>4</td>\n",
       "      <td>50</td>\n",
       "    </tr>\n",
       "    <tr>\n",
       "      <th>b</th>\n",
       "      <td>Petr</td>\n",
       "      <td>40</td>\n",
       "      <td>9</td>\n",
       "      <td>250</td>\n",
       "    </tr>\n",
       "    <tr>\n",
       "      <th>d</th>\n",
       "      <td>Sergey</td>\n",
       "      <td>33</td>\n",
       "      <td>6</td>\n",
       "      <td>115</td>\n",
       "    </tr>\n",
       "    <tr>\n",
       "      <th>e</th>\n",
       "      <td>Andrey</td>\n",
       "      <td>38</td>\n",
       "      <td>2</td>\n",
       "      <td>152</td>\n",
       "    </tr>\n",
       "  </tbody>\n",
       "</table>\n",
       "</div>"
      ],
      "text/plain": [
       "  user_name  user_age  user_clicks  user_balance\n",
       "a      Ivan        25            4            50\n",
       "b      Petr        40            9           250\n",
       "d    Sergey        33            6           115\n",
       "e    Andrey        38            2           152"
      ]
     },
     "execution_count": 24,
     "metadata": {},
     "output_type": "execute_result"
    }
   ],
   "source": [
    "import pandas as pd\n",
    "\n",
    "def solution(_df):\n",
    "    _df.drop(['c', 'f', 'g'], inplace=True)\n",
    "    _df.drop(['user_history'], axis=1, inplace=True)\n",
    "    return _df\n",
    "\n",
    "\n",
    "data = [['Ivan', 25, 4, 50, 1], \n",
    "        ['Petr', 40, 9, 250, 8], \n",
    "        ['Nikolay', 19, 12, 25, 1], \n",
    "        ['Sergey', 33, 6, 115, 6],\n",
    "        ['Andrey', 38, 2, 152, 4],\n",
    "        ['Ilya', 20, 18, 15, 2],\n",
    "        ['Igor', 19, 2, 10, 1]]\n",
    "\n",
    "_df = pd.DataFrame(data, columns=['user_name', 'user_age', 'user_clicks', 'user_balance', 'user_history'], index=list('abcdefg'))\n",
    "\n",
    "solution(_df)"
   ]
  },
  {
   "cell_type": "markdown",
   "id": "cf93661a",
   "metadata": {},
   "source": [
    "5. На вход подаётся датафрейм, вытяните столбцы **name, age, balance**. Функция должна вернуть датафрейм:"
   ]
  },
  {
   "cell_type": "code",
   "execution_count": 29,
   "id": "26cbee1e",
   "metadata": {},
   "outputs": [
    {
     "data": {
      "text/html": [
       "<div>\n",
       "<style scoped>\n",
       "    .dataframe tbody tr th:only-of-type {\n",
       "        vertical-align: middle;\n",
       "    }\n",
       "\n",
       "    .dataframe tbody tr th {\n",
       "        vertical-align: top;\n",
       "    }\n",
       "\n",
       "    .dataframe thead th {\n",
       "        text-align: right;\n",
       "    }\n",
       "</style>\n",
       "<table border=\"1\" class=\"dataframe\">\n",
       "  <thead>\n",
       "    <tr style=\"text-align: right;\">\n",
       "      <th></th>\n",
       "      <th>user_name</th>\n",
       "      <th>user_age</th>\n",
       "      <th>user_balance</th>\n",
       "    </tr>\n",
       "  </thead>\n",
       "  <tbody>\n",
       "    <tr>\n",
       "      <th>a</th>\n",
       "      <td>Ivan</td>\n",
       "      <td>25</td>\n",
       "      <td>50</td>\n",
       "    </tr>\n",
       "    <tr>\n",
       "      <th>b</th>\n",
       "      <td>Petr</td>\n",
       "      <td>40</td>\n",
       "      <td>250</td>\n",
       "    </tr>\n",
       "    <tr>\n",
       "      <th>c</th>\n",
       "      <td>Nikolay</td>\n",
       "      <td>19</td>\n",
       "      <td>25</td>\n",
       "    </tr>\n",
       "    <tr>\n",
       "      <th>d</th>\n",
       "      <td>Sergey</td>\n",
       "      <td>33</td>\n",
       "      <td>115</td>\n",
       "    </tr>\n",
       "    <tr>\n",
       "      <th>e</th>\n",
       "      <td>Andrey</td>\n",
       "      <td>38</td>\n",
       "      <td>152</td>\n",
       "    </tr>\n",
       "    <tr>\n",
       "      <th>f</th>\n",
       "      <td>Ilya</td>\n",
       "      <td>20</td>\n",
       "      <td>15</td>\n",
       "    </tr>\n",
       "    <tr>\n",
       "      <th>g</th>\n",
       "      <td>Igor</td>\n",
       "      <td>19</td>\n",
       "      <td>10</td>\n",
       "    </tr>\n",
       "  </tbody>\n",
       "</table>\n",
       "</div>"
      ],
      "text/plain": [
       "  user_name  user_age  user_balance\n",
       "a      Ivan        25            50\n",
       "b      Petr        40           250\n",
       "c   Nikolay        19            25\n",
       "d    Sergey        33           115\n",
       "e    Andrey        38           152\n",
       "f      Ilya        20            15\n",
       "g      Igor        19            10"
      ]
     },
     "execution_count": 29,
     "metadata": {},
     "output_type": "execute_result"
    }
   ],
   "source": [
    "import pandas as pd\n",
    "\n",
    "def solution(_df):\n",
    "    return _df[['user_name', 'user_age', 'user_balance']]\n",
    "\n",
    "\n",
    "data = [['Ivan', 25, 4, 50, 1], \n",
    "        ['Petr', 40, 9, 250, 8], \n",
    "        ['Nikolay', 19, 12, 25, 1], \n",
    "        ['Sergey', 33, 6, 115, 6],\n",
    "        ['Andrey', 38, 2, 152, 4],\n",
    "        ['Ilya', 20, 18, 15, 2],\n",
    "        ['Igor', 19, 2, 10, 1]]\n",
    "\n",
    "_df = pd.DataFrame(data, columns=['user_name', 'user_age', 'user_clicks', 'user_balance', 'user_history'], index=list('abcdefg'))\n",
    "\n",
    "solution(_df)"
   ]
  },
  {
   "cell_type": "markdown",
   "id": "9b5bad2c",
   "metadata": {},
   "source": [
    "6. На вход подаётся датафрейм, выведите только тех пользователей, которые старше 30 лет"
   ]
  },
  {
   "cell_type": "code",
   "execution_count": 41,
   "id": "e8d28c45",
   "metadata": {},
   "outputs": [
    {
     "data": {
      "text/html": [
       "<div>\n",
       "<style scoped>\n",
       "    .dataframe tbody tr th:only-of-type {\n",
       "        vertical-align: middle;\n",
       "    }\n",
       "\n",
       "    .dataframe tbody tr th {\n",
       "        vertical-align: top;\n",
       "    }\n",
       "\n",
       "    .dataframe thead th {\n",
       "        text-align: right;\n",
       "    }\n",
       "</style>\n",
       "<table border=\"1\" class=\"dataframe\">\n",
       "  <thead>\n",
       "    <tr style=\"text-align: right;\">\n",
       "      <th></th>\n",
       "      <th>name</th>\n",
       "      <th>age</th>\n",
       "      <th>clicks</th>\n",
       "      <th>balance</th>\n",
       "      <th>history</th>\n",
       "    </tr>\n",
       "  </thead>\n",
       "  <tbody>\n",
       "    <tr>\n",
       "      <th>b</th>\n",
       "      <td>Petr</td>\n",
       "      <td>40</td>\n",
       "      <td>9</td>\n",
       "      <td>250</td>\n",
       "      <td>8</td>\n",
       "    </tr>\n",
       "    <tr>\n",
       "      <th>d</th>\n",
       "      <td>Sergey</td>\n",
       "      <td>33</td>\n",
       "      <td>6</td>\n",
       "      <td>115</td>\n",
       "      <td>6</td>\n",
       "    </tr>\n",
       "    <tr>\n",
       "      <th>e</th>\n",
       "      <td>Andrey</td>\n",
       "      <td>38</td>\n",
       "      <td>2</td>\n",
       "      <td>152</td>\n",
       "      <td>4</td>\n",
       "    </tr>\n",
       "  </tbody>\n",
       "</table>\n",
       "</div>"
      ],
      "text/plain": [
       "     name  age  clicks  balance  history\n",
       "b    Petr   40       9      250        8\n",
       "d  Sergey   33       6      115        6\n",
       "e  Andrey   38       2      152        4"
      ]
     },
     "execution_count": 41,
     "metadata": {},
     "output_type": "execute_result"
    }
   ],
   "source": [
    "import pandas as pd\n",
    "\n",
    "def solution(_df):\n",
    "    mask = _df['age'] > 30\n",
    "    return _df[mask]\n",
    "\n",
    "\n",
    "data = [['Ivan', 25, 4, 50, 1], \n",
    "        ['Petr', 40, 9, 250, 8], \n",
    "        ['Nikolay', 19, 12, 25, 1], \n",
    "        ['Sergey', 33, 6, 115, 6],\n",
    "        ['Andrey', 38, 2, 152, 4],\n",
    "        ['Ilya', 20, 18, 15, 2],\n",
    "        ['Igor', 19, 2, 10, 1]]\n",
    "\n",
    "_df = pd.DataFrame(data, columns=['name', 'age', 'clicks', 'balance', 'history'], index=list('abcdefg'))\n",
    "\n",
    "solution(_df)"
   ]
  },
  {
   "cell_type": "markdown",
   "id": "1f66a89d",
   "metadata": {},
   "source": [
    "7. На вход подаётся датафрейм, выведите пользователей, которые младше 30 лет и баланс больше 20:"
   ]
  },
  {
   "cell_type": "code",
   "execution_count": 45,
   "id": "5dd3973a",
   "metadata": {},
   "outputs": [
    {
     "data": {
      "text/html": [
       "<div>\n",
       "<style scoped>\n",
       "    .dataframe tbody tr th:only-of-type {\n",
       "        vertical-align: middle;\n",
       "    }\n",
       "\n",
       "    .dataframe tbody tr th {\n",
       "        vertical-align: top;\n",
       "    }\n",
       "\n",
       "    .dataframe thead th {\n",
       "        text-align: right;\n",
       "    }\n",
       "</style>\n",
       "<table border=\"1\" class=\"dataframe\">\n",
       "  <thead>\n",
       "    <tr style=\"text-align: right;\">\n",
       "      <th></th>\n",
       "      <th>name</th>\n",
       "      <th>age</th>\n",
       "      <th>clicks</th>\n",
       "      <th>balance</th>\n",
       "      <th>history</th>\n",
       "    </tr>\n",
       "  </thead>\n",
       "  <tbody>\n",
       "    <tr>\n",
       "      <th>a</th>\n",
       "      <td>Ivan</td>\n",
       "      <td>25</td>\n",
       "      <td>4</td>\n",
       "      <td>50</td>\n",
       "      <td>1</td>\n",
       "    </tr>\n",
       "    <tr>\n",
       "      <th>c</th>\n",
       "      <td>Nikolay</td>\n",
       "      <td>19</td>\n",
       "      <td>12</td>\n",
       "      <td>25</td>\n",
       "      <td>1</td>\n",
       "    </tr>\n",
       "  </tbody>\n",
       "</table>\n",
       "</div>"
      ],
      "text/plain": [
       "      name  age  clicks  balance  history\n",
       "a     Ivan   25       4       50        1\n",
       "c  Nikolay   19      12       25        1"
      ]
     },
     "execution_count": 45,
     "metadata": {},
     "output_type": "execute_result"
    }
   ],
   "source": [
    "import pandas as pd\n",
    "\n",
    "def solution(_df):\n",
    "    mask = (_df['age'] < 30) & (_df['balance'] > 20)\n",
    "    return _df[mask]\n",
    "\n",
    "\n",
    "data = [['Ivan', 25, 4, 50, 1], \n",
    "        ['Petr', 40, 9, 250, 8], \n",
    "        ['Nikolay', 19, 12, 25, 1], \n",
    "        ['Sergey', 33, 6, 115, 6],\n",
    "        ['Andrey', 38, 2, 152, 4],\n",
    "        ['Ilya', 20, 18, 15, 2],\n",
    "        ['Igor', 19, 2, 10, 1]]\n",
    "\n",
    "_df = pd.DataFrame(data, columns=['name', 'age', 'clicks', 'balance', 'history'], index=list('abcdefg'))\n",
    "\n",
    "solution(_df)"
   ]
  },
  {
   "cell_type": "markdown",
   "id": "fe74bf6c",
   "metadata": {},
   "source": [
    "8. На вход подаётся датафрейм, определите пользователей у которых баланс больше 100. Возьмите две колонки **name и age**, а затем отдайте получившийся датафрейм на проверку:"
   ]
  },
  {
   "cell_type": "code",
   "execution_count": 52,
   "id": "524c53dc",
   "metadata": {},
   "outputs": [
    {
     "data": {
      "text/html": [
       "<div>\n",
       "<style scoped>\n",
       "    .dataframe tbody tr th:only-of-type {\n",
       "        vertical-align: middle;\n",
       "    }\n",
       "\n",
       "    .dataframe tbody tr th {\n",
       "        vertical-align: top;\n",
       "    }\n",
       "\n",
       "    .dataframe thead th {\n",
       "        text-align: right;\n",
       "    }\n",
       "</style>\n",
       "<table border=\"1\" class=\"dataframe\">\n",
       "  <thead>\n",
       "    <tr style=\"text-align: right;\">\n",
       "      <th></th>\n",
       "      <th>name</th>\n",
       "      <th>age</th>\n",
       "    </tr>\n",
       "  </thead>\n",
       "  <tbody>\n",
       "    <tr>\n",
       "      <th>b</th>\n",
       "      <td>Petr</td>\n",
       "      <td>40</td>\n",
       "    </tr>\n",
       "    <tr>\n",
       "      <th>d</th>\n",
       "      <td>Sergey</td>\n",
       "      <td>33</td>\n",
       "    </tr>\n",
       "    <tr>\n",
       "      <th>e</th>\n",
       "      <td>Andrey</td>\n",
       "      <td>38</td>\n",
       "    </tr>\n",
       "  </tbody>\n",
       "</table>\n",
       "</div>"
      ],
      "text/plain": [
       "     name  age\n",
       "b    Petr   40\n",
       "d  Sergey   33\n",
       "e  Andrey   38"
      ]
     },
     "execution_count": 52,
     "metadata": {},
     "output_type": "execute_result"
    }
   ],
   "source": [
    "import pandas as pd\n",
    "\n",
    "def solution(_df):\n",
    "    mask = _df['balance'] > 100\n",
    "    return _df[mask][['name', 'age']]\n",
    "\n",
    "\n",
    "data = [['Ivan', 25, 4, 50, 1], \n",
    "        ['Petr', 40, 9, 250, 8], \n",
    "        ['Nikolay', 19, 12, 25, 1], \n",
    "        ['Sergey', 33, 6, 115, 6],\n",
    "        ['Andrey', 38, 2, 152, 4],\n",
    "        ['Ilya', 20, 18, 15, 2],\n",
    "        ['Igor', 19, 2, 10, 1]]\n",
    "\n",
    "_df = pd.DataFrame(data, columns=['name', 'age', 'clicks', 'balance', 'history'], index=list('abcdefg'))\n",
    "\n",
    "solution(_df)"
   ]
  },
  {
   "cell_type": "markdown",
   "id": "ef0063ce",
   "metadata": {},
   "source": [
    "9.   На вход подаётся датафрейм, выберите из датафрейма записи, если имя пользователя **Petr или Andrey**. От получившегося датафрейма возьмите три столбца: **name, age, balance**: "
   ]
  },
  {
   "cell_type": "code",
   "execution_count": 61,
   "id": "4c963583",
   "metadata": {},
   "outputs": [
    {
     "data": {
      "text/html": [
       "<div>\n",
       "<style scoped>\n",
       "    .dataframe tbody tr th:only-of-type {\n",
       "        vertical-align: middle;\n",
       "    }\n",
       "\n",
       "    .dataframe tbody tr th {\n",
       "        vertical-align: top;\n",
       "    }\n",
       "\n",
       "    .dataframe thead th {\n",
       "        text-align: right;\n",
       "    }\n",
       "</style>\n",
       "<table border=\"1\" class=\"dataframe\">\n",
       "  <thead>\n",
       "    <tr style=\"text-align: right;\">\n",
       "      <th></th>\n",
       "      <th>name</th>\n",
       "      <th>age</th>\n",
       "      <th>balance</th>\n",
       "    </tr>\n",
       "  </thead>\n",
       "  <tbody>\n",
       "    <tr>\n",
       "      <th>b</th>\n",
       "      <td>Petr</td>\n",
       "      <td>40</td>\n",
       "      <td>250</td>\n",
       "    </tr>\n",
       "    <tr>\n",
       "      <th>e</th>\n",
       "      <td>Andrey</td>\n",
       "      <td>38</td>\n",
       "      <td>152</td>\n",
       "    </tr>\n",
       "  </tbody>\n",
       "</table>\n",
       "</div>"
      ],
      "text/plain": [
       "     name  age  balance\n",
       "b    Petr   40      250\n",
       "e  Andrey   38      152"
      ]
     },
     "execution_count": 61,
     "metadata": {},
     "output_type": "execute_result"
    }
   ],
   "source": [
    "import pandas as pd\n",
    "\n",
    "def solution(_df):\n",
    "    mask = (_df['name'] == 'Petr') | (_df['name'] == 'Andrey')\n",
    "    return _df[mask][['name', 'age', 'balance']]\n",
    "\n",
    "\n",
    "data = [['Ivan', 25, 4, 50, 1], \n",
    "        ['Petr', 40, 9, 250, 8], \n",
    "        ['Nikolay', 19, 12, 25, 1], \n",
    "        ['Sergey', 33, 6, 115, 6],\n",
    "        ['Andrey', 38, 2, 152, 4],\n",
    "        ['Ilya', 20, 18, 15, 2],\n",
    "        ['Igor', 19, 2, 10, 1]]\n",
    "\n",
    "_df = pd.DataFrame(data, columns=['name', 'age', 'clicks', 'balance', 'history'], index=list('abcdefg'))\n",
    "\n",
    "solution(_df)"
   ]
  },
  {
   "cell_type": "markdown",
   "id": "f14d795d",
   "metadata": {},
   "source": [
    "10. На вход подаётся датафрейм, В компании было принято решение обнулить баланс для пользователей у которых баланс меньше 100. Вы были выбраны исполнителем. Отредактируйте колонку balance."
   ]
  },
  {
   "cell_type": "code",
   "execution_count": 109,
   "id": "eaf7bcc5",
   "metadata": {},
   "outputs": [
    {
     "data": {
      "text/html": [
       "<div>\n",
       "<style scoped>\n",
       "    .dataframe tbody tr th:only-of-type {\n",
       "        vertical-align: middle;\n",
       "    }\n",
       "\n",
       "    .dataframe tbody tr th {\n",
       "        vertical-align: top;\n",
       "    }\n",
       "\n",
       "    .dataframe thead th {\n",
       "        text-align: right;\n",
       "    }\n",
       "</style>\n",
       "<table border=\"1\" class=\"dataframe\">\n",
       "  <thead>\n",
       "    <tr style=\"text-align: right;\">\n",
       "      <th></th>\n",
       "      <th>name</th>\n",
       "      <th>age</th>\n",
       "      <th>clicks</th>\n",
       "      <th>balance</th>\n",
       "      <th>history</th>\n",
       "    </tr>\n",
       "  </thead>\n",
       "  <tbody>\n",
       "    <tr>\n",
       "      <th>a</th>\n",
       "      <td>Ivan</td>\n",
       "      <td>25</td>\n",
       "      <td>4</td>\n",
       "      <td>0</td>\n",
       "      <td>1</td>\n",
       "    </tr>\n",
       "    <tr>\n",
       "      <th>b</th>\n",
       "      <td>Petr</td>\n",
       "      <td>40</td>\n",
       "      <td>9</td>\n",
       "      <td>250</td>\n",
       "      <td>8</td>\n",
       "    </tr>\n",
       "    <tr>\n",
       "      <th>c</th>\n",
       "      <td>Nikolay</td>\n",
       "      <td>19</td>\n",
       "      <td>12</td>\n",
       "      <td>0</td>\n",
       "      <td>1</td>\n",
       "    </tr>\n",
       "    <tr>\n",
       "      <th>d</th>\n",
       "      <td>Sergey</td>\n",
       "      <td>33</td>\n",
       "      <td>6</td>\n",
       "      <td>115</td>\n",
       "      <td>6</td>\n",
       "    </tr>\n",
       "    <tr>\n",
       "      <th>e</th>\n",
       "      <td>Andrey</td>\n",
       "      <td>38</td>\n",
       "      <td>2</td>\n",
       "      <td>152</td>\n",
       "      <td>4</td>\n",
       "    </tr>\n",
       "    <tr>\n",
       "      <th>f</th>\n",
       "      <td>Ilya</td>\n",
       "      <td>20</td>\n",
       "      <td>18</td>\n",
       "      <td>0</td>\n",
       "      <td>2</td>\n",
       "    </tr>\n",
       "    <tr>\n",
       "      <th>g</th>\n",
       "      <td>Igor</td>\n",
       "      <td>19</td>\n",
       "      <td>2</td>\n",
       "      <td>0</td>\n",
       "      <td>1</td>\n",
       "    </tr>\n",
       "  </tbody>\n",
       "</table>\n",
       "</div>"
      ],
      "text/plain": [
       "      name  age  clicks  balance  history\n",
       "a     Ivan   25       4        0        1\n",
       "b     Petr   40       9      250        8\n",
       "c  Nikolay   19      12        0        1\n",
       "d   Sergey   33       6      115        6\n",
       "e   Andrey   38       2      152        4\n",
       "f     Ilya   20      18        0        2\n",
       "g     Igor   19       2        0        1"
      ]
     },
     "execution_count": 109,
     "metadata": {},
     "output_type": "execute_result"
    }
   ],
   "source": [
    "import pandas as pd\n",
    "\n",
    "def solution(_df):\n",
    "    _df.loc[_df['balance'] < 100, ['balance']] = 0\n",
    "    return _df\n",
    "\n",
    "\n",
    "data = [['Ivan', 25, 4, 50, 1], \n",
    "        ['Petr', 40, 9, 250, 8], \n",
    "        ['Nikolay', 19, 12, 25, 1], \n",
    "        ['Sergey', 33, 6, 115, 6],\n",
    "        ['Andrey', 38, 2, 152, 4],\n",
    "        ['Ilya', 20, 18, 15, 2],\n",
    "        ['Igor', 19, 2, 10, 1]]\n",
    "\n",
    "_df = pd.DataFrame(data, columns=['name', 'age', 'clicks', 'balance', 'history'], index=list('abcdefg'))\n",
    "\n",
    "solution(_df)"
   ]
  },
  {
   "cell_type": "markdown",
   "id": "5fde7464",
   "metadata": {},
   "source": [
    "## 3.10 Операторы loc, iloc, at, iat. Сложение нескольких датафреймов"
   ]
  },
  {
   "cell_type": "markdown",
   "id": "32e7e65b",
   "metadata": {},
   "source": [
    "Оператор **loc** используется для вытягивания данных из датафрейма на основе лейблов!\n",
    "Обязательно после **loc** указывать квадратные, а не круглые скобки!\n",
    "В скобках: слева от запятой лейблы строк, справа от запятой лейблы столбцов."
   ]
  },
  {
   "cell_type": "code",
   "execution_count": 142,
   "id": "dce0ae7f",
   "metadata": {},
   "outputs": [
    {
     "data": {
      "text/html": [
       "<div>\n",
       "<style scoped>\n",
       "    .dataframe tbody tr th:only-of-type {\n",
       "        vertical-align: middle;\n",
       "    }\n",
       "\n",
       "    .dataframe tbody tr th {\n",
       "        vertical-align: top;\n",
       "    }\n",
       "\n",
       "    .dataframe thead th {\n",
       "        text-align: right;\n",
       "    }\n",
       "</style>\n",
       "<table border=\"1\" class=\"dataframe\">\n",
       "  <thead>\n",
       "    <tr style=\"text-align: right;\">\n",
       "      <th></th>\n",
       "      <th>name</th>\n",
       "      <th>age</th>\n",
       "      <th>clicks</th>\n",
       "      <th>balance</th>\n",
       "      <th>history</th>\n",
       "    </tr>\n",
       "  </thead>\n",
       "  <tbody>\n",
       "    <tr>\n",
       "      <th>a</th>\n",
       "      <td>Ivan</td>\n",
       "      <td>25</td>\n",
       "      <td>4</td>\n",
       "      <td>50</td>\n",
       "      <td>1</td>\n",
       "    </tr>\n",
       "    <tr>\n",
       "      <th>b</th>\n",
       "      <td>Petr</td>\n",
       "      <td>40</td>\n",
       "      <td>9</td>\n",
       "      <td>250</td>\n",
       "      <td>8</td>\n",
       "    </tr>\n",
       "    <tr>\n",
       "      <th>c</th>\n",
       "      <td>Nikolay</td>\n",
       "      <td>19</td>\n",
       "      <td>12</td>\n",
       "      <td>25</td>\n",
       "      <td>1</td>\n",
       "    </tr>\n",
       "    <tr>\n",
       "      <th>d</th>\n",
       "      <td>Sergey</td>\n",
       "      <td>33</td>\n",
       "      <td>6</td>\n",
       "      <td>115</td>\n",
       "      <td>6</td>\n",
       "    </tr>\n",
       "    <tr>\n",
       "      <th>e</th>\n",
       "      <td>Andrey</td>\n",
       "      <td>38</td>\n",
       "      <td>2</td>\n",
       "      <td>152</td>\n",
       "      <td>4</td>\n",
       "    </tr>\n",
       "    <tr>\n",
       "      <th>f</th>\n",
       "      <td>Ilya</td>\n",
       "      <td>20</td>\n",
       "      <td>18</td>\n",
       "      <td>15</td>\n",
       "      <td>2</td>\n",
       "    </tr>\n",
       "    <tr>\n",
       "      <th>g</th>\n",
       "      <td>Igor</td>\n",
       "      <td>19</td>\n",
       "      <td>2</td>\n",
       "      <td>10</td>\n",
       "      <td>1</td>\n",
       "    </tr>\n",
       "  </tbody>\n",
       "</table>\n",
       "</div>"
      ],
      "text/plain": [
       "      name  age  clicks  balance  history\n",
       "a     Ivan   25       4       50        1\n",
       "b     Petr   40       9      250        8\n",
       "c  Nikolay   19      12       25        1\n",
       "d   Sergey   33       6      115        6\n",
       "e   Andrey   38       2      152        4\n",
       "f     Ilya   20      18       15        2\n",
       "g     Igor   19       2       10        1"
      ]
     },
     "execution_count": 142,
     "metadata": {},
     "output_type": "execute_result"
    }
   ],
   "source": [
    "data = [['Ivan', 25, 4, 50, 1], \n",
    "        ['Petr', 40, 9, 250, 8], \n",
    "        ['Nikolay', 19, 12, 25, 1], \n",
    "        ['Sergey', 33, 6, 115, 6],\n",
    "        ['Andrey', 38, 2, 152, 4],\n",
    "        ['Ilya', 20, 18, 15, 2],\n",
    "        ['Igor', 19, 2, 10, 1]]\n",
    "\n",
    "df = pd.DataFrame(data, columns=['name', 'age', 'clicks', 'balance', 'history'], index=list('abcdefg'))\n",
    "\n",
    "df"
   ]
  },
  {
   "cell_type": "code",
   "execution_count": 143,
   "id": "089c4fec",
   "metadata": {},
   "outputs": [
    {
     "data": {
      "text/html": [
       "<div>\n",
       "<style scoped>\n",
       "    .dataframe tbody tr th:only-of-type {\n",
       "        vertical-align: middle;\n",
       "    }\n",
       "\n",
       "    .dataframe tbody tr th {\n",
       "        vertical-align: top;\n",
       "    }\n",
       "\n",
       "    .dataframe thead th {\n",
       "        text-align: right;\n",
       "    }\n",
       "</style>\n",
       "<table border=\"1\" class=\"dataframe\">\n",
       "  <thead>\n",
       "    <tr style=\"text-align: right;\">\n",
       "      <th></th>\n",
       "      <th>name</th>\n",
       "      <th>age</th>\n",
       "    </tr>\n",
       "  </thead>\n",
       "  <tbody>\n",
       "    <tr>\n",
       "      <th>a</th>\n",
       "      <td>Ivan</td>\n",
       "      <td>25</td>\n",
       "    </tr>\n",
       "    <tr>\n",
       "      <th>b</th>\n",
       "      <td>Petr</td>\n",
       "      <td>40</td>\n",
       "    </tr>\n",
       "  </tbody>\n",
       "</table>\n",
       "</div>"
      ],
      "text/plain": [
       "   name  age\n",
       "a  Ivan   25\n",
       "b  Petr   40"
      ]
     },
     "execution_count": 143,
     "metadata": {},
     "output_type": "execute_result"
    }
   ],
   "source": [
    "df.loc[['a', 'b'], ['name', 'age']] # как в NumPy"
   ]
  },
  {
   "cell_type": "code",
   "execution_count": 124,
   "id": "9ab5d197",
   "metadata": {},
   "outputs": [
    {
     "data": {
      "text/html": [
       "<div>\n",
       "<style scoped>\n",
       "    .dataframe tbody tr th:only-of-type {\n",
       "        vertical-align: middle;\n",
       "    }\n",
       "\n",
       "    .dataframe tbody tr th {\n",
       "        vertical-align: top;\n",
       "    }\n",
       "\n",
       "    .dataframe thead th {\n",
       "        text-align: right;\n",
       "    }\n",
       "</style>\n",
       "<table border=\"1\" class=\"dataframe\">\n",
       "  <thead>\n",
       "    <tr style=\"text-align: right;\">\n",
       "      <th></th>\n",
       "      <th>name</th>\n",
       "      <th>age</th>\n",
       "    </tr>\n",
       "  </thead>\n",
       "  <tbody>\n",
       "    <tr>\n",
       "      <th>a</th>\n",
       "      <td>Ivan</td>\n",
       "      <td>25</td>\n",
       "    </tr>\n",
       "    <tr>\n",
       "      <th>b</th>\n",
       "      <td>Petr</td>\n",
       "      <td>40</td>\n",
       "    </tr>\n",
       "    <tr>\n",
       "      <th>c</th>\n",
       "      <td>Nikolay</td>\n",
       "      <td>19</td>\n",
       "    </tr>\n",
       "    <tr>\n",
       "      <th>d</th>\n",
       "      <td>Sergey</td>\n",
       "      <td>33</td>\n",
       "    </tr>\n",
       "    <tr>\n",
       "      <th>e</th>\n",
       "      <td>Andrey</td>\n",
       "      <td>38</td>\n",
       "    </tr>\n",
       "    <tr>\n",
       "      <th>f</th>\n",
       "      <td>Ilya</td>\n",
       "      <td>20</td>\n",
       "    </tr>\n",
       "    <tr>\n",
       "      <th>g</th>\n",
       "      <td>Igor</td>\n",
       "      <td>19</td>\n",
       "    </tr>\n",
       "  </tbody>\n",
       "</table>\n",
       "</div>"
      ],
      "text/plain": [
       "      name  age\n",
       "a     Ivan   25\n",
       "b     Petr   40\n",
       "c  Nikolay   19\n",
       "d   Sergey   33\n",
       "e   Andrey   38\n",
       "f     Ilya   20\n",
       "g     Igor   19"
      ]
     },
     "execution_count": 124,
     "metadata": {},
     "output_type": "execute_result"
    }
   ],
   "source": [
    "df.loc[:, ['name', 'age']] # все строки"
   ]
  },
  {
   "cell_type": "code",
   "execution_count": 134,
   "id": "a0a8f96d",
   "metadata": {},
   "outputs": [
    {
     "data": {
      "text/html": [
       "<div>\n",
       "<style scoped>\n",
       "    .dataframe tbody tr th:only-of-type {\n",
       "        vertical-align: middle;\n",
       "    }\n",
       "\n",
       "    .dataframe tbody tr th {\n",
       "        vertical-align: top;\n",
       "    }\n",
       "\n",
       "    .dataframe thead th {\n",
       "        text-align: right;\n",
       "    }\n",
       "</style>\n",
       "<table border=\"1\" class=\"dataframe\">\n",
       "  <thead>\n",
       "    <tr style=\"text-align: right;\">\n",
       "      <th></th>\n",
       "      <th>balance</th>\n",
       "      <th>age</th>\n",
       "    </tr>\n",
       "  </thead>\n",
       "  <tbody>\n",
       "    <tr>\n",
       "      <th>b</th>\n",
       "      <td>250</td>\n",
       "      <td>40</td>\n",
       "    </tr>\n",
       "    <tr>\n",
       "      <th>d</th>\n",
       "      <td>115</td>\n",
       "      <td>33</td>\n",
       "    </tr>\n",
       "    <tr>\n",
       "      <th>e</th>\n",
       "      <td>152</td>\n",
       "      <td>38</td>\n",
       "    </tr>\n",
       "  </tbody>\n",
       "</table>\n",
       "</div>"
      ],
      "text/plain": [
       "   balance  age\n",
       "b      250   40\n",
       "d      115   33\n",
       "e      152   38"
      ]
     },
     "execution_count": 134,
     "metadata": {},
     "output_type": "execute_result"
    }
   ],
   "source": [
    "df.loc[df['age'] > 30, ['balance', 'age']] # также как и в NumPy можно использовать маску"
   ]
  },
  {
   "cell_type": "markdown",
   "id": "7ba5ec3e",
   "metadata": {},
   "source": [
    "Оператор **iloc** похож на **loc**, но работает не с лейблами, а с индексами (числами)!"
   ]
  },
  {
   "cell_type": "code",
   "execution_count": 137,
   "id": "717e50c0",
   "metadata": {},
   "outputs": [
    {
     "data": {
      "text/html": [
       "<div>\n",
       "<style scoped>\n",
       "    .dataframe tbody tr th:only-of-type {\n",
       "        vertical-align: middle;\n",
       "    }\n",
       "\n",
       "    .dataframe tbody tr th {\n",
       "        vertical-align: top;\n",
       "    }\n",
       "\n",
       "    .dataframe thead th {\n",
       "        text-align: right;\n",
       "    }\n",
       "</style>\n",
       "<table border=\"1\" class=\"dataframe\">\n",
       "  <thead>\n",
       "    <tr style=\"text-align: right;\">\n",
       "      <th></th>\n",
       "      <th>name</th>\n",
       "      <th>age</th>\n",
       "    </tr>\n",
       "  </thead>\n",
       "  <tbody>\n",
       "    <tr>\n",
       "      <th>a</th>\n",
       "      <td>Ivan</td>\n",
       "      <td>25</td>\n",
       "    </tr>\n",
       "    <tr>\n",
       "      <th>b</th>\n",
       "      <td>Petr</td>\n",
       "      <td>40</td>\n",
       "    </tr>\n",
       "    <tr>\n",
       "      <th>c</th>\n",
       "      <td>Nikolay</td>\n",
       "      <td>19</td>\n",
       "    </tr>\n",
       "  </tbody>\n",
       "</table>\n",
       "</div>"
      ],
      "text/plain": [
       "      name  age\n",
       "a     Ivan   25\n",
       "b     Petr   40\n",
       "c  Nikolay   19"
      ]
     },
     "execution_count": 137,
     "metadata": {},
     "output_type": "execute_result"
    }
   ],
   "source": [
    "df.iloc[0:3, 0:2]"
   ]
  },
  {
   "cell_type": "markdown",
   "id": "e727e686",
   "metadata": {},
   "source": [
    "Данные операторы можно использовать и для записи значений"
   ]
  },
  {
   "cell_type": "code",
   "execution_count": 145,
   "id": "c6832cf6",
   "metadata": {},
   "outputs": [
    {
     "data": {
      "text/html": [
       "<div>\n",
       "<style scoped>\n",
       "    .dataframe tbody tr th:only-of-type {\n",
       "        vertical-align: middle;\n",
       "    }\n",
       "\n",
       "    .dataframe tbody tr th {\n",
       "        vertical-align: top;\n",
       "    }\n",
       "\n",
       "    .dataframe thead th {\n",
       "        text-align: right;\n",
       "    }\n",
       "</style>\n",
       "<table border=\"1\" class=\"dataframe\">\n",
       "  <thead>\n",
       "    <tr style=\"text-align: right;\">\n",
       "      <th></th>\n",
       "      <th>name</th>\n",
       "      <th>age</th>\n",
       "      <th>clicks</th>\n",
       "      <th>balance</th>\n",
       "      <th>history</th>\n",
       "    </tr>\n",
       "  </thead>\n",
       "  <tbody>\n",
       "    <tr>\n",
       "      <th>a</th>\n",
       "      <td>Ivan</td>\n",
       "      <td>25</td>\n",
       "      <td>4</td>\n",
       "      <td>50</td>\n",
       "      <td>1</td>\n",
       "    </tr>\n",
       "    <tr>\n",
       "      <th>b</th>\n",
       "      <td>Petr</td>\n",
       "      <td>40</td>\n",
       "      <td>9</td>\n",
       "      <td>0</td>\n",
       "      <td>8</td>\n",
       "    </tr>\n",
       "    <tr>\n",
       "      <th>c</th>\n",
       "      <td>Nikolay</td>\n",
       "      <td>19</td>\n",
       "      <td>12</td>\n",
       "      <td>25</td>\n",
       "      <td>1</td>\n",
       "    </tr>\n",
       "    <tr>\n",
       "      <th>d</th>\n",
       "      <td>Sergey</td>\n",
       "      <td>33</td>\n",
       "      <td>6</td>\n",
       "      <td>0</td>\n",
       "      <td>6</td>\n",
       "    </tr>\n",
       "    <tr>\n",
       "      <th>e</th>\n",
       "      <td>Andrey</td>\n",
       "      <td>38</td>\n",
       "      <td>2</td>\n",
       "      <td>0</td>\n",
       "      <td>4</td>\n",
       "    </tr>\n",
       "    <tr>\n",
       "      <th>f</th>\n",
       "      <td>Ilya</td>\n",
       "      <td>20</td>\n",
       "      <td>18</td>\n",
       "      <td>15</td>\n",
       "      <td>2</td>\n",
       "    </tr>\n",
       "    <tr>\n",
       "      <th>g</th>\n",
       "      <td>Igor</td>\n",
       "      <td>19</td>\n",
       "      <td>2</td>\n",
       "      <td>10</td>\n",
       "      <td>1</td>\n",
       "    </tr>\n",
       "  </tbody>\n",
       "</table>\n",
       "</div>"
      ],
      "text/plain": [
       "      name  age  clicks  balance  history\n",
       "a     Ivan   25       4       50        1\n",
       "b     Petr   40       9        0        8\n",
       "c  Nikolay   19      12       25        1\n",
       "d   Sergey   33       6        0        6\n",
       "e   Andrey   38       2        0        4\n",
       "f     Ilya   20      18       15        2\n",
       "g     Igor   19       2       10        1"
      ]
     },
     "execution_count": 145,
     "metadata": {},
     "output_type": "execute_result"
    }
   ],
   "source": [
    "df.loc[df['age'] > 30, 'balance'] = 0\n",
    "df"
   ]
  },
  {
   "cell_type": "markdown",
   "id": "50f70c32",
   "metadata": {},
   "source": [
    "**Сложение массивов производится только по совпадающим двум индексам**"
   ]
  },
  {
   "cell_type": "code",
   "execution_count": 144,
   "id": "f8e1d59f",
   "metadata": {},
   "outputs": [
    {
     "data": {
      "text/html": [
       "<div>\n",
       "<style scoped>\n",
       "    .dataframe tbody tr th:only-of-type {\n",
       "        vertical-align: middle;\n",
       "    }\n",
       "\n",
       "    .dataframe tbody tr th {\n",
       "        vertical-align: top;\n",
       "    }\n",
       "\n",
       "    .dataframe thead th {\n",
       "        text-align: right;\n",
       "    }\n",
       "</style>\n",
       "<table border=\"1\" class=\"dataframe\">\n",
       "  <thead>\n",
       "    <tr style=\"text-align: right;\">\n",
       "      <th></th>\n",
       "      <th>b</th>\n",
       "      <th>c</th>\n",
       "      <th>d</th>\n",
       "    </tr>\n",
       "  </thead>\n",
       "  <tbody>\n",
       "    <tr>\n",
       "      <th>Moscow</th>\n",
       "      <td>0</td>\n",
       "      <td>1</td>\n",
       "      <td>2</td>\n",
       "    </tr>\n",
       "    <tr>\n",
       "      <th>Kazan</th>\n",
       "      <td>3</td>\n",
       "      <td>4</td>\n",
       "      <td>5</td>\n",
       "    </tr>\n",
       "    <tr>\n",
       "      <th>Vladivostok</th>\n",
       "      <td>6</td>\n",
       "      <td>7</td>\n",
       "      <td>8</td>\n",
       "    </tr>\n",
       "  </tbody>\n",
       "</table>\n",
       "</div>"
      ],
      "text/plain": [
       "             b  c  d\n",
       "Moscow       0  1  2\n",
       "Kazan        3  4  5\n",
       "Vladivostok  6  7  8"
      ]
     },
     "execution_count": 144,
     "metadata": {},
     "output_type": "execute_result"
    }
   ],
   "source": [
    "import pandas as pd\n",
    "\n",
    "df1 = pd.DataFrame(np.arange(9).reshape(3, 3), columns=list('bcd'), index=['Moscow', 'Kazan', 'Vladivostok'])\n",
    "df2 = pd.DataFrame(np.arange(12).reshape(4, 3), columns=list('bde'), index=['Yakutsk', 'Moscow', 'Kazan', 'Ufa'])\n",
    "\n",
    "df1"
   ]
  },
  {
   "cell_type": "code",
   "execution_count": 146,
   "id": "3efaaece",
   "metadata": {},
   "outputs": [
    {
     "data": {
      "text/html": [
       "<div>\n",
       "<style scoped>\n",
       "    .dataframe tbody tr th:only-of-type {\n",
       "        vertical-align: middle;\n",
       "    }\n",
       "\n",
       "    .dataframe tbody tr th {\n",
       "        vertical-align: top;\n",
       "    }\n",
       "\n",
       "    .dataframe thead th {\n",
       "        text-align: right;\n",
       "    }\n",
       "</style>\n",
       "<table border=\"1\" class=\"dataframe\">\n",
       "  <thead>\n",
       "    <tr style=\"text-align: right;\">\n",
       "      <th></th>\n",
       "      <th>b</th>\n",
       "      <th>d</th>\n",
       "      <th>e</th>\n",
       "    </tr>\n",
       "  </thead>\n",
       "  <tbody>\n",
       "    <tr>\n",
       "      <th>Yakutsk</th>\n",
       "      <td>0</td>\n",
       "      <td>1</td>\n",
       "      <td>2</td>\n",
       "    </tr>\n",
       "    <tr>\n",
       "      <th>Moscow</th>\n",
       "      <td>3</td>\n",
       "      <td>4</td>\n",
       "      <td>5</td>\n",
       "    </tr>\n",
       "    <tr>\n",
       "      <th>Kazan</th>\n",
       "      <td>6</td>\n",
       "      <td>7</td>\n",
       "      <td>8</td>\n",
       "    </tr>\n",
       "    <tr>\n",
       "      <th>Ufa</th>\n",
       "      <td>9</td>\n",
       "      <td>10</td>\n",
       "      <td>11</td>\n",
       "    </tr>\n",
       "  </tbody>\n",
       "</table>\n",
       "</div>"
      ],
      "text/plain": [
       "         b   d   e\n",
       "Yakutsk  0   1   2\n",
       "Moscow   3   4   5\n",
       "Kazan    6   7   8\n",
       "Ufa      9  10  11"
      ]
     },
     "execution_count": 146,
     "metadata": {},
     "output_type": "execute_result"
    }
   ],
   "source": [
    "df2"
   ]
  },
  {
   "cell_type": "code",
   "execution_count": 147,
   "id": "e02be48f",
   "metadata": {},
   "outputs": [
    {
     "data": {
      "text/html": [
       "<div>\n",
       "<style scoped>\n",
       "    .dataframe tbody tr th:only-of-type {\n",
       "        vertical-align: middle;\n",
       "    }\n",
       "\n",
       "    .dataframe tbody tr th {\n",
       "        vertical-align: top;\n",
       "    }\n",
       "\n",
       "    .dataframe thead th {\n",
       "        text-align: right;\n",
       "    }\n",
       "</style>\n",
       "<table border=\"1\" class=\"dataframe\">\n",
       "  <thead>\n",
       "    <tr style=\"text-align: right;\">\n",
       "      <th></th>\n",
       "      <th>b</th>\n",
       "      <th>c</th>\n",
       "      <th>d</th>\n",
       "      <th>e</th>\n",
       "    </tr>\n",
       "  </thead>\n",
       "  <tbody>\n",
       "    <tr>\n",
       "      <th>Kazan</th>\n",
       "      <td>9.0</td>\n",
       "      <td>NaN</td>\n",
       "      <td>12.0</td>\n",
       "      <td>NaN</td>\n",
       "    </tr>\n",
       "    <tr>\n",
       "      <th>Moscow</th>\n",
       "      <td>3.0</td>\n",
       "      <td>NaN</td>\n",
       "      <td>6.0</td>\n",
       "      <td>NaN</td>\n",
       "    </tr>\n",
       "    <tr>\n",
       "      <th>Ufa</th>\n",
       "      <td>NaN</td>\n",
       "      <td>NaN</td>\n",
       "      <td>NaN</td>\n",
       "      <td>NaN</td>\n",
       "    </tr>\n",
       "    <tr>\n",
       "      <th>Vladivostok</th>\n",
       "      <td>NaN</td>\n",
       "      <td>NaN</td>\n",
       "      <td>NaN</td>\n",
       "      <td>NaN</td>\n",
       "    </tr>\n",
       "    <tr>\n",
       "      <th>Yakutsk</th>\n",
       "      <td>NaN</td>\n",
       "      <td>NaN</td>\n",
       "      <td>NaN</td>\n",
       "      <td>NaN</td>\n",
       "    </tr>\n",
       "  </tbody>\n",
       "</table>\n",
       "</div>"
      ],
      "text/plain": [
       "               b   c     d   e\n",
       "Kazan        9.0 NaN  12.0 NaN\n",
       "Moscow       3.0 NaN   6.0 NaN\n",
       "Ufa          NaN NaN   NaN NaN\n",
       "Vladivostok  NaN NaN   NaN NaN\n",
       "Yakutsk      NaN NaN   NaN NaN"
      ]
     },
     "execution_count": 147,
     "metadata": {},
     "output_type": "execute_result"
    }
   ],
   "source": [
    "df1 + df2"
   ]
  },
  {
   "cell_type": "markdown",
   "id": "36921f27",
   "metadata": {},
   "source": [
    "**Сравнение возможно только для датафреймов у которых лейблы в точности совпадают!**"
   ]
  },
  {
   "cell_type": "markdown",
   "id": "770b6f33",
   "metadata": {},
   "source": [
    "## Задачи урока 3.10"
   ]
  },
  {
   "cell_type": "markdown",
   "id": "3fd9ac76",
   "metadata": {},
   "source": [
    "1. Стажер Саша запутался, когда работал с датафреймом. Он хотел вытянуть две строчки, но всё напутал. Теперь он пришел к вам и просит о помощи. Отредактируйте, пожалуйста, код Саши."
   ]
  },
  {
   "cell_type": "markdown",
   "id": "67d155c3",
   "metadata": {},
   "source": [
    "![1](https://ucarecdn.com/15295984-0ab0-435c-b064-fa68724b5283/)\n",
    "\n",
    "![2](https://ucarecdn.com/8a7967e6-bde2-4af1-914d-85308c718873/)"
   ]
  },
  {
   "cell_type": "code",
   "execution_count": 155,
   "id": "17cc3ac6",
   "metadata": {},
   "outputs": [],
   "source": [
    "import pandas as pd\n",
    "\n",
    "def solution(_df):\n",
    "    result = _df.loc[['a', 'c']] # исправьте ошибку\n",
    "    return result"
   ]
  },
  {
   "cell_type": "markdown",
   "id": "c8b127de",
   "metadata": {},
   "source": [
    "2. На вход подаётся датафрейм, пользуясь оператором at, вытяните из датафрейма значение из строки d, во втором столбце. Функция должна вернуть это значение\n",
    "\n",
    "![1](https://ucarecdn.com/1100a59a-26d6-453b-a13c-aa438905cc87/)"
   ]
  },
  {
   "cell_type": "code",
   "execution_count": 156,
   "id": "533d8417",
   "metadata": {},
   "outputs": [],
   "source": [
    "import pandas as pd\n",
    "\n",
    "def solution(_df):\n",
    "    return df.at['d', 'col2']"
   ]
  },
  {
   "cell_type": "markdown",
   "id": "f28d8242",
   "metadata": {},
   "source": [
    "3. На вход функции подаётся датафрейм, выполните поэлементное сложение двух строк (a и d):\n",
    "\n",
    "![1](https://ucarecdn.com/31a3a14c-3569-47a5-b9f3-628ab15dbb93/)  \n",
    "   На выходе должна получиться серия:\n",
    "\n",
    "![2](https://ucarecdn.com/b8ec4e6a-6cd1-41f3-ac7c-b9cefa305258/)"
   ]
  },
  {
   "cell_type": "code",
   "execution_count": null,
   "id": "8bb435e7",
   "metadata": {},
   "outputs": [],
   "source": [
    "import pandas as pd\n",
    "\n",
    "def solution(_df):\n",
    "    result = _df.loc['a'] + _df.loc['d']\n",
    "    return result"
   ]
  },
  {
   "cell_type": "markdown",
   "id": "fb9087ab",
   "metadata": {},
   "source": [
    "## 3.11 Сложение датафреймов, сортировки, арифметика с пропусками"
   ]
  },
  {
   "cell_type": "markdown",
   "id": "4973e687",
   "metadata": {},
   "source": [
    "Для правильного сложения датафрэймов необходимо, чтобы индексы и колонки полностью совпадали у двух датафрэймов"
   ]
  },
  {
   "cell_type": "code",
   "execution_count": 4,
   "id": "9818848d",
   "metadata": {},
   "outputs": [
    {
     "data": {
      "text/html": [
       "<div>\n",
       "<style scoped>\n",
       "    .dataframe tbody tr th:only-of-type {\n",
       "        vertical-align: middle;\n",
       "    }\n",
       "\n",
       "    .dataframe tbody tr th {\n",
       "        vertical-align: top;\n",
       "    }\n",
       "\n",
       "    .dataframe thead th {\n",
       "        text-align: right;\n",
       "    }\n",
       "</style>\n",
       "<table border=\"1\" class=\"dataframe\">\n",
       "  <thead>\n",
       "    <tr style=\"text-align: right;\">\n",
       "      <th></th>\n",
       "      <th>A</th>\n",
       "      <th>B</th>\n",
       "    </tr>\n",
       "  </thead>\n",
       "  <tbody>\n",
       "    <tr>\n",
       "      <th>0</th>\n",
       "      <td>NaN</td>\n",
       "      <td>NaN</td>\n",
       "    </tr>\n",
       "    <tr>\n",
       "      <th>1</th>\n",
       "      <td>NaN</td>\n",
       "      <td>NaN</td>\n",
       "    </tr>\n",
       "    <tr>\n",
       "      <th>2</th>\n",
       "      <td>NaN</td>\n",
       "      <td>NaN</td>\n",
       "    </tr>\n",
       "  </tbody>\n",
       "</table>\n",
       "</div>"
      ],
      "text/plain": [
       "    A   B\n",
       "0 NaN NaN\n",
       "1 NaN NaN\n",
       "2 NaN NaN"
      ]
     },
     "execution_count": 4,
     "metadata": {},
     "output_type": "execute_result"
    }
   ],
   "source": [
    "import pandas as pd\n",
    "\n",
    "df1 = pd.DataFrame({'A': [1, 2, 3]})\n",
    "df2 = pd.DataFrame({'B': [1, 2, 3]})\n",
    "\n",
    "df1 + df2 # не совпадают колонки"
   ]
  },
  {
   "cell_type": "markdown",
   "id": "1039ac8e",
   "metadata": {},
   "source": [
    "Функции ниже ничего не записывают в датафрейм. Они просто пытаются выполнить свою работу и если одно из слагаемых NaN, тогда оно подменяется на значение из параметра fill_value. *Если и и там будет NaN, то тут уже не сработает.*\n",
    "\n",
    "**Функции:**\n",
    "\n",
    "* add, radd - сложение\n",
    "\n",
    "* sub, rsub - вычитание\n",
    "\n",
    "* div, rdiv - деление\n",
    "\n",
    "* mul, rmul - умножение\n",
    "\n",
    "* pow, rpow - возведение в степень\n",
    "\n",
    " \n",
    "\n",
    "**Чем отличается функция с буквой r в начале?. Покажу на примере:**\n",
    "\n",
    "df / 5  - означает, разделить все значения датафрейма на 5. Тоже самое: df.div(5)  (да-да, в функцию можно и число передавать)\n",
    "А как например записать наборот?: 5 / df т.е. пятёрку разделить на каждый элемент датафрейма. Вот для этого и нужна функция rdiv:  df.rdiv(5). Т.е. функции с буквой r как-бы меняют местами наши элементы."
   ]
  },
  {
   "cell_type": "code",
   "execution_count": 150,
   "id": "89c38246",
   "metadata": {},
   "outputs": [
    {
     "data": {
      "text/html": [
       "<div>\n",
       "<style scoped>\n",
       "    .dataframe tbody tr th:only-of-type {\n",
       "        vertical-align: middle;\n",
       "    }\n",
       "\n",
       "    .dataframe tbody tr th {\n",
       "        vertical-align: top;\n",
       "    }\n",
       "\n",
       "    .dataframe thead th {\n",
       "        text-align: right;\n",
       "    }\n",
       "</style>\n",
       "<table border=\"1\" class=\"dataframe\">\n",
       "  <thead>\n",
       "    <tr style=\"text-align: right;\">\n",
       "      <th></th>\n",
       "      <th>visits</th>\n",
       "    </tr>\n",
       "  </thead>\n",
       "  <tbody>\n",
       "    <tr>\n",
       "      <th>Kazan</th>\n",
       "      <td>100</td>\n",
       "    </tr>\n",
       "    <tr>\n",
       "      <th>Vladivostok</th>\n",
       "      <td>200</td>\n",
       "    </tr>\n",
       "    <tr>\n",
       "      <th>Moscow</th>\n",
       "      <td>300</td>\n",
       "    </tr>\n",
       "  </tbody>\n",
       "</table>\n",
       "</div>"
      ],
      "text/plain": [
       "             visits\n",
       "Kazan           100\n",
       "Vladivostok     200\n",
       "Moscow          300"
      ]
     },
     "execution_count": 150,
     "metadata": {},
     "output_type": "execute_result"
    }
   ],
   "source": [
    "import pandas as pd\n",
    "import numpy as np\n",
    "\n",
    "df1 = pd.DataFrame({'visits':[100,200,300]}, index=['Kazan', 'Vladivostok','Moscow'])\n",
    "df2 = pd.DataFrame({'visits':[200, np.nan, 400]}, index=['Kazan', 'Vladivostok','Moscow'])\n",
    "\n",
    "df1"
   ]
  },
  {
   "cell_type": "code",
   "execution_count": 151,
   "id": "5523a193",
   "metadata": {},
   "outputs": [
    {
     "data": {
      "text/html": [
       "<div>\n",
       "<style scoped>\n",
       "    .dataframe tbody tr th:only-of-type {\n",
       "        vertical-align: middle;\n",
       "    }\n",
       "\n",
       "    .dataframe tbody tr th {\n",
       "        vertical-align: top;\n",
       "    }\n",
       "\n",
       "    .dataframe thead th {\n",
       "        text-align: right;\n",
       "    }\n",
       "</style>\n",
       "<table border=\"1\" class=\"dataframe\">\n",
       "  <thead>\n",
       "    <tr style=\"text-align: right;\">\n",
       "      <th></th>\n",
       "      <th>visits</th>\n",
       "    </tr>\n",
       "  </thead>\n",
       "  <tbody>\n",
       "    <tr>\n",
       "      <th>Kazan</th>\n",
       "      <td>200.0</td>\n",
       "    </tr>\n",
       "    <tr>\n",
       "      <th>Vladivostok</th>\n",
       "      <td>NaN</td>\n",
       "    </tr>\n",
       "    <tr>\n",
       "      <th>Moscow</th>\n",
       "      <td>400.0</td>\n",
       "    </tr>\n",
       "  </tbody>\n",
       "</table>\n",
       "</div>"
      ],
      "text/plain": [
       "             visits\n",
       "Kazan         200.0\n",
       "Vladivostok     NaN\n",
       "Moscow        400.0"
      ]
     },
     "execution_count": 151,
     "metadata": {},
     "output_type": "execute_result"
    }
   ],
   "source": [
    "df2"
   ]
  },
  {
   "cell_type": "code",
   "execution_count": 149,
   "id": "818ef02c",
   "metadata": {},
   "outputs": [
    {
     "data": {
      "text/html": [
       "<div>\n",
       "<style scoped>\n",
       "    .dataframe tbody tr th:only-of-type {\n",
       "        vertical-align: middle;\n",
       "    }\n",
       "\n",
       "    .dataframe tbody tr th {\n",
       "        vertical-align: top;\n",
       "    }\n",
       "\n",
       "    .dataframe thead th {\n",
       "        text-align: right;\n",
       "    }\n",
       "</style>\n",
       "<table border=\"1\" class=\"dataframe\">\n",
       "  <thead>\n",
       "    <tr style=\"text-align: right;\">\n",
       "      <th></th>\n",
       "      <th>visits</th>\n",
       "    </tr>\n",
       "  </thead>\n",
       "  <tbody>\n",
       "    <tr>\n",
       "      <th>Kazan</th>\n",
       "      <td>300.0</td>\n",
       "    </tr>\n",
       "    <tr>\n",
       "      <th>Vladivostok</th>\n",
       "      <td>NaN</td>\n",
       "    </tr>\n",
       "    <tr>\n",
       "      <th>Moscow</th>\n",
       "      <td>700.0</td>\n",
       "    </tr>\n",
       "  </tbody>\n",
       "</table>\n",
       "</div>"
      ],
      "text/plain": [
       "             visits\n",
       "Kazan         300.0\n",
       "Vladivostok     NaN\n",
       "Moscow        700.0"
      ]
     },
     "execution_count": 149,
     "metadata": {},
     "output_type": "execute_result"
    }
   ],
   "source": [
    "df1 + df2 # если пропущено значение, то сложения не будет"
   ]
  },
  {
   "cell_type": "code",
   "execution_count": 13,
   "id": "4ce2a0bd",
   "metadata": {},
   "outputs": [
    {
     "data": {
      "text/html": [
       "<div>\n",
       "<style scoped>\n",
       "    .dataframe tbody tr th:only-of-type {\n",
       "        vertical-align: middle;\n",
       "    }\n",
       "\n",
       "    .dataframe tbody tr th {\n",
       "        vertical-align: top;\n",
       "    }\n",
       "\n",
       "    .dataframe thead th {\n",
       "        text-align: right;\n",
       "    }\n",
       "</style>\n",
       "<table border=\"1\" class=\"dataframe\">\n",
       "  <thead>\n",
       "    <tr style=\"text-align: right;\">\n",
       "      <th></th>\n",
       "      <th>visits</th>\n",
       "    </tr>\n",
       "  </thead>\n",
       "  <tbody>\n",
       "    <tr>\n",
       "      <th>Kazan</th>\n",
       "      <td>300.0</td>\n",
       "    </tr>\n",
       "    <tr>\n",
       "      <th>Vladivostok</th>\n",
       "      <td>200.0</td>\n",
       "    </tr>\n",
       "    <tr>\n",
       "      <th>Moscow</th>\n",
       "      <td>700.0</td>\n",
       "    </tr>\n",
       "  </tbody>\n",
       "</table>\n",
       "</div>"
      ],
      "text/plain": [
       "             visits\n",
       "Kazan         300.0\n",
       "Vladivostok   200.0\n",
       "Moscow        700.0"
      ]
     },
     "execution_count": 13,
     "metadata": {},
     "output_type": "execute_result"
    }
   ],
   "source": [
    "df1.add(df2, fill_value=0) # другое дело, вместо NaN значения заполнены 0"
   ]
  },
  {
   "cell_type": "markdown",
   "id": "ec83ea7a",
   "metadata": {},
   "source": [
    "Если попытаться сложить серию с датафрэймом, то сложение будет происходить по индексу и по колонке:"
   ]
  },
  {
   "cell_type": "code",
   "execution_count": 16,
   "id": "d7e32d65",
   "metadata": {},
   "outputs": [
    {
     "data": {
      "text/html": [
       "<div>\n",
       "<style scoped>\n",
       "    .dataframe tbody tr th:only-of-type {\n",
       "        vertical-align: middle;\n",
       "    }\n",
       "\n",
       "    .dataframe tbody tr th {\n",
       "        vertical-align: top;\n",
       "    }\n",
       "\n",
       "    .dataframe thead th {\n",
       "        text-align: right;\n",
       "    }\n",
       "</style>\n",
       "<table border=\"1\" class=\"dataframe\">\n",
       "  <thead>\n",
       "    <tr style=\"text-align: right;\">\n",
       "      <th></th>\n",
       "      <th>a</th>\n",
       "      <th>b</th>\n",
       "    </tr>\n",
       "  </thead>\n",
       "  <tbody>\n",
       "    <tr>\n",
       "      <th>Kazan</th>\n",
       "      <td>100</td>\n",
       "      <td>1</td>\n",
       "    </tr>\n",
       "    <tr>\n",
       "      <th>Vladivostok</th>\n",
       "      <td>200</td>\n",
       "      <td>2</td>\n",
       "    </tr>\n",
       "    <tr>\n",
       "      <th>Moscow</th>\n",
       "      <td>300</td>\n",
       "      <td>3</td>\n",
       "    </tr>\n",
       "  </tbody>\n",
       "</table>\n",
       "</div>"
      ],
      "text/plain": [
       "               a  b\n",
       "Kazan        100  1\n",
       "Vladivostok  200  2\n",
       "Moscow       300  3"
      ]
     },
     "execution_count": 16,
     "metadata": {},
     "output_type": "execute_result"
    }
   ],
   "source": [
    "import pandas as pd\n",
    "\n",
    "df3 = pd.DataFrame({'a':[100, 200, 300], \n",
    "                    'b': [1, 2, 3]}, index=['Kazan', 'Vladivostok','Moscow'])\n",
    "\n",
    "df3"
   ]
  },
  {
   "cell_type": "code",
   "execution_count": 17,
   "id": "b9f4517a",
   "metadata": {},
   "outputs": [
    {
     "data": {
      "text/plain": [
       "a    1\n",
       "b    2\n",
       "dtype: int64"
      ]
     },
     "execution_count": 17,
     "metadata": {},
     "output_type": "execute_result"
    }
   ],
   "source": [
    "s1 = pd.Series([1, 2], index=['a', 'b'])\n",
    "s1"
   ]
  },
  {
   "cell_type": "code",
   "execution_count": 18,
   "id": "e9f2ef6f",
   "metadata": {},
   "outputs": [
    {
     "data": {
      "text/html": [
       "<div>\n",
       "<style scoped>\n",
       "    .dataframe tbody tr th:only-of-type {\n",
       "        vertical-align: middle;\n",
       "    }\n",
       "\n",
       "    .dataframe tbody tr th {\n",
       "        vertical-align: top;\n",
       "    }\n",
       "\n",
       "    .dataframe thead th {\n",
       "        text-align: right;\n",
       "    }\n",
       "</style>\n",
       "<table border=\"1\" class=\"dataframe\">\n",
       "  <thead>\n",
       "    <tr style=\"text-align: right;\">\n",
       "      <th></th>\n",
       "      <th>a</th>\n",
       "      <th>b</th>\n",
       "    </tr>\n",
       "  </thead>\n",
       "  <tbody>\n",
       "    <tr>\n",
       "      <th>Kazan</th>\n",
       "      <td>101</td>\n",
       "      <td>3</td>\n",
       "    </tr>\n",
       "    <tr>\n",
       "      <th>Vladivostok</th>\n",
       "      <td>201</td>\n",
       "      <td>4</td>\n",
       "    </tr>\n",
       "    <tr>\n",
       "      <th>Moscow</th>\n",
       "      <td>301</td>\n",
       "      <td>5</td>\n",
       "    </tr>\n",
       "  </tbody>\n",
       "</table>\n",
       "</div>"
      ],
      "text/plain": [
       "               a  b\n",
       "Kazan        101  3\n",
       "Vladivostok  201  4\n",
       "Moscow       301  5"
      ]
     },
     "execution_count": 18,
     "metadata": {},
     "output_type": "execute_result"
    }
   ],
   "source": [
    "df3 + s1"
   ]
  },
  {
   "cell_type": "markdown",
   "id": "4e59d605",
   "metadata": {},
   "source": [
    "Если необходимо произвести сложение по строкам, а не по столбцам, можно использовать следующий способ:"
   ]
  },
  {
   "cell_type": "code",
   "execution_count": 23,
   "id": "e7a63d76",
   "metadata": {},
   "outputs": [
    {
     "data": {
      "text/html": [
       "<div>\n",
       "<style scoped>\n",
       "    .dataframe tbody tr th:only-of-type {\n",
       "        vertical-align: middle;\n",
       "    }\n",
       "\n",
       "    .dataframe tbody tr th {\n",
       "        vertical-align: top;\n",
       "    }\n",
       "\n",
       "    .dataframe thead th {\n",
       "        text-align: right;\n",
       "    }\n",
       "</style>\n",
       "<table border=\"1\" class=\"dataframe\">\n",
       "  <thead>\n",
       "    <tr style=\"text-align: right;\">\n",
       "      <th></th>\n",
       "      <th>a</th>\n",
       "      <th>b</th>\n",
       "    </tr>\n",
       "  </thead>\n",
       "  <tbody>\n",
       "    <tr>\n",
       "      <th>Kazan</th>\n",
       "      <td>101.0</td>\n",
       "      <td>2.0</td>\n",
       "    </tr>\n",
       "    <tr>\n",
       "      <th>Moscow</th>\n",
       "      <td>302.0</td>\n",
       "      <td>5.0</td>\n",
       "    </tr>\n",
       "    <tr>\n",
       "      <th>Vladivostok</th>\n",
       "      <td>NaN</td>\n",
       "      <td>NaN</td>\n",
       "    </tr>\n",
       "  </tbody>\n",
       "</table>\n",
       "</div>"
      ],
      "text/plain": [
       "                 a    b\n",
       "Kazan        101.0  2.0\n",
       "Moscow       302.0  5.0\n",
       "Vladivostok    NaN  NaN"
      ]
     },
     "execution_count": 23,
     "metadata": {},
     "output_type": "execute_result"
    }
   ],
   "source": [
    "s1 = pd.Series([1, 2], index=['Kazan', 'Moscow']) # меняем индексы на строчные\n",
    "\n",
    "df3.add(s1, axis=0)"
   ]
  },
  {
   "cell_type": "markdown",
   "id": "7e09a54a",
   "metadata": {},
   "source": [
    "**Сортировка Series**"
   ]
  },
  {
   "cell_type": "code",
   "execution_count": 152,
   "id": "46ceb6fe",
   "metadata": {},
   "outputs": [
    {
     "data": {
      "text/plain": [
       "c    1\n",
       "a   -2\n",
       "b    3\n",
       "d   -4\n",
       "dtype: int64"
      ]
     },
     "execution_count": 152,
     "metadata": {},
     "output_type": "execute_result"
    }
   ],
   "source": [
    "import pandas as pd\n",
    "\n",
    "s = pd.Series([1,-2,3,-4], index = ['c','a','b','d'])\n",
    "s"
   ]
  },
  {
   "cell_type": "code",
   "execution_count": 34,
   "id": "4d8409f4",
   "metadata": {},
   "outputs": [
    {
     "data": {
      "text/plain": [
       "d   -4\n",
       "c    1\n",
       "b    3\n",
       "a   -2\n",
       "dtype: int64"
      ]
     },
     "execution_count": 34,
     "metadata": {},
     "output_type": "execute_result"
    }
   ],
   "source": [
    "s.sort_index(ascending=False, inplace=True) # сортировка по индексу, по убыванию, изменяя серию\n",
    "s"
   ]
  },
  {
   "cell_type": "code",
   "execution_count": 37,
   "id": "0ec10a2f",
   "metadata": {},
   "outputs": [
    {
     "data": {
      "text/plain": [
       "d   -4\n",
       "a   -2\n",
       "c    1\n",
       "b    3\n",
       "dtype: int64"
      ]
     },
     "execution_count": 37,
     "metadata": {},
     "output_type": "execute_result"
    }
   ],
   "source": [
    "s.sort_values() # сортировка значений без аргументов"
   ]
  },
  {
   "cell_type": "markdown",
   "id": "d507ca21",
   "metadata": {},
   "source": [
    "**Сортировка DataFrame**"
   ]
  },
  {
   "cell_type": "markdown",
   "id": "db5177e5",
   "metadata": {},
   "source": [
    "Сортировка лэйблов производится по осям:"
   ]
  },
  {
   "cell_type": "code",
   "execution_count": 155,
   "id": "2c4584b3",
   "metadata": {},
   "outputs": [
    {
     "data": {
      "text/html": [
       "<div>\n",
       "<style scoped>\n",
       "    .dataframe tbody tr th:only-of-type {\n",
       "        vertical-align: middle;\n",
       "    }\n",
       "\n",
       "    .dataframe tbody tr th {\n",
       "        vertical-align: top;\n",
       "    }\n",
       "\n",
       "    .dataframe thead th {\n",
       "        text-align: right;\n",
       "    }\n",
       "</style>\n",
       "<table border=\"1\" class=\"dataframe\">\n",
       "  <thead>\n",
       "    <tr style=\"text-align: right;\">\n",
       "      <th></th>\n",
       "      <th>e</th>\n",
       "      <th>b</th>\n",
       "      <th>d</th>\n",
       "    </tr>\n",
       "  </thead>\n",
       "  <tbody>\n",
       "    <tr>\n",
       "      <th>e</th>\n",
       "      <td>9</td>\n",
       "      <td>10</td>\n",
       "      <td>11</td>\n",
       "    </tr>\n",
       "    <tr>\n",
       "      <th>d</th>\n",
       "      <td>6</td>\n",
       "      <td>7</td>\n",
       "      <td>8</td>\n",
       "    </tr>\n",
       "    <tr>\n",
       "      <th>c</th>\n",
       "      <td>3</td>\n",
       "      <td>4</td>\n",
       "      <td>5</td>\n",
       "    </tr>\n",
       "    <tr>\n",
       "      <th>a</th>\n",
       "      <td>0</td>\n",
       "      <td>1</td>\n",
       "      <td>2</td>\n",
       "    </tr>\n",
       "  </tbody>\n",
       "</table>\n",
       "</div>"
      ],
      "text/plain": [
       "   e   b   d\n",
       "e  9  10  11\n",
       "d  6   7   8\n",
       "c  3   4   5\n",
       "a  0   1   2"
      ]
     },
     "execution_count": 155,
     "metadata": {},
     "output_type": "execute_result"
    }
   ],
   "source": [
    "import pandas as pd\n",
    "\n",
    "df = pd.DataFrame(np.arange(12).reshape(4, 3), columns=list('ebd'), index=['a', 'c', 'd', 'e'])\n",
    "\n",
    "df.sort_index(ascending=False, axis=0, inplace=True) # сортировка по индексу, в обратном порядке, на месте\n",
    "\n",
    "df"
   ]
  },
  {
   "cell_type": "code",
   "execution_count": 156,
   "id": "4768a16e",
   "metadata": {},
   "outputs": [
    {
     "data": {
      "text/html": [
       "<div>\n",
       "<style scoped>\n",
       "    .dataframe tbody tr th:only-of-type {\n",
       "        vertical-align: middle;\n",
       "    }\n",
       "\n",
       "    .dataframe tbody tr th {\n",
       "        vertical-align: top;\n",
       "    }\n",
       "\n",
       "    .dataframe thead th {\n",
       "        text-align: right;\n",
       "    }\n",
       "</style>\n",
       "<table border=\"1\" class=\"dataframe\">\n",
       "  <thead>\n",
       "    <tr style=\"text-align: right;\">\n",
       "      <th></th>\n",
       "      <th>b</th>\n",
       "      <th>d</th>\n",
       "      <th>e</th>\n",
       "    </tr>\n",
       "  </thead>\n",
       "  <tbody>\n",
       "    <tr>\n",
       "      <th>e</th>\n",
       "      <td>10</td>\n",
       "      <td>11</td>\n",
       "      <td>9</td>\n",
       "    </tr>\n",
       "    <tr>\n",
       "      <th>d</th>\n",
       "      <td>7</td>\n",
       "      <td>8</td>\n",
       "      <td>6</td>\n",
       "    </tr>\n",
       "    <tr>\n",
       "      <th>c</th>\n",
       "      <td>4</td>\n",
       "      <td>5</td>\n",
       "      <td>3</td>\n",
       "    </tr>\n",
       "    <tr>\n",
       "      <th>a</th>\n",
       "      <td>1</td>\n",
       "      <td>2</td>\n",
       "      <td>0</td>\n",
       "    </tr>\n",
       "  </tbody>\n",
       "</table>\n",
       "</div>"
      ],
      "text/plain": [
       "    b   d  e\n",
       "e  10  11  9\n",
       "d   7   8  6\n",
       "c   4   5  3\n",
       "a   1   2  0"
      ]
     },
     "execution_count": 156,
     "metadata": {},
     "output_type": "execute_result"
    }
   ],
   "source": [
    "df.sort_index(axis=1) # сортировка по столбцу"
   ]
  },
  {
   "cell_type": "markdown",
   "id": "1a50aa85",
   "metadata": {},
   "source": [
    "Сортировка значений производится следующим образом:"
   ]
  },
  {
   "cell_type": "code",
   "execution_count": 100,
   "id": "2309022c",
   "metadata": {},
   "outputs": [
    {
     "data": {
      "text/html": [
       "<div>\n",
       "<style scoped>\n",
       "    .dataframe tbody tr th:only-of-type {\n",
       "        vertical-align: middle;\n",
       "    }\n",
       "\n",
       "    .dataframe tbody tr th {\n",
       "        vertical-align: top;\n",
       "    }\n",
       "\n",
       "    .dataframe thead th {\n",
       "        text-align: right;\n",
       "    }\n",
       "</style>\n",
       "<table border=\"1\" class=\"dataframe\">\n",
       "  <thead>\n",
       "    <tr style=\"text-align: right;\">\n",
       "      <th></th>\n",
       "      <th>name</th>\n",
       "      <th>age</th>\n",
       "      <th>clicks</th>\n",
       "      <th>balance</th>\n",
       "      <th>history</th>\n",
       "    </tr>\n",
       "  </thead>\n",
       "  <tbody>\n",
       "    <tr>\n",
       "      <th>a</th>\n",
       "      <td>Ivan</td>\n",
       "      <td>25</td>\n",
       "      <td>4</td>\n",
       "      <td>50</td>\n",
       "      <td>1</td>\n",
       "    </tr>\n",
       "    <tr>\n",
       "      <th>b</th>\n",
       "      <td>Petr</td>\n",
       "      <td>40</td>\n",
       "      <td>9</td>\n",
       "      <td>250</td>\n",
       "      <td>8</td>\n",
       "    </tr>\n",
       "    <tr>\n",
       "      <th>c</th>\n",
       "      <td>Nikolay</td>\n",
       "      <td>19</td>\n",
       "      <td>12</td>\n",
       "      <td>25</td>\n",
       "      <td>1</td>\n",
       "    </tr>\n",
       "    <tr>\n",
       "      <th>d</th>\n",
       "      <td>Sergey</td>\n",
       "      <td>33</td>\n",
       "      <td>6</td>\n",
       "      <td>115</td>\n",
       "      <td>6</td>\n",
       "    </tr>\n",
       "    <tr>\n",
       "      <th>e</th>\n",
       "      <td>Andrey</td>\n",
       "      <td>38</td>\n",
       "      <td>2</td>\n",
       "      <td>152</td>\n",
       "      <td>4</td>\n",
       "    </tr>\n",
       "    <tr>\n",
       "      <th>f</th>\n",
       "      <td>Ilya</td>\n",
       "      <td>20</td>\n",
       "      <td>18</td>\n",
       "      <td>15</td>\n",
       "      <td>2</td>\n",
       "    </tr>\n",
       "    <tr>\n",
       "      <th>g</th>\n",
       "      <td>Igor</td>\n",
       "      <td>19</td>\n",
       "      <td>2</td>\n",
       "      <td>10</td>\n",
       "      <td>1</td>\n",
       "    </tr>\n",
       "  </tbody>\n",
       "</table>\n",
       "</div>"
      ],
      "text/plain": [
       "      name  age  clicks  balance  history\n",
       "a     Ivan   25       4       50        1\n",
       "b     Petr   40       9      250        8\n",
       "c  Nikolay   19      12       25        1\n",
       "d   Sergey   33       6      115        6\n",
       "e   Andrey   38       2      152        4\n",
       "f     Ilya   20      18       15        2\n",
       "g     Igor   19       2       10        1"
      ]
     },
     "execution_count": 100,
     "metadata": {},
     "output_type": "execute_result"
    }
   ],
   "source": [
    "import pandas as pd\n",
    "\n",
    "data = [['Ivan', 25, 4, 50, 1], \n",
    "        ['Petr', 40, 9, 250, 8], \n",
    "        ['Nikolay', 19, 12, 25, 1], \n",
    "        ['Sergey', 33, 6, 115, 6],\n",
    "        ['Andrey', 38, 2, 152, 4],\n",
    "        ['Ilya', 20, 18, 15, 2],\n",
    "        ['Igor', 19, 2, 10, 1]]\n",
    "\n",
    "df = pd.DataFrame(data, columns=['name', 'age', 'clicks', 'balance', 'history'], index=list('abcdefg'))\n",
    "df"
   ]
  },
  {
   "cell_type": "code",
   "execution_count": 50,
   "id": "49e92ed8",
   "metadata": {},
   "outputs": [
    {
     "data": {
      "text/html": [
       "<div>\n",
       "<style scoped>\n",
       "    .dataframe tbody tr th:only-of-type {\n",
       "        vertical-align: middle;\n",
       "    }\n",
       "\n",
       "    .dataframe tbody tr th {\n",
       "        vertical-align: top;\n",
       "    }\n",
       "\n",
       "    .dataframe thead th {\n",
       "        text-align: right;\n",
       "    }\n",
       "</style>\n",
       "<table border=\"1\" class=\"dataframe\">\n",
       "  <thead>\n",
       "    <tr style=\"text-align: right;\">\n",
       "      <th></th>\n",
       "      <th>name</th>\n",
       "      <th>age</th>\n",
       "      <th>clicks</th>\n",
       "      <th>balance</th>\n",
       "      <th>history</th>\n",
       "    </tr>\n",
       "  </thead>\n",
       "  <tbody>\n",
       "    <tr>\n",
       "      <th>c</th>\n",
       "      <td>Nikolay</td>\n",
       "      <td>19</td>\n",
       "      <td>12</td>\n",
       "      <td>25</td>\n",
       "      <td>1</td>\n",
       "    </tr>\n",
       "    <tr>\n",
       "      <th>g</th>\n",
       "      <td>Igor</td>\n",
       "      <td>19</td>\n",
       "      <td>2</td>\n",
       "      <td>10</td>\n",
       "      <td>1</td>\n",
       "    </tr>\n",
       "    <tr>\n",
       "      <th>f</th>\n",
       "      <td>Ilya</td>\n",
       "      <td>20</td>\n",
       "      <td>18</td>\n",
       "      <td>15</td>\n",
       "      <td>2</td>\n",
       "    </tr>\n",
       "    <tr>\n",
       "      <th>a</th>\n",
       "      <td>Ivan</td>\n",
       "      <td>25</td>\n",
       "      <td>4</td>\n",
       "      <td>50</td>\n",
       "      <td>1</td>\n",
       "    </tr>\n",
       "    <tr>\n",
       "      <th>d</th>\n",
       "      <td>Sergey</td>\n",
       "      <td>33</td>\n",
       "      <td>6</td>\n",
       "      <td>115</td>\n",
       "      <td>6</td>\n",
       "    </tr>\n",
       "    <tr>\n",
       "      <th>e</th>\n",
       "      <td>Andrey</td>\n",
       "      <td>38</td>\n",
       "      <td>2</td>\n",
       "      <td>152</td>\n",
       "      <td>4</td>\n",
       "    </tr>\n",
       "    <tr>\n",
       "      <th>b</th>\n",
       "      <td>Petr</td>\n",
       "      <td>40</td>\n",
       "      <td>9</td>\n",
       "      <td>250</td>\n",
       "      <td>8</td>\n",
       "    </tr>\n",
       "  </tbody>\n",
       "</table>\n",
       "</div>"
      ],
      "text/plain": [
       "      name  age  clicks  balance  history\n",
       "c  Nikolay   19      12       25        1\n",
       "g     Igor   19       2       10        1\n",
       "f     Ilya   20      18       15        2\n",
       "a     Ivan   25       4       50        1\n",
       "d   Sergey   33       6      115        6\n",
       "e   Andrey   38       2      152        4\n",
       "b     Petr   40       9      250        8"
      ]
     },
     "execution_count": 50,
     "metadata": {},
     "output_type": "execute_result"
    }
   ],
   "source": [
    "df.sort_values(by='age') # по одной колонке"
   ]
  },
  {
   "cell_type": "code",
   "execution_count": 57,
   "id": "49016934",
   "metadata": {},
   "outputs": [
    {
     "data": {
      "text/html": [
       "<div>\n",
       "<style scoped>\n",
       "    .dataframe tbody tr th:only-of-type {\n",
       "        vertical-align: middle;\n",
       "    }\n",
       "\n",
       "    .dataframe tbody tr th {\n",
       "        vertical-align: top;\n",
       "    }\n",
       "\n",
       "    .dataframe thead th {\n",
       "        text-align: right;\n",
       "    }\n",
       "</style>\n",
       "<table border=\"1\" class=\"dataframe\">\n",
       "  <thead>\n",
       "    <tr style=\"text-align: right;\">\n",
       "      <th></th>\n",
       "      <th>name</th>\n",
       "      <th>age</th>\n",
       "      <th>clicks</th>\n",
       "      <th>balance</th>\n",
       "      <th>history</th>\n",
       "    </tr>\n",
       "  </thead>\n",
       "  <tbody>\n",
       "    <tr>\n",
       "      <th>b</th>\n",
       "      <td>Petr</td>\n",
       "      <td>40</td>\n",
       "      <td>9</td>\n",
       "      <td>250</td>\n",
       "      <td>8</td>\n",
       "    </tr>\n",
       "    <tr>\n",
       "      <th>e</th>\n",
       "      <td>Andrey</td>\n",
       "      <td>38</td>\n",
       "      <td>2</td>\n",
       "      <td>152</td>\n",
       "      <td>4</td>\n",
       "    </tr>\n",
       "    <tr>\n",
       "      <th>d</th>\n",
       "      <td>Sergey</td>\n",
       "      <td>33</td>\n",
       "      <td>6</td>\n",
       "      <td>115</td>\n",
       "      <td>6</td>\n",
       "    </tr>\n",
       "    <tr>\n",
       "      <th>a</th>\n",
       "      <td>Ivan</td>\n",
       "      <td>25</td>\n",
       "      <td>4</td>\n",
       "      <td>50</td>\n",
       "      <td>1</td>\n",
       "    </tr>\n",
       "    <tr>\n",
       "      <th>f</th>\n",
       "      <td>Ilya</td>\n",
       "      <td>20</td>\n",
       "      <td>18</td>\n",
       "      <td>15</td>\n",
       "      <td>2</td>\n",
       "    </tr>\n",
       "    <tr>\n",
       "      <th>c</th>\n",
       "      <td>Nikolay</td>\n",
       "      <td>19</td>\n",
       "      <td>12</td>\n",
       "      <td>25</td>\n",
       "      <td>1</td>\n",
       "    </tr>\n",
       "    <tr>\n",
       "      <th>g</th>\n",
       "      <td>Igor</td>\n",
       "      <td>19</td>\n",
       "      <td>2</td>\n",
       "      <td>10</td>\n",
       "      <td>1</td>\n",
       "    </tr>\n",
       "  </tbody>\n",
       "</table>\n",
       "</div>"
      ],
      "text/plain": [
       "      name  age  clicks  balance  history\n",
       "b     Petr   40       9      250        8\n",
       "e   Andrey   38       2      152        4\n",
       "d   Sergey   33       6      115        6\n",
       "a     Ivan   25       4       50        1\n",
       "f     Ilya   20      18       15        2\n",
       "c  Nikolay   19      12       25        1\n",
       "g     Igor   19       2       10        1"
      ]
     },
     "execution_count": 57,
     "metadata": {},
     "output_type": "execute_result"
    }
   ],
   "source": [
    "df.sort_values(by=['age', 'balance'], ascending=False) # по двум колонкам"
   ]
  },
  {
   "cell_type": "code",
   "execution_count": 93,
   "id": "99a38204",
   "metadata": {},
   "outputs": [
    {
     "data": {
      "text/plain": [
       "True"
      ]
     },
     "execution_count": 93,
     "metadata": {},
     "output_type": "execute_result"
    }
   ],
   "source": [
    "df.index.is_unique # позволяет проверить все ли индексы уникальны в датафрэйме"
   ]
  },
  {
   "cell_type": "markdown",
   "id": "23a909fd",
   "metadata": {},
   "source": [
    "## 3.12 Описательные статистики. Уникальные значения"
   ]
  },
  {
   "cell_type": "code",
   "execution_count": 104,
   "id": "3f6641c5",
   "metadata": {},
   "outputs": [
    {
     "data": {
      "text/html": [
       "<div>\n",
       "<style scoped>\n",
       "    .dataframe tbody tr th:only-of-type {\n",
       "        vertical-align: middle;\n",
       "    }\n",
       "\n",
       "    .dataframe tbody tr th {\n",
       "        vertical-align: top;\n",
       "    }\n",
       "\n",
       "    .dataframe thead th {\n",
       "        text-align: right;\n",
       "    }\n",
       "</style>\n",
       "<table border=\"1\" class=\"dataframe\">\n",
       "  <thead>\n",
       "    <tr style=\"text-align: right;\">\n",
       "      <th></th>\n",
       "      <th>visits_2021</th>\n",
       "      <th>visits_2020</th>\n",
       "      <th>visits_2019</th>\n",
       "    </tr>\n",
       "  </thead>\n",
       "  <tbody>\n",
       "    <tr>\n",
       "      <th>Moscow</th>\n",
       "      <td>100</td>\n",
       "      <td>90.0</td>\n",
       "      <td>10.0</td>\n",
       "    </tr>\n",
       "    <tr>\n",
       "      <th>Kazan</th>\n",
       "      <td>200</td>\n",
       "      <td>100.0</td>\n",
       "      <td>NaN</td>\n",
       "    </tr>\n",
       "    <tr>\n",
       "      <th>Ufa</th>\n",
       "      <td>300</td>\n",
       "      <td>NaN</td>\n",
       "      <td>20.0</td>\n",
       "    </tr>\n",
       "    <tr>\n",
       "      <th>Yakutsk</th>\n",
       "      <td>50</td>\n",
       "      <td>10.0</td>\n",
       "      <td>16.0</td>\n",
       "    </tr>\n",
       "    <tr>\n",
       "      <th>Novosibirsk</th>\n",
       "      <td>40</td>\n",
       "      <td>80.0</td>\n",
       "      <td>80.0</td>\n",
       "    </tr>\n",
       "  </tbody>\n",
       "</table>\n",
       "</div>"
      ],
      "text/plain": [
       "             visits_2021  visits_2020  visits_2019\n",
       "Moscow               100         90.0         10.0\n",
       "Kazan                200        100.0          NaN\n",
       "Ufa                  300          NaN         20.0\n",
       "Yakutsk               50         10.0         16.0\n",
       "Novosibirsk           40         80.0         80.0"
      ]
     },
     "execution_count": 104,
     "metadata": {},
     "output_type": "execute_result"
    }
   ],
   "source": [
    "import pandas as pd\n",
    "\n",
    "df = pd.DataFrame({'visits_2021' : [100, 200, 300, 50, 40],\n",
    "                   'visits_2020' : [90, 100, np.nan, 10, 80],\n",
    "                   'visits_2019' : [10, np.nan, 20, 16, 80]}, index=['Moscow', 'Kazan', 'Ufa', 'Yakutsk', 'Novosibirsk'])\n",
    "\n",
    "df"
   ]
  },
  {
   "cell_type": "code",
   "execution_count": 105,
   "id": "0aa8fc70",
   "metadata": {},
   "outputs": [
    {
     "data": {
      "text/plain": [
       "visits_2021    690.0\n",
       "visits_2020    280.0\n",
       "visits_2019    126.0\n",
       "dtype: float64"
      ]
     },
     "execution_count": 105,
     "metadata": {},
     "output_type": "execute_result"
    }
   ],
   "source": [
    "df.sum() # сумма по каждому столбцу"
   ]
  },
  {
   "cell_type": "code",
   "execution_count": 106,
   "id": "4ea23d9d",
   "metadata": {},
   "outputs": [
    {
     "data": {
      "text/plain": [
       "Moscow         200.0\n",
       "Kazan          300.0\n",
       "Ufa            320.0\n",
       "Yakutsk         76.0\n",
       "Novosibirsk    200.0\n",
       "dtype: float64"
      ]
     },
     "execution_count": 106,
     "metadata": {},
     "output_type": "execute_result"
    }
   ],
   "source": [
    "df.sum(axis=1) # сумма по строкам"
   ]
  },
  {
   "cell_type": "code",
   "execution_count": 107,
   "id": "3f76f922",
   "metadata": {},
   "outputs": [
    {
     "data": {
      "text/plain": [
       "visits_2021    138.0\n",
       "visits_2020     70.0\n",
       "visits_2019     31.5\n",
       "dtype: float64"
      ]
     },
     "execution_count": 107,
     "metadata": {},
     "output_type": "execute_result"
    }
   ],
   "source": [
    "df.mean() # среднее значение по каждому столбцу"
   ]
  },
  {
   "cell_type": "code",
   "execution_count": 109,
   "id": "844dfe4a",
   "metadata": {},
   "outputs": [
    {
     "data": {
      "text/plain": [
       "Moscow          66.666667\n",
       "Kazan          150.000000\n",
       "Ufa            160.000000\n",
       "Yakutsk         25.333333\n",
       "Novosibirsk     66.666667\n",
       "dtype: float64"
      ]
     },
     "execution_count": 109,
     "metadata": {},
     "output_type": "execute_result"
    }
   ],
   "source": [
    "df.mean(axis=1) # среднее значение по строкам"
   ]
  },
  {
   "cell_type": "code",
   "execution_count": 113,
   "id": "8c2b4f32",
   "metadata": {},
   "outputs": [
    {
     "data": {
      "text/plain": [
       "Moscow         66.666667\n",
       "Kazan                NaN\n",
       "Ufa                  NaN\n",
       "Yakutsk        25.333333\n",
       "Novosibirsk    66.666667\n",
       "dtype: float64"
      ]
     },
     "execution_count": 113,
     "metadata": {},
     "output_type": "execute_result"
    }
   ],
   "source": [
    "df.mean(axis=1, skipna=False) # с учетом NaN"
   ]
  },
  {
   "cell_type": "code",
   "execution_count": 116,
   "id": "da5f703e",
   "metadata": {},
   "outputs": [
    {
     "data": {
      "text/plain": [
       "visits_2021    40.0\n",
       "visits_2020    10.0\n",
       "visits_2019    10.0\n",
       "dtype: float64"
      ]
     },
     "execution_count": 116,
     "metadata": {},
     "output_type": "execute_result"
    }
   ],
   "source": [
    "df.min() # минимальное значение по столбцам"
   ]
  },
  {
   "cell_type": "code",
   "execution_count": 118,
   "id": "e5fdf6b6",
   "metadata": {},
   "outputs": [
    {
     "data": {
      "text/plain": [
       "Moscow         100.0\n",
       "Kazan          200.0\n",
       "Ufa            300.0\n",
       "Yakutsk         50.0\n",
       "Novosibirsk     80.0\n",
       "dtype: float64"
      ]
     },
     "execution_count": 118,
     "metadata": {},
     "output_type": "execute_result"
    }
   ],
   "source": [
    "df.max(axis=1) # максимальное значение по строкам"
   ]
  },
  {
   "cell_type": "code",
   "execution_count": 121,
   "id": "8e6338ef",
   "metadata": {},
   "outputs": [
    {
     "data": {
      "text/html": [
       "<div>\n",
       "<style scoped>\n",
       "    .dataframe tbody tr th:only-of-type {\n",
       "        vertical-align: middle;\n",
       "    }\n",
       "\n",
       "    .dataframe tbody tr th {\n",
       "        vertical-align: top;\n",
       "    }\n",
       "\n",
       "    .dataframe thead th {\n",
       "        text-align: right;\n",
       "    }\n",
       "</style>\n",
       "<table border=\"1\" class=\"dataframe\">\n",
       "  <thead>\n",
       "    <tr style=\"text-align: right;\">\n",
       "      <th></th>\n",
       "      <th>visits_2021</th>\n",
       "      <th>visits_2020</th>\n",
       "      <th>visits_2019</th>\n",
       "    </tr>\n",
       "  </thead>\n",
       "  <tbody>\n",
       "    <tr>\n",
       "      <th>count</th>\n",
       "      <td>5.000000</td>\n",
       "      <td>4.000000</td>\n",
       "      <td>4.000000</td>\n",
       "    </tr>\n",
       "    <tr>\n",
       "      <th>mean</th>\n",
       "      <td>138.000000</td>\n",
       "      <td>70.000000</td>\n",
       "      <td>31.500000</td>\n",
       "    </tr>\n",
       "    <tr>\n",
       "      <th>std</th>\n",
       "      <td>110.544109</td>\n",
       "      <td>40.824829</td>\n",
       "      <td>32.593455</td>\n",
       "    </tr>\n",
       "    <tr>\n",
       "      <th>min</th>\n",
       "      <td>40.000000</td>\n",
       "      <td>10.000000</td>\n",
       "      <td>10.000000</td>\n",
       "    </tr>\n",
       "    <tr>\n",
       "      <th>25%</th>\n",
       "      <td>50.000000</td>\n",
       "      <td>62.500000</td>\n",
       "      <td>14.500000</td>\n",
       "    </tr>\n",
       "    <tr>\n",
       "      <th>50%</th>\n",
       "      <td>100.000000</td>\n",
       "      <td>85.000000</td>\n",
       "      <td>18.000000</td>\n",
       "    </tr>\n",
       "    <tr>\n",
       "      <th>75%</th>\n",
       "      <td>200.000000</td>\n",
       "      <td>92.500000</td>\n",
       "      <td>35.000000</td>\n",
       "    </tr>\n",
       "    <tr>\n",
       "      <th>max</th>\n",
       "      <td>300.000000</td>\n",
       "      <td>100.000000</td>\n",
       "      <td>80.000000</td>\n",
       "    </tr>\n",
       "  </tbody>\n",
       "</table>\n",
       "</div>"
      ],
      "text/plain": [
       "       visits_2021  visits_2020  visits_2019\n",
       "count     5.000000     4.000000     4.000000\n",
       "mean    138.000000    70.000000    31.500000\n",
       "std     110.544109    40.824829    32.593455\n",
       "min      40.000000    10.000000    10.000000\n",
       "25%      50.000000    62.500000    14.500000\n",
       "50%     100.000000    85.000000    18.000000\n",
       "75%     200.000000    92.500000    35.000000\n",
       "max     300.000000   100.000000    80.000000"
      ]
     },
     "execution_count": 121,
     "metadata": {},
     "output_type": "execute_result"
    }
   ],
   "source": [
    "df.describe() # описательная статистика по столбцам"
   ]
  },
  {
   "cell_type": "code",
   "execution_count": 122,
   "id": "bc5732bb",
   "metadata": {},
   "outputs": [
    {
     "data": {
      "text/html": [
       "<div>\n",
       "<style scoped>\n",
       "    .dataframe tbody tr th:only-of-type {\n",
       "        vertical-align: middle;\n",
       "    }\n",
       "\n",
       "    .dataframe tbody tr th {\n",
       "        vertical-align: top;\n",
       "    }\n",
       "\n",
       "    .dataframe thead th {\n",
       "        text-align: right;\n",
       "    }\n",
       "</style>\n",
       "<table border=\"1\" class=\"dataframe\">\n",
       "  <thead>\n",
       "    <tr style=\"text-align: right;\">\n",
       "      <th></th>\n",
       "      <th>Moscow</th>\n",
       "      <th>Kazan</th>\n",
       "      <th>Ufa</th>\n",
       "      <th>Yakutsk</th>\n",
       "      <th>Novosibirsk</th>\n",
       "    </tr>\n",
       "  </thead>\n",
       "  <tbody>\n",
       "    <tr>\n",
       "      <th>count</th>\n",
       "      <td>3.000000</td>\n",
       "      <td>2.000000</td>\n",
       "      <td>2.000000</td>\n",
       "      <td>3.000000</td>\n",
       "      <td>3.000000</td>\n",
       "    </tr>\n",
       "    <tr>\n",
       "      <th>mean</th>\n",
       "      <td>66.666667</td>\n",
       "      <td>150.000000</td>\n",
       "      <td>160.000000</td>\n",
       "      <td>25.333333</td>\n",
       "      <td>66.666667</td>\n",
       "    </tr>\n",
       "    <tr>\n",
       "      <th>std</th>\n",
       "      <td>49.328829</td>\n",
       "      <td>70.710678</td>\n",
       "      <td>197.989899</td>\n",
       "      <td>21.571586</td>\n",
       "      <td>23.094011</td>\n",
       "    </tr>\n",
       "    <tr>\n",
       "      <th>min</th>\n",
       "      <td>10.000000</td>\n",
       "      <td>100.000000</td>\n",
       "      <td>20.000000</td>\n",
       "      <td>10.000000</td>\n",
       "      <td>40.000000</td>\n",
       "    </tr>\n",
       "    <tr>\n",
       "      <th>25%</th>\n",
       "      <td>50.000000</td>\n",
       "      <td>125.000000</td>\n",
       "      <td>90.000000</td>\n",
       "      <td>13.000000</td>\n",
       "      <td>60.000000</td>\n",
       "    </tr>\n",
       "    <tr>\n",
       "      <th>50%</th>\n",
       "      <td>90.000000</td>\n",
       "      <td>150.000000</td>\n",
       "      <td>160.000000</td>\n",
       "      <td>16.000000</td>\n",
       "      <td>80.000000</td>\n",
       "    </tr>\n",
       "    <tr>\n",
       "      <th>75%</th>\n",
       "      <td>95.000000</td>\n",
       "      <td>175.000000</td>\n",
       "      <td>230.000000</td>\n",
       "      <td>33.000000</td>\n",
       "      <td>80.000000</td>\n",
       "    </tr>\n",
       "    <tr>\n",
       "      <th>max</th>\n",
       "      <td>100.000000</td>\n",
       "      <td>200.000000</td>\n",
       "      <td>300.000000</td>\n",
       "      <td>50.000000</td>\n",
       "      <td>80.000000</td>\n",
       "    </tr>\n",
       "  </tbody>\n",
       "</table>\n",
       "</div>"
      ],
      "text/plain": [
       "           Moscow       Kazan         Ufa    Yakutsk  Novosibirsk\n",
       "count    3.000000    2.000000    2.000000   3.000000     3.000000\n",
       "mean    66.666667  150.000000  160.000000  25.333333    66.666667\n",
       "std     49.328829   70.710678  197.989899  21.571586    23.094011\n",
       "min     10.000000  100.000000   20.000000  10.000000    40.000000\n",
       "25%     50.000000  125.000000   90.000000  13.000000    60.000000\n",
       "50%     90.000000  150.000000  160.000000  16.000000    80.000000\n",
       "75%     95.000000  175.000000  230.000000  33.000000    80.000000\n",
       "max    100.000000  200.000000  300.000000  50.000000    80.000000"
      ]
     },
     "execution_count": 122,
     "metadata": {},
     "output_type": "execute_result"
    }
   ],
   "source": [
    "df.T.describe() # описательная статистика по строкам"
   ]
  },
  {
   "cell_type": "code",
   "execution_count": 124,
   "id": "871490d3",
   "metadata": {},
   "outputs": [
    {
     "data": {
      "text/html": [
       "<div>\n",
       "<style scoped>\n",
       "    .dataframe tbody tr th:only-of-type {\n",
       "        vertical-align: middle;\n",
       "    }\n",
       "\n",
       "    .dataframe tbody tr th {\n",
       "        vertical-align: top;\n",
       "    }\n",
       "\n",
       "    .dataframe thead th {\n",
       "        text-align: right;\n",
       "    }\n",
       "</style>\n",
       "<table border=\"1\" class=\"dataframe\">\n",
       "  <thead>\n",
       "    <tr style=\"text-align: right;\">\n",
       "      <th></th>\n",
       "      <th>visits_2021</th>\n",
       "      <th>visits_2020</th>\n",
       "      <th>visits_2019</th>\n",
       "    </tr>\n",
       "  </thead>\n",
       "  <tbody>\n",
       "    <tr>\n",
       "      <th>Moscow</th>\n",
       "      <td>100</td>\n",
       "      <td>90.0</td>\n",
       "      <td>10.0</td>\n",
       "    </tr>\n",
       "    <tr>\n",
       "      <th>Kazan</th>\n",
       "      <td>200</td>\n",
       "      <td>100.0</td>\n",
       "      <td>NaN</td>\n",
       "    </tr>\n",
       "    <tr>\n",
       "      <th>Ufa</th>\n",
       "      <td>300</td>\n",
       "      <td>NaN</td>\n",
       "      <td>20.0</td>\n",
       "    </tr>\n",
       "    <tr>\n",
       "      <th>Yakutsk</th>\n",
       "      <td>50</td>\n",
       "      <td>10.0</td>\n",
       "      <td>16.0</td>\n",
       "    </tr>\n",
       "    <tr>\n",
       "      <th>Novosibirsk</th>\n",
       "      <td>40</td>\n",
       "      <td>80.0</td>\n",
       "      <td>80.0</td>\n",
       "    </tr>\n",
       "  </tbody>\n",
       "</table>\n",
       "</div>"
      ],
      "text/plain": [
       "             visits_2021  visits_2020  visits_2019\n",
       "Moscow               100         90.0         10.0\n",
       "Kazan                200        100.0          NaN\n",
       "Ufa                  300          NaN         20.0\n",
       "Yakutsk               50         10.0         16.0\n",
       "Novosibirsk           40         80.0         80.0"
      ]
     },
     "execution_count": 124,
     "metadata": {},
     "output_type": "execute_result"
    }
   ],
   "source": [
    "import numpy as np\n",
    "\n",
    "np.abs(df) # по модулю"
   ]
  },
  {
   "cell_type": "markdown",
   "id": "8a03c8a1",
   "metadata": {},
   "source": [
    "Функция **describe** применима и к Series"
   ]
  },
  {
   "cell_type": "code",
   "execution_count": 129,
   "id": "7f10a6a5",
   "metadata": {},
   "outputs": [
    {
     "data": {
      "text/plain": [
       "count     5\n",
       "unique    3\n",
       "top       a\n",
       "freq      3\n",
       "dtype: object"
      ]
     },
     "execution_count": 129,
     "metadata": {},
     "output_type": "execute_result"
    }
   ],
   "source": [
    "s = pd.Series(['a', 'b', 'a', 'c', 'a'])\n",
    "s.describe()"
   ]
  },
  {
   "cell_type": "code",
   "execution_count": 132,
   "id": "df60aed7",
   "metadata": {},
   "outputs": [
    {
     "data": {
      "text/plain": [
       "array(['a', 'b', 'c'], dtype=object)"
      ]
     },
     "execution_count": 132,
     "metadata": {},
     "output_type": "execute_result"
    }
   ],
   "source": [
    "s.unique() # позволяет вытянуть только уникальным элементы"
   ]
  },
  {
   "cell_type": "code",
   "execution_count": 135,
   "id": "ecbdf33f",
   "metadata": {},
   "outputs": [
    {
     "data": {
      "text/plain": [
       "a    3\n",
       "b    1\n",
       "c    1\n",
       "Name: count, dtype: int64"
      ]
     },
     "execution_count": 135,
     "metadata": {},
     "output_type": "execute_result"
    }
   ],
   "source": [
    "s.value_counts() # количество значений в каждом уникальном значении"
   ]
  },
  {
   "cell_type": "code",
   "execution_count": 139,
   "id": "f6fe475a",
   "metadata": {},
   "outputs": [
    {
     "data": {
      "text/plain": [
       "0     True\n",
       "1    False\n",
       "2     True\n",
       "3    False\n",
       "4     True\n",
       "dtype: bool"
      ]
     },
     "execution_count": 139,
     "metadata": {},
     "output_type": "execute_result"
    }
   ],
   "source": [
    "s.isin(['a']) # проверка вхождения значений"
   ]
  }
 ],
 "metadata": {
  "kernelspec": {
   "display_name": "Python 3 (ipykernel)",
   "language": "python",
   "name": "python3"
  },
  "language_info": {
   "codemirror_mode": {
    "name": "ipython",
    "version": 3
   },
   "file_extension": ".py",
   "mimetype": "text/x-python",
   "name": "python",
   "nbconvert_exporter": "python",
   "pygments_lexer": "ipython3",
   "version": "3.10.4"
  }
 },
 "nbformat": 4,
 "nbformat_minor": 5
}
