{
 "cells": [
  {
   "cell_type": "markdown",
   "id": "3f3a2600",
   "metadata": {},
   "source": [
    "## 3.1 Первое знакомство с Series"
   ]
  },
  {
   "cell_type": "code",
   "execution_count": 8,
   "id": "87364d08",
   "metadata": {},
   "outputs": [],
   "source": [
    "import pandas as pd # импорт библиотеки"
   ]
  },
  {
   "cell_type": "markdown",
   "id": "9e44945b",
   "metadata": {},
   "source": [
    "Numpy хорошо работает с числовыми данными - для этого он и создавался. Но на практике таблицы содержат не только числа, но и текст. Поэтому пришлось создавать другие контейнеры данных, которые хорошо будут работать с другими типами."
   ]
  },
  {
   "cell_type": "markdown",
   "id": "3f35b88d",
   "metadata": {},
   "source": [
    "**Series (серия или по простому ряд значений)** - контейнер в библиотеке Pandas, который создан для хранения одномерного массива данных. В нее нельзя погрузить матрицу или трехмерный массив. Серия может унести только одномерный массив. Именно серия будет хранить содержимое наших столбцов и строк поэтому давайте посмотрим на нее подробнее. Сейчас запомните, что серия это фундамент будущей Pandas таблицы!"
   ]
  },
  {
   "cell_type": "markdown",
   "id": "261ad515",
   "metadata": {},
   "source": [
    "Серия состоит из двух очень важных компонентов:\n",
    "\n",
    "1) хранилище наших значений (именно эти значения мы видим в столбце/строке)\n",
    "\n",
    "2) хранилище индексов. Индексы могут быть как числовые так и строковые. Обращаясь к серии через индекс мы просим серию вернуть из хранилища значений элемент, который связан с индексом. Очень похоже на словарь! \n",
    "\n",
    "Индексы и значения жестко связаны между собой."
   ]
  },
  {
   "cell_type": "markdown",
   "id": "e3436442",
   "metadata": {},
   "source": [
    "Чтобы создать серию вам надо обратиться к библиотеке pandas и у неё спросить серию: **pandas.Series()**. В скобки передайте одномерный список или массив. Кстати, словарь тоже сработает! Pandas примет ваш массив/словарь и создаст на их основе серию.\n",
    "\n",
    "При попытке распечатать на экране серию, питон печатает две колонки: левая - индексы, правая - наши значения.\n",
    "\n",
    "Через свойство **.index** вы получите одномерный numpy массив индексов\n",
    "\n",
    "Через свойство **.values** вы получите одномерный numpy массив с нашими значениями"
   ]
  },
  {
   "cell_type": "code",
   "execution_count": 16,
   "id": "2a7d516b",
   "metadata": {},
   "outputs": [
    {
     "name": "stdout",
     "output_type": "stream",
     "text": [
      "0     1\n",
      "1     3\n",
      "2    -5\n",
      "3    12\n",
      "dtype: int64\n",
      "\n",
      "[ 1  3 -5 12]\n",
      "\n",
      "RangeIndex(start=0, stop=4, step=1)\n"
     ]
    }
   ],
   "source": [
    "import pandas as pd\n",
    "\n",
    "s1 = pd.Series([1, 3, -5, 12])\n",
    "\n",
    "print(s1, end='\\n\\n') # серия\n",
    "print(s1.values, end='\\n\\n') # значения\n",
    "print(s1.index) # индексы"
   ]
  },
  {
   "cell_type": "markdown",
   "id": "d1d6cfeb",
   "metadata": {},
   "source": [
    "Если при создании серии вы не задаёте индексы, то серия автоматически создает их для себя. Вы можете задать свои индексы, для этого в конструктор серии передайте значения, которые надо хранить в серии и индексы для них."
   ]
  },
  {
   "cell_type": "code",
   "execution_count": 18,
   "id": "19264f0e",
   "metadata": {},
   "outputs": [
    {
     "name": "stdout",
     "output_type": "stream",
     "text": [
      "a     1\n",
      "b     3\n",
      "c    -5\n",
      "d    12\n",
      "dtype: int64\n",
      "\n",
      "[ 1  3 -5 12]\n",
      "\n",
      "Index(['a', 'b', 'c', 'd'], dtype='object')\n"
     ]
    }
   ],
   "source": [
    "import pandas as pd\n",
    "\n",
    "s2 = pd.Series([1, 3, -5, 12], index=['a', 'b', 'c', 'd'])\n",
    "\n",
    "print(s2, end='\\n\\n') # серия\n",
    "print(s2.values, end='\\n\\n') # значения\n",
    "print(s2.index) # индексы"
   ]
  },
  {
   "cell_type": "markdown",
   "id": "10bf45b7",
   "metadata": {},
   "source": [
    "Для доступа к элементу серии в скобках укажите индекс, который связан с этим элементом. Если индекс числовой, то в квадратных скобках укажите число: **s[1]**. Если индексы строковые, то укажите в кавычках: **s['c']** (можно одинарные, можно двойные)."
   ]
  },
  {
   "cell_type": "code",
   "execution_count": 22,
   "id": "7787a890",
   "metadata": {},
   "outputs": [
    {
     "name": "stdout",
     "output_type": "stream",
     "text": [
      "-5\n",
      "12\n"
     ]
    }
   ],
   "source": [
    "import pandas as pd\n",
    "\n",
    "s3 = pd.Series([1, 3, -5, 12], index=['a', 'b', 'c', 'd'])\n",
    "\n",
    "print(s3['c']) # доступ по строковому индексу\n",
    "print(s3[3]) # доступ по числовому индексу"
   ]
  },
  {
   "cell_type": "markdown",
   "id": "037876f9",
   "metadata": {},
   "source": [
    "Вы можете создавать серию как на основе списка, так и на основе numpy массива - результат будет одинаковый). Для получения доступа к нескольким элементам серии передайте список индексов: **s[['a', 'b', 'c']]**"
   ]
  },
  {
   "cell_type": "code",
   "execution_count": 28,
   "id": "0f554d36",
   "metadata": {},
   "outputs": [
    {
     "name": "stdout",
     "output_type": "stream",
     "text": [
      "b    100\n",
      "a      1\n",
      "c     -5\n",
      "dtype: int64\n"
     ]
    }
   ],
   "source": [
    "import pandas as pd\n",
    "\n",
    "s4 = pd.Series([1, 3, -5, 12], index=['a', 'b', 'c', 'd'])\n",
    "\n",
    "s4['b'] = 100 # замена значения в исходной серии\n",
    "\n",
    "print(s4[['b', 'a', 'c']]) # доступ по строковому индексу к нескольким значениям"
   ]
  },
  {
   "cell_type": "markdown",
   "id": "72d915dc",
   "metadata": {},
   "source": [
    "## Задачи урока 3.1"
   ]
  },
  {
   "cell_type": "markdown",
   "id": "08a87d95",
   "metadata": {},
   "source": [
    "1. Создайте серию, которая будет содержать элементы 1, 2, 3, 4, 5. Функция должна вернуть серию."
   ]
  },
  {
   "cell_type": "code",
   "execution_count": null,
   "id": "3a6b525f",
   "metadata": {},
   "outputs": [],
   "source": [
    "import pandas as pd\n",
    "\n",
    "def solution():\n",
    "    return pd.Series(range(1, 6))"
   ]
  },
  {
   "cell_type": "markdown",
   "id": "9af7d6fa",
   "metadata": {},
   "source": [
    "2. На вход функции подаётся серия. Доработайте функцию так чтобы она возвращала индексы серии"
   ]
  },
  {
   "cell_type": "code",
   "execution_count": null,
   "id": "19c4d9f3",
   "metadata": {},
   "outputs": [],
   "source": [
    "import pandas as pd\n",
    "\n",
    "def solution(s1):\n",
    "    return s1.index"
   ]
  },
  {
   "cell_type": "markdown",
   "id": "53638184",
   "metadata": {},
   "source": [
    "3. Создайте серию, которая будет содержать элементы 1, 2, 3, 4, 5 и индексы a, b, c, d, e. Функция должна вернуть серию."
   ]
  },
  {
   "cell_type": "code",
   "execution_count": 31,
   "id": "2ea44658",
   "metadata": {},
   "outputs": [],
   "source": [
    "import pandas as pd\n",
    "import string\n",
    "\n",
    "def solution():\n",
    "    return pd.Series(range(1, 6), list(string.ascii_lowercase[:5])"
   ]
  },
  {
   "cell_type": "markdown",
   "id": "36d8a4ff",
   "metadata": {},
   "source": [
    "4. На вход функции подаётся серия. Вытяните из нее элементы с индексами a и с. Функция должна вернуть серию."
   ]
  },
  {
   "cell_type": "code",
   "execution_count": null,
   "id": "93d43262",
   "metadata": {},
   "outputs": [],
   "source": [
    "import pandas as pd\n",
    "\n",
    "def solution(s1):\n",
    "    return s1[['a', 'c']]"
   ]
  },
  {
   "cell_type": "markdown",
   "id": "9d60089d",
   "metadata": {},
   "source": [
    "5. На вход функции подаётся серия. Замените элемент по индексу c на 0. Функция должна вернуть серию с измененным элементом по индексу с."
   ]
  },
  {
   "cell_type": "code",
   "execution_count": null,
   "id": "603e1c00",
   "metadata": {},
   "outputs": [],
   "source": [
    "import pandas as pd\n",
    "\n",
    "def solution(s1):\n",
    "    s1['c'] = 0\n",
    "    return s1"
   ]
  },
  {
   "cell_type": "markdown",
   "id": "d527e904",
   "metadata": {},
   "source": [
    "6. На вход функции подаётся серия. Доработайте функцию так чтобы она возвращала numpy массив, который содержит значения серии"
   ]
  },
  {
   "cell_type": "code",
   "execution_count": null,
   "id": "74ef8a40",
   "metadata": {},
   "outputs": [],
   "source": [
    "import pandas as pd\n",
    "import numpy as np\n",
    "\n",
    "def solution(s1):\n",
    "    return np.array(s1.values)"
   ]
  },
  {
   "cell_type": "markdown",
   "id": "f49b3572",
   "metadata": {},
   "source": [
    "## 3.3 Поподробнее про серии: идексы, сложение, проверка на NaN"
   ]
  },
  {
   "cell_type": "markdown",
   "id": "bd67a818",
   "metadata": {},
   "source": [
    "1) При фильтрации серии индексы остаются, а не пересоздаются.  \n",
    "2) Арифметические операции не распространяются на индексы"
   ]
  },
  {
   "cell_type": "code",
   "execution_count": 50,
   "id": "86ce869d",
   "metadata": {},
   "outputs": [
    {
     "name": "stdout",
     "output_type": "stream",
     "text": [
      "a    101\n",
      "b    103\n",
      "d    112\n",
      "dtype: int64\n"
     ]
    }
   ],
   "source": [
    "import pandas as pd\n",
    "\n",
    "s1 = pd.Series([1, 3, -5, 12], index=['a', 'b', 'c', 'd'])\n",
    "s1 = s1 + 100\n",
    "\n",
    "print(s1[s1 > 100])"
   ]
  },
  {
   "cell_type": "markdown",
   "id": "aff47873",
   "metadata": {},
   "source": [
    "Серию можно создавать не только на основе списка. Еще один распространённый сценарий это создание серии из словаря. В этом случае ключи словаря перейдут в индексы серии."
   ]
  },
  {
   "cell_type": "code",
   "execution_count": 56,
   "id": "4d200c72",
   "metadata": {},
   "outputs": [
    {
     "name": "stdout",
     "output_type": "stream",
     "text": [
      "Moscow      100\n",
      "Murmansk    200\n",
      "Ufa         300\n",
      "dtype: int64\n",
      "\n",
      "True\n",
      "\n",
      "Moscow      200\n",
      "Murmansk    400\n",
      "Ufa         600\n",
      "dtype: int64\n"
     ]
    }
   ],
   "source": [
    "import pandas as pd\n",
    "\n",
    "d = {'Moscow': 100, 'Murmansk': 200, 'Ufa': 300}\n",
    "s2 = pd.Series(d)\n",
    "\n",
    "print(s2, end='\\n\\n')\n",
    "print('Moscow' in s2, end='\\n\\n')\n",
    "print(s2 + s2)"
   ]
  },
  {
   "cell_type": "markdown",
   "id": "c3b0c319",
   "metadata": {},
   "source": [
    "1) Вы можете задавать индексы на этапе создания серии  \n",
    "2) Не обязательно чтобы индексы шли по порядку  \n",
    "3) Если вы создаёте серию на основе словаря и указали индекс, которого не существует в словаре, то pandas добавит в серию такой индекс, но значение будет равно NaN (пропуск)  \n",
    "4) Если вы создаете серию на основе словаря и не передали все индексы, то никакой ошибки не будет. Пандас добавит в серию только те значения, которые вы указали в индексе"
   ]
  },
  {
   "cell_type": "code",
   "execution_count": 59,
   "id": "27b4addd",
   "metadata": {},
   "outputs": [
    {
     "name": "stdout",
     "output_type": "stream",
     "text": [
      "Murmansk       200.0\n",
      "Moscow         100.0\n",
      "Vladivostok      NaN\n",
      "Ufa            300.0\n",
      "dtype: float64\n"
     ]
    }
   ],
   "source": [
    "import pandas as pd\n",
    "\n",
    "d = {'Moscow': 100, 'Murmansk': 200, 'Ufa': 300}\n",
    "s3 = pd.Series(d, index=['Murmansk', 'Moscow', 'Vladivostok', 'Ufa']) # задаём собственный порядок отображения\n",
    "\n",
    "print(s3)"
   ]
  },
  {
   "cell_type": "markdown",
   "id": "827813e4",
   "metadata": {},
   "source": [
    "Чтобы проверить серию на NaN, можно использовать функцию **isnull**. Существует обратная функции **notnull**"
   ]
  },
  {
   "cell_type": "code",
   "execution_count": 63,
   "id": "3241f149",
   "metadata": {},
   "outputs": [
    {
     "name": "stdout",
     "output_type": "stream",
     "text": [
      "Murmansk       False\n",
      "Moscow         False\n",
      "Vladivostok     True\n",
      "Ufa            False\n",
      "dtype: bool\n",
      "\n",
      "Murmansk        True\n",
      "Moscow          True\n",
      "Vladivostok    False\n",
      "Ufa             True\n",
      "dtype: bool\n"
     ]
    }
   ],
   "source": [
    "import pandas as pd\n",
    "\n",
    "d = {'Moscow': 100, 'Murmansk': 200, 'Ufa': 300}\n",
    "s3 = pd.Series(d, index=['Murmansk', 'Moscow', 'Vladivostok', 'Ufa']) # задаём собственный порядок отображения\n",
    "\n",
    "print(s3.isnull(), end='\\n\\n')\n",
    "print(s3.notnull())"
   ]
  },
  {
   "cell_type": "markdown",
   "id": "2ff702cb",
   "metadata": {},
   "source": [
    "**Важно запомнить, что при сложении серий:**\n",
    "\n",
    "1) не обязательно чтобы они были одинаковой длины  \n",
    "2) сложение будет происходить по индексам  \n",
    "3) если в одной из серий есть индекс, которого нет в другой серии, то индекс добавляется в результирующую серию, но значение присваивается NaN  "
   ]
  },
  {
   "cell_type": "code",
   "execution_count": 65,
   "id": "9c6b73e7",
   "metadata": {},
   "outputs": [
    {
     "name": "stdout",
     "output_type": "stream",
     "text": [
      "Moscow         600.0\n",
      "Murmansk       400.0\n",
      "Ufa              NaN\n",
      "Vladivostok      NaN\n",
      "dtype: float64\n"
     ]
    }
   ],
   "source": [
    "import pandas as pd\n",
    "\n",
    "s1 = pd.Series({'Moscow': 100, 'Murmansk': 200, 'Ufa': 300})\n",
    "s2 = pd.Series({'Moscow': 500, 'Murmansk': 200, 'Vladivostok': 300})\n",
    "\n",
    "print(s1 + s2)"
   ]
  },
  {
   "cell_type": "markdown",
   "id": "e9d66f30",
   "metadata": {},
   "source": [
    "В случае если необходимо изменить индексы у уже существующей серии, то аглоритм таков:"
   ]
  },
  {
   "cell_type": "code",
   "execution_count": 68,
   "id": "9e8e6f49",
   "metadata": {},
   "outputs": [
    {
     "name": "stdout",
     "output_type": "stream",
     "text": [
      "0     5\n",
      "1    10\n",
      "2    20\n",
      "3    30\n",
      "4    40\n",
      "5    50\n",
      "dtype: int64\n",
      "\n",
      "a     5\n",
      "b    10\n",
      "c    20\n",
      "d    30\n",
      "e    40\n",
      "f    50\n",
      "dtype: int64\n"
     ]
    }
   ],
   "source": [
    "import pandas as pd\n",
    "\n",
    "s = pd.Series([5, 10, 20, 30 , 40, 50])\n",
    "\n",
    "print(s, end='\\n\\n')\n",
    "\n",
    "s.index = ['a', 'b', 'c', 'd', 'e', 'f'] # меняем индексы\n",
    "\n",
    "print(s)"
   ]
  },
  {
   "cell_type": "markdown",
   "id": "c699638f",
   "metadata": {},
   "source": [
    "У каждой серии есть своё имя. Задать или прочитать имя можно через свойство **name**. Имя используется при работе с хранилищем серий - DataFrame (про него смотрите дальше, но сначала тест)."
   ]
  },
  {
   "cell_type": "code",
   "execution_count": 69,
   "id": "94f6fc3f",
   "metadata": {},
   "outputs": [
    {
     "name": "stdout",
     "output_type": "stream",
     "text": [
      "0     5\n",
      "1    10\n",
      "2    20\n",
      "3    30\n",
      "4    40\n",
      "5    50\n",
      "Name: values, dtype: int64\n"
     ]
    }
   ],
   "source": [
    "import pandas as pd\n",
    "\n",
    "s = pd.Series([5, 10, 20, 30 , 40, 50])\n",
    "\n",
    "s.name = 'values'\n",
    "print(s)"
   ]
  },
  {
   "cell_type": "markdown",
   "id": "b702c25f",
   "metadata": {},
   "source": [
    "## Задачи урока 3.3"
   ]
  },
  {
   "cell_type": "markdown",
   "id": "e1b05089",
   "metadata": {},
   "source": [
    "1. На вход функции подаётся серия из 7 значений. Известно, что она хранит количество посещенных сайтов некоторого пользователя за первую неделю:\n",
    "\n",
    "![1](https://ucarecdn.com/624e853b-0065-4f4d-977c-5173040f0168/)\n",
    "\n",
    "Известно, что за вторую неделю пользователь посетил в два раза больше сайтов  \n",
    "![2](https://ucarecdn.com/1985976f-ed26-4bf9-bdb8-6ce2fb1a93c9/)\n",
    "\n",
    "Определите сколько сайтов посетил пользователь в сумме за две недели в разрезе по дням недели. Функция должна вернуть только те дни, где количество посещенных сайтов больше 20:\n",
    "\n",
    "![3](https://ucarecdn.com/c89026ec-0080-4671-a61e-2e47f4cf314a/)"
   ]
  },
  {
   "cell_type": "code",
   "execution_count": null,
   "id": "0fef7172",
   "metadata": {},
   "outputs": [],
   "source": [
    "import pandas as pd\n",
    "\n",
    "def solution(ser1):\n",
    "    result = ser1 + ser1 * 2\n",
    "    return result[result > 20]"
   ]
  },
  {
   "cell_type": "markdown",
   "id": "e27048dd",
   "metadata": {},
   "source": [
    "2. На вход поступает некоторая серия. Проверьте, есть ли в ней индекс 'Пятница'. Верните True если есть иначе False."
   ]
  },
  {
   "cell_type": "code",
   "execution_count": null,
   "id": "e0f40a95",
   "metadata": {},
   "outputs": [],
   "source": [
    "import pandas as pd\n",
    "\n",
    "def solution(ser1):\n",
    "    return 'Пятница' in ser1"
   ]
  },
  {
   "cell_type": "markdown",
   "id": "3331fbf4",
   "metadata": {},
   "source": [
    "## 3.4 Практика: тонкости при работе с сериями"
   ]
  },
  {
   "cell_type": "markdown",
   "id": "9c712e9d",
   "metadata": {},
   "source": [
    "1. На вход функции подаётся словарь. Постройте из него серию и умножьте каждое значение серии на 2. Функция должна вернуть серию. "
   ]
  },
  {
   "cell_type": "code",
   "execution_count": null,
   "id": "7f72611f",
   "metadata": {},
   "outputs": [],
   "source": [
    "import pandas as pd\n",
    "\n",
    "def solution(d):\n",
    "    return pd.Series(d) * 2"
   ]
  },
  {
   "cell_type": "markdown",
   "id": "2c6ab629",
   "metadata": {},
   "source": [
    "2. На вход функции подаётся словарь. Постройте из него серию так чтобы индексы были расположены в порядке: e, a, c, b, d"
   ]
  },
  {
   "cell_type": "code",
   "execution_count": null,
   "id": "d7e005f3",
   "metadata": {},
   "outputs": [],
   "source": [
    "import pandas as pd\n",
    "\n",
    "def solution(d):\n",
    "    return pd.Series(d, ['e', 'a', 'c', 'b', 'd'])"
   ]
  },
  {
   "cell_type": "markdown",
   "id": "af96e598",
   "metadata": {},
   "source": [
    "3. На вход функции подаётся словарь. Постройте из него серию и добавьте еще один индекс g. Индексу g присвойте значение 10. Функция должна вернуть серию."
   ]
  },
  {
   "cell_type": "code",
   "execution_count": null,
   "id": "0bea5474",
   "metadata": {},
   "outputs": [],
   "source": [
    "import pandas as pd\n",
    "\n",
    "def solution(d):\n",
    "    s = pd.Series(d)\n",
    "    s['g'] = 10\n",
    "    return s"
   ]
  },
  {
   "cell_type": "markdown",
   "id": "db1d36f8",
   "metadata": {},
   "source": [
    "4. Проверьте, все ли значения серии заполнены? Верните одно значение False - если не все; True - если все заполнены"
   ]
  },
  {
   "cell_type": "code",
   "execution_count": null,
   "id": "b431c7c6",
   "metadata": {},
   "outputs": [],
   "source": [
    "import pandas as pd\n",
    "\n",
    "def solution(s1):\n",
    "    return all(s1.isnull())"
   ]
  },
  {
   "cell_type": "markdown",
   "id": "f624c3e0",
   "metadata": {},
   "source": [
    "5. На вход вам подаётся серия. Разверните индексы в обратном направлении:\n",
    "\n",
    "![1](https://ucarecdn.com/618e5198-6834-43fd-b4c5-c8b8eaad97c0/)"
   ]
  },
  {
   "cell_type": "code",
   "execution_count": 75,
   "id": "82c821a8",
   "metadata": {},
   "outputs": [
    {
     "data": {
      "text/plain": [
       "2    6\n",
       "1    5\n",
       "0    4\n",
       "dtype: int64"
      ]
     },
     "execution_count": 75,
     "metadata": {},
     "output_type": "execute_result"
    }
   ],
   "source": [
    "import pandas as pd\n",
    "\n",
    "def solution(s1):\n",
    "    result = pd.Series(s1.values, s1.index[::-1])\n",
    "    return result\n",
    "\n",
    "s1 = pd.Series([6, 5, 4])\n",
    "solution(s1)"
   ]
  },
  {
   "cell_type": "markdown",
   "id": "8daa626a",
   "metadata": {},
   "source": [
    "## 3.5 Первое знакомство с DataFrame"
   ]
  },
  {
   "cell_type": "markdown",
   "id": "4445686b",
   "metadata": {},
   "source": [
    "Для хранения серий разработчики Pandas не стали брать словарь, а решили создать свой контейнер - DataFrame (датафрейм). Чтобы датафрейм легко ориентировался в сериях, их наделили свойством name. "
   ]
  },
  {
   "cell_type": "markdown",
   "id": "eb3ff98d",
   "metadata": {},
   "source": [
    "У серии индексы не уникальные! Они могут повторяться."
   ]
  },
  {
   "cell_type": "code",
   "execution_count": 6,
   "id": "faeab461",
   "metadata": {},
   "outputs": [
    {
     "name": "stdout",
     "output_type": "stream",
     "text": [
      "a    1\n",
      "b    2\n",
      "a    3\n",
      "dtype: int64\n",
      "\n",
      "a    1\n",
      "a    3\n",
      "dtype: int64\n"
     ]
    }
   ],
   "source": [
    "import pandas as pd\n",
    "\n",
    "s = pd.Series([1, 2, 3], index=['a', 'b', 'a'])\n",
    "\n",
    "print(s, end='\\n\\n')\n",
    "print(s['a'])"
   ]
  },
  {
   "cell_type": "markdown",
   "id": "262d8584",
   "metadata": {},
   "source": [
    "Датафреймы очень хорошо создаются на основе словаря, который состоит из ключей и значений в качестве вложенных списков. Ключи словаря в датафрейме станут названиями столбцов, а вложенные списки - колонками."
   ]
  },
  {
   "cell_type": "code",
   "execution_count": 7,
   "id": "17bd4db2",
   "metadata": {},
   "outputs": [
    {
     "name": "stdout",
     "output_type": "stream",
     "text": [
      "     city  year  visits\n",
      "0  Moscow  2022     500\n",
      "1  Moscow  2021    2000\n",
      "2  Moscow  2020    1500\n",
      "3   Kazan  2022     100\n",
      "4   Kazan  2021     230\n",
      "5   Kazan  2020     200\n"
     ]
    }
   ],
   "source": [
    "import pandas as pd\n",
    "\n",
    "data = { 'city': ['Moscow', 'Moscow', 'Moscow', 'Kazan', 'Kazan', 'Kazan'],\n",
    "        'year':  [2022,      2021,     2020,     2022,    2021,    2020],\n",
    "        'visits': [500,      2000,     1500,     100,     230,     200]}\n",
    "\n",
    "df = pd.DataFrame(data)\n",
    "\n",
    "print(df)"
   ]
  },
  {
   "cell_type": "code",
   "execution_count": 9,
   "id": "249d8e0d",
   "metadata": {},
   "outputs": [
    {
     "name": "stdout",
     "output_type": "stream",
     "text": [
      "     city  year country\n",
      "0  Moscow  2022     NaN\n",
      "1  Moscow  2021     NaN\n",
      "2  Moscow  2020     NaN\n",
      "3   Kazan  2022     NaN\n",
      "4   Kazan  2021     NaN\n",
      "5   Kazan  2020     NaN\n"
     ]
    }
   ],
   "source": [
    "import pandas as pd\n",
    "\n",
    "data = { 'city': ['Moscow', 'Moscow', 'Moscow', 'Kazan', 'Kazan', 'Kazan'],\n",
    "        'year':  [2022,      2021,     2020,     2022,    2021,    2020],\n",
    "        'visits': [500,      2000,     1500,     100,     230,     200]}\n",
    "\n",
    "df = pd.DataFrame(data, columns=['city', 'year', 'country']) # можно выбрать любое кол-во колонок, или создать новую\n",
    "\n",
    "print(df)"
   ]
  },
  {
   "cell_type": "markdown",
   "id": "fe6d38bb",
   "metadata": {},
   "source": [
    "При создании датафрейма вы можете задать свои собственные индексы (как и с серией)"
   ]
  },
  {
   "cell_type": "code",
   "execution_count": 17,
   "id": "4912599b",
   "metadata": {},
   "outputs": [
    {
     "name": "stdout",
     "output_type": "stream",
     "text": [
      "     city  year\n",
      "a  Moscow  2022\n",
      "b  Moscow  2021\n",
      "c  Moscow  2020\n",
      "d   Kazan  2022\n",
      "e   Kazan  2021\n",
      "f   Kazan  2020\n"
     ]
    }
   ],
   "source": [
    "import pandas as pd\n",
    "\n",
    "data = { 'city': ['Moscow', 'Moscow', 'Moscow', 'Kazan', 'Kazan', 'Kazan'],\n",
    "        'year':  [2022,      2021,     2020,     2022,    2021,    2020],\n",
    "        'visits': [500,      2000,     1500,     100,     230,     200]}\n",
    "\n",
    "# можно задать любой индекс, главное чтобы кол-во совпадало\n",
    "df = pd.DataFrame(data, index=['a', 'b', 'c', 'd','e', 'f'], columns=['city', 'year'])\n",
    "\n",
    "print(df)"
   ]
  },
  {
   "cell_type": "markdown",
   "id": "fc30670a",
   "metadata": {},
   "source": [
    "Доступ к целой колонке мы можем получить указав название колонки в квадратных скобках: **df['название колонки']**. Этот способ разрешает вытягивать колонки с пробелами и спец. символами. Менее гибкий способ это обращение к колонки через **атрибут(свойство)** датафрейма"
   ]
  },
  {
   "cell_type": "code",
   "execution_count": 24,
   "id": "ec98354c",
   "metadata": {},
   "outputs": [
    {
     "name": "stdout",
     "output_type": "stream",
     "text": [
      "a    Moscow\n",
      "b    Moscow\n",
      "c    Moscow\n",
      "d     Kazan\n",
      "e     Kazan\n",
      "f     Kazan\n",
      "Name: city, dtype: object\n",
      "\n",
      "a    Moscow\n",
      "b    Moscow\n",
      "c    Moscow\n",
      "d     Kazan\n",
      "e     Kazan\n",
      "f     Kazan\n",
      "Name: city, dtype: object\n",
      "\n"
     ]
    }
   ],
   "source": [
    "import pandas as pd\n",
    "\n",
    "data = { 'city': ['Moscow', 'Moscow', 'Moscow', 'Kazan', 'Kazan', 'Kazan'],\n",
    "        'year':  [2022,      2021,     2020,     2022,    2021,    2020],\n",
    "        'visits': [500,      2000,     1500,     100,     230,     200]}\n",
    "\n",
    "df = pd.DataFrame(data, index=['a', 'b', 'c', 'd','e', 'f'], columns=['city', 'year'])\n",
    "\n",
    "print(df['city'], end='\\n\\n') # доступ по первому способу\n",
    "print(df.city, end='\\n\\n') # доступ по второму способу"
   ]
  },
  {
   "cell_type": "code",
   "execution_count": 27,
   "id": "fdf27db4",
   "metadata": {},
   "outputs": [
    {
     "name": "stdout",
     "output_type": "stream",
     "text": [
      "city    Moscow\n",
      "year      2020\n",
      "Name: c, dtype: object\n"
     ]
    }
   ],
   "source": [
    "print(df.loc['c']) # еще один способ вытянутть данные в виде серии"
   ]
  },
  {
   "cell_type": "markdown",
   "id": "885db999",
   "metadata": {},
   "source": [
    "Возможно у вас был вопрос: а как создать новую колонку? Все очень просто! В квадратных скобках указываем название новой колонки и передаем либо одно значение либо массив.\n",
    "\n",
    "Если передаёте массив, то помните, что количество элементов должно быть равно количеству строк в датафрейме. Иначе датафрейм не сможет положить к себе одномерный массив."
   ]
  },
  {
   "cell_type": "code",
   "execution_count": 30,
   "id": "a6b6eaed",
   "metadata": {},
   "outputs": [
    {
     "name": "stdout",
     "output_type": "stream",
     "text": [
      "     city  year  visits  new_visits\n",
      "a  Moscow  2022       0         100\n",
      "b  Moscow  2021       0         200\n",
      "c  Moscow  2020       0         300\n",
      "d   Kazan  2022       0         400\n",
      "e   Kazan  2021       0         500\n",
      "f   Kazan  2020       0         600\n"
     ]
    }
   ],
   "source": [
    "import pandas as pd\n",
    "\n",
    "data = { 'city': ['Moscow', 'Moscow', 'Moscow', 'Kazan', 'Kazan', 'Kazan'],\n",
    "        'year':  [2022,      2021,     2020,     2022,    2021,    2020],\n",
    "        'visits': [500,      2000,     1500,     100,     230,     200]}\n",
    "\n",
    "df = pd.DataFrame(data, index=['a', 'b', 'c', 'd','e', 'f'])\n",
    "df['visits'] = 0\n",
    "df['new_visits'] = [100, 200, 300, 400, 500, 600]\n",
    "\n",
    "print(df)"
   ]
  },
  {
   "cell_type": "markdown",
   "id": "eba66f53",
   "metadata": {},
   "source": [
    "Кстати, можно добавить и серию! Только не забывайте про индексы - они должны совпадать, иначе датафрейм ничего не добавит)"
   ]
  },
  {
   "cell_type": "code",
   "execution_count": 34,
   "id": "71fac4b9",
   "metadata": {},
   "outputs": [
    {
     "name": "stdout",
     "output_type": "stream",
     "text": [
      "     city  year  visits  new_data\n",
      "a  Moscow  2022     500       1.0\n",
      "b  Moscow  2021    2000       NaN\n",
      "c  Moscow  2020    1500       NaN\n",
      "d   Kazan  2022     100      10.0\n",
      "e   Kazan  2021     230       NaN\n",
      "f   Kazan  2020     200      20.0\n"
     ]
    }
   ],
   "source": [
    "import pandas as pd\n",
    "\n",
    "data = { 'city': ['Moscow', 'Moscow', 'Moscow', 'Kazan', 'Kazan', 'Kazan'],\n",
    "        'year':  [2022,      2021,     2020,     2022,    2021,    2020],\n",
    "        'visits': [500,      2000,     1500,     100,     230,     200]}\n",
    "\n",
    "df = pd.DataFrame(data, index=['a', 'b', 'c', 'd','e', 'f'])\n",
    "s = pd.Series([1, 10, 20], index=['a', 'd', 'f'])\n",
    "\n",
    "df['new_data'] = s\n",
    "\n",
    "print(df)"
   ]
  },
  {
   "cell_type": "markdown",
   "id": "30e7df9e",
   "metadata": {},
   "source": [
    "## Задачи урока 3.5"
   ]
  },
  {
   "cell_type": "markdown",
   "id": "b377c63f",
   "metadata": {},
   "source": [
    "1. На основе словаря создайте датафрейм с индексами user1, user2, user3, user4"
   ]
  },
  {
   "cell_type": "code",
   "execution_count": 43,
   "id": "767ea15c",
   "metadata": {},
   "outputs": [
    {
     "data": {
      "text/html": [
       "<div>\n",
       "<style scoped>\n",
       "    .dataframe tbody tr th:only-of-type {\n",
       "        vertical-align: middle;\n",
       "    }\n",
       "\n",
       "    .dataframe tbody tr th {\n",
       "        vertical-align: top;\n",
       "    }\n",
       "\n",
       "    .dataframe thead th {\n",
       "        text-align: right;\n",
       "    }\n",
       "</style>\n",
       "<table border=\"1\" class=\"dataframe\">\n",
       "  <thead>\n",
       "    <tr style=\"text-align: right;\">\n",
       "      <th></th>\n",
       "      <th>user</th>\n",
       "      <th>time_per_page</th>\n",
       "      <th>pages</th>\n",
       "    </tr>\n",
       "  </thead>\n",
       "  <tbody>\n",
       "    <tr>\n",
       "      <th>user1</th>\n",
       "      <td>Ivan</td>\n",
       "      <td>10</td>\n",
       "      <td>7</td>\n",
       "    </tr>\n",
       "    <tr>\n",
       "      <th>user2</th>\n",
       "      <td>Petr</td>\n",
       "      <td>30</td>\n",
       "      <td>9</td>\n",
       "    </tr>\n",
       "    <tr>\n",
       "      <th>user3</th>\n",
       "      <td>Nikolay</td>\n",
       "      <td>15</td>\n",
       "      <td>12</td>\n",
       "    </tr>\n",
       "    <tr>\n",
       "      <th>user4</th>\n",
       "      <td>Andrey</td>\n",
       "      <td>5</td>\n",
       "      <td>3</td>\n",
       "    </tr>\n",
       "  </tbody>\n",
       "</table>\n",
       "</div>"
      ],
      "text/plain": [
       "          user  time_per_page  pages\n",
       "user1     Ivan             10      7\n",
       "user2     Petr             30      9\n",
       "user3  Nikolay             15     12\n",
       "user4   Andrey              5      3"
      ]
     },
     "execution_count": 43,
     "metadata": {},
     "output_type": "execute_result"
    }
   ],
   "source": [
    "import pandas as pd\n",
    "\n",
    "def solution():\n",
    "    data = {'user' : ['Ivan', 'Petr', 'Nikolay', 'Andrey'], \n",
    "            'time_per_page' :  [10, 30 , 15, 5], \n",
    "             'pages' : [7, 9, 12, 3]}\n",
    "    result = pd.DataFrame(data, index=['user1', 'user2', 'user3', 'user4'])\n",
    "    return result\n",
    "\n",
    "\n",
    "solution()"
   ]
  },
  {
   "cell_type": "markdown",
   "id": "7f02b648",
   "metadata": {},
   "source": [
    "2. На вход функции подаётся датафрейм с прошлого степа. Добавьте в датафрейм новую колонку с названием total_time, и присвойте ей произведение значений из столбцов time_per_page и pages. Функция должна вернуть итоговый датафрейм."
   ]
  },
  {
   "cell_type": "code",
   "execution_count": 40,
   "id": "11ab4e33",
   "metadata": {},
   "outputs": [],
   "source": [
    "import pandas as pd\n",
    "\n",
    "def solution(df):\n",
    "    df['total_time'] = df['time_per_page'] * df['pages']\n",
    "    return df"
   ]
  },
  {
   "cell_type": "markdown",
   "id": "1cd9c585",
   "metadata": {},
   "source": [
    "3. На вход функции подаётся датафрейм с прошлого степа и серия, которая содержит информацию о балансе пользователя, добавьте в датафрейм столбец balance, который будет хранить информацию о балансе из серии.\n",
    "\n",
    "![1](https://ucarecdn.com/7fa011bf-a2bb-4f9d-a6d3-ebed9dc47bdb/)\n",
    "\n"
   ]
  },
  {
   "cell_type": "code",
   "execution_count": 44,
   "id": "5a886edc",
   "metadata": {},
   "outputs": [],
   "source": [
    "import pandas as pd\n",
    "\n",
    "def solution(df, s1):\n",
    "    df['balance'] = s1\n",
    "    return df"
   ]
  },
  {
   "cell_type": "markdown",
   "id": "1cda05d9",
   "metadata": {},
   "source": [
    "4. На вход функции подаётся датафрейм с прошлого степа. Найдите индексы строк, где баланс не подтянулся. На выходе функция должна вернуть объект Index"
   ]
  },
  {
   "cell_type": "code",
   "execution_count": 64,
   "id": "053d4f99",
   "metadata": {},
   "outputs": [],
   "source": [
    "import pandas as pd\n",
    "\n",
    "def solution(df):\n",
    "    return df[df.balance.isnull()].index"
   ]
  },
  {
   "cell_type": "markdown",
   "id": "175faa20",
   "metadata": {},
   "source": [
    "5. На вход функции подаётся датафрейм с прошлого степа. Создайте новую колонку c названием is_correct. Проверьте каждое значение из столбца total_time. Если значение меньше 100, то в колонку is_correct вставьте True, а иначе False. Функция должна вернуть датафрейм с внесёнными изменениями."
   ]
  },
  {
   "cell_type": "code",
   "execution_count": 80,
   "id": "4a32d853",
   "metadata": {},
   "outputs": [],
   "source": [
    "import pandas as pd\n",
    "\n",
    "def solution(df):\n",
    "    df['is_correct'] = df['total_time'] > 100\n",
    "    return df"
   ]
  }
 ],
 "metadata": {
  "kernelspec": {
   "display_name": "Python 3 (ipykernel)",
   "language": "python",
   "name": "python3"
  },
  "language_info": {
   "codemirror_mode": {
    "name": "ipython",
    "version": 3
   },
   "file_extension": ".py",
   "mimetype": "text/x-python",
   "name": "python",
   "nbconvert_exporter": "python",
   "pygments_lexer": "ipython3",
   "version": "3.10.4"
  }
 },
 "nbformat": 4,
 "nbformat_minor": 5
}
