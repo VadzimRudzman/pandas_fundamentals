{
 "cells": [
  {
   "cell_type": "markdown",
   "id": "3f3a2600",
   "metadata": {},
   "source": [
    "## 3.1 Первое знакомство с Series"
   ]
  },
  {
   "cell_type": "code",
   "execution_count": 8,
   "id": "87364d08",
   "metadata": {},
   "outputs": [],
   "source": [
    "import pandas as pd # импорт библиотеки"
   ]
  },
  {
   "cell_type": "markdown",
   "id": "9e44945b",
   "metadata": {},
   "source": [
    "Numpy хорошо работает с числовыми данными - для этого он и создавался. Но на практике таблицы содержат не только числа, но и текст. Поэтому пришлось создавать другие контейнеры данных, которые хорошо будут работать с другими типами."
   ]
  },
  {
   "cell_type": "markdown",
   "id": "3f35b88d",
   "metadata": {},
   "source": [
    "**Series (серия или по простому ряд значений)** - контейнер в библиотеке Pandas, который создан для хранения одномерного массива данных. В нее нельзя погрузить матрицу или трехмерный массив. Серия может унести только одномерный массив. Именно серия будет хранить содержимое наших столбцов и строк поэтому давайте посмотрим на нее подробнее. Сейчас запомните, что серия это фундамент будущей Pandas таблицы!"
   ]
  },
  {
   "cell_type": "markdown",
   "id": "261ad515",
   "metadata": {},
   "source": [
    "Серия состоит из двух очень важных компонентов:\n",
    "\n",
    "1) хранилище наших значений (именно эти значения мы видим в столбце/строке)\n",
    "\n",
    "2) хранилище индексов. Индексы могут быть как числовые так и строковые. Обращаясь к серии через индекс мы просим серию вернуть из хранилища значений элемент, который связан с индексом. Очень похоже на словарь! \n",
    "\n",
    "Индексы и значения жестко связаны между собой."
   ]
  },
  {
   "cell_type": "markdown",
   "id": "e3436442",
   "metadata": {},
   "source": [
    "Чтобы создать серию вам надо обратиться к библиотеке pandas и у неё спросить серию: **pandas.Series()**. В скобки передайте одномерный список или массив. Кстати, словарь тоже сработает! Pandas примет ваш массив/словарь и создаст на их основе серию.\n",
    "\n",
    "При попытке распечатать на экране серию, питон печатает две колонки: левая - индексы, правая - наши значения.\n",
    "\n",
    "Через свойство **.index** вы получите одномерный numpy массив индексов\n",
    "\n",
    "Через свойство **.values** вы получите одномерный numpy массив с нашими значениями"
   ]
  },
  {
   "cell_type": "code",
   "execution_count": 16,
   "id": "2a7d516b",
   "metadata": {},
   "outputs": [
    {
     "name": "stdout",
     "output_type": "stream",
     "text": [
      "0     1\n",
      "1     3\n",
      "2    -5\n",
      "3    12\n",
      "dtype: int64\n",
      "\n",
      "[ 1  3 -5 12]\n",
      "\n",
      "RangeIndex(start=0, stop=4, step=1)\n"
     ]
    }
   ],
   "source": [
    "import pandas as pd\n",
    "\n",
    "s1 = pd.Series([1, 3, -5, 12])\n",
    "\n",
    "print(s1, end='\\n\\n') # серия\n",
    "print(s1.values, end='\\n\\n') # значения\n",
    "print(s1.index) # индексы"
   ]
  },
  {
   "cell_type": "markdown",
   "id": "d1d6cfeb",
   "metadata": {},
   "source": [
    "Если при создании серии вы не задаёте индексы, то серия автоматически создает их для себя. Вы можете задать свои индексы, для этого в конструктор серии передайте значения, которые надо хранить в серии и индексы для них."
   ]
  },
  {
   "cell_type": "code",
   "execution_count": 18,
   "id": "19264f0e",
   "metadata": {},
   "outputs": [
    {
     "name": "stdout",
     "output_type": "stream",
     "text": [
      "a     1\n",
      "b     3\n",
      "c    -5\n",
      "d    12\n",
      "dtype: int64\n",
      "\n",
      "[ 1  3 -5 12]\n",
      "\n",
      "Index(['a', 'b', 'c', 'd'], dtype='object')\n"
     ]
    }
   ],
   "source": [
    "import pandas as pd\n",
    "\n",
    "s2 = pd.Series([1, 3, -5, 12], index=['a', 'b', 'c', 'd'])\n",
    "\n",
    "print(s2, end='\\n\\n') # серия\n",
    "print(s2.values, end='\\n\\n') # значения\n",
    "print(s2.index) # индексы"
   ]
  },
  {
   "cell_type": "markdown",
   "id": "10bf45b7",
   "metadata": {},
   "source": [
    "Для доступа к элементу серии в скобках укажите индекс, который связан с этим элементом. Если индекс числовой, то в квадратных скобках укажите число: **s[1]**. Если индексы строковые, то укажите в кавычках: **s['c']** (можно одинарные, можно двойные)."
   ]
  },
  {
   "cell_type": "code",
   "execution_count": 22,
   "id": "7787a890",
   "metadata": {},
   "outputs": [
    {
     "name": "stdout",
     "output_type": "stream",
     "text": [
      "-5\n",
      "12\n"
     ]
    }
   ],
   "source": [
    "import pandas as pd\n",
    "\n",
    "s3 = pd.Series([1, 3, -5, 12], index=['a', 'b', 'c', 'd'])\n",
    "\n",
    "print(s3['c']) # доступ по строковому индексу\n",
    "print(s3[3]) # доступ по числовому индексу"
   ]
  },
  {
   "cell_type": "markdown",
   "id": "037876f9",
   "metadata": {},
   "source": [
    "Вы можете создавать серию как на основе списка, так и на основе numpy массива - результат будет одинаковый). Для получения доступа к нескольким элементам серии передайте список индексов: **s[['a', 'b', 'c']]**"
   ]
  },
  {
   "cell_type": "code",
   "execution_count": 28,
   "id": "0f554d36",
   "metadata": {},
   "outputs": [
    {
     "name": "stdout",
     "output_type": "stream",
     "text": [
      "b    100\n",
      "a      1\n",
      "c     -5\n",
      "dtype: int64\n"
     ]
    }
   ],
   "source": [
    "import pandas as pd\n",
    "\n",
    "s4 = pd.Series([1, 3, -5, 12], index=['a', 'b', 'c', 'd'])\n",
    "\n",
    "s4['b'] = 100 # замена значения в исходной серии\n",
    "\n",
    "print(s4[['b', 'a', 'c']]) # доступ по строковому индексу к нескольким значениям"
   ]
  },
  {
   "cell_type": "markdown",
   "id": "72d915dc",
   "metadata": {},
   "source": [
    "## Задачи урока 3.1"
   ]
  },
  {
   "cell_type": "markdown",
   "id": "08a87d95",
   "metadata": {},
   "source": [
    "1. Создайте серию, которая будет содержать элементы 1, 2, 3, 4, 5. Функция должна вернуть серию."
   ]
  },
  {
   "cell_type": "code",
   "execution_count": null,
   "id": "3a6b525f",
   "metadata": {},
   "outputs": [],
   "source": [
    "import pandas as pd\n",
    "\n",
    "def solution():\n",
    "    return pd.Series(range(1, 6))"
   ]
  },
  {
   "cell_type": "markdown",
   "id": "9af7d6fa",
   "metadata": {},
   "source": [
    "2. На вход функции подаётся серия. Доработайте функцию так чтобы она возвращала индексы серии"
   ]
  },
  {
   "cell_type": "code",
   "execution_count": null,
   "id": "19c4d9f3",
   "metadata": {},
   "outputs": [],
   "source": [
    "import pandas as pd\n",
    "\n",
    "def solution(s1):\n",
    "    return s1.index"
   ]
  },
  {
   "cell_type": "markdown",
   "id": "53638184",
   "metadata": {},
   "source": [
    "3. Создайте серию, которая будет содержать элементы 1, 2, 3, 4, 5 и индексы a, b, c, d, e. Функция должна вернуть серию."
   ]
  },
  {
   "cell_type": "code",
   "execution_count": 31,
   "id": "2ea44658",
   "metadata": {},
   "outputs": [],
   "source": [
    "import pandas as pd\n",
    "import string\n",
    "\n",
    "def solution():\n",
    "    return pd.Series(range(1, 6), list(string.ascii_lowercase[:5])"
   ]
  },
  {
   "cell_type": "markdown",
   "id": "36d8a4ff",
   "metadata": {},
   "source": [
    "4. На вход функции подаётся серия. Вытяните из нее элементы с индексами a и с. Функция должна вернуть серию."
   ]
  },
  {
   "cell_type": "code",
   "execution_count": null,
   "id": "93d43262",
   "metadata": {},
   "outputs": [],
   "source": [
    "import pandas as pd\n",
    "\n",
    "def solution(s1):\n",
    "    return s1[['a', 'c']]"
   ]
  },
  {
   "cell_type": "markdown",
   "id": "9d60089d",
   "metadata": {},
   "source": [
    "5. На вход функции подаётся серия. Замените элемент по индексу c на 0. Функция должна вернуть серию с измененным элементом по индексу с."
   ]
  },
  {
   "cell_type": "code",
   "execution_count": null,
   "id": "603e1c00",
   "metadata": {},
   "outputs": [],
   "source": [
    "import pandas as pd\n",
    "\n",
    "def solution(s1):\n",
    "    s1['c'] = 0\n",
    "    return s1"
   ]
  },
  {
   "cell_type": "markdown",
   "id": "d527e904",
   "metadata": {},
   "source": [
    "6. На вход функции подаётся серия. Доработайте функцию так чтобы она возвращала numpy массив, который содержит значения серии"
   ]
  },
  {
   "cell_type": "code",
   "execution_count": null,
   "id": "74ef8a40",
   "metadata": {},
   "outputs": [],
   "source": [
    "import pandas as pd\n",
    "import numpy as np\n",
    "\n",
    "def solution(s1):\n",
    "    return np.array(s1.values)"
   ]
  },
  {
   "cell_type": "markdown",
   "id": "f49b3572",
   "metadata": {},
   "source": [
    "## 3.3 Поподробнее про серии: идексы, сложение, проверка на NaN"
   ]
  },
  {
   "cell_type": "markdown",
   "id": "bd67a818",
   "metadata": {},
   "source": [
    "1) При фильтрации серии индексы остаются, а не пересоздаются.  \n",
    "2) Арифметические операции не распространяются на индексы"
   ]
  },
  {
   "cell_type": "code",
   "execution_count": 50,
   "id": "86ce869d",
   "metadata": {},
   "outputs": [
    {
     "name": "stdout",
     "output_type": "stream",
     "text": [
      "a    101\n",
      "b    103\n",
      "d    112\n",
      "dtype: int64\n"
     ]
    }
   ],
   "source": [
    "import pandas as pd\n",
    "\n",
    "s1 = pd.Series([1, 3, -5, 12], index=['a', 'b', 'c', 'd'])\n",
    "s1 = s1 + 100\n",
    "\n",
    "print(s1[s1 > 100])"
   ]
  },
  {
   "cell_type": "markdown",
   "id": "aff47873",
   "metadata": {},
   "source": [
    "Серию можно создавать не только на основе списка. Еще один распространённый сценарий это создание серии из словаря. В этом случае ключи словаря перейдут в индексы серии."
   ]
  },
  {
   "cell_type": "code",
   "execution_count": 56,
   "id": "4d200c72",
   "metadata": {},
   "outputs": [
    {
     "name": "stdout",
     "output_type": "stream",
     "text": [
      "Moscow      100\n",
      "Murmansk    200\n",
      "Ufa         300\n",
      "dtype: int64\n",
      "\n",
      "True\n",
      "\n",
      "Moscow      200\n",
      "Murmansk    400\n",
      "Ufa         600\n",
      "dtype: int64\n"
     ]
    }
   ],
   "source": [
    "import pandas as pd\n",
    "\n",
    "d = {'Moscow': 100, 'Murmansk': 200, 'Ufa': 300}\n",
    "s2 = pd.Series(d)\n",
    "\n",
    "print(s2, end='\\n\\n')\n",
    "print('Moscow' in s2, end='\\n\\n')\n",
    "print(s2 + s2)"
   ]
  },
  {
   "cell_type": "markdown",
   "id": "c3b0c319",
   "metadata": {},
   "source": [
    "1) Вы можете задавать индексы на этапе создания серии  \n",
    "2) Не обязательно чтобы индексы шли по порядку  \n",
    "3) Если вы создаёте серию на основе словаря и указали индекс, которого не существует в словаре, то pandas добавит в серию такой индекс, но значение будет равно NaN (пропуск)  \n",
    "4) Если вы создаете серию на основе словаря и не передали все индексы, то никакой ошибки не будет. Пандас добавит в серию только те значения, которые вы указали в индексе"
   ]
  },
  {
   "cell_type": "code",
   "execution_count": 59,
   "id": "27b4addd",
   "metadata": {},
   "outputs": [
    {
     "name": "stdout",
     "output_type": "stream",
     "text": [
      "Murmansk       200.0\n",
      "Moscow         100.0\n",
      "Vladivostok      NaN\n",
      "Ufa            300.0\n",
      "dtype: float64\n"
     ]
    }
   ],
   "source": [
    "import pandas as pd\n",
    "\n",
    "d = {'Moscow': 100, 'Murmansk': 200, 'Ufa': 300}\n",
    "s3 = pd.Series(d, index=['Murmansk', 'Moscow', 'Vladivostok', 'Ufa']) # задаём собственный порядок отображения\n",
    "\n",
    "print(s3)"
   ]
  },
  {
   "cell_type": "markdown",
   "id": "827813e4",
   "metadata": {},
   "source": [
    "Чтобы проверить серию на NaN, можно использовать функцию **isnull**. Существует обратная функции **notnull**"
   ]
  },
  {
   "cell_type": "code",
   "execution_count": 63,
   "id": "3241f149",
   "metadata": {},
   "outputs": [
    {
     "name": "stdout",
     "output_type": "stream",
     "text": [
      "Murmansk       False\n",
      "Moscow         False\n",
      "Vladivostok     True\n",
      "Ufa            False\n",
      "dtype: bool\n",
      "\n",
      "Murmansk        True\n",
      "Moscow          True\n",
      "Vladivostok    False\n",
      "Ufa             True\n",
      "dtype: bool\n"
     ]
    }
   ],
   "source": [
    "import pandas as pd\n",
    "\n",
    "d = {'Moscow': 100, 'Murmansk': 200, 'Ufa': 300}\n",
    "s3 = pd.Series(d, index=['Murmansk', 'Moscow', 'Vladivostok', 'Ufa']) # задаём собственный порядок отображения\n",
    "\n",
    "print(s3.isnull(), end='\\n\\n')\n",
    "print(s3.notnull())"
   ]
  },
  {
   "cell_type": "markdown",
   "id": "2ff702cb",
   "metadata": {},
   "source": [
    "**Важно запомнить, что при сложении серий:**\n",
    "\n",
    "1) не обязательно чтобы они были одинаковой длины  \n",
    "2) сложение будет происходить по индексам  \n",
    "3) если в одной из серий есть индекс, которого нет в другой серии, то индекс добавляется в результирующую серию, но значение присваивается NaN  "
   ]
  },
  {
   "cell_type": "code",
   "execution_count": 65,
   "id": "9c6b73e7",
   "metadata": {},
   "outputs": [
    {
     "name": "stdout",
     "output_type": "stream",
     "text": [
      "Moscow         600.0\n",
      "Murmansk       400.0\n",
      "Ufa              NaN\n",
      "Vladivostok      NaN\n",
      "dtype: float64\n"
     ]
    }
   ],
   "source": [
    "import pandas as pd\n",
    "\n",
    "s1 = pd.Series({'Moscow': 100, 'Murmansk': 200, 'Ufa': 300})\n",
    "s2 = pd.Series({'Moscow': 500, 'Murmansk': 200, 'Vladivostok': 300})\n",
    "\n",
    "print(s1 + s2)"
   ]
  },
  {
   "cell_type": "markdown",
   "id": "e9d66f30",
   "metadata": {},
   "source": [
    "В случае если необходимо изменить индексы у уже существующей серии, то аглоритм таков:"
   ]
  },
  {
   "cell_type": "code",
   "execution_count": 68,
   "id": "9e8e6f49",
   "metadata": {},
   "outputs": [
    {
     "name": "stdout",
     "output_type": "stream",
     "text": [
      "0     5\n",
      "1    10\n",
      "2    20\n",
      "3    30\n",
      "4    40\n",
      "5    50\n",
      "dtype: int64\n",
      "\n",
      "a     5\n",
      "b    10\n",
      "c    20\n",
      "d    30\n",
      "e    40\n",
      "f    50\n",
      "dtype: int64\n"
     ]
    }
   ],
   "source": [
    "import pandas as pd\n",
    "\n",
    "s = pd.Series([5, 10, 20, 30 , 40, 50])\n",
    "\n",
    "print(s, end='\\n\\n')\n",
    "\n",
    "s.index = ['a', 'b', 'c', 'd', 'e', 'f'] # меняем индексы\n",
    "\n",
    "print(s)"
   ]
  },
  {
   "cell_type": "markdown",
   "id": "c699638f",
   "metadata": {},
   "source": [
    "У каждой серии есть своё имя. Задать или прочитать имя можно через свойство **name**. Имя используется при работе с хранилищем серий - DataFrame (про него смотрите дальше, но сначала тест)."
   ]
  },
  {
   "cell_type": "code",
   "execution_count": 69,
   "id": "94f6fc3f",
   "metadata": {},
   "outputs": [
    {
     "name": "stdout",
     "output_type": "stream",
     "text": [
      "0     5\n",
      "1    10\n",
      "2    20\n",
      "3    30\n",
      "4    40\n",
      "5    50\n",
      "Name: values, dtype: int64\n"
     ]
    }
   ],
   "source": [
    "import pandas as pd\n",
    "\n",
    "s = pd.Series([5, 10, 20, 30 , 40, 50])\n",
    "\n",
    "s.name = 'values'\n",
    "print(s)"
   ]
  },
  {
   "cell_type": "markdown",
   "id": "b702c25f",
   "metadata": {},
   "source": [
    "## Задачи урока 3.3"
   ]
  },
  {
   "cell_type": "markdown",
   "id": "e1b05089",
   "metadata": {},
   "source": [
    "1. На вход функции подаётся серия из 7 значений. Известно, что она хранит количество посещенных сайтов некоторого пользователя за первую неделю:\n",
    "\n",
    "![1](https://ucarecdn.com/624e853b-0065-4f4d-977c-5173040f0168/)\n",
    "\n",
    "Известно, что за вторую неделю пользователь посетил в два раза больше сайтов  \n",
    "![2](https://ucarecdn.com/1985976f-ed26-4bf9-bdb8-6ce2fb1a93c9/)\n",
    "\n",
    "Определите сколько сайтов посетил пользователь в сумме за две недели в разрезе по дням недели. Функция должна вернуть только те дни, где количество посещенных сайтов больше 20:\n",
    "\n",
    "![3](https://ucarecdn.com/c89026ec-0080-4671-a61e-2e47f4cf314a/)"
   ]
  },
  {
   "cell_type": "code",
   "execution_count": null,
   "id": "0fef7172",
   "metadata": {},
   "outputs": [],
   "source": [
    "import pandas as pd\n",
    "\n",
    "def solution(ser1):\n",
    "    result = ser1 + ser1 * 2\n",
    "    return result[result > 20]"
   ]
  },
  {
   "cell_type": "markdown",
   "id": "e27048dd",
   "metadata": {},
   "source": [
    "2. На вход поступает некоторая серия. Проверьте, есть ли в ней индекс 'Пятница'. Верните True если есть иначе False."
   ]
  },
  {
   "cell_type": "code",
   "execution_count": null,
   "id": "e0f40a95",
   "metadata": {},
   "outputs": [],
   "source": [
    "import pandas as pd\n",
    "\n",
    "def solution(ser1):\n",
    "    return 'Пятница' in ser1"
   ]
  },
  {
   "cell_type": "markdown",
   "id": "3331fbf4",
   "metadata": {},
   "source": [
    "## 3.4 Практика: тонкости при работе с сериями"
   ]
  },
  {
   "cell_type": "markdown",
   "id": "9c712e9d",
   "metadata": {},
   "source": [
    "1. На вход функции подаётся словарь. Постройте из него серию и умножьте каждое значение серии на 2. Функция должна вернуть серию. "
   ]
  },
  {
   "cell_type": "code",
   "execution_count": null,
   "id": "7f72611f",
   "metadata": {},
   "outputs": [],
   "source": [
    "import pandas as pd\n",
    "\n",
    "def solution(d):\n",
    "    return pd.Series(d) * 2"
   ]
  },
  {
   "cell_type": "markdown",
   "id": "2c6ab629",
   "metadata": {},
   "source": [
    "2. На вход функции подаётся словарь. Постройте из него серию так чтобы индексы были расположены в порядке: e, a, c, b, d"
   ]
  },
  {
   "cell_type": "code",
   "execution_count": null,
   "id": "d7e005f3",
   "metadata": {},
   "outputs": [],
   "source": [
    "import pandas as pd\n",
    "\n",
    "def solution(d):\n",
    "    return pd.Series(d, ['e', 'a', 'c', 'b', 'd'])"
   ]
  },
  {
   "cell_type": "markdown",
   "id": "af96e598",
   "metadata": {},
   "source": [
    "3. На вход функции подаётся словарь. Постройте из него серию и добавьте еще один индекс g. Индексу g присвойте значение 10. Функция должна вернуть серию."
   ]
  },
  {
   "cell_type": "code",
   "execution_count": null,
   "id": "0bea5474",
   "metadata": {},
   "outputs": [],
   "source": [
    "import pandas as pd\n",
    "\n",
    "def solution(d):\n",
    "    s = pd.Series(d)\n",
    "    s['g'] = 10\n",
    "    return s"
   ]
  },
  {
   "cell_type": "markdown",
   "id": "db1d36f8",
   "metadata": {},
   "source": [
    "4. Проверьте, все ли значения серии заполнены? Верните одно значение False - если не все; True - если все заполнены"
   ]
  },
  {
   "cell_type": "code",
   "execution_count": null,
   "id": "b431c7c6",
   "metadata": {},
   "outputs": [],
   "source": [
    "import pandas as pd\n",
    "\n",
    "def solution(s1):\n",
    "    return all(s1.isnull())"
   ]
  },
  {
   "cell_type": "markdown",
   "id": "f624c3e0",
   "metadata": {},
   "source": [
    "5. На вход вам подаётся серия. Разверните индексы в обратном направлении:\n",
    "\n",
    "![1](https://ucarecdn.com/618e5198-6834-43fd-b4c5-c8b8eaad97c0/)"
   ]
  },
  {
   "cell_type": "code",
   "execution_count": 75,
   "id": "82c821a8",
   "metadata": {},
   "outputs": [
    {
     "data": {
      "text/plain": [
       "2    6\n",
       "1    5\n",
       "0    4\n",
       "dtype: int64"
      ]
     },
     "execution_count": 75,
     "metadata": {},
     "output_type": "execute_result"
    }
   ],
   "source": [
    "import pandas as pd\n",
    "\n",
    "def solution(s1):\n",
    "    result = pd.Series(s1.values, s1.index[::-1])\n",
    "    return result\n",
    "\n",
    "s1 = pd.Series([6, 5, 4])\n",
    "solution(s1)"
   ]
  },
  {
   "cell_type": "markdown",
   "id": "c93c2a6a",
   "metadata": {},
   "source": [
    "## 3.5 Первое знакомство с DataFrame"
   ]
  },
  {
   "cell_type": "markdown",
   "id": "25f8e62e",
   "metadata": {},
   "source": [
    "Для хранения серий разработчики Pandas не стали брать словарь, а решили создать свой контейнер - DataFrame (датафрейм). Чтобы датафрейм легко ориентировался в сериях, их наделили свойством name. "
   ]
  },
  {
   "cell_type": "markdown",
   "id": "e9b11caf",
   "metadata": {},
   "source": [
    "У серии индексы не уникальные! Они могут повторяться."
   ]
  },
  {
   "cell_type": "code",
   "execution_count": 6,
   "id": "9fdb10aa",
   "metadata": {},
   "outputs": [
    {
     "name": "stdout",
     "output_type": "stream",
     "text": [
      "a    1\n",
      "b    2\n",
      "a    3\n",
      "dtype: int64\n",
      "\n",
      "a    1\n",
      "a    3\n",
      "dtype: int64\n"
     ]
    }
   ],
   "source": [
    "import pandas as pd\n",
    "\n",
    "s = pd.Series([1, 2, 3], index=['a', 'b', 'a'])\n",
    "\n",
    "print(s, end='\\n\\n')\n",
    "print(s['a'])"
   ]
  },
  {
   "cell_type": "markdown",
   "id": "4c9ba019",
   "metadata": {},
   "source": [
    "Датафреймы очень хорошо создаются на основе словаря, который состоит из ключей и значений в качестве вложенных списков. Ключи словаря в датафрейме станут названиями столбцов, а вложенные списки - колонками."
   ]
  },
  {
   "cell_type": "code",
   "execution_count": 7,
   "id": "6f51ad2e",
   "metadata": {},
   "outputs": [
    {
     "name": "stdout",
     "output_type": "stream",
     "text": [
      "     city  year  visits\n",
      "0  Moscow  2022     500\n",
      "1  Moscow  2021    2000\n",
      "2  Moscow  2020    1500\n",
      "3   Kazan  2022     100\n",
      "4   Kazan  2021     230\n",
      "5   Kazan  2020     200\n"
     ]
    }
   ],
   "source": [
    "import pandas as pd\n",
    "\n",
    "data = { 'city': ['Moscow', 'Moscow', 'Moscow', 'Kazan', 'Kazan', 'Kazan'],\n",
    "        'year':  [2022,      2021,     2020,     2022,    2021,    2020],\n",
    "        'visits': [500,      2000,     1500,     100,     230,     200]}\n",
    "\n",
    "df = pd.DataFrame(data)\n",
    "\n",
    "print(df)"
   ]
  },
  {
   "cell_type": "code",
   "execution_count": 9,
   "id": "ba76eff4",
   "metadata": {},
   "outputs": [
    {
     "name": "stdout",
     "output_type": "stream",
     "text": [
      "     city  year country\n",
      "0  Moscow  2022     NaN\n",
      "1  Moscow  2021     NaN\n",
      "2  Moscow  2020     NaN\n",
      "3   Kazan  2022     NaN\n",
      "4   Kazan  2021     NaN\n",
      "5   Kazan  2020     NaN\n"
     ]
    }
   ],
   "source": [
    "import pandas as pd\n",
    "\n",
    "data = { 'city': ['Moscow', 'Moscow', 'Moscow', 'Kazan', 'Kazan', 'Kazan'],\n",
    "        'year':  [2022,      2021,     2020,     2022,    2021,    2020],\n",
    "        'visits': [500,      2000,     1500,     100,     230,     200]}\n",
    "\n",
    "df = pd.DataFrame(data, columns=['city', 'year', 'country']) # можно выбрать любое кол-во колонок, или создать новую\n",
    "\n",
    "print(df)"
   ]
  },
  {
   "cell_type": "markdown",
   "id": "dc602c26",
   "metadata": {},
   "source": [
    "При создании датафрейма вы можете задать свои собственные индексы (как и с серией)"
   ]
  },
  {
   "cell_type": "code",
   "execution_count": 17,
   "id": "943992e7",
   "metadata": {},
   "outputs": [
    {
     "name": "stdout",
     "output_type": "stream",
     "text": [
      "     city  year\n",
      "a  Moscow  2022\n",
      "b  Moscow  2021\n",
      "c  Moscow  2020\n",
      "d   Kazan  2022\n",
      "e   Kazan  2021\n",
      "f   Kazan  2020\n"
     ]
    }
   ],
   "source": [
    "import pandas as pd\n",
    "\n",
    "data = { 'city': ['Moscow', 'Moscow', 'Moscow', 'Kazan', 'Kazan', 'Kazan'],\n",
    "        'year':  [2022,      2021,     2020,     2022,    2021,    2020],\n",
    "        'visits': [500,      2000,     1500,     100,     230,     200]}\n",
    "\n",
    "# можно задать любой индекс, главное чтобы кол-во совпадало\n",
    "df = pd.DataFrame(data, index=['a', 'b', 'c', 'd','e', 'f'], columns=['city', 'year'])\n",
    "\n",
    "print(df)"
   ]
  },
  {
   "cell_type": "markdown",
   "id": "09109789",
   "metadata": {},
   "source": [
    "Доступ к целой колонке мы можем получить указав название колонки в квадратных скобках: **df['название колонки']**. Этот способ разрешает вытягивать колонки с пробелами и спец. символами. Менее гибкий способ это обращение к колонки через **атрибут(свойство)** датафрейма"
   ]
  },
  {
   "cell_type": "code",
   "execution_count": 24,
   "id": "abbae441",
   "metadata": {},
   "outputs": [
    {
     "name": "stdout",
     "output_type": "stream",
     "text": [
      "a    Moscow\n",
      "b    Moscow\n",
      "c    Moscow\n",
      "d     Kazan\n",
      "e     Kazan\n",
      "f     Kazan\n",
      "Name: city, dtype: object\n",
      "\n",
      "a    Moscow\n",
      "b    Moscow\n",
      "c    Moscow\n",
      "d     Kazan\n",
      "e     Kazan\n",
      "f     Kazan\n",
      "Name: city, dtype: object\n",
      "\n"
     ]
    }
   ],
   "source": [
    "import pandas as pd\n",
    "\n",
    "data = { 'city': ['Moscow', 'Moscow', 'Moscow', 'Kazan', 'Kazan', 'Kazan'],\n",
    "        'year':  [2022,      2021,     2020,     2022,    2021,    2020],\n",
    "        'visits': [500,      2000,     1500,     100,     230,     200]}\n",
    "\n",
    "df = pd.DataFrame(data, index=['a', 'b', 'c', 'd','e', 'f'], columns=['city', 'year'])\n",
    "\n",
    "print(df['city'], end='\\n\\n') # доступ по первому способу\n",
    "print(df.city, end='\\n\\n') # доступ по второму способу"
   ]
  },
  {
   "cell_type": "code",
   "execution_count": 27,
   "id": "f4c1e07e",
   "metadata": {},
   "outputs": [
    {
     "name": "stdout",
     "output_type": "stream",
     "text": [
      "city    Moscow\n",
      "year      2020\n",
      "Name: c, dtype: object\n"
     ]
    }
   ],
   "source": [
    "print(df.loc['c']) # еще один способ вытянутть данные в виде серии"
   ]
  },
  {
   "cell_type": "markdown",
   "id": "0c864977",
   "metadata": {},
   "source": [
    "Возможно у вас был вопрос: а как создать новую колонку? Все очень просто! В квадратных скобках указываем название новой колонки и передаем либо одно значение либо массив.\n",
    "\n",
    "Если передаёте массив, то помните, что количество элементов должно быть равно количеству строк в датафрейме. Иначе датафрейм не сможет положить к себе одномерный массив."
   ]
  },
  {
   "cell_type": "code",
   "execution_count": 30,
   "id": "9c12052d",
   "metadata": {},
   "outputs": [
    {
     "name": "stdout",
     "output_type": "stream",
     "text": [
      "     city  year  visits  new_visits\n",
      "a  Moscow  2022       0         100\n",
      "b  Moscow  2021       0         200\n",
      "c  Moscow  2020       0         300\n",
      "d   Kazan  2022       0         400\n",
      "e   Kazan  2021       0         500\n",
      "f   Kazan  2020       0         600\n"
     ]
    }
   ],
   "source": [
    "import pandas as pd\n",
    "\n",
    "data = { 'city': ['Moscow', 'Moscow', 'Moscow', 'Kazan', 'Kazan', 'Kazan'],\n",
    "        'year':  [2022,      2021,     2020,     2022,    2021,    2020],\n",
    "        'visits': [500,      2000,     1500,     100,     230,     200]}\n",
    "\n",
    "df = pd.DataFrame(data, index=['a', 'b', 'c', 'd','e', 'f'])\n",
    "df['visits'] = 0\n",
    "df['new_visits'] = [100, 200, 300, 400, 500, 600]\n",
    "\n",
    "print(df)"
   ]
  },
  {
   "cell_type": "markdown",
   "id": "44edc2e7",
   "metadata": {},
   "source": [
    "Кстати, можно добавить и серию! Только не забывайте про индексы - они должны совпадать, иначе датафрейм ничего не добавит)"
   ]
  },
  {
   "cell_type": "code",
   "execution_count": 34,
   "id": "d56ce9b3",
   "metadata": {},
   "outputs": [
    {
     "name": "stdout",
     "output_type": "stream",
     "text": [
      "     city  year  visits  new_data\n",
      "a  Moscow  2022     500       1.0\n",
      "b  Moscow  2021    2000       NaN\n",
      "c  Moscow  2020    1500       NaN\n",
      "d   Kazan  2022     100      10.0\n",
      "e   Kazan  2021     230       NaN\n",
      "f   Kazan  2020     200      20.0\n"
     ]
    }
   ],
   "source": [
    "import pandas as pd\n",
    "\n",
    "data = { 'city': ['Moscow', 'Moscow', 'Moscow', 'Kazan', 'Kazan', 'Kazan'],\n",
    "        'year':  [2022,      2021,     2020,     2022,    2021,    2020],\n",
    "        'visits': [500,      2000,     1500,     100,     230,     200]}\n",
    "\n",
    "df = pd.DataFrame(data, index=['a', 'b', 'c', 'd','e', 'f'])\n",
    "s = pd.Series([1, 10, 20], index=['a', 'd', 'f'])\n",
    "\n",
    "df['new_data'] = s\n",
    "\n",
    "print(df)"
   ]
  },
  {
   "cell_type": "markdown",
   "id": "0d0837c9",
   "metadata": {},
   "source": [
    "## Задачи урока 3.5"
   ]
  },
  {
   "cell_type": "markdown",
   "id": "9ea6764c",
   "metadata": {},
   "source": [
    "1. На основе словаря создайте датафрейм с индексами user1, user2, user3, user4"
   ]
  },
  {
   "cell_type": "code",
   "execution_count": 43,
   "id": "d6dd3f88",
   "metadata": {},
   "outputs": [
    {
     "data": {
      "text/html": [
       "<div>\n",
       "<style scoped>\n",
       "    .dataframe tbody tr th:only-of-type {\n",
       "        vertical-align: middle;\n",
       "    }\n",
       "\n",
       "    .dataframe tbody tr th {\n",
       "        vertical-align: top;\n",
       "    }\n",
       "\n",
       "    .dataframe thead th {\n",
       "        text-align: right;\n",
       "    }\n",
       "</style>\n",
       "<table border=\"1\" class=\"dataframe\">\n",
       "  <thead>\n",
       "    <tr style=\"text-align: right;\">\n",
       "      <th></th>\n",
       "      <th>user</th>\n",
       "      <th>time_per_page</th>\n",
       "      <th>pages</th>\n",
       "    </tr>\n",
       "  </thead>\n",
       "  <tbody>\n",
       "    <tr>\n",
       "      <th>user1</th>\n",
       "      <td>Ivan</td>\n",
       "      <td>10</td>\n",
       "      <td>7</td>\n",
       "    </tr>\n",
       "    <tr>\n",
       "      <th>user2</th>\n",
       "      <td>Petr</td>\n",
       "      <td>30</td>\n",
       "      <td>9</td>\n",
       "    </tr>\n",
       "    <tr>\n",
       "      <th>user3</th>\n",
       "      <td>Nikolay</td>\n",
       "      <td>15</td>\n",
       "      <td>12</td>\n",
       "    </tr>\n",
       "    <tr>\n",
       "      <th>user4</th>\n",
       "      <td>Andrey</td>\n",
       "      <td>5</td>\n",
       "      <td>3</td>\n",
       "    </tr>\n",
       "  </tbody>\n",
       "</table>\n",
       "</div>"
      ],
      "text/plain": [
       "          user  time_per_page  pages\n",
       "user1     Ivan             10      7\n",
       "user2     Petr             30      9\n",
       "user3  Nikolay             15     12\n",
       "user4   Andrey              5      3"
      ]
     },
     "execution_count": 43,
     "metadata": {},
     "output_type": "execute_result"
    }
   ],
   "source": [
    "import pandas as pd\n",
    "\n",
    "def solution():\n",
    "    data = {'user' : ['Ivan', 'Petr', 'Nikolay', 'Andrey'], \n",
    "            'time_per_page' :  [10, 30 , 15, 5], \n",
    "             'pages' : [7, 9, 12, 3]}\n",
    "    result = pd.DataFrame(data, index=['user1', 'user2', 'user3', 'user4'])\n",
    "    return result\n",
    "\n",
    "\n",
    "solution()"
   ]
  },
  {
   "cell_type": "markdown",
   "id": "a6d76daf",
   "metadata": {},
   "source": [
    "2. На вход функции подаётся датафрейм с прошлого степа. Добавьте в датафрейм новую колонку с названием total_time, и присвойте ей произведение значений из столбцов time_per_page и pages. Функция должна вернуть итоговый датафрейм."
   ]
  },
  {
   "cell_type": "code",
   "execution_count": 40,
   "id": "dbbe7e87",
   "metadata": {},
   "outputs": [],
   "source": [
    "import pandas as pd\n",
    "\n",
    "def solution(df):\n",
    "    df['total_time'] = df['time_per_page'] * df['pages']\n",
    "    return df"
   ]
  },
  {
   "cell_type": "markdown",
   "id": "ffd61957",
   "metadata": {},
   "source": [
    "3. На вход функции подаётся датафрейм с прошлого степа и серия, которая содержит информацию о балансе пользователя, добавьте в датафрейм столбец balance, который будет хранить информацию о балансе из серии.\n",
    "\n",
    "![1](https://ucarecdn.com/7fa011bf-a2bb-4f9d-a6d3-ebed9dc47bdb/)\n",
    "\n"
   ]
  },
  {
   "cell_type": "code",
   "execution_count": 44,
   "id": "972c33f9",
   "metadata": {},
   "outputs": [],
   "source": [
    "import pandas as pd\n",
    "\n",
    "def solution(df, s1):\n",
    "    df['balance'] = s1\n",
    "    return df"
   ]
  },
  {
   "cell_type": "markdown",
   "id": "27e1a12d",
   "metadata": {},
   "source": [
    "4. На вход функции подаётся датафрейм с прошлого степа. Найдите индексы строк, где баланс не подтянулся. На выходе функция должна вернуть объект Index"
   ]
  },
  {
   "cell_type": "code",
   "execution_count": 64,
   "id": "7c82e935",
   "metadata": {},
   "outputs": [],
   "source": [
    "import pandas as pd\n",
    "\n",
    "def solution(df):\n",
    "    return df[df.balance.isnull()].index"
   ]
  },
  {
   "cell_type": "markdown",
   "id": "a4c8cb2b",
   "metadata": {},
   "source": [
    "5. На вход функции подаётся датафрейм с прошлого степа. Создайте новую колонку c названием is_correct. Проверьте каждое значение из столбца total_time. Если значение меньше 100, то в колонку is_correct вставьте True, а иначе False. Функция должна вернуть датафрейм с внесёнными изменениями."
   ]
  },
  {
   "cell_type": "code",
   "execution_count": 80,
   "id": "4f18eb8e",
   "metadata": {},
   "outputs": [],
   "source": [
    "import pandas as pd\n",
    "\n",
    "def solution(df):\n",
    "    df['is_correct'] = df['total_time'] > 100\n",
    "    return df"
   ]
  },
  {
   "cell_type": "markdown",
   "id": "2863e754",
   "metadata": {},
   "source": [
    "## 3.6 Поподробнее про DataFrame: индексы, вложенные словари, del и .T"
   ]
  },
  {
   "cell_type": "markdown",
   "id": "dec2b338",
   "metadata": {},
   "source": [
    "Если вы добавляете серию к датафрейму, то будьте внимательны с индексами! Если у серии будут индексы, которых нет у датафрейма, то значения из серии просто не добавятся к датафрейму!"
   ]
  },
  {
   "cell_type": "code",
   "execution_count": 8,
   "id": "e210468f",
   "metadata": {},
   "outputs": [
    {
     "name": "stdout",
     "output_type": "stream",
     "text": [
      "     city  year  visits  old_visits\n",
      "0  Moscow  2022       1         1.0\n",
      "1  Moscow  2021       2         NaN\n",
      "2  Moscow  2020       3         NaN\n",
      "3   Kazan  2022       4        10.0\n",
      "4   Kazan  2021       5         NaN\n",
      "5   Kazan  2020       6         NaN\n"
     ]
    }
   ],
   "source": [
    "import pandas as pd\n",
    "\n",
    "data = { 'city': ['Moscow', 'Moscow', 'Moscow', 'Kazan', 'Kazan', 'Kazan'],\n",
    "        'year':  [2022, 2021, 2020, 2022, 2021, 2020],\n",
    "        'visits': [1, 2, 3, 4, 5, 6]}\n",
    "\n",
    "\n",
    "s1 = pd.Series([1, 10, 20], index=[0, 3, 7]) # 7 не добавится так как такого индеккса нету в df\n",
    "df['old_visits'] = s1 \n",
    "\n",
    "print(df)"
   ]
  },
  {
   "cell_type": "markdown",
   "id": "ef4a07b9",
   "metadata": {},
   "source": [
    "В колонку можно добавить объект типа **range** или **список**. Удалить колонку можно с помощью оператора **del**"
   ]
  },
  {
   "cell_type": "code",
   "execution_count": 19,
   "id": "b1c11c30",
   "metadata": {},
   "outputs": [
    {
     "name": "stdout",
     "output_type": "stream",
     "text": [
      "     city  year  visits  new_column\n",
      "0  Moscow  2022       1           0\n",
      "1  Moscow  2021       2           1\n",
      "2  Moscow  2020       3           2\n",
      "3   Kazan  2022       4           3\n",
      "4   Kazan  2021       5           4\n",
      "5   Kazan  2020       6           5\n",
      "\n",
      "   year  visits  new_column\n",
      "0  2022       1           0\n",
      "1  2021       2           1\n",
      "2  2020       3           2\n",
      "3  2022       4           3\n",
      "4  2021       5           4\n",
      "5  2020       6           5\n"
     ]
    }
   ],
   "source": [
    "import pandas as pd\n",
    "\n",
    "data = { 'city': ['Moscow', 'Moscow', 'Moscow', 'Kazan', 'Kazan', 'Kazan'],\n",
    "        'year':  [2022, 2021, 2020, 2022, 2021, 2020],\n",
    "        'visits': [1, 2, 3, 4, 5, 6]}\n",
    "df = pd.DataFrame(data)\n",
    "df['new_column'] = range(6)\n",
    "\n",
    "print(df, end='\\n\\n')\n",
    "\n",
    "del df['city'] # удаление колонки\n",
    "\n",
    "print(df)\n",
    "\n",
    "\n"
   ]
  },
  {
   "cell_type": "markdown",
   "id": "51a20407",
   "metadata": {},
   "source": [
    "Разработчики Pandas позаботились о нас и наделили датафрейм возможностью создаваться на основе вложенных словарей. Что это означает? А то, что вложенные словари уже содержат индексы строк. Внешние ключи будут отвечать за название колонок, а внутренние ключи за индексы строк:"
   ]
  },
  {
   "cell_type": "code",
   "execution_count": 34,
   "id": "cd567381",
   "metadata": {},
   "outputs": [
    {
     "data": {
      "text/html": [
       "<div>\n",
       "<style scoped>\n",
       "    .dataframe tbody tr th:only-of-type {\n",
       "        vertical-align: middle;\n",
       "    }\n",
       "\n",
       "    .dataframe tbody tr th {\n",
       "        vertical-align: top;\n",
       "    }\n",
       "\n",
       "    .dataframe thead th {\n",
       "        text-align: right;\n",
       "    }\n",
       "</style>\n",
       "<table border=\"1\" class=\"dataframe\">\n",
       "  <thead>\n",
       "    <tr style=\"text-align: right;\">\n",
       "      <th></th>\n",
       "      <th>Moscow</th>\n",
       "      <th>Kazan</th>\n",
       "    </tr>\n",
       "  </thead>\n",
       "  <tbody>\n",
       "    <tr>\n",
       "      <th>2020</th>\n",
       "      <td>1500</td>\n",
       "      <td>200</td>\n",
       "    </tr>\n",
       "    <tr>\n",
       "      <th>2021</th>\n",
       "      <td>2000</td>\n",
       "      <td>230</td>\n",
       "    </tr>\n",
       "    <tr>\n",
       "      <th>2022</th>\n",
       "      <td>500</td>\n",
       "      <td>100</td>\n",
       "    </tr>\n",
       "  </tbody>\n",
       "</table>\n",
       "</div>"
      ],
      "text/plain": [
       "      Moscow  Kazan\n",
       "2020    1500    200\n",
       "2021    2000    230\n",
       "2022     500    100"
      ]
     },
     "execution_count": 34,
     "metadata": {},
     "output_type": "execute_result"
    }
   ],
   "source": [
    "import pandas as pd\n",
    "\n",
    "data2 = {'Moscow': {2020: 1500, 2021: 2000, 2022:500},\n",
    "         'Kazan':  {2020: 200, 2021: 230, 2022: 100}} # вложенные ключи являются индексами\n",
    "\n",
    "df = pd.DataFrame(data2)\n",
    "\n",
    "print(df)"
   ]
  },
  {
   "cell_type": "markdown",
   "id": "ee4d3c02",
   "metadata": {},
   "source": [
    "Уже знакомое нам свойство транспонирование работает и с датафреймом! Помните, где мы его уже встречали?)"
   ]
  },
  {
   "cell_type": "code",
   "execution_count": 35,
   "id": "61493a45",
   "metadata": {},
   "outputs": [
    {
     "name": "stdout",
     "output_type": "stream",
     "text": [
      "        2020  2021  2022\n",
      "Moscow  1500  2000   500\n",
      "Kazan    200   230   100\n"
     ]
    }
   ],
   "source": [
    "import pandas as pd\n",
    "\n",
    "data2 = {'Moscow': {2020: 1500, 2021: 2000, 2022:500},\n",
    "         'Kazan':  {2020: 200, 2021: 230, 2022: 100}} # вложенные ключи являются индексами\n",
    "\n",
    "df = pd.DataFrame(data2)\n",
    "\n",
    "print(df.T)"
   ]
  },
  {
   "cell_type": "markdown",
   "id": "185794ac",
   "metadata": {},
   "source": [
    "Если необходимо получить все значения из колонки, то используется свойство **values**, которое возвращает NumPy массив"
   ]
  },
  {
   "cell_type": "code",
   "execution_count": 36,
   "id": "04631468",
   "metadata": {},
   "outputs": [
    {
     "name": "stdout",
     "output_type": "stream",
     "text": [
      "[[1500  200]\n",
      " [2000  230]\n",
      " [ 500  100]]\n"
     ]
    }
   ],
   "source": [
    "import pandas as pd\n",
    "\n",
    "data2 = {'Moscow': {2020: 1500, 2021: 2000, 2022:500},\n",
    "         'Kazan':  {2020: 200, 2021: 230, 2022: 100}} # вложенные ключи являются индексами\n",
    "\n",
    "df = pd.DataFrame(data2)\n",
    "\n",
    "print(df.values)"
   ]
  },
  {
   "cell_type": "markdown",
   "id": "e3a34444",
   "metadata": {},
   "source": [
    "На самом деле у датафрейма два индекса: один для навигации по строкам, а второй по навигации по колонкам:\n",
    "\n",
    "![1](https://ucarecdn.com/604dd2a7-e1d7-4701-a687-2c43df4802c4/)\n",
    "\n",
    "Первый можно получить через свойство index, а второй через свойство .columns. \n",
    "\n",
    "Да, свойство называется columns (от англ. колонки), но это тоже индекс. "
   ]
  },
  {
   "cell_type": "markdown",
   "id": "d835702a",
   "metadata": {},
   "source": [
    "## Задачи урока 3.5"
   ]
  },
  {
   "cell_type": "markdown",
   "id": "0aec1dee",
   "metadata": {},
   "source": [
    "1. На вход подаётся датафрейм. Удалите столбец clicks:\n",
    "\n",
    "![1](https://ucarecdn.com/8ab4cc8d-302c-4735-89fb-63ef2520e977/)"
   ]
  },
  {
   "cell_type": "code",
   "execution_count": 39,
   "id": "d9dc43e6",
   "metadata": {},
   "outputs": [
    {
     "data": {
      "text/html": [
       "<div>\n",
       "<style scoped>\n",
       "    .dataframe tbody tr th:only-of-type {\n",
       "        vertical-align: middle;\n",
       "    }\n",
       "\n",
       "    .dataframe tbody tr th {\n",
       "        vertical-align: top;\n",
       "    }\n",
       "\n",
       "    .dataframe thead th {\n",
       "        text-align: right;\n",
       "    }\n",
       "</style>\n",
       "<table border=\"1\" class=\"dataframe\">\n",
       "  <thead>\n",
       "    <tr style=\"text-align: right;\">\n",
       "      <th></th>\n",
       "      <th>user_name</th>\n",
       "      <th>time_interval</th>\n",
       "    </tr>\n",
       "  </thead>\n",
       "  <tbody>\n",
       "    <tr>\n",
       "      <th>0</th>\n",
       "      <td>Ivan</td>\n",
       "      <td>3</td>\n",
       "    </tr>\n",
       "    <tr>\n",
       "      <th>1</th>\n",
       "      <td>Alex</td>\n",
       "      <td>6</td>\n",
       "    </tr>\n",
       "    <tr>\n",
       "      <th>2</th>\n",
       "      <td>Ugen</td>\n",
       "      <td>9</td>\n",
       "    </tr>\n",
       "  </tbody>\n",
       "</table>\n",
       "</div>"
      ],
      "text/plain": [
       "  user_name  time_interval\n",
       "0      Ivan              3\n",
       "1      Alex              6\n",
       "2      Ugen              9"
      ]
     },
     "execution_count": 39,
     "metadata": {},
     "output_type": "execute_result"
    }
   ],
   "source": [
    "import pandas as pd\n",
    "\n",
    "def solution(_df):\n",
    "    del _df['clicks']\n",
    "    return _df\n",
    "\n",
    "\n",
    "df = pd.DataFrame({'user_name': ('Ivan', 'Alex', 'Ugen'),  \n",
    "                   'clicks': (2, 5, 8), \n",
    "                   'time_interval':(3, 6, 9)})\n",
    "\n",
    "solution(df)"
   ]
  },
  {
   "cell_type": "markdown",
   "id": "809c3f84",
   "metadata": {},
   "source": [
    "2. На вход функции подаётся датафрейм, отредактируйте индекс второй строки:\n",
    "\n",
    "![1](https://ucarecdn.com/79075c75-c697-4006-b19a-1b09b43eeba1/)\n",
    "\n",
    "![2](https://ucarecdn.com/251cf53c-9d7f-4914-ac16-00c8059b1124/)"
   ]
  },
  {
   "cell_type": "code",
   "execution_count": 57,
   "id": "8d4b4c7e",
   "metadata": {},
   "outputs": [
    {
     "data": {
      "text/html": [
       "<div>\n",
       "<style scoped>\n",
       "    .dataframe tbody tr th:only-of-type {\n",
       "        vertical-align: middle;\n",
       "    }\n",
       "\n",
       "    .dataframe tbody tr th {\n",
       "        vertical-align: top;\n",
       "    }\n",
       "\n",
       "    .dataframe thead th {\n",
       "        text-align: right;\n",
       "    }\n",
       "</style>\n",
       "<table border=\"1\" class=\"dataframe\">\n",
       "  <thead>\n",
       "    <tr style=\"text-align: right;\">\n",
       "      <th></th>\n",
       "      <th>user_name</th>\n",
       "      <th>clicks</th>\n",
       "      <th>time_interval</th>\n",
       "    </tr>\n",
       "  </thead>\n",
       "  <tbody>\n",
       "    <tr>\n",
       "      <th>0</th>\n",
       "      <td>Ivan</td>\n",
       "      <td>2</td>\n",
       "      <td>3</td>\n",
       "    </tr>\n",
       "    <tr>\n",
       "      <th>one</th>\n",
       "      <td>Alex</td>\n",
       "      <td>5</td>\n",
       "      <td>6</td>\n",
       "    </tr>\n",
       "    <tr>\n",
       "      <th>1</th>\n",
       "      <td>Ugen</td>\n",
       "      <td>8</td>\n",
       "      <td>9</td>\n",
       "    </tr>\n",
       "  </tbody>\n",
       "</table>\n",
       "</div>"
      ],
      "text/plain": [
       "    user_name  clicks  time_interval\n",
       "0        Ivan       2              3\n",
       "one      Alex       5              6\n",
       "1        Ugen       8              9"
      ]
     },
     "execution_count": 57,
     "metadata": {},
     "output_type": "execute_result"
    }
   ],
   "source": [
    "import pandas as pd\n",
    "\n",
    "def solution(_df):\n",
    "    _df.index = [0, 'one', 2]\n",
    "    return _df\n",
    "\n",
    "\n",
    "df = pd.DataFrame({'user_name': ('Ivan', 'Alex', 'Ugen'),  \n",
    "                   'clicks': (2, 5, 8), \n",
    "                   'time_interval':(3, 6, 9)})\n",
    "\n",
    "solution(df)"
   ]
  },
  {
   "cell_type": "markdown",
   "id": "64947035",
   "metadata": {},
   "source": [
    " 3. На вход функции подаётся датафрейм, переведите название (лейблы) колонок в верхний регистр:\n",
    " \n",
    " ![1](https://ucarecdn.com/79075c75-c697-4006-b19a-1b09b43eeba1/)\n",
    " \n",
    " ![2](https://ucarecdn.com/46a2fb3b-d728-4b79-8f08-bdafd0545ece/)"
   ]
  },
  {
   "cell_type": "code",
   "execution_count": 64,
   "id": "a15b8f09",
   "metadata": {},
   "outputs": [
    {
     "data": {
      "text/html": [
       "<div>\n",
       "<style scoped>\n",
       "    .dataframe tbody tr th:only-of-type {\n",
       "        vertical-align: middle;\n",
       "    }\n",
       "\n",
       "    .dataframe tbody tr th {\n",
       "        vertical-align: top;\n",
       "    }\n",
       "\n",
       "    .dataframe thead th {\n",
       "        text-align: right;\n",
       "    }\n",
       "</style>\n",
       "<table border=\"1\" class=\"dataframe\">\n",
       "  <thead>\n",
       "    <tr style=\"text-align: right;\">\n",
       "      <th></th>\n",
       "      <th>USER_NAME</th>\n",
       "      <th>CLICKS</th>\n",
       "      <th>TIME_INTERVAL</th>\n",
       "    </tr>\n",
       "  </thead>\n",
       "  <tbody>\n",
       "    <tr>\n",
       "      <th>0</th>\n",
       "      <td>Ivan</td>\n",
       "      <td>2</td>\n",
       "      <td>3</td>\n",
       "    </tr>\n",
       "    <tr>\n",
       "      <th>1</th>\n",
       "      <td>Alex</td>\n",
       "      <td>5</td>\n",
       "      <td>6</td>\n",
       "    </tr>\n",
       "    <tr>\n",
       "      <th>2</th>\n",
       "      <td>Ugen</td>\n",
       "      <td>8</td>\n",
       "      <td>9</td>\n",
       "    </tr>\n",
       "  </tbody>\n",
       "</table>\n",
       "</div>"
      ],
      "text/plain": [
       "  USER_NAME  CLICKS  TIME_INTERVAL\n",
       "0      Ivan       2              3\n",
       "1      Alex       5              6\n",
       "2      Ugen       8              9"
      ]
     },
     "execution_count": 64,
     "metadata": {},
     "output_type": "execute_result"
    }
   ],
   "source": [
    "import pandas as pd\n",
    "\n",
    "def solution(_df):\n",
    "    _df.columns = map(str.upper, _df.columns)\n",
    "    return _df\n",
    "\n",
    "\n",
    "df = pd.DataFrame({'user_name': ('Ivan', 'Alex', 'Ugen'),  \n",
    "                   'clicks': (2, 5, 8), \n",
    "                   'time_interval':(3, 6, 9)})\n",
    "\n",
    "solution(df)"
   ]
  },
  {
   "cell_type": "markdown",
   "id": "2cccfc66",
   "metadata": {},
   "source": [
    "4. На вход функции подаётся некоторый датафрейм. Определите количество строк и количество столбцов в датафрейме. Функция должна вернуть кортеж: (количество строк, количество столбцов)"
   ]
  },
  {
   "cell_type": "code",
   "execution_count": 67,
   "id": "7ccfb64d",
   "metadata": {},
   "outputs": [
    {
     "data": {
      "text/plain": [
       "(3, 3)"
      ]
     },
     "execution_count": 67,
     "metadata": {},
     "output_type": "execute_result"
    }
   ],
   "source": [
    "import pandas as pd\n",
    "\n",
    "def solution(_df):\n",
    "    return _df.shape\n",
    "\n",
    "\n",
    "df = pd.DataFrame({'user_name': ('Ivan', 'Alex', 'Ugen'),  \n",
    "                   'clicks': (2, 5, 8), \n",
    "                   'time_interval':(3, 6, 9)})\n",
    "\n",
    "solution(df)"
   ]
  },
  {
   "cell_type": "markdown",
   "id": "40331eb3",
   "metadata": {},
   "source": [
    "## 3.7 Практика: особенности индексации"
   ]
  },
  {
   "cell_type": "code",
   "execution_count": 84,
   "id": "6b9d3a11",
   "metadata": {},
   "outputs": [
    {
     "data": {
      "text/html": [
       "<div>\n",
       "<style scoped>\n",
       "    .dataframe tbody tr th:only-of-type {\n",
       "        vertical-align: middle;\n",
       "    }\n",
       "\n",
       "    .dataframe tbody tr th {\n",
       "        vertical-align: top;\n",
       "    }\n",
       "\n",
       "    .dataframe thead th {\n",
       "        text-align: right;\n",
       "    }\n",
       "</style>\n",
       "<table border=\"1\" class=\"dataframe\">\n",
       "  <thead>\n",
       "    <tr style=\"text-align: right;\">\n",
       "      <th></th>\n",
       "      <th>user_name</th>\n",
       "      <th>clicks</th>\n",
       "      <th>time_interval</th>\n",
       "      <th>balance</th>\n",
       "    </tr>\n",
       "  </thead>\n",
       "  <tbody>\n",
       "    <tr>\n",
       "      <th>0</th>\n",
       "      <td>Ivan</td>\n",
       "      <td>2</td>\n",
       "      <td>3</td>\n",
       "      <td>100</td>\n",
       "    </tr>\n",
       "    <tr>\n",
       "      <th>1</th>\n",
       "      <td>Alex</td>\n",
       "      <td>5</td>\n",
       "      <td>6</td>\n",
       "      <td>200</td>\n",
       "    </tr>\n",
       "    <tr>\n",
       "      <th>2</th>\n",
       "      <td>Ugen</td>\n",
       "      <td>8</td>\n",
       "      <td>9</td>\n",
       "      <td>800</td>\n",
       "    </tr>\n",
       "  </tbody>\n",
       "</table>\n",
       "</div>"
      ],
      "text/plain": [
       "  user_name  clicks  time_interval  balance\n",
       "0      Ivan       2              3      100\n",
       "1      Alex       5              6      200\n",
       "2      Ugen       8              9      800"
      ]
     },
     "execution_count": 84,
     "metadata": {},
     "output_type": "execute_result"
    }
   ],
   "source": [
    "import pandas as pd\n",
    "\n",
    "def solution(_df, _s1):\n",
    "    _s1.index = map(int, _s1.index)\n",
    "    _df['balance'] = _s1\n",
    "    return _df\n",
    "\n",
    "\n",
    "\n",
    "df = pd.DataFrame({'user_name': ('Ivan', 'Alex', 'Ugen'),  \n",
    "                   'clicks': (2, 5, 8), \n",
    "                   'time_interval':(3, 6, 9)})\n",
    "\n",
    "s = pd.Series([100, 200, 800], index=['0', '1', '2'])\n",
    "\n",
    "solution(df, s)"
   ]
  },
  {
   "cell_type": "markdown",
   "id": "165afee2",
   "metadata": {},
   "source": [
    "## 3.8 Функции reindex, drop и индексация в датафрейме"
   ]
  },
  {
   "cell_type": "markdown",
   "id": "f9e4e1b1",
   "metadata": {},
   "source": [
    "Если необходимо поменять названия индексов(строк) или колонок, то нужно присваивать не одно значение, а сразу весь список"
   ]
  },
  {
   "cell_type": "code",
   "execution_count": 19,
   "id": "d70e7580",
   "metadata": {},
   "outputs": [
    {
     "data": {
      "text/html": [
       "<div>\n",
       "<style scoped>\n",
       "    .dataframe tbody tr th:only-of-type {\n",
       "        vertical-align: middle;\n",
       "    }\n",
       "\n",
       "    .dataframe tbody tr th {\n",
       "        vertical-align: top;\n",
       "    }\n",
       "\n",
       "    .dataframe thead th {\n",
       "        text-align: right;\n",
       "    }\n",
       "</style>\n",
       "<table border=\"1\" class=\"dataframe\">\n",
       "  <thead>\n",
       "    <tr style=\"text-align: right;\">\n",
       "      <th></th>\n",
       "      <th>Name</th>\n",
       "      <th>Clicks</th>\n",
       "      <th>Time</th>\n",
       "    </tr>\n",
       "  </thead>\n",
       "  <tbody>\n",
       "    <tr>\n",
       "      <th>a</th>\n",
       "      <td>Ivan</td>\n",
       "      <td>2</td>\n",
       "      <td>3</td>\n",
       "    </tr>\n",
       "    <tr>\n",
       "      <th>b</th>\n",
       "      <td>Alex</td>\n",
       "      <td>5</td>\n",
       "      <td>6</td>\n",
       "    </tr>\n",
       "    <tr>\n",
       "      <th>c</th>\n",
       "      <td>Ugen</td>\n",
       "      <td>8</td>\n",
       "      <td>9</td>\n",
       "    </tr>\n",
       "  </tbody>\n",
       "</table>\n",
       "</div>"
      ],
      "text/plain": [
       "   Name  Clicks  Time\n",
       "a  Ivan       2     3\n",
       "b  Alex       5     6\n",
       "c  Ugen       8     9"
      ]
     },
     "execution_count": 19,
     "metadata": {},
     "output_type": "execute_result"
    }
   ],
   "source": [
    "import pandas as pd\n",
    "\n",
    "df = pd.DataFrame({'user_name': ('Ivan', 'Alex', 'Ugen'),  \n",
    "                   'clicks': (2, 5, 8), \n",
    "                   'time_interval':(3, 6, 9)})\n",
    "\n",
    "df.index = ['a', 'b', 'c']\n",
    "df.columns = ['Name', 'Clicks', 'Time']\n",
    "\n",
    "df"
   ]
  },
  {
   "cell_type": "markdown",
   "id": "4abf0d48",
   "metadata": {},
   "source": [
    "С помощью функции **reindex** можно переназначить, либо выбрать только необходмые столбцы/строки из DataFrame. Используем тогда, когда необходимо что-то оставить"
   ]
  },
  {
   "cell_type": "code",
   "execution_count": 33,
   "id": "509ae290",
   "metadata": {},
   "outputs": [
    {
     "data": {
      "text/html": [
       "<div>\n",
       "<style scoped>\n",
       "    .dataframe tbody tr th:only-of-type {\n",
       "        vertical-align: middle;\n",
       "    }\n",
       "\n",
       "    .dataframe tbody tr th {\n",
       "        vertical-align: top;\n",
       "    }\n",
       "\n",
       "    .dataframe thead th {\n",
       "        text-align: right;\n",
       "    }\n",
       "</style>\n",
       "<table border=\"1\" class=\"dataframe\">\n",
       "  <thead>\n",
       "    <tr style=\"text-align: right;\">\n",
       "      <th></th>\n",
       "      <th>user_name</th>\n",
       "      <th>time_interval</th>\n",
       "      <th>new_column</th>\n",
       "    </tr>\n",
       "  </thead>\n",
       "  <tbody>\n",
       "    <tr>\n",
       "      <th>0</th>\n",
       "      <td>Ivan</td>\n",
       "      <td>3</td>\n",
       "      <td>NaN</td>\n",
       "    </tr>\n",
       "    <tr>\n",
       "      <th>1</th>\n",
       "      <td>Alex</td>\n",
       "      <td>6</td>\n",
       "      <td>NaN</td>\n",
       "    </tr>\n",
       "    <tr>\n",
       "      <th>2</th>\n",
       "      <td>Ugen</td>\n",
       "      <td>9</td>\n",
       "      <td>NaN</td>\n",
       "    </tr>\n",
       "  </tbody>\n",
       "</table>\n",
       "</div>"
      ],
      "text/plain": [
       "  user_name  time_interval  new_column\n",
       "0      Ivan              3         NaN\n",
       "1      Alex              6         NaN\n",
       "2      Ugen              9         NaN"
      ]
     },
     "execution_count": 33,
     "metadata": {},
     "output_type": "execute_result"
    }
   ],
   "source": [
    "import pandas as pd\n",
    "\n",
    "df = pd.DataFrame({'user_name': ('Ivan', 'Alex', 'Ugen'),  \n",
    "                   'clicks': (2, 5, 8), \n",
    "                   'time_interval':(3, 6, 9)})\n",
    "\n",
    "df.reindex(['user_name', 'time_interval', 'new_column'], axis=1)"
   ]
  },
  {
   "cell_type": "markdown",
   "id": "03f455e8",
   "metadata": {},
   "source": [
    "функция **drop** позволяет удалить элементы по нужной нам оси. Используем тогда, когда необходимо что-то удалить"
   ]
  },
  {
   "cell_type": "code",
   "execution_count": 39,
   "id": "9f38c137",
   "metadata": {},
   "outputs": [
    {
     "name": "stdout",
     "output_type": "stream",
     "text": [
      "   clicks\n",
      "0       2\n",
      "1       5\n",
      "2       8\n",
      "\n",
      "   clicks  time_interval\n",
      "0       2              3\n",
      "1       5              6\n",
      "2       8              9\n"
     ]
    }
   ],
   "source": [
    "import pandas as pd\n",
    "\n",
    "df = pd.DataFrame({'user_name': ('Ivan', 'Alex', 'Ugen'),  \n",
    "                   'clicks': (2, 5, 8), \n",
    "                   'time_interval':(3, 6, 9)})\n",
    "\n",
    "df2 = df.drop(['user_name', 'time_interval'], axis=1) # возваращает новый DataFrame\n",
    "print(df2, end='\\n\\n')\n",
    "\n",
    "df.drop('user_name', axis=1, inplace=True) # удалеяет на месте\n",
    "print(df)\n",
    "\n"
   ]
  },
  {
   "cell_type": "markdown",
   "id": "0f50a94d",
   "metadata": {},
   "source": [
    "**Индексация по сериям осуществляется следующими способами:**"
   ]
  },
  {
   "cell_type": "code",
   "execution_count": 52,
   "id": "2419fa1d",
   "metadata": {},
   "outputs": [
    {
     "name": "stdout",
     "output_type": "stream",
     "text": [
      "50\n",
      "50\n",
      "\n",
      "c    200\n",
      "d    500\n",
      "e    350\n",
      "dtype: int64\n",
      "\n",
      "d    500\n",
      "e    350\n",
      "dtype: int64\n",
      "\n",
      "e    350\n",
      "b     10\n",
      "dtype: int64\n",
      "\n",
      "b     10\n",
      "c    200\n",
      "d    500\n",
      "e    350\n",
      "dtype: int64\n"
     ]
    }
   ],
   "source": [
    "import pandas as pd\n",
    "\n",
    "s = pd.Series([50, 10, 200, 500, 350], index=['a', 'b', 'c', 'd', 'e'])\n",
    "\n",
    "print(s['a']) # по лэйблу\n",
    "print(s[0], end='\\n\\n') # по индексу\n",
    "print(s[2:], end='\\n\\n') # по срезу\n",
    "print(s[df > 200], end='\\n\\n') # по маске\n",
    "print(s[['e', 'b']], end='\\n\\n') # несколько лэйблов в разном порядке\n",
    "print(s['b':'e']) # срез лэйблов с включением последнего элемента"
   ]
  },
  {
   "cell_type": "markdown",
   "id": "49b81dbf",
   "metadata": {},
   "source": [
    "Pandas позволяет присваивать значения по срезу лэйблов"
   ]
  },
  {
   "cell_type": "code",
   "execution_count": 55,
   "id": "13a57e29",
   "metadata": {},
   "outputs": [
    {
     "data": {
      "text/plain": [
       "a    50\n",
       "b    10\n",
       "c     0\n",
       "d     0\n",
       "e     0\n",
       "dtype: int64"
      ]
     },
     "execution_count": 55,
     "metadata": {},
     "output_type": "execute_result"
    }
   ],
   "source": [
    "s['c':'e'] = 0\n",
    "\n",
    "s"
   ]
  },
  {
   "cell_type": "markdown",
   "id": "15c1e893",
   "metadata": {},
   "source": [
    "**Индексация по DataFrame осуществляется следующими способами:**"
   ]
  },
  {
   "cell_type": "code",
   "execution_count": 75,
   "id": "e3fed10a",
   "metadata": {},
   "outputs": [
    {
     "name": "stdout",
     "output_type": "stream",
     "text": [
      "  user_name  time_interval\n",
      "0      Ivan              3\n",
      "1      Alex              6\n",
      "2      Ugen              9\n",
      "\n",
      "  user_name  clicks  time_interval\n",
      "0      Ivan       2              3\n",
      "1      Alex       5              6\n",
      "2      Ugen       8              9\n",
      "\n",
      "  user_name  clicks  time_interval\n",
      "1      Alex       5              6\n",
      "2      Ugen       8              9\n"
     ]
    }
   ],
   "source": [
    "import pandas as pd\n",
    "\n",
    "df = pd.DataFrame({'user_name': ('Ivan', 'Alex', 'Ugen'),  \n",
    "                   'clicks': (2, 5, 8), \n",
    "                   'time_interval':(3, 6, 9)})\n",
    "\n",
    "print(df[['user_name', 'time_interval']], end='\\n\\n') # вытягивание разных колонок\n",
    "print(df[:3], end='\\n\\n') # вытягивание разных строк\n",
    "print(df[df.clicks >= 5]) # вытягивание данных по маске"
   ]
  },
  {
   "cell_type": "markdown",
   "id": "bc51bfdb",
   "metadata": {},
   "source": [
    "Данные можно вытягивать и по двумерной маске"
   ]
  },
  {
   "cell_type": "code",
   "execution_count": 74,
   "id": "b8e2355d",
   "metadata": {},
   "outputs": [
    {
     "name": "stdout",
     "output_type": "stream",
     "text": [
      "   user_name  clicks  time_interval\n",
      "0       True   False          False\n",
      "1       True   False           True\n",
      "2       True    True           True\n",
      "\n",
      "   user_name  clicks  time_interval\n",
      "0          0       2              3\n",
      "1          0       5              0\n",
      "2          0       0              0\n"
     ]
    }
   ],
   "source": [
    "import pandas as pd\n",
    "\n",
    "df = pd.DataFrame({'user_name': (10, 20, 30),  \n",
    "                   'clicks': (2, 5, 8), \n",
    "                   'time_interval':(3, 6, 9)})\n",
    "mask = df > 5\n",
    "print(mask, end='\\n\\n')\n",
    "\n",
    "df[df > 5] = 0\n",
    "print(df)"
   ]
  },
  {
   "cell_type": "markdown",
   "id": "aca89a03",
   "metadata": {},
   "source": [
    "## 3.9 Практика: вытягиваем нужное, удаляем ненужное"
   ]
  },
  {
   "cell_type": "markdown",
   "id": "ea45d399",
   "metadata": {},
   "source": [
    "1. На вход подаётся датафрейм. Проверьте, есть ли в нём строка с лейблом **f**. Функция должна вернуть True если строка есть, иначе False"
   ]
  },
  {
   "cell_type": "code",
   "execution_count": null,
   "id": "47c6c4b8",
   "metadata": {},
   "outputs": [],
   "source": [
    "import pandas as pd\n",
    "\n",
    "def solution(_df):\n",
    "    return 'f' in _df.index"
   ]
  },
  {
   "cell_type": "markdown",
   "id": "9cee58e4",
   "metadata": {},
   "source": [
    "2. На вход подаётся датафрейм. Проверьте, есть ли в нём колонка user_name и строка с лейблом f. Функция должна вернуть True если колонка и строка существуют, иначе False"
   ]
  },
  {
   "cell_type": "code",
   "execution_count": null,
   "id": "b0adaf6f",
   "metadata": {},
   "outputs": [],
   "source": [
    "import pandas as pd\n",
    "\n",
    "def solution(_df):\n",
    "    return 'f' in _df.index and 'user_name' in _df.column"
   ]
  },
  {
   "cell_type": "markdown",
   "id": "e8419a14",
   "metadata": {},
   "source": [
    "2. На вход подаётся датафрейм, удалите из названий колонок префикс user_. Функция должна вернуть датафрейм с названием колонок без префикса user_:"
   ]
  },
  {
   "cell_type": "code",
   "execution_count": 9,
   "id": "4a837120",
   "metadata": {},
   "outputs": [
    {
     "data": {
      "text/html": [
       "<div>\n",
       "<style scoped>\n",
       "    .dataframe tbody tr th:only-of-type {\n",
       "        vertical-align: middle;\n",
       "    }\n",
       "\n",
       "    .dataframe tbody tr th {\n",
       "        vertical-align: top;\n",
       "    }\n",
       "\n",
       "    .dataframe thead th {\n",
       "        text-align: right;\n",
       "    }\n",
       "</style>\n",
       "<table border=\"1\" class=\"dataframe\">\n",
       "  <thead>\n",
       "    <tr style=\"text-align: right;\">\n",
       "      <th></th>\n",
       "      <th>name</th>\n",
       "      <th>age</th>\n",
       "      <th>clicks</th>\n",
       "      <th>balance</th>\n",
       "      <th>history</th>\n",
       "    </tr>\n",
       "  </thead>\n",
       "  <tbody>\n",
       "    <tr>\n",
       "      <th>a</th>\n",
       "      <td>Ivan</td>\n",
       "      <td>25</td>\n",
       "      <td>4</td>\n",
       "      <td>50</td>\n",
       "      <td>1</td>\n",
       "    </tr>\n",
       "    <tr>\n",
       "      <th>b</th>\n",
       "      <td>Petr</td>\n",
       "      <td>40</td>\n",
       "      <td>9</td>\n",
       "      <td>250</td>\n",
       "      <td>8</td>\n",
       "    </tr>\n",
       "    <tr>\n",
       "      <th>c</th>\n",
       "      <td>Nikolay</td>\n",
       "      <td>19</td>\n",
       "      <td>12</td>\n",
       "      <td>25</td>\n",
       "      <td>1</td>\n",
       "    </tr>\n",
       "    <tr>\n",
       "      <th>d</th>\n",
       "      <td>Sergey</td>\n",
       "      <td>33</td>\n",
       "      <td>6</td>\n",
       "      <td>115</td>\n",
       "      <td>6</td>\n",
       "    </tr>\n",
       "    <tr>\n",
       "      <th>e</th>\n",
       "      <td>Andrey</td>\n",
       "      <td>38</td>\n",
       "      <td>2</td>\n",
       "      <td>152</td>\n",
       "      <td>4</td>\n",
       "    </tr>\n",
       "    <tr>\n",
       "      <th>f</th>\n",
       "      <td>Ilya</td>\n",
       "      <td>20</td>\n",
       "      <td>18</td>\n",
       "      <td>15</td>\n",
       "      <td>2</td>\n",
       "    </tr>\n",
       "    <tr>\n",
       "      <th>g</th>\n",
       "      <td>Igor</td>\n",
       "      <td>19</td>\n",
       "      <td>2</td>\n",
       "      <td>10</td>\n",
       "      <td>1</td>\n",
       "    </tr>\n",
       "  </tbody>\n",
       "</table>\n",
       "</div>"
      ],
      "text/plain": [
       "      name  age  clicks  balance  history\n",
       "a     Ivan   25       4       50        1\n",
       "b     Petr   40       9      250        8\n",
       "c  Nikolay   19      12       25        1\n",
       "d   Sergey   33       6      115        6\n",
       "e   Andrey   38       2      152        4\n",
       "f     Ilya   20      18       15        2\n",
       "g     Igor   19       2       10        1"
      ]
     },
     "execution_count": 9,
     "metadata": {},
     "output_type": "execute_result"
    }
   ],
   "source": [
    "import pandas as pd\n",
    "import numpy as np\n",
    "\n",
    "def solution(_df):\n",
    "    _df.columns = [column_name[5:] for column_name in _df.columns]\n",
    "    return _df\n",
    "\n",
    "\n",
    "data = [['Ivan', 25, 4, 50, 1], \n",
    "        ['Petr', 40, 9, 250, 8], \n",
    "        ['Nikolay', 19, 12, 25, 1], \n",
    "        ['Sergey', 33, 6, 115, 6],\n",
    "        ['Andrey', 38, 2, 152, 4],\n",
    "        ['Ilya', 20, 18, 15, 2],\n",
    "        ['Igor', 19, 2, 10, 1]]\n",
    "\n",
    "_df = pd.DataFrame(data, columns=['user_name', 'user_age', 'user_clicks', 'user_balance', 'user_history'], index=list('abcdefg'))\n",
    "\n",
    "solution(_df)"
   ]
  },
  {
   "cell_type": "markdown",
   "id": "bf7c780b",
   "metadata": {},
   "source": [
    "3. На вход подаётся датафрейм, выполните реиндекс строк таким образом, чтобы остались только строчки с лейблами, которые перечислены в листе"
   ]
  },
  {
   "cell_type": "code",
   "execution_count": 15,
   "id": "1cfe24a2",
   "metadata": {},
   "outputs": [
    {
     "data": {
      "text/html": [
       "<div>\n",
       "<style scoped>\n",
       "    .dataframe tbody tr th:only-of-type {\n",
       "        vertical-align: middle;\n",
       "    }\n",
       "\n",
       "    .dataframe tbody tr th {\n",
       "        vertical-align: top;\n",
       "    }\n",
       "\n",
       "    .dataframe thead th {\n",
       "        text-align: right;\n",
       "    }\n",
       "</style>\n",
       "<table border=\"1\" class=\"dataframe\">\n",
       "  <thead>\n",
       "    <tr style=\"text-align: right;\">\n",
       "      <th></th>\n",
       "      <th>user_name</th>\n",
       "      <th>user_age</th>\n",
       "      <th>user_clicks</th>\n",
       "      <th>user_balance</th>\n",
       "      <th>user_history</th>\n",
       "    </tr>\n",
       "  </thead>\n",
       "  <tbody>\n",
       "    <tr>\n",
       "      <th>a</th>\n",
       "      <td>Ivan</td>\n",
       "      <td>25</td>\n",
       "      <td>4</td>\n",
       "      <td>50</td>\n",
       "      <td>1</td>\n",
       "    </tr>\n",
       "    <tr>\n",
       "      <th>f</th>\n",
       "      <td>Ilya</td>\n",
       "      <td>20</td>\n",
       "      <td>18</td>\n",
       "      <td>15</td>\n",
       "      <td>2</td>\n",
       "    </tr>\n",
       "    <tr>\n",
       "      <th>g</th>\n",
       "      <td>Igor</td>\n",
       "      <td>19</td>\n",
       "      <td>2</td>\n",
       "      <td>10</td>\n",
       "      <td>1</td>\n",
       "    </tr>\n",
       "  </tbody>\n",
       "</table>\n",
       "</div>"
      ],
      "text/plain": [
       "  user_name  user_age  user_clicks  user_balance  user_history\n",
       "a      Ivan        25            4            50             1\n",
       "f      Ilya        20           18            15             2\n",
       "g      Igor        19            2            10             1"
      ]
     },
     "execution_count": 15,
     "metadata": {},
     "output_type": "execute_result"
    }
   ],
   "source": [
    "import pandas as pd\n",
    "\n",
    "def solution(_df):\n",
    "    lst = ['a', 'f', 'g']\n",
    "    return _df.reindex(lst)\n",
    "\n",
    "\n",
    "data = [['Ivan', 25, 4, 50, 1], \n",
    "        ['Petr', 40, 9, 250, 8], \n",
    "        ['Nikolay', 19, 12, 25, 1], \n",
    "        ['Sergey', 33, 6, 115, 6],\n",
    "        ['Andrey', 38, 2, 152, 4],\n",
    "        ['Ilya', 20, 18, 15, 2],\n",
    "        ['Igor', 19, 2, 10, 1]]\n",
    "\n",
    "_df = pd.DataFrame(data, columns=['user_name', 'user_age', 'user_clicks', 'user_balance', 'user_history'], index=list('abcdefg'))\n",
    "\n",
    "solution(_df)"
   ]
  },
  {
   "cell_type": "markdown",
   "id": "730914ad",
   "metadata": {},
   "source": [
    "4. На вход подаётся датафрейм, удалите из датафрейма строчки c лейблами c, f, g и колонку c лейблом history. Верните итоговый датафрейм."
   ]
  },
  {
   "cell_type": "code",
   "execution_count": 24,
   "id": "bccb66c6",
   "metadata": {},
   "outputs": [
    {
     "data": {
      "text/html": [
       "<div>\n",
       "<style scoped>\n",
       "    .dataframe tbody tr th:only-of-type {\n",
       "        vertical-align: middle;\n",
       "    }\n",
       "\n",
       "    .dataframe tbody tr th {\n",
       "        vertical-align: top;\n",
       "    }\n",
       "\n",
       "    .dataframe thead th {\n",
       "        text-align: right;\n",
       "    }\n",
       "</style>\n",
       "<table border=\"1\" class=\"dataframe\">\n",
       "  <thead>\n",
       "    <tr style=\"text-align: right;\">\n",
       "      <th></th>\n",
       "      <th>user_name</th>\n",
       "      <th>user_age</th>\n",
       "      <th>user_clicks</th>\n",
       "      <th>user_balance</th>\n",
       "    </tr>\n",
       "  </thead>\n",
       "  <tbody>\n",
       "    <tr>\n",
       "      <th>a</th>\n",
       "      <td>Ivan</td>\n",
       "      <td>25</td>\n",
       "      <td>4</td>\n",
       "      <td>50</td>\n",
       "    </tr>\n",
       "    <tr>\n",
       "      <th>b</th>\n",
       "      <td>Petr</td>\n",
       "      <td>40</td>\n",
       "      <td>9</td>\n",
       "      <td>250</td>\n",
       "    </tr>\n",
       "    <tr>\n",
       "      <th>d</th>\n",
       "      <td>Sergey</td>\n",
       "      <td>33</td>\n",
       "      <td>6</td>\n",
       "      <td>115</td>\n",
       "    </tr>\n",
       "    <tr>\n",
       "      <th>e</th>\n",
       "      <td>Andrey</td>\n",
       "      <td>38</td>\n",
       "      <td>2</td>\n",
       "      <td>152</td>\n",
       "    </tr>\n",
       "  </tbody>\n",
       "</table>\n",
       "</div>"
      ],
      "text/plain": [
       "  user_name  user_age  user_clicks  user_balance\n",
       "a      Ivan        25            4            50\n",
       "b      Petr        40            9           250\n",
       "d    Sergey        33            6           115\n",
       "e    Andrey        38            2           152"
      ]
     },
     "execution_count": 24,
     "metadata": {},
     "output_type": "execute_result"
    }
   ],
   "source": [
    "import pandas as pd\n",
    "\n",
    "def solution(_df):\n",
    "    _df.drop(['c', 'f', 'g'], inplace=True)\n",
    "    _df.drop(['user_history'], axis=1, inplace=True)\n",
    "    return _df\n",
    "\n",
    "\n",
    "data = [['Ivan', 25, 4, 50, 1], \n",
    "        ['Petr', 40, 9, 250, 8], \n",
    "        ['Nikolay', 19, 12, 25, 1], \n",
    "        ['Sergey', 33, 6, 115, 6],\n",
    "        ['Andrey', 38, 2, 152, 4],\n",
    "        ['Ilya', 20, 18, 15, 2],\n",
    "        ['Igor', 19, 2, 10, 1]]\n",
    "\n",
    "_df = pd.DataFrame(data, columns=['user_name', 'user_age', 'user_clicks', 'user_balance', 'user_history'], index=list('abcdefg'))\n",
    "\n",
    "solution(_df)"
   ]
  },
  {
   "cell_type": "markdown",
   "id": "cf93661a",
   "metadata": {},
   "source": [
    "5. На вход подаётся датафрейм, вытяните столбцы **name, age, balance**. Функция должна вернуть датафрейм:"
   ]
  },
  {
   "cell_type": "code",
   "execution_count": 29,
   "id": "26cbee1e",
   "metadata": {},
   "outputs": [
    {
     "data": {
      "text/html": [
       "<div>\n",
       "<style scoped>\n",
       "    .dataframe tbody tr th:only-of-type {\n",
       "        vertical-align: middle;\n",
       "    }\n",
       "\n",
       "    .dataframe tbody tr th {\n",
       "        vertical-align: top;\n",
       "    }\n",
       "\n",
       "    .dataframe thead th {\n",
       "        text-align: right;\n",
       "    }\n",
       "</style>\n",
       "<table border=\"1\" class=\"dataframe\">\n",
       "  <thead>\n",
       "    <tr style=\"text-align: right;\">\n",
       "      <th></th>\n",
       "      <th>user_name</th>\n",
       "      <th>user_age</th>\n",
       "      <th>user_balance</th>\n",
       "    </tr>\n",
       "  </thead>\n",
       "  <tbody>\n",
       "    <tr>\n",
       "      <th>a</th>\n",
       "      <td>Ivan</td>\n",
       "      <td>25</td>\n",
       "      <td>50</td>\n",
       "    </tr>\n",
       "    <tr>\n",
       "      <th>b</th>\n",
       "      <td>Petr</td>\n",
       "      <td>40</td>\n",
       "      <td>250</td>\n",
       "    </tr>\n",
       "    <tr>\n",
       "      <th>c</th>\n",
       "      <td>Nikolay</td>\n",
       "      <td>19</td>\n",
       "      <td>25</td>\n",
       "    </tr>\n",
       "    <tr>\n",
       "      <th>d</th>\n",
       "      <td>Sergey</td>\n",
       "      <td>33</td>\n",
       "      <td>115</td>\n",
       "    </tr>\n",
       "    <tr>\n",
       "      <th>e</th>\n",
       "      <td>Andrey</td>\n",
       "      <td>38</td>\n",
       "      <td>152</td>\n",
       "    </tr>\n",
       "    <tr>\n",
       "      <th>f</th>\n",
       "      <td>Ilya</td>\n",
       "      <td>20</td>\n",
       "      <td>15</td>\n",
       "    </tr>\n",
       "    <tr>\n",
       "      <th>g</th>\n",
       "      <td>Igor</td>\n",
       "      <td>19</td>\n",
       "      <td>10</td>\n",
       "    </tr>\n",
       "  </tbody>\n",
       "</table>\n",
       "</div>"
      ],
      "text/plain": [
       "  user_name  user_age  user_balance\n",
       "a      Ivan        25            50\n",
       "b      Petr        40           250\n",
       "c   Nikolay        19            25\n",
       "d    Sergey        33           115\n",
       "e    Andrey        38           152\n",
       "f      Ilya        20            15\n",
       "g      Igor        19            10"
      ]
     },
     "execution_count": 29,
     "metadata": {},
     "output_type": "execute_result"
    }
   ],
   "source": [
    "import pandas as pd\n",
    "\n",
    "def solution(_df):\n",
    "    return _df[['user_name', 'user_age', 'user_balance']]\n",
    "\n",
    "\n",
    "data = [['Ivan', 25, 4, 50, 1], \n",
    "        ['Petr', 40, 9, 250, 8], \n",
    "        ['Nikolay', 19, 12, 25, 1], \n",
    "        ['Sergey', 33, 6, 115, 6],\n",
    "        ['Andrey', 38, 2, 152, 4],\n",
    "        ['Ilya', 20, 18, 15, 2],\n",
    "        ['Igor', 19, 2, 10, 1]]\n",
    "\n",
    "_df = pd.DataFrame(data, columns=['user_name', 'user_age', 'user_clicks', 'user_balance', 'user_history'], index=list('abcdefg'))\n",
    "\n",
    "solution(_df)"
   ]
  },
  {
   "cell_type": "markdown",
   "id": "9b5bad2c",
   "metadata": {},
   "source": [
    "6. На вход подаётся датафрейм, выведите только тех пользователей, которые старше 30 лет"
   ]
  },
  {
   "cell_type": "code",
   "execution_count": 41,
   "id": "e8d28c45",
   "metadata": {},
   "outputs": [
    {
     "data": {
      "text/html": [
       "<div>\n",
       "<style scoped>\n",
       "    .dataframe tbody tr th:only-of-type {\n",
       "        vertical-align: middle;\n",
       "    }\n",
       "\n",
       "    .dataframe tbody tr th {\n",
       "        vertical-align: top;\n",
       "    }\n",
       "\n",
       "    .dataframe thead th {\n",
       "        text-align: right;\n",
       "    }\n",
       "</style>\n",
       "<table border=\"1\" class=\"dataframe\">\n",
       "  <thead>\n",
       "    <tr style=\"text-align: right;\">\n",
       "      <th></th>\n",
       "      <th>name</th>\n",
       "      <th>age</th>\n",
       "      <th>clicks</th>\n",
       "      <th>balance</th>\n",
       "      <th>history</th>\n",
       "    </tr>\n",
       "  </thead>\n",
       "  <tbody>\n",
       "    <tr>\n",
       "      <th>b</th>\n",
       "      <td>Petr</td>\n",
       "      <td>40</td>\n",
       "      <td>9</td>\n",
       "      <td>250</td>\n",
       "      <td>8</td>\n",
       "    </tr>\n",
       "    <tr>\n",
       "      <th>d</th>\n",
       "      <td>Sergey</td>\n",
       "      <td>33</td>\n",
       "      <td>6</td>\n",
       "      <td>115</td>\n",
       "      <td>6</td>\n",
       "    </tr>\n",
       "    <tr>\n",
       "      <th>e</th>\n",
       "      <td>Andrey</td>\n",
       "      <td>38</td>\n",
       "      <td>2</td>\n",
       "      <td>152</td>\n",
       "      <td>4</td>\n",
       "    </tr>\n",
       "  </tbody>\n",
       "</table>\n",
       "</div>"
      ],
      "text/plain": [
       "     name  age  clicks  balance  history\n",
       "b    Petr   40       9      250        8\n",
       "d  Sergey   33       6      115        6\n",
       "e  Andrey   38       2      152        4"
      ]
     },
     "execution_count": 41,
     "metadata": {},
     "output_type": "execute_result"
    }
   ],
   "source": [
    "import pandas as pd\n",
    "\n",
    "def solution(_df):\n",
    "    mask = _df['age'] > 30\n",
    "    return _df[mask]\n",
    "\n",
    "\n",
    "data = [['Ivan', 25, 4, 50, 1], \n",
    "        ['Petr', 40, 9, 250, 8], \n",
    "        ['Nikolay', 19, 12, 25, 1], \n",
    "        ['Sergey', 33, 6, 115, 6],\n",
    "        ['Andrey', 38, 2, 152, 4],\n",
    "        ['Ilya', 20, 18, 15, 2],\n",
    "        ['Igor', 19, 2, 10, 1]]\n",
    "\n",
    "_df = pd.DataFrame(data, columns=['name', 'age', 'clicks', 'balance', 'history'], index=list('abcdefg'))\n",
    "\n",
    "solution(_df)"
   ]
  },
  {
   "cell_type": "markdown",
   "id": "1f66a89d",
   "metadata": {},
   "source": [
    "7. На вход подаётся датафрейм, выведите пользователей, которые младше 30 лет и баланс больше 20:"
   ]
  },
  {
   "cell_type": "code",
   "execution_count": 45,
   "id": "5dd3973a",
   "metadata": {},
   "outputs": [
    {
     "data": {
      "text/html": [
       "<div>\n",
       "<style scoped>\n",
       "    .dataframe tbody tr th:only-of-type {\n",
       "        vertical-align: middle;\n",
       "    }\n",
       "\n",
       "    .dataframe tbody tr th {\n",
       "        vertical-align: top;\n",
       "    }\n",
       "\n",
       "    .dataframe thead th {\n",
       "        text-align: right;\n",
       "    }\n",
       "</style>\n",
       "<table border=\"1\" class=\"dataframe\">\n",
       "  <thead>\n",
       "    <tr style=\"text-align: right;\">\n",
       "      <th></th>\n",
       "      <th>name</th>\n",
       "      <th>age</th>\n",
       "      <th>clicks</th>\n",
       "      <th>balance</th>\n",
       "      <th>history</th>\n",
       "    </tr>\n",
       "  </thead>\n",
       "  <tbody>\n",
       "    <tr>\n",
       "      <th>a</th>\n",
       "      <td>Ivan</td>\n",
       "      <td>25</td>\n",
       "      <td>4</td>\n",
       "      <td>50</td>\n",
       "      <td>1</td>\n",
       "    </tr>\n",
       "    <tr>\n",
       "      <th>c</th>\n",
       "      <td>Nikolay</td>\n",
       "      <td>19</td>\n",
       "      <td>12</td>\n",
       "      <td>25</td>\n",
       "      <td>1</td>\n",
       "    </tr>\n",
       "  </tbody>\n",
       "</table>\n",
       "</div>"
      ],
      "text/plain": [
       "      name  age  clicks  balance  history\n",
       "a     Ivan   25       4       50        1\n",
       "c  Nikolay   19      12       25        1"
      ]
     },
     "execution_count": 45,
     "metadata": {},
     "output_type": "execute_result"
    }
   ],
   "source": [
    "import pandas as pd\n",
    "\n",
    "def solution(_df):\n",
    "    mask = (_df['age'] < 30) & (_df['balance'] > 20)\n",
    "    return _df[mask]\n",
    "\n",
    "\n",
    "data = [['Ivan', 25, 4, 50, 1], \n",
    "        ['Petr', 40, 9, 250, 8], \n",
    "        ['Nikolay', 19, 12, 25, 1], \n",
    "        ['Sergey', 33, 6, 115, 6],\n",
    "        ['Andrey', 38, 2, 152, 4],\n",
    "        ['Ilya', 20, 18, 15, 2],\n",
    "        ['Igor', 19, 2, 10, 1]]\n",
    "\n",
    "_df = pd.DataFrame(data, columns=['name', 'age', 'clicks', 'balance', 'history'], index=list('abcdefg'))\n",
    "\n",
    "solution(_df)"
   ]
  },
  {
   "cell_type": "markdown",
   "id": "fe74bf6c",
   "metadata": {},
   "source": [
    "8. На вход подаётся датафрейм, определите пользователей у которых баланс больше 100. Возьмите две колонки **name и age**, а затем отдайте получившийся датафрейм на проверку:"
   ]
  },
  {
   "cell_type": "code",
   "execution_count": 52,
   "id": "524c53dc",
   "metadata": {},
   "outputs": [
    {
     "data": {
      "text/html": [
       "<div>\n",
       "<style scoped>\n",
       "    .dataframe tbody tr th:only-of-type {\n",
       "        vertical-align: middle;\n",
       "    }\n",
       "\n",
       "    .dataframe tbody tr th {\n",
       "        vertical-align: top;\n",
       "    }\n",
       "\n",
       "    .dataframe thead th {\n",
       "        text-align: right;\n",
       "    }\n",
       "</style>\n",
       "<table border=\"1\" class=\"dataframe\">\n",
       "  <thead>\n",
       "    <tr style=\"text-align: right;\">\n",
       "      <th></th>\n",
       "      <th>name</th>\n",
       "      <th>age</th>\n",
       "    </tr>\n",
       "  </thead>\n",
       "  <tbody>\n",
       "    <tr>\n",
       "      <th>b</th>\n",
       "      <td>Petr</td>\n",
       "      <td>40</td>\n",
       "    </tr>\n",
       "    <tr>\n",
       "      <th>d</th>\n",
       "      <td>Sergey</td>\n",
       "      <td>33</td>\n",
       "    </tr>\n",
       "    <tr>\n",
       "      <th>e</th>\n",
       "      <td>Andrey</td>\n",
       "      <td>38</td>\n",
       "    </tr>\n",
       "  </tbody>\n",
       "</table>\n",
       "</div>"
      ],
      "text/plain": [
       "     name  age\n",
       "b    Petr   40\n",
       "d  Sergey   33\n",
       "e  Andrey   38"
      ]
     },
     "execution_count": 52,
     "metadata": {},
     "output_type": "execute_result"
    }
   ],
   "source": [
    "import pandas as pd\n",
    "\n",
    "def solution(_df):\n",
    "    mask = _df['balance'] > 100\n",
    "    return _df[mask][['name', 'age']]\n",
    "\n",
    "\n",
    "data = [['Ivan', 25, 4, 50, 1], \n",
    "        ['Petr', 40, 9, 250, 8], \n",
    "        ['Nikolay', 19, 12, 25, 1], \n",
    "        ['Sergey', 33, 6, 115, 6],\n",
    "        ['Andrey', 38, 2, 152, 4],\n",
    "        ['Ilya', 20, 18, 15, 2],\n",
    "        ['Igor', 19, 2, 10, 1]]\n",
    "\n",
    "_df = pd.DataFrame(data, columns=['name', 'age', 'clicks', 'balance', 'history'], index=list('abcdefg'))\n",
    "\n",
    "solution(_df)"
   ]
  },
  {
   "cell_type": "markdown",
   "id": "ef0063ce",
   "metadata": {},
   "source": [
    "9.   На вход подаётся датафрейм, выберите из датафрейма записи, если имя пользователя **Petr или Andrey**. От получившегося датафрейма возьмите три столбца: **name, age, balance**: "
   ]
  },
  {
   "cell_type": "code",
   "execution_count": 61,
   "id": "4c963583",
   "metadata": {},
   "outputs": [
    {
     "data": {
      "text/html": [
       "<div>\n",
       "<style scoped>\n",
       "    .dataframe tbody tr th:only-of-type {\n",
       "        vertical-align: middle;\n",
       "    }\n",
       "\n",
       "    .dataframe tbody tr th {\n",
       "        vertical-align: top;\n",
       "    }\n",
       "\n",
       "    .dataframe thead th {\n",
       "        text-align: right;\n",
       "    }\n",
       "</style>\n",
       "<table border=\"1\" class=\"dataframe\">\n",
       "  <thead>\n",
       "    <tr style=\"text-align: right;\">\n",
       "      <th></th>\n",
       "      <th>name</th>\n",
       "      <th>age</th>\n",
       "      <th>balance</th>\n",
       "    </tr>\n",
       "  </thead>\n",
       "  <tbody>\n",
       "    <tr>\n",
       "      <th>b</th>\n",
       "      <td>Petr</td>\n",
       "      <td>40</td>\n",
       "      <td>250</td>\n",
       "    </tr>\n",
       "    <tr>\n",
       "      <th>e</th>\n",
       "      <td>Andrey</td>\n",
       "      <td>38</td>\n",
       "      <td>152</td>\n",
       "    </tr>\n",
       "  </tbody>\n",
       "</table>\n",
       "</div>"
      ],
      "text/plain": [
       "     name  age  balance\n",
       "b    Petr   40      250\n",
       "e  Andrey   38      152"
      ]
     },
     "execution_count": 61,
     "metadata": {},
     "output_type": "execute_result"
    }
   ],
   "source": [
    "import pandas as pd\n",
    "\n",
    "def solution(_df):\n",
    "    mask = (_df['name'] == 'Petr') | (_df['name'] == 'Andrey')\n",
    "    return _df[mask][['name', 'age', 'balance']]\n",
    "\n",
    "\n",
    "data = [['Ivan', 25, 4, 50, 1], \n",
    "        ['Petr', 40, 9, 250, 8], \n",
    "        ['Nikolay', 19, 12, 25, 1], \n",
    "        ['Sergey', 33, 6, 115, 6],\n",
    "        ['Andrey', 38, 2, 152, 4],\n",
    "        ['Ilya', 20, 18, 15, 2],\n",
    "        ['Igor', 19, 2, 10, 1]]\n",
    "\n",
    "_df = pd.DataFrame(data, columns=['name', 'age', 'clicks', 'balance', 'history'], index=list('abcdefg'))\n",
    "\n",
    "solution(_df)"
   ]
  },
  {
   "cell_type": "markdown",
   "id": "f14d795d",
   "metadata": {},
   "source": [
    "10. На вход подаётся датафрейм, В компании было принято решение обнулить баланс для пользователей у которых баланс меньше 100. Вы были выбраны исполнителем. Отредактируйте колонку balance."
   ]
  },
  {
   "cell_type": "code",
   "execution_count": 109,
   "id": "eaf7bcc5",
   "metadata": {},
   "outputs": [
    {
     "data": {
      "text/html": [
       "<div>\n",
       "<style scoped>\n",
       "    .dataframe tbody tr th:only-of-type {\n",
       "        vertical-align: middle;\n",
       "    }\n",
       "\n",
       "    .dataframe tbody tr th {\n",
       "        vertical-align: top;\n",
       "    }\n",
       "\n",
       "    .dataframe thead th {\n",
       "        text-align: right;\n",
       "    }\n",
       "</style>\n",
       "<table border=\"1\" class=\"dataframe\">\n",
       "  <thead>\n",
       "    <tr style=\"text-align: right;\">\n",
       "      <th></th>\n",
       "      <th>name</th>\n",
       "      <th>age</th>\n",
       "      <th>clicks</th>\n",
       "      <th>balance</th>\n",
       "      <th>history</th>\n",
       "    </tr>\n",
       "  </thead>\n",
       "  <tbody>\n",
       "    <tr>\n",
       "      <th>a</th>\n",
       "      <td>Ivan</td>\n",
       "      <td>25</td>\n",
       "      <td>4</td>\n",
       "      <td>0</td>\n",
       "      <td>1</td>\n",
       "    </tr>\n",
       "    <tr>\n",
       "      <th>b</th>\n",
       "      <td>Petr</td>\n",
       "      <td>40</td>\n",
       "      <td>9</td>\n",
       "      <td>250</td>\n",
       "      <td>8</td>\n",
       "    </tr>\n",
       "    <tr>\n",
       "      <th>c</th>\n",
       "      <td>Nikolay</td>\n",
       "      <td>19</td>\n",
       "      <td>12</td>\n",
       "      <td>0</td>\n",
       "      <td>1</td>\n",
       "    </tr>\n",
       "    <tr>\n",
       "      <th>d</th>\n",
       "      <td>Sergey</td>\n",
       "      <td>33</td>\n",
       "      <td>6</td>\n",
       "      <td>115</td>\n",
       "      <td>6</td>\n",
       "    </tr>\n",
       "    <tr>\n",
       "      <th>e</th>\n",
       "      <td>Andrey</td>\n",
       "      <td>38</td>\n",
       "      <td>2</td>\n",
       "      <td>152</td>\n",
       "      <td>4</td>\n",
       "    </tr>\n",
       "    <tr>\n",
       "      <th>f</th>\n",
       "      <td>Ilya</td>\n",
       "      <td>20</td>\n",
       "      <td>18</td>\n",
       "      <td>0</td>\n",
       "      <td>2</td>\n",
       "    </tr>\n",
       "    <tr>\n",
       "      <th>g</th>\n",
       "      <td>Igor</td>\n",
       "      <td>19</td>\n",
       "      <td>2</td>\n",
       "      <td>0</td>\n",
       "      <td>1</td>\n",
       "    </tr>\n",
       "  </tbody>\n",
       "</table>\n",
       "</div>"
      ],
      "text/plain": [
       "      name  age  clicks  balance  history\n",
       "a     Ivan   25       4        0        1\n",
       "b     Petr   40       9      250        8\n",
       "c  Nikolay   19      12        0        1\n",
       "d   Sergey   33       6      115        6\n",
       "e   Andrey   38       2      152        4\n",
       "f     Ilya   20      18        0        2\n",
       "g     Igor   19       2        0        1"
      ]
     },
     "execution_count": 109,
     "metadata": {},
     "output_type": "execute_result"
    }
   ],
   "source": [
    "import pandas as pd\n",
    "\n",
    "def solution(_df):\n",
    "    _df.loc[_df['balance'] < 100, ['balance']] = 0\n",
    "    return _df\n",
    "\n",
    "\n",
    "data = [['Ivan', 25, 4, 50, 1], \n",
    "        ['Petr', 40, 9, 250, 8], \n",
    "        ['Nikolay', 19, 12, 25, 1], \n",
    "        ['Sergey', 33, 6, 115, 6],\n",
    "        ['Andrey', 38, 2, 152, 4],\n",
    "        ['Ilya', 20, 18, 15, 2],\n",
    "        ['Igor', 19, 2, 10, 1]]\n",
    "\n",
    "_df = pd.DataFrame(data, columns=['name', 'age', 'clicks', 'balance', 'history'], index=list('abcdefg'))\n",
    "\n",
    "solution(_df)"
   ]
  },
  {
   "cell_type": "markdown",
   "id": "5fde7464",
   "metadata": {},
   "source": [
    "## 3.10 Операторы loc, iloc, at, iat. Сложение нескольких датафреймов"
   ]
  },
  {
   "cell_type": "markdown",
   "id": "32e7e65b",
   "metadata": {},
   "source": [
    "Оператор **loc** используется для вытягивания данных из датафрейма на основе лейблов!\n",
    "Обязательно после **loc** указывать квадратные, а не круглые скобки!\n",
    "В скобках: слева от запятой лейблы строк, справа от запятой лейблы столбцов."
   ]
  },
  {
   "cell_type": "code",
   "execution_count": 142,
   "id": "dce0ae7f",
   "metadata": {},
   "outputs": [
    {
     "data": {
      "text/html": [
       "<div>\n",
       "<style scoped>\n",
       "    .dataframe tbody tr th:only-of-type {\n",
       "        vertical-align: middle;\n",
       "    }\n",
       "\n",
       "    .dataframe tbody tr th {\n",
       "        vertical-align: top;\n",
       "    }\n",
       "\n",
       "    .dataframe thead th {\n",
       "        text-align: right;\n",
       "    }\n",
       "</style>\n",
       "<table border=\"1\" class=\"dataframe\">\n",
       "  <thead>\n",
       "    <tr style=\"text-align: right;\">\n",
       "      <th></th>\n",
       "      <th>name</th>\n",
       "      <th>age</th>\n",
       "      <th>clicks</th>\n",
       "      <th>balance</th>\n",
       "      <th>history</th>\n",
       "    </tr>\n",
       "  </thead>\n",
       "  <tbody>\n",
       "    <tr>\n",
       "      <th>a</th>\n",
       "      <td>Ivan</td>\n",
       "      <td>25</td>\n",
       "      <td>4</td>\n",
       "      <td>50</td>\n",
       "      <td>1</td>\n",
       "    </tr>\n",
       "    <tr>\n",
       "      <th>b</th>\n",
       "      <td>Petr</td>\n",
       "      <td>40</td>\n",
       "      <td>9</td>\n",
       "      <td>250</td>\n",
       "      <td>8</td>\n",
       "    </tr>\n",
       "    <tr>\n",
       "      <th>c</th>\n",
       "      <td>Nikolay</td>\n",
       "      <td>19</td>\n",
       "      <td>12</td>\n",
       "      <td>25</td>\n",
       "      <td>1</td>\n",
       "    </tr>\n",
       "    <tr>\n",
       "      <th>d</th>\n",
       "      <td>Sergey</td>\n",
       "      <td>33</td>\n",
       "      <td>6</td>\n",
       "      <td>115</td>\n",
       "      <td>6</td>\n",
       "    </tr>\n",
       "    <tr>\n",
       "      <th>e</th>\n",
       "      <td>Andrey</td>\n",
       "      <td>38</td>\n",
       "      <td>2</td>\n",
       "      <td>152</td>\n",
       "      <td>4</td>\n",
       "    </tr>\n",
       "    <tr>\n",
       "      <th>f</th>\n",
       "      <td>Ilya</td>\n",
       "      <td>20</td>\n",
       "      <td>18</td>\n",
       "      <td>15</td>\n",
       "      <td>2</td>\n",
       "    </tr>\n",
       "    <tr>\n",
       "      <th>g</th>\n",
       "      <td>Igor</td>\n",
       "      <td>19</td>\n",
       "      <td>2</td>\n",
       "      <td>10</td>\n",
       "      <td>1</td>\n",
       "    </tr>\n",
       "  </tbody>\n",
       "</table>\n",
       "</div>"
      ],
      "text/plain": [
       "      name  age  clicks  balance  history\n",
       "a     Ivan   25       4       50        1\n",
       "b     Petr   40       9      250        8\n",
       "c  Nikolay   19      12       25        1\n",
       "d   Sergey   33       6      115        6\n",
       "e   Andrey   38       2      152        4\n",
       "f     Ilya   20      18       15        2\n",
       "g     Igor   19       2       10        1"
      ]
     },
     "execution_count": 142,
     "metadata": {},
     "output_type": "execute_result"
    }
   ],
   "source": [
    "data = [['Ivan', 25, 4, 50, 1], \n",
    "        ['Petr', 40, 9, 250, 8], \n",
    "        ['Nikolay', 19, 12, 25, 1], \n",
    "        ['Sergey', 33, 6, 115, 6],\n",
    "        ['Andrey', 38, 2, 152, 4],\n",
    "        ['Ilya', 20, 18, 15, 2],\n",
    "        ['Igor', 19, 2, 10, 1]]\n",
    "\n",
    "df = pd.DataFrame(data, columns=['name', 'age', 'clicks', 'balance', 'history'], index=list('abcdefg'))\n",
    "\n",
    "df"
   ]
  },
  {
   "cell_type": "code",
   "execution_count": 143,
   "id": "089c4fec",
   "metadata": {},
   "outputs": [
    {
     "data": {
      "text/html": [
       "<div>\n",
       "<style scoped>\n",
       "    .dataframe tbody tr th:only-of-type {\n",
       "        vertical-align: middle;\n",
       "    }\n",
       "\n",
       "    .dataframe tbody tr th {\n",
       "        vertical-align: top;\n",
       "    }\n",
       "\n",
       "    .dataframe thead th {\n",
       "        text-align: right;\n",
       "    }\n",
       "</style>\n",
       "<table border=\"1\" class=\"dataframe\">\n",
       "  <thead>\n",
       "    <tr style=\"text-align: right;\">\n",
       "      <th></th>\n",
       "      <th>name</th>\n",
       "      <th>age</th>\n",
       "    </tr>\n",
       "  </thead>\n",
       "  <tbody>\n",
       "    <tr>\n",
       "      <th>a</th>\n",
       "      <td>Ivan</td>\n",
       "      <td>25</td>\n",
       "    </tr>\n",
       "    <tr>\n",
       "      <th>b</th>\n",
       "      <td>Petr</td>\n",
       "      <td>40</td>\n",
       "    </tr>\n",
       "  </tbody>\n",
       "</table>\n",
       "</div>"
      ],
      "text/plain": [
       "   name  age\n",
       "a  Ivan   25\n",
       "b  Petr   40"
      ]
     },
     "execution_count": 143,
     "metadata": {},
     "output_type": "execute_result"
    }
   ],
   "source": [
    "df.loc[['a', 'b'], ['name', 'age']] # как в NumPy"
   ]
  },
  {
   "cell_type": "code",
   "execution_count": 124,
   "id": "9ab5d197",
   "metadata": {},
   "outputs": [
    {
     "data": {
      "text/html": [
       "<div>\n",
       "<style scoped>\n",
       "    .dataframe tbody tr th:only-of-type {\n",
       "        vertical-align: middle;\n",
       "    }\n",
       "\n",
       "    .dataframe tbody tr th {\n",
       "        vertical-align: top;\n",
       "    }\n",
       "\n",
       "    .dataframe thead th {\n",
       "        text-align: right;\n",
       "    }\n",
       "</style>\n",
       "<table border=\"1\" class=\"dataframe\">\n",
       "  <thead>\n",
       "    <tr style=\"text-align: right;\">\n",
       "      <th></th>\n",
       "      <th>name</th>\n",
       "      <th>age</th>\n",
       "    </tr>\n",
       "  </thead>\n",
       "  <tbody>\n",
       "    <tr>\n",
       "      <th>a</th>\n",
       "      <td>Ivan</td>\n",
       "      <td>25</td>\n",
       "    </tr>\n",
       "    <tr>\n",
       "      <th>b</th>\n",
       "      <td>Petr</td>\n",
       "      <td>40</td>\n",
       "    </tr>\n",
       "    <tr>\n",
       "      <th>c</th>\n",
       "      <td>Nikolay</td>\n",
       "      <td>19</td>\n",
       "    </tr>\n",
       "    <tr>\n",
       "      <th>d</th>\n",
       "      <td>Sergey</td>\n",
       "      <td>33</td>\n",
       "    </tr>\n",
       "    <tr>\n",
       "      <th>e</th>\n",
       "      <td>Andrey</td>\n",
       "      <td>38</td>\n",
       "    </tr>\n",
       "    <tr>\n",
       "      <th>f</th>\n",
       "      <td>Ilya</td>\n",
       "      <td>20</td>\n",
       "    </tr>\n",
       "    <tr>\n",
       "      <th>g</th>\n",
       "      <td>Igor</td>\n",
       "      <td>19</td>\n",
       "    </tr>\n",
       "  </tbody>\n",
       "</table>\n",
       "</div>"
      ],
      "text/plain": [
       "      name  age\n",
       "a     Ivan   25\n",
       "b     Petr   40\n",
       "c  Nikolay   19\n",
       "d   Sergey   33\n",
       "e   Andrey   38\n",
       "f     Ilya   20\n",
       "g     Igor   19"
      ]
     },
     "execution_count": 124,
     "metadata": {},
     "output_type": "execute_result"
    }
   ],
   "source": [
    "df.loc[:, ['name', 'age']] # все строки"
   ]
  },
  {
   "cell_type": "code",
   "execution_count": 134,
   "id": "a0a8f96d",
   "metadata": {},
   "outputs": [
    {
     "data": {
      "text/html": [
       "<div>\n",
       "<style scoped>\n",
       "    .dataframe tbody tr th:only-of-type {\n",
       "        vertical-align: middle;\n",
       "    }\n",
       "\n",
       "    .dataframe tbody tr th {\n",
       "        vertical-align: top;\n",
       "    }\n",
       "\n",
       "    .dataframe thead th {\n",
       "        text-align: right;\n",
       "    }\n",
       "</style>\n",
       "<table border=\"1\" class=\"dataframe\">\n",
       "  <thead>\n",
       "    <tr style=\"text-align: right;\">\n",
       "      <th></th>\n",
       "      <th>balance</th>\n",
       "      <th>age</th>\n",
       "    </tr>\n",
       "  </thead>\n",
       "  <tbody>\n",
       "    <tr>\n",
       "      <th>b</th>\n",
       "      <td>250</td>\n",
       "      <td>40</td>\n",
       "    </tr>\n",
       "    <tr>\n",
       "      <th>d</th>\n",
       "      <td>115</td>\n",
       "      <td>33</td>\n",
       "    </tr>\n",
       "    <tr>\n",
       "      <th>e</th>\n",
       "      <td>152</td>\n",
       "      <td>38</td>\n",
       "    </tr>\n",
       "  </tbody>\n",
       "</table>\n",
       "</div>"
      ],
      "text/plain": [
       "   balance  age\n",
       "b      250   40\n",
       "d      115   33\n",
       "e      152   38"
      ]
     },
     "execution_count": 134,
     "metadata": {},
     "output_type": "execute_result"
    }
   ],
   "source": [
    "df.loc[df['age'] > 30, ['balance', 'age']] # также как и в NumPy можно использовать маску"
   ]
  },
  {
   "cell_type": "markdown",
   "id": "7ba5ec3e",
   "metadata": {},
   "source": [
    "Оператор **iloc** похож на **loc**, но работает не с лейблами, а с индексами (числами)!"
   ]
  },
  {
   "cell_type": "code",
   "execution_count": 137,
   "id": "717e50c0",
   "metadata": {},
   "outputs": [
    {
     "data": {
      "text/html": [
       "<div>\n",
       "<style scoped>\n",
       "    .dataframe tbody tr th:only-of-type {\n",
       "        vertical-align: middle;\n",
       "    }\n",
       "\n",
       "    .dataframe tbody tr th {\n",
       "        vertical-align: top;\n",
       "    }\n",
       "\n",
       "    .dataframe thead th {\n",
       "        text-align: right;\n",
       "    }\n",
       "</style>\n",
       "<table border=\"1\" class=\"dataframe\">\n",
       "  <thead>\n",
       "    <tr style=\"text-align: right;\">\n",
       "      <th></th>\n",
       "      <th>name</th>\n",
       "      <th>age</th>\n",
       "    </tr>\n",
       "  </thead>\n",
       "  <tbody>\n",
       "    <tr>\n",
       "      <th>a</th>\n",
       "      <td>Ivan</td>\n",
       "      <td>25</td>\n",
       "    </tr>\n",
       "    <tr>\n",
       "      <th>b</th>\n",
       "      <td>Petr</td>\n",
       "      <td>40</td>\n",
       "    </tr>\n",
       "    <tr>\n",
       "      <th>c</th>\n",
       "      <td>Nikolay</td>\n",
       "      <td>19</td>\n",
       "    </tr>\n",
       "  </tbody>\n",
       "</table>\n",
       "</div>"
      ],
      "text/plain": [
       "      name  age\n",
       "a     Ivan   25\n",
       "b     Petr   40\n",
       "c  Nikolay   19"
      ]
     },
     "execution_count": 137,
     "metadata": {},
     "output_type": "execute_result"
    }
   ],
   "source": [
    "df.iloc[0:3, 0:2]"
   ]
  },
  {
   "cell_type": "markdown",
   "id": "e727e686",
   "metadata": {},
   "source": [
    "Данные операторы можно использовать и для записи значений"
   ]
  },
  {
   "cell_type": "code",
   "execution_count": 145,
   "id": "c6832cf6",
   "metadata": {},
   "outputs": [
    {
     "data": {
      "text/html": [
       "<div>\n",
       "<style scoped>\n",
       "    .dataframe tbody tr th:only-of-type {\n",
       "        vertical-align: middle;\n",
       "    }\n",
       "\n",
       "    .dataframe tbody tr th {\n",
       "        vertical-align: top;\n",
       "    }\n",
       "\n",
       "    .dataframe thead th {\n",
       "        text-align: right;\n",
       "    }\n",
       "</style>\n",
       "<table border=\"1\" class=\"dataframe\">\n",
       "  <thead>\n",
       "    <tr style=\"text-align: right;\">\n",
       "      <th></th>\n",
       "      <th>name</th>\n",
       "      <th>age</th>\n",
       "      <th>clicks</th>\n",
       "      <th>balance</th>\n",
       "      <th>history</th>\n",
       "    </tr>\n",
       "  </thead>\n",
       "  <tbody>\n",
       "    <tr>\n",
       "      <th>a</th>\n",
       "      <td>Ivan</td>\n",
       "      <td>25</td>\n",
       "      <td>4</td>\n",
       "      <td>50</td>\n",
       "      <td>1</td>\n",
       "    </tr>\n",
       "    <tr>\n",
       "      <th>b</th>\n",
       "      <td>Petr</td>\n",
       "      <td>40</td>\n",
       "      <td>9</td>\n",
       "      <td>0</td>\n",
       "      <td>8</td>\n",
       "    </tr>\n",
       "    <tr>\n",
       "      <th>c</th>\n",
       "      <td>Nikolay</td>\n",
       "      <td>19</td>\n",
       "      <td>12</td>\n",
       "      <td>25</td>\n",
       "      <td>1</td>\n",
       "    </tr>\n",
       "    <tr>\n",
       "      <th>d</th>\n",
       "      <td>Sergey</td>\n",
       "      <td>33</td>\n",
       "      <td>6</td>\n",
       "      <td>0</td>\n",
       "      <td>6</td>\n",
       "    </tr>\n",
       "    <tr>\n",
       "      <th>e</th>\n",
       "      <td>Andrey</td>\n",
       "      <td>38</td>\n",
       "      <td>2</td>\n",
       "      <td>0</td>\n",
       "      <td>4</td>\n",
       "    </tr>\n",
       "    <tr>\n",
       "      <th>f</th>\n",
       "      <td>Ilya</td>\n",
       "      <td>20</td>\n",
       "      <td>18</td>\n",
       "      <td>15</td>\n",
       "      <td>2</td>\n",
       "    </tr>\n",
       "    <tr>\n",
       "      <th>g</th>\n",
       "      <td>Igor</td>\n",
       "      <td>19</td>\n",
       "      <td>2</td>\n",
       "      <td>10</td>\n",
       "      <td>1</td>\n",
       "    </tr>\n",
       "  </tbody>\n",
       "</table>\n",
       "</div>"
      ],
      "text/plain": [
       "      name  age  clicks  balance  history\n",
       "a     Ivan   25       4       50        1\n",
       "b     Petr   40       9        0        8\n",
       "c  Nikolay   19      12       25        1\n",
       "d   Sergey   33       6        0        6\n",
       "e   Andrey   38       2        0        4\n",
       "f     Ilya   20      18       15        2\n",
       "g     Igor   19       2       10        1"
      ]
     },
     "execution_count": 145,
     "metadata": {},
     "output_type": "execute_result"
    }
   ],
   "source": [
    "df.loc[df['age'] > 30, 'balance'] = 0\n",
    "df"
   ]
  },
  {
   "cell_type": "markdown",
   "id": "50f70c32",
   "metadata": {},
   "source": [
    "**Сложение массивов производится только по совпадающим двум индексам**"
   ]
  },
  {
   "cell_type": "code",
   "execution_count": 144,
   "id": "f8e1d59f",
   "metadata": {},
   "outputs": [
    {
     "data": {
      "text/html": [
       "<div>\n",
       "<style scoped>\n",
       "    .dataframe tbody tr th:only-of-type {\n",
       "        vertical-align: middle;\n",
       "    }\n",
       "\n",
       "    .dataframe tbody tr th {\n",
       "        vertical-align: top;\n",
       "    }\n",
       "\n",
       "    .dataframe thead th {\n",
       "        text-align: right;\n",
       "    }\n",
       "</style>\n",
       "<table border=\"1\" class=\"dataframe\">\n",
       "  <thead>\n",
       "    <tr style=\"text-align: right;\">\n",
       "      <th></th>\n",
       "      <th>b</th>\n",
       "      <th>c</th>\n",
       "      <th>d</th>\n",
       "    </tr>\n",
       "  </thead>\n",
       "  <tbody>\n",
       "    <tr>\n",
       "      <th>Moscow</th>\n",
       "      <td>0</td>\n",
       "      <td>1</td>\n",
       "      <td>2</td>\n",
       "    </tr>\n",
       "    <tr>\n",
       "      <th>Kazan</th>\n",
       "      <td>3</td>\n",
       "      <td>4</td>\n",
       "      <td>5</td>\n",
       "    </tr>\n",
       "    <tr>\n",
       "      <th>Vladivostok</th>\n",
       "      <td>6</td>\n",
       "      <td>7</td>\n",
       "      <td>8</td>\n",
       "    </tr>\n",
       "  </tbody>\n",
       "</table>\n",
       "</div>"
      ],
      "text/plain": [
       "             b  c  d\n",
       "Moscow       0  1  2\n",
       "Kazan        3  4  5\n",
       "Vladivostok  6  7  8"
      ]
     },
     "execution_count": 144,
     "metadata": {},
     "output_type": "execute_result"
    }
   ],
   "source": [
    "import pandas as pd\n",
    "\n",
    "df1 = pd.DataFrame(np.arange(9).reshape(3, 3), columns=list('bcd'), index=['Moscow', 'Kazan', 'Vladivostok'])\n",
    "df2 = pd.DataFrame(np.arange(12).reshape(4, 3), columns=list('bde'), index=['Yakutsk', 'Moscow', 'Kazan', 'Ufa'])\n",
    "\n",
    "df1"
   ]
  },
  {
   "cell_type": "code",
   "execution_count": 146,
   "id": "3efaaece",
   "metadata": {},
   "outputs": [
    {
     "data": {
      "text/html": [
       "<div>\n",
       "<style scoped>\n",
       "    .dataframe tbody tr th:only-of-type {\n",
       "        vertical-align: middle;\n",
       "    }\n",
       "\n",
       "    .dataframe tbody tr th {\n",
       "        vertical-align: top;\n",
       "    }\n",
       "\n",
       "    .dataframe thead th {\n",
       "        text-align: right;\n",
       "    }\n",
       "</style>\n",
       "<table border=\"1\" class=\"dataframe\">\n",
       "  <thead>\n",
       "    <tr style=\"text-align: right;\">\n",
       "      <th></th>\n",
       "      <th>b</th>\n",
       "      <th>d</th>\n",
       "      <th>e</th>\n",
       "    </tr>\n",
       "  </thead>\n",
       "  <tbody>\n",
       "    <tr>\n",
       "      <th>Yakutsk</th>\n",
       "      <td>0</td>\n",
       "      <td>1</td>\n",
       "      <td>2</td>\n",
       "    </tr>\n",
       "    <tr>\n",
       "      <th>Moscow</th>\n",
       "      <td>3</td>\n",
       "      <td>4</td>\n",
       "      <td>5</td>\n",
       "    </tr>\n",
       "    <tr>\n",
       "      <th>Kazan</th>\n",
       "      <td>6</td>\n",
       "      <td>7</td>\n",
       "      <td>8</td>\n",
       "    </tr>\n",
       "    <tr>\n",
       "      <th>Ufa</th>\n",
       "      <td>9</td>\n",
       "      <td>10</td>\n",
       "      <td>11</td>\n",
       "    </tr>\n",
       "  </tbody>\n",
       "</table>\n",
       "</div>"
      ],
      "text/plain": [
       "         b   d   e\n",
       "Yakutsk  0   1   2\n",
       "Moscow   3   4   5\n",
       "Kazan    6   7   8\n",
       "Ufa      9  10  11"
      ]
     },
     "execution_count": 146,
     "metadata": {},
     "output_type": "execute_result"
    }
   ],
   "source": [
    "df2"
   ]
  },
  {
   "cell_type": "code",
   "execution_count": 147,
   "id": "e02be48f",
   "metadata": {},
   "outputs": [
    {
     "data": {
      "text/html": [
       "<div>\n",
       "<style scoped>\n",
       "    .dataframe tbody tr th:only-of-type {\n",
       "        vertical-align: middle;\n",
       "    }\n",
       "\n",
       "    .dataframe tbody tr th {\n",
       "        vertical-align: top;\n",
       "    }\n",
       "\n",
       "    .dataframe thead th {\n",
       "        text-align: right;\n",
       "    }\n",
       "</style>\n",
       "<table border=\"1\" class=\"dataframe\">\n",
       "  <thead>\n",
       "    <tr style=\"text-align: right;\">\n",
       "      <th></th>\n",
       "      <th>b</th>\n",
       "      <th>c</th>\n",
       "      <th>d</th>\n",
       "      <th>e</th>\n",
       "    </tr>\n",
       "  </thead>\n",
       "  <tbody>\n",
       "    <tr>\n",
       "      <th>Kazan</th>\n",
       "      <td>9.0</td>\n",
       "      <td>NaN</td>\n",
       "      <td>12.0</td>\n",
       "      <td>NaN</td>\n",
       "    </tr>\n",
       "    <tr>\n",
       "      <th>Moscow</th>\n",
       "      <td>3.0</td>\n",
       "      <td>NaN</td>\n",
       "      <td>6.0</td>\n",
       "      <td>NaN</td>\n",
       "    </tr>\n",
       "    <tr>\n",
       "      <th>Ufa</th>\n",
       "      <td>NaN</td>\n",
       "      <td>NaN</td>\n",
       "      <td>NaN</td>\n",
       "      <td>NaN</td>\n",
       "    </tr>\n",
       "    <tr>\n",
       "      <th>Vladivostok</th>\n",
       "      <td>NaN</td>\n",
       "      <td>NaN</td>\n",
       "      <td>NaN</td>\n",
       "      <td>NaN</td>\n",
       "    </tr>\n",
       "    <tr>\n",
       "      <th>Yakutsk</th>\n",
       "      <td>NaN</td>\n",
       "      <td>NaN</td>\n",
       "      <td>NaN</td>\n",
       "      <td>NaN</td>\n",
       "    </tr>\n",
       "  </tbody>\n",
       "</table>\n",
       "</div>"
      ],
      "text/plain": [
       "               b   c     d   e\n",
       "Kazan        9.0 NaN  12.0 NaN\n",
       "Moscow       3.0 NaN   6.0 NaN\n",
       "Ufa          NaN NaN   NaN NaN\n",
       "Vladivostok  NaN NaN   NaN NaN\n",
       "Yakutsk      NaN NaN   NaN NaN"
      ]
     },
     "execution_count": 147,
     "metadata": {},
     "output_type": "execute_result"
    }
   ],
   "source": [
    "df1 + df2"
   ]
  },
  {
   "cell_type": "markdown",
   "id": "36921f27",
   "metadata": {},
   "source": [
    "**Сравнение возможно только для датафреймов у которых лейблы в точности совпадают!**"
   ]
  },
  {
   "cell_type": "markdown",
   "id": "770b6f33",
   "metadata": {},
   "source": [
    "## Задачи урока 3.10"
   ]
  },
  {
   "cell_type": "markdown",
   "id": "3fd9ac76",
   "metadata": {},
   "source": [
    "1. Стажер Саша запутался, когда работал с датафреймом. Он хотел вытянуть две строчки, но всё напутал. Теперь он пришел к вам и просит о помощи. Отредактируйте, пожалуйста, код Саши."
   ]
  },
  {
   "cell_type": "markdown",
   "id": "67d155c3",
   "metadata": {},
   "source": [
    "![1](https://ucarecdn.com/15295984-0ab0-435c-b064-fa68724b5283/)\n",
    "\n",
    "![2](https://ucarecdn.com/8a7967e6-bde2-4af1-914d-85308c718873/)"
   ]
  },
  {
   "cell_type": "code",
   "execution_count": 155,
   "id": "17cc3ac6",
   "metadata": {},
   "outputs": [],
   "source": [
    "import pandas as pd\n",
    "\n",
    "def solution(_df):\n",
    "    result = _df.loc[['a', 'c']] # исправьте ошибку\n",
    "    return result"
   ]
  },
  {
   "cell_type": "markdown",
   "id": "c8b127de",
   "metadata": {},
   "source": [
    "2. На вход подаётся датафрейм, пользуясь оператором at, вытяните из датафрейма значение из строки d, во втором столбце. Функция должна вернуть это значение\n",
    "\n",
    "![1](https://ucarecdn.com/1100a59a-26d6-453b-a13c-aa438905cc87/)"
   ]
  },
  {
   "cell_type": "code",
   "execution_count": 156,
   "id": "533d8417",
   "metadata": {},
   "outputs": [],
   "source": [
    "import pandas as pd\n",
    "\n",
    "def solution(_df):\n",
    "    return df.at['d', 'col2']"
   ]
  },
  {
   "cell_type": "markdown",
   "id": "f28d8242",
   "metadata": {},
   "source": [
    "3. На вход функции подаётся датафрейм, выполните поэлементное сложение двух строк (a и d):\n",
    "\n",
    "![1](https://ucarecdn.com/31a3a14c-3569-47a5-b9f3-628ab15dbb93/)  \n",
    "   На выходе должна получиться серия:\n",
    "\n",
    "![2](https://ucarecdn.com/b8ec4e6a-6cd1-41f3-ac7c-b9cefa305258/)"
   ]
  },
  {
   "cell_type": "code",
   "execution_count": null,
   "id": "8bb435e7",
   "metadata": {},
   "outputs": [],
   "source": [
    "import pandas as pd\n",
    "\n",
    "def solution(_df):\n",
    "    result = _df.loc['a'] + _df.loc['d']\n",
    "    return result"
   ]
  },
  {
   "cell_type": "markdown",
   "id": "fb9087ab",
   "metadata": {},
   "source": [
    "## 3.11 Сложение датафреймов, сортировки, арифметика с пропусками"
   ]
  },
  {
   "cell_type": "markdown",
   "id": "4973e687",
   "metadata": {},
   "source": [
    "Для правильного сложения датафрэймов необходимо, чтобы индексы и колонки полностью совпадали у двух датафрэймов"
   ]
  },
  {
   "cell_type": "code",
   "execution_count": 4,
   "id": "9818848d",
   "metadata": {},
   "outputs": [
    {
     "data": {
      "text/html": [
       "<div>\n",
       "<style scoped>\n",
       "    .dataframe tbody tr th:only-of-type {\n",
       "        vertical-align: middle;\n",
       "    }\n",
       "\n",
       "    .dataframe tbody tr th {\n",
       "        vertical-align: top;\n",
       "    }\n",
       "\n",
       "    .dataframe thead th {\n",
       "        text-align: right;\n",
       "    }\n",
       "</style>\n",
       "<table border=\"1\" class=\"dataframe\">\n",
       "  <thead>\n",
       "    <tr style=\"text-align: right;\">\n",
       "      <th></th>\n",
       "      <th>A</th>\n",
       "      <th>B</th>\n",
       "    </tr>\n",
       "  </thead>\n",
       "  <tbody>\n",
       "    <tr>\n",
       "      <th>0</th>\n",
       "      <td>NaN</td>\n",
       "      <td>NaN</td>\n",
       "    </tr>\n",
       "    <tr>\n",
       "      <th>1</th>\n",
       "      <td>NaN</td>\n",
       "      <td>NaN</td>\n",
       "    </tr>\n",
       "    <tr>\n",
       "      <th>2</th>\n",
       "      <td>NaN</td>\n",
       "      <td>NaN</td>\n",
       "    </tr>\n",
       "  </tbody>\n",
       "</table>\n",
       "</div>"
      ],
      "text/plain": [
       "    A   B\n",
       "0 NaN NaN\n",
       "1 NaN NaN\n",
       "2 NaN NaN"
      ]
     },
     "execution_count": 4,
     "metadata": {},
     "output_type": "execute_result"
    }
   ],
   "source": [
    "import pandas as pd\n",
    "\n",
    "df1 = pd.DataFrame({'A': [1, 2, 3]})\n",
    "df2 = pd.DataFrame({'B': [1, 2, 3]})\n",
    "\n",
    "df1 + df2 # не совпадают колонки"
   ]
  },
  {
   "cell_type": "markdown",
   "id": "1039ac8e",
   "metadata": {},
   "source": [
    "Функции ниже ничего не записывают в датафрейм. Они просто пытаются выполнить свою работу и если одно из слагаемых NaN, тогда оно подменяется на значение из параметра fill_value. *Если и и там будет NaN, то тут уже не сработает.*\n",
    "\n",
    "**Функции:**\n",
    "\n",
    "* add, radd - сложение\n",
    "\n",
    "* sub, rsub - вычитание\n",
    "\n",
    "* div, rdiv - деление\n",
    "\n",
    "* mul, rmul - умножение\n",
    "\n",
    "* pow, rpow - возведение в степень\n",
    "\n",
    " \n",
    "\n",
    "**Чем отличается функция с буквой r в начале?. Покажу на примере:**\n",
    "\n",
    "df / 5  - означает, разделить все значения датафрейма на 5. Тоже самое: df.div(5)  (да-да, в функцию можно и число передавать)\n",
    "А как например записать наборот?: 5 / df т.е. пятёрку разделить на каждый элемент датафрейма. Вот для этого и нужна функция rdiv:  df.rdiv(5). Т.е. функции с буквой r как-бы меняют местами наши элементы."
   ]
  },
  {
   "cell_type": "code",
   "execution_count": 150,
   "id": "89c38246",
   "metadata": {},
   "outputs": [
    {
     "data": {
      "text/html": [
       "<div>\n",
       "<style scoped>\n",
       "    .dataframe tbody tr th:only-of-type {\n",
       "        vertical-align: middle;\n",
       "    }\n",
       "\n",
       "    .dataframe tbody tr th {\n",
       "        vertical-align: top;\n",
       "    }\n",
       "\n",
       "    .dataframe thead th {\n",
       "        text-align: right;\n",
       "    }\n",
       "</style>\n",
       "<table border=\"1\" class=\"dataframe\">\n",
       "  <thead>\n",
       "    <tr style=\"text-align: right;\">\n",
       "      <th></th>\n",
       "      <th>visits</th>\n",
       "    </tr>\n",
       "  </thead>\n",
       "  <tbody>\n",
       "    <tr>\n",
       "      <th>Kazan</th>\n",
       "      <td>100</td>\n",
       "    </tr>\n",
       "    <tr>\n",
       "      <th>Vladivostok</th>\n",
       "      <td>200</td>\n",
       "    </tr>\n",
       "    <tr>\n",
       "      <th>Moscow</th>\n",
       "      <td>300</td>\n",
       "    </tr>\n",
       "  </tbody>\n",
       "</table>\n",
       "</div>"
      ],
      "text/plain": [
       "             visits\n",
       "Kazan           100\n",
       "Vladivostok     200\n",
       "Moscow          300"
      ]
     },
     "execution_count": 150,
     "metadata": {},
     "output_type": "execute_result"
    }
   ],
   "source": [
    "import pandas as pd\n",
    "import numpy as np\n",
    "\n",
    "df1 = pd.DataFrame({'visits':[100,200,300]}, index=['Kazan', 'Vladivostok','Moscow'])\n",
    "df2 = pd.DataFrame({'visits':[200, np.nan, 400]}, index=['Kazan', 'Vladivostok','Moscow'])\n",
    "\n",
    "df1"
   ]
  },
  {
   "cell_type": "code",
   "execution_count": 151,
   "id": "5523a193",
   "metadata": {},
   "outputs": [
    {
     "data": {
      "text/html": [
       "<div>\n",
       "<style scoped>\n",
       "    .dataframe tbody tr th:only-of-type {\n",
       "        vertical-align: middle;\n",
       "    }\n",
       "\n",
       "    .dataframe tbody tr th {\n",
       "        vertical-align: top;\n",
       "    }\n",
       "\n",
       "    .dataframe thead th {\n",
       "        text-align: right;\n",
       "    }\n",
       "</style>\n",
       "<table border=\"1\" class=\"dataframe\">\n",
       "  <thead>\n",
       "    <tr style=\"text-align: right;\">\n",
       "      <th></th>\n",
       "      <th>visits</th>\n",
       "    </tr>\n",
       "  </thead>\n",
       "  <tbody>\n",
       "    <tr>\n",
       "      <th>Kazan</th>\n",
       "      <td>200.0</td>\n",
       "    </tr>\n",
       "    <tr>\n",
       "      <th>Vladivostok</th>\n",
       "      <td>NaN</td>\n",
       "    </tr>\n",
       "    <tr>\n",
       "      <th>Moscow</th>\n",
       "      <td>400.0</td>\n",
       "    </tr>\n",
       "  </tbody>\n",
       "</table>\n",
       "</div>"
      ],
      "text/plain": [
       "             visits\n",
       "Kazan         200.0\n",
       "Vladivostok     NaN\n",
       "Moscow        400.0"
      ]
     },
     "execution_count": 151,
     "metadata": {},
     "output_type": "execute_result"
    }
   ],
   "source": [
    "df2"
   ]
  },
  {
   "cell_type": "code",
   "execution_count": 149,
   "id": "818ef02c",
   "metadata": {},
   "outputs": [
    {
     "data": {
      "text/html": [
       "<div>\n",
       "<style scoped>\n",
       "    .dataframe tbody tr th:only-of-type {\n",
       "        vertical-align: middle;\n",
       "    }\n",
       "\n",
       "    .dataframe tbody tr th {\n",
       "        vertical-align: top;\n",
       "    }\n",
       "\n",
       "    .dataframe thead th {\n",
       "        text-align: right;\n",
       "    }\n",
       "</style>\n",
       "<table border=\"1\" class=\"dataframe\">\n",
       "  <thead>\n",
       "    <tr style=\"text-align: right;\">\n",
       "      <th></th>\n",
       "      <th>visits</th>\n",
       "    </tr>\n",
       "  </thead>\n",
       "  <tbody>\n",
       "    <tr>\n",
       "      <th>Kazan</th>\n",
       "      <td>300.0</td>\n",
       "    </tr>\n",
       "    <tr>\n",
       "      <th>Vladivostok</th>\n",
       "      <td>NaN</td>\n",
       "    </tr>\n",
       "    <tr>\n",
       "      <th>Moscow</th>\n",
       "      <td>700.0</td>\n",
       "    </tr>\n",
       "  </tbody>\n",
       "</table>\n",
       "</div>"
      ],
      "text/plain": [
       "             visits\n",
       "Kazan         300.0\n",
       "Vladivostok     NaN\n",
       "Moscow        700.0"
      ]
     },
     "execution_count": 149,
     "metadata": {},
     "output_type": "execute_result"
    }
   ],
   "source": [
    "df1 + df2 # если пропущено значение, то сложения не будет"
   ]
  },
  {
   "cell_type": "code",
   "execution_count": 13,
   "id": "4ce2a0bd",
   "metadata": {},
   "outputs": [
    {
     "data": {
      "text/html": [
       "<div>\n",
       "<style scoped>\n",
       "    .dataframe tbody tr th:only-of-type {\n",
       "        vertical-align: middle;\n",
       "    }\n",
       "\n",
       "    .dataframe tbody tr th {\n",
       "        vertical-align: top;\n",
       "    }\n",
       "\n",
       "    .dataframe thead th {\n",
       "        text-align: right;\n",
       "    }\n",
       "</style>\n",
       "<table border=\"1\" class=\"dataframe\">\n",
       "  <thead>\n",
       "    <tr style=\"text-align: right;\">\n",
       "      <th></th>\n",
       "      <th>visits</th>\n",
       "    </tr>\n",
       "  </thead>\n",
       "  <tbody>\n",
       "    <tr>\n",
       "      <th>Kazan</th>\n",
       "      <td>300.0</td>\n",
       "    </tr>\n",
       "    <tr>\n",
       "      <th>Vladivostok</th>\n",
       "      <td>200.0</td>\n",
       "    </tr>\n",
       "    <tr>\n",
       "      <th>Moscow</th>\n",
       "      <td>700.0</td>\n",
       "    </tr>\n",
       "  </tbody>\n",
       "</table>\n",
       "</div>"
      ],
      "text/plain": [
       "             visits\n",
       "Kazan         300.0\n",
       "Vladivostok   200.0\n",
       "Moscow        700.0"
      ]
     },
     "execution_count": 13,
     "metadata": {},
     "output_type": "execute_result"
    }
   ],
   "source": [
    "df1.add(df2, fill_value=0) # другое дело, вместо NaN значения заполнены 0"
   ]
  },
  {
   "cell_type": "markdown",
   "id": "ec83ea7a",
   "metadata": {},
   "source": [
    "Если попытаться сложить серию с датафрэймом, то сложение будет происходить по индексу и по колонке:"
   ]
  },
  {
   "cell_type": "code",
   "execution_count": 16,
   "id": "d7e32d65",
   "metadata": {},
   "outputs": [
    {
     "data": {
      "text/html": [
       "<div>\n",
       "<style scoped>\n",
       "    .dataframe tbody tr th:only-of-type {\n",
       "        vertical-align: middle;\n",
       "    }\n",
       "\n",
       "    .dataframe tbody tr th {\n",
       "        vertical-align: top;\n",
       "    }\n",
       "\n",
       "    .dataframe thead th {\n",
       "        text-align: right;\n",
       "    }\n",
       "</style>\n",
       "<table border=\"1\" class=\"dataframe\">\n",
       "  <thead>\n",
       "    <tr style=\"text-align: right;\">\n",
       "      <th></th>\n",
       "      <th>a</th>\n",
       "      <th>b</th>\n",
       "    </tr>\n",
       "  </thead>\n",
       "  <tbody>\n",
       "    <tr>\n",
       "      <th>Kazan</th>\n",
       "      <td>100</td>\n",
       "      <td>1</td>\n",
       "    </tr>\n",
       "    <tr>\n",
       "      <th>Vladivostok</th>\n",
       "      <td>200</td>\n",
       "      <td>2</td>\n",
       "    </tr>\n",
       "    <tr>\n",
       "      <th>Moscow</th>\n",
       "      <td>300</td>\n",
       "      <td>3</td>\n",
       "    </tr>\n",
       "  </tbody>\n",
       "</table>\n",
       "</div>"
      ],
      "text/plain": [
       "               a  b\n",
       "Kazan        100  1\n",
       "Vladivostok  200  2\n",
       "Moscow       300  3"
      ]
     },
     "execution_count": 16,
     "metadata": {},
     "output_type": "execute_result"
    }
   ],
   "source": [
    "import pandas as pd\n",
    "\n",
    "df3 = pd.DataFrame({'a':[100, 200, 300], \n",
    "                    'b': [1, 2, 3]}, index=['Kazan', 'Vladivostok','Moscow'])\n",
    "\n",
    "df3"
   ]
  },
  {
   "cell_type": "code",
   "execution_count": 17,
   "id": "b9f4517a",
   "metadata": {},
   "outputs": [
    {
     "data": {
      "text/plain": [
       "a    1\n",
       "b    2\n",
       "dtype: int64"
      ]
     },
     "execution_count": 17,
     "metadata": {},
     "output_type": "execute_result"
    }
   ],
   "source": [
    "s1 = pd.Series([1, 2], index=['a', 'b'])\n",
    "s1"
   ]
  },
  {
   "cell_type": "code",
   "execution_count": 18,
   "id": "e9f2ef6f",
   "metadata": {},
   "outputs": [
    {
     "data": {
      "text/html": [
       "<div>\n",
       "<style scoped>\n",
       "    .dataframe tbody tr th:only-of-type {\n",
       "        vertical-align: middle;\n",
       "    }\n",
       "\n",
       "    .dataframe tbody tr th {\n",
       "        vertical-align: top;\n",
       "    }\n",
       "\n",
       "    .dataframe thead th {\n",
       "        text-align: right;\n",
       "    }\n",
       "</style>\n",
       "<table border=\"1\" class=\"dataframe\">\n",
       "  <thead>\n",
       "    <tr style=\"text-align: right;\">\n",
       "      <th></th>\n",
       "      <th>a</th>\n",
       "      <th>b</th>\n",
       "    </tr>\n",
       "  </thead>\n",
       "  <tbody>\n",
       "    <tr>\n",
       "      <th>Kazan</th>\n",
       "      <td>101</td>\n",
       "      <td>3</td>\n",
       "    </tr>\n",
       "    <tr>\n",
       "      <th>Vladivostok</th>\n",
       "      <td>201</td>\n",
       "      <td>4</td>\n",
       "    </tr>\n",
       "    <tr>\n",
       "      <th>Moscow</th>\n",
       "      <td>301</td>\n",
       "      <td>5</td>\n",
       "    </tr>\n",
       "  </tbody>\n",
       "</table>\n",
       "</div>"
      ],
      "text/plain": [
       "               a  b\n",
       "Kazan        101  3\n",
       "Vladivostok  201  4\n",
       "Moscow       301  5"
      ]
     },
     "execution_count": 18,
     "metadata": {},
     "output_type": "execute_result"
    }
   ],
   "source": [
    "df3 + s1"
   ]
  },
  {
   "cell_type": "markdown",
   "id": "4e59d605",
   "metadata": {},
   "source": [
    "Если необходимо произвести сложение по строкам, а не по столбцам, можно использовать следующий способ:"
   ]
  },
  {
   "cell_type": "code",
   "execution_count": 23,
   "id": "e7a63d76",
   "metadata": {},
   "outputs": [
    {
     "data": {
      "text/html": [
       "<div>\n",
       "<style scoped>\n",
       "    .dataframe tbody tr th:only-of-type {\n",
       "        vertical-align: middle;\n",
       "    }\n",
       "\n",
       "    .dataframe tbody tr th {\n",
       "        vertical-align: top;\n",
       "    }\n",
       "\n",
       "    .dataframe thead th {\n",
       "        text-align: right;\n",
       "    }\n",
       "</style>\n",
       "<table border=\"1\" class=\"dataframe\">\n",
       "  <thead>\n",
       "    <tr style=\"text-align: right;\">\n",
       "      <th></th>\n",
       "      <th>a</th>\n",
       "      <th>b</th>\n",
       "    </tr>\n",
       "  </thead>\n",
       "  <tbody>\n",
       "    <tr>\n",
       "      <th>Kazan</th>\n",
       "      <td>101.0</td>\n",
       "      <td>2.0</td>\n",
       "    </tr>\n",
       "    <tr>\n",
       "      <th>Moscow</th>\n",
       "      <td>302.0</td>\n",
       "      <td>5.0</td>\n",
       "    </tr>\n",
       "    <tr>\n",
       "      <th>Vladivostok</th>\n",
       "      <td>NaN</td>\n",
       "      <td>NaN</td>\n",
       "    </tr>\n",
       "  </tbody>\n",
       "</table>\n",
       "</div>"
      ],
      "text/plain": [
       "                 a    b\n",
       "Kazan        101.0  2.0\n",
       "Moscow       302.0  5.0\n",
       "Vladivostok    NaN  NaN"
      ]
     },
     "execution_count": 23,
     "metadata": {},
     "output_type": "execute_result"
    }
   ],
   "source": [
    "s1 = pd.Series([1, 2], index=['Kazan', 'Moscow']) # меняем индексы на строчные\n",
    "\n",
    "df3.add(s1, axis=0)"
   ]
  },
  {
   "cell_type": "markdown",
   "id": "7e09a54a",
   "metadata": {},
   "source": [
    "**Сортировка Series**"
   ]
  },
  {
   "cell_type": "code",
   "execution_count": 152,
   "id": "46ceb6fe",
   "metadata": {},
   "outputs": [
    {
     "data": {
      "text/plain": [
       "c    1\n",
       "a   -2\n",
       "b    3\n",
       "d   -4\n",
       "dtype: int64"
      ]
     },
     "execution_count": 152,
     "metadata": {},
     "output_type": "execute_result"
    }
   ],
   "source": [
    "import pandas as pd\n",
    "\n",
    "s = pd.Series([1,-2,3,-4], index = ['c','a','b','d'])\n",
    "s"
   ]
  },
  {
   "cell_type": "code",
   "execution_count": 34,
   "id": "4d8409f4",
   "metadata": {},
   "outputs": [
    {
     "data": {
      "text/plain": [
       "d   -4\n",
       "c    1\n",
       "b    3\n",
       "a   -2\n",
       "dtype: int64"
      ]
     },
     "execution_count": 34,
     "metadata": {},
     "output_type": "execute_result"
    }
   ],
   "source": [
    "s.sort_index(ascending=False, inplace=True) # сортировка по индексу, по убыванию, изменяя серию\n",
    "s"
   ]
  },
  {
   "cell_type": "code",
   "execution_count": 37,
   "id": "0ec10a2f",
   "metadata": {},
   "outputs": [
    {
     "data": {
      "text/plain": [
       "d   -4\n",
       "a   -2\n",
       "c    1\n",
       "b    3\n",
       "dtype: int64"
      ]
     },
     "execution_count": 37,
     "metadata": {},
     "output_type": "execute_result"
    }
   ],
   "source": [
    "s.sort_values() # сортировка значений без аргументов"
   ]
  },
  {
   "cell_type": "markdown",
   "id": "d507ca21",
   "metadata": {},
   "source": [
    "**Сортировка DataFrame**"
   ]
  },
  {
   "cell_type": "markdown",
   "id": "db5177e5",
   "metadata": {},
   "source": [
    "Сортировка лэйблов производится по осям:"
   ]
  },
  {
   "cell_type": "code",
   "execution_count": 155,
   "id": "2c4584b3",
   "metadata": {},
   "outputs": [
    {
     "data": {
      "text/html": [
       "<div>\n",
       "<style scoped>\n",
       "    .dataframe tbody tr th:only-of-type {\n",
       "        vertical-align: middle;\n",
       "    }\n",
       "\n",
       "    .dataframe tbody tr th {\n",
       "        vertical-align: top;\n",
       "    }\n",
       "\n",
       "    .dataframe thead th {\n",
       "        text-align: right;\n",
       "    }\n",
       "</style>\n",
       "<table border=\"1\" class=\"dataframe\">\n",
       "  <thead>\n",
       "    <tr style=\"text-align: right;\">\n",
       "      <th></th>\n",
       "      <th>e</th>\n",
       "      <th>b</th>\n",
       "      <th>d</th>\n",
       "    </tr>\n",
       "  </thead>\n",
       "  <tbody>\n",
       "    <tr>\n",
       "      <th>e</th>\n",
       "      <td>9</td>\n",
       "      <td>10</td>\n",
       "      <td>11</td>\n",
       "    </tr>\n",
       "    <tr>\n",
       "      <th>d</th>\n",
       "      <td>6</td>\n",
       "      <td>7</td>\n",
       "      <td>8</td>\n",
       "    </tr>\n",
       "    <tr>\n",
       "      <th>c</th>\n",
       "      <td>3</td>\n",
       "      <td>4</td>\n",
       "      <td>5</td>\n",
       "    </tr>\n",
       "    <tr>\n",
       "      <th>a</th>\n",
       "      <td>0</td>\n",
       "      <td>1</td>\n",
       "      <td>2</td>\n",
       "    </tr>\n",
       "  </tbody>\n",
       "</table>\n",
       "</div>"
      ],
      "text/plain": [
       "   e   b   d\n",
       "e  9  10  11\n",
       "d  6   7   8\n",
       "c  3   4   5\n",
       "a  0   1   2"
      ]
     },
     "execution_count": 155,
     "metadata": {},
     "output_type": "execute_result"
    }
   ],
   "source": [
    "import pandas as pd\n",
    "\n",
    "df = pd.DataFrame(np.arange(12).reshape(4, 3), columns=list('ebd'), index=['a', 'c', 'd', 'e'])\n",
    "\n",
    "df.sort_index(ascending=False, axis=0, inplace=True) # сортировка по индексу, в обратном порядке, на месте\n",
    "\n",
    "df"
   ]
  },
  {
   "cell_type": "code",
   "execution_count": 156,
   "id": "4768a16e",
   "metadata": {},
   "outputs": [
    {
     "data": {
      "text/html": [
       "<div>\n",
       "<style scoped>\n",
       "    .dataframe tbody tr th:only-of-type {\n",
       "        vertical-align: middle;\n",
       "    }\n",
       "\n",
       "    .dataframe tbody tr th {\n",
       "        vertical-align: top;\n",
       "    }\n",
       "\n",
       "    .dataframe thead th {\n",
       "        text-align: right;\n",
       "    }\n",
       "</style>\n",
       "<table border=\"1\" class=\"dataframe\">\n",
       "  <thead>\n",
       "    <tr style=\"text-align: right;\">\n",
       "      <th></th>\n",
       "      <th>b</th>\n",
       "      <th>d</th>\n",
       "      <th>e</th>\n",
       "    </tr>\n",
       "  </thead>\n",
       "  <tbody>\n",
       "    <tr>\n",
       "      <th>e</th>\n",
       "      <td>10</td>\n",
       "      <td>11</td>\n",
       "      <td>9</td>\n",
       "    </tr>\n",
       "    <tr>\n",
       "      <th>d</th>\n",
       "      <td>7</td>\n",
       "      <td>8</td>\n",
       "      <td>6</td>\n",
       "    </tr>\n",
       "    <tr>\n",
       "      <th>c</th>\n",
       "      <td>4</td>\n",
       "      <td>5</td>\n",
       "      <td>3</td>\n",
       "    </tr>\n",
       "    <tr>\n",
       "      <th>a</th>\n",
       "      <td>1</td>\n",
       "      <td>2</td>\n",
       "      <td>0</td>\n",
       "    </tr>\n",
       "  </tbody>\n",
       "</table>\n",
       "</div>"
      ],
      "text/plain": [
       "    b   d  e\n",
       "e  10  11  9\n",
       "d   7   8  6\n",
       "c   4   5  3\n",
       "a   1   2  0"
      ]
     },
     "execution_count": 156,
     "metadata": {},
     "output_type": "execute_result"
    }
   ],
   "source": [
    "df.sort_index(axis=1) # сортировка по столбцу"
   ]
  },
  {
   "cell_type": "markdown",
   "id": "1a50aa85",
   "metadata": {},
   "source": [
    "Сортировка значений производится следующим образом:"
   ]
  },
  {
   "cell_type": "code",
   "execution_count": 100,
   "id": "2309022c",
   "metadata": {},
   "outputs": [
    {
     "data": {
      "text/html": [
       "<div>\n",
       "<style scoped>\n",
       "    .dataframe tbody tr th:only-of-type {\n",
       "        vertical-align: middle;\n",
       "    }\n",
       "\n",
       "    .dataframe tbody tr th {\n",
       "        vertical-align: top;\n",
       "    }\n",
       "\n",
       "    .dataframe thead th {\n",
       "        text-align: right;\n",
       "    }\n",
       "</style>\n",
       "<table border=\"1\" class=\"dataframe\">\n",
       "  <thead>\n",
       "    <tr style=\"text-align: right;\">\n",
       "      <th></th>\n",
       "      <th>name</th>\n",
       "      <th>age</th>\n",
       "      <th>clicks</th>\n",
       "      <th>balance</th>\n",
       "      <th>history</th>\n",
       "    </tr>\n",
       "  </thead>\n",
       "  <tbody>\n",
       "    <tr>\n",
       "      <th>a</th>\n",
       "      <td>Ivan</td>\n",
       "      <td>25</td>\n",
       "      <td>4</td>\n",
       "      <td>50</td>\n",
       "      <td>1</td>\n",
       "    </tr>\n",
       "    <tr>\n",
       "      <th>b</th>\n",
       "      <td>Petr</td>\n",
       "      <td>40</td>\n",
       "      <td>9</td>\n",
       "      <td>250</td>\n",
       "      <td>8</td>\n",
       "    </tr>\n",
       "    <tr>\n",
       "      <th>c</th>\n",
       "      <td>Nikolay</td>\n",
       "      <td>19</td>\n",
       "      <td>12</td>\n",
       "      <td>25</td>\n",
       "      <td>1</td>\n",
       "    </tr>\n",
       "    <tr>\n",
       "      <th>d</th>\n",
       "      <td>Sergey</td>\n",
       "      <td>33</td>\n",
       "      <td>6</td>\n",
       "      <td>115</td>\n",
       "      <td>6</td>\n",
       "    </tr>\n",
       "    <tr>\n",
       "      <th>e</th>\n",
       "      <td>Andrey</td>\n",
       "      <td>38</td>\n",
       "      <td>2</td>\n",
       "      <td>152</td>\n",
       "      <td>4</td>\n",
       "    </tr>\n",
       "    <tr>\n",
       "      <th>f</th>\n",
       "      <td>Ilya</td>\n",
       "      <td>20</td>\n",
       "      <td>18</td>\n",
       "      <td>15</td>\n",
       "      <td>2</td>\n",
       "    </tr>\n",
       "    <tr>\n",
       "      <th>g</th>\n",
       "      <td>Igor</td>\n",
       "      <td>19</td>\n",
       "      <td>2</td>\n",
       "      <td>10</td>\n",
       "      <td>1</td>\n",
       "    </tr>\n",
       "  </tbody>\n",
       "</table>\n",
       "</div>"
      ],
      "text/plain": [
       "      name  age  clicks  balance  history\n",
       "a     Ivan   25       4       50        1\n",
       "b     Petr   40       9      250        8\n",
       "c  Nikolay   19      12       25        1\n",
       "d   Sergey   33       6      115        6\n",
       "e   Andrey   38       2      152        4\n",
       "f     Ilya   20      18       15        2\n",
       "g     Igor   19       2       10        1"
      ]
     },
     "execution_count": 100,
     "metadata": {},
     "output_type": "execute_result"
    }
   ],
   "source": [
    "import pandas as pd\n",
    "\n",
    "data = [['Ivan', 25, 4, 50, 1], \n",
    "        ['Petr', 40, 9, 250, 8], \n",
    "        ['Nikolay', 19, 12, 25, 1], \n",
    "        ['Sergey', 33, 6, 115, 6],\n",
    "        ['Andrey', 38, 2, 152, 4],\n",
    "        ['Ilya', 20, 18, 15, 2],\n",
    "        ['Igor', 19, 2, 10, 1]]\n",
    "\n",
    "df = pd.DataFrame(data, columns=['name', 'age', 'clicks', 'balance', 'history'], index=list('abcdefg'))\n",
    "df"
   ]
  },
  {
   "cell_type": "code",
   "execution_count": 50,
   "id": "49e92ed8",
   "metadata": {},
   "outputs": [
    {
     "data": {
      "text/html": [
       "<div>\n",
       "<style scoped>\n",
       "    .dataframe tbody tr th:only-of-type {\n",
       "        vertical-align: middle;\n",
       "    }\n",
       "\n",
       "    .dataframe tbody tr th {\n",
       "        vertical-align: top;\n",
       "    }\n",
       "\n",
       "    .dataframe thead th {\n",
       "        text-align: right;\n",
       "    }\n",
       "</style>\n",
       "<table border=\"1\" class=\"dataframe\">\n",
       "  <thead>\n",
       "    <tr style=\"text-align: right;\">\n",
       "      <th></th>\n",
       "      <th>name</th>\n",
       "      <th>age</th>\n",
       "      <th>clicks</th>\n",
       "      <th>balance</th>\n",
       "      <th>history</th>\n",
       "    </tr>\n",
       "  </thead>\n",
       "  <tbody>\n",
       "    <tr>\n",
       "      <th>c</th>\n",
       "      <td>Nikolay</td>\n",
       "      <td>19</td>\n",
       "      <td>12</td>\n",
       "      <td>25</td>\n",
       "      <td>1</td>\n",
       "    </tr>\n",
       "    <tr>\n",
       "      <th>g</th>\n",
       "      <td>Igor</td>\n",
       "      <td>19</td>\n",
       "      <td>2</td>\n",
       "      <td>10</td>\n",
       "      <td>1</td>\n",
       "    </tr>\n",
       "    <tr>\n",
       "      <th>f</th>\n",
       "      <td>Ilya</td>\n",
       "      <td>20</td>\n",
       "      <td>18</td>\n",
       "      <td>15</td>\n",
       "      <td>2</td>\n",
       "    </tr>\n",
       "    <tr>\n",
       "      <th>a</th>\n",
       "      <td>Ivan</td>\n",
       "      <td>25</td>\n",
       "      <td>4</td>\n",
       "      <td>50</td>\n",
       "      <td>1</td>\n",
       "    </tr>\n",
       "    <tr>\n",
       "      <th>d</th>\n",
       "      <td>Sergey</td>\n",
       "      <td>33</td>\n",
       "      <td>6</td>\n",
       "      <td>115</td>\n",
       "      <td>6</td>\n",
       "    </tr>\n",
       "    <tr>\n",
       "      <th>e</th>\n",
       "      <td>Andrey</td>\n",
       "      <td>38</td>\n",
       "      <td>2</td>\n",
       "      <td>152</td>\n",
       "      <td>4</td>\n",
       "    </tr>\n",
       "    <tr>\n",
       "      <th>b</th>\n",
       "      <td>Petr</td>\n",
       "      <td>40</td>\n",
       "      <td>9</td>\n",
       "      <td>250</td>\n",
       "      <td>8</td>\n",
       "    </tr>\n",
       "  </tbody>\n",
       "</table>\n",
       "</div>"
      ],
      "text/plain": [
       "      name  age  clicks  balance  history\n",
       "c  Nikolay   19      12       25        1\n",
       "g     Igor   19       2       10        1\n",
       "f     Ilya   20      18       15        2\n",
       "a     Ivan   25       4       50        1\n",
       "d   Sergey   33       6      115        6\n",
       "e   Andrey   38       2      152        4\n",
       "b     Petr   40       9      250        8"
      ]
     },
     "execution_count": 50,
     "metadata": {},
     "output_type": "execute_result"
    }
   ],
   "source": [
    "df.sort_values(by='age') # по одной колонке"
   ]
  },
  {
   "cell_type": "code",
   "execution_count": 57,
   "id": "49016934",
   "metadata": {},
   "outputs": [
    {
     "data": {
      "text/html": [
       "<div>\n",
       "<style scoped>\n",
       "    .dataframe tbody tr th:only-of-type {\n",
       "        vertical-align: middle;\n",
       "    }\n",
       "\n",
       "    .dataframe tbody tr th {\n",
       "        vertical-align: top;\n",
       "    }\n",
       "\n",
       "    .dataframe thead th {\n",
       "        text-align: right;\n",
       "    }\n",
       "</style>\n",
       "<table border=\"1\" class=\"dataframe\">\n",
       "  <thead>\n",
       "    <tr style=\"text-align: right;\">\n",
       "      <th></th>\n",
       "      <th>name</th>\n",
       "      <th>age</th>\n",
       "      <th>clicks</th>\n",
       "      <th>balance</th>\n",
       "      <th>history</th>\n",
       "    </tr>\n",
       "  </thead>\n",
       "  <tbody>\n",
       "    <tr>\n",
       "      <th>b</th>\n",
       "      <td>Petr</td>\n",
       "      <td>40</td>\n",
       "      <td>9</td>\n",
       "      <td>250</td>\n",
       "      <td>8</td>\n",
       "    </tr>\n",
       "    <tr>\n",
       "      <th>e</th>\n",
       "      <td>Andrey</td>\n",
       "      <td>38</td>\n",
       "      <td>2</td>\n",
       "      <td>152</td>\n",
       "      <td>4</td>\n",
       "    </tr>\n",
       "    <tr>\n",
       "      <th>d</th>\n",
       "      <td>Sergey</td>\n",
       "      <td>33</td>\n",
       "      <td>6</td>\n",
       "      <td>115</td>\n",
       "      <td>6</td>\n",
       "    </tr>\n",
       "    <tr>\n",
       "      <th>a</th>\n",
       "      <td>Ivan</td>\n",
       "      <td>25</td>\n",
       "      <td>4</td>\n",
       "      <td>50</td>\n",
       "      <td>1</td>\n",
       "    </tr>\n",
       "    <tr>\n",
       "      <th>f</th>\n",
       "      <td>Ilya</td>\n",
       "      <td>20</td>\n",
       "      <td>18</td>\n",
       "      <td>15</td>\n",
       "      <td>2</td>\n",
       "    </tr>\n",
       "    <tr>\n",
       "      <th>c</th>\n",
       "      <td>Nikolay</td>\n",
       "      <td>19</td>\n",
       "      <td>12</td>\n",
       "      <td>25</td>\n",
       "      <td>1</td>\n",
       "    </tr>\n",
       "    <tr>\n",
       "      <th>g</th>\n",
       "      <td>Igor</td>\n",
       "      <td>19</td>\n",
       "      <td>2</td>\n",
       "      <td>10</td>\n",
       "      <td>1</td>\n",
       "    </tr>\n",
       "  </tbody>\n",
       "</table>\n",
       "</div>"
      ],
      "text/plain": [
       "      name  age  clicks  balance  history\n",
       "b     Petr   40       9      250        8\n",
       "e   Andrey   38       2      152        4\n",
       "d   Sergey   33       6      115        6\n",
       "a     Ivan   25       4       50        1\n",
       "f     Ilya   20      18       15        2\n",
       "c  Nikolay   19      12       25        1\n",
       "g     Igor   19       2       10        1"
      ]
     },
     "execution_count": 57,
     "metadata": {},
     "output_type": "execute_result"
    }
   ],
   "source": [
    "df.sort_values(by=['age', 'balance'], ascending=False) # по двум колонкам"
   ]
  },
  {
   "cell_type": "code",
   "execution_count": 93,
   "id": "99a38204",
   "metadata": {},
   "outputs": [
    {
     "data": {
      "text/plain": [
       "True"
      ]
     },
     "execution_count": 93,
     "metadata": {},
     "output_type": "execute_result"
    }
   ],
   "source": [
    "df.index.is_unique # позволяет проверить все ли индексы уникальны в датафрэйме"
   ]
  },
  {
   "cell_type": "markdown",
   "id": "23a909fd",
   "metadata": {},
   "source": [
    "## 3.12 Описательные статистики. Уникальные значения"
   ]
  },
  {
   "cell_type": "code",
   "execution_count": 104,
   "id": "3f6641c5",
   "metadata": {},
   "outputs": [
    {
     "data": {
      "text/html": [
       "<div>\n",
       "<style scoped>\n",
       "    .dataframe tbody tr th:only-of-type {\n",
       "        vertical-align: middle;\n",
       "    }\n",
       "\n",
       "    .dataframe tbody tr th {\n",
       "        vertical-align: top;\n",
       "    }\n",
       "\n",
       "    .dataframe thead th {\n",
       "        text-align: right;\n",
       "    }\n",
       "</style>\n",
       "<table border=\"1\" class=\"dataframe\">\n",
       "  <thead>\n",
       "    <tr style=\"text-align: right;\">\n",
       "      <th></th>\n",
       "      <th>visits_2021</th>\n",
       "      <th>visits_2020</th>\n",
       "      <th>visits_2019</th>\n",
       "    </tr>\n",
       "  </thead>\n",
       "  <tbody>\n",
       "    <tr>\n",
       "      <th>Moscow</th>\n",
       "      <td>100</td>\n",
       "      <td>90.0</td>\n",
       "      <td>10.0</td>\n",
       "    </tr>\n",
       "    <tr>\n",
       "      <th>Kazan</th>\n",
       "      <td>200</td>\n",
       "      <td>100.0</td>\n",
       "      <td>NaN</td>\n",
       "    </tr>\n",
       "    <tr>\n",
       "      <th>Ufa</th>\n",
       "      <td>300</td>\n",
       "      <td>NaN</td>\n",
       "      <td>20.0</td>\n",
       "    </tr>\n",
       "    <tr>\n",
       "      <th>Yakutsk</th>\n",
       "      <td>50</td>\n",
       "      <td>10.0</td>\n",
       "      <td>16.0</td>\n",
       "    </tr>\n",
       "    <tr>\n",
       "      <th>Novosibirsk</th>\n",
       "      <td>40</td>\n",
       "      <td>80.0</td>\n",
       "      <td>80.0</td>\n",
       "    </tr>\n",
       "  </tbody>\n",
       "</table>\n",
       "</div>"
      ],
      "text/plain": [
       "             visits_2021  visits_2020  visits_2019\n",
       "Moscow               100         90.0         10.0\n",
       "Kazan                200        100.0          NaN\n",
       "Ufa                  300          NaN         20.0\n",
       "Yakutsk               50         10.0         16.0\n",
       "Novosibirsk           40         80.0         80.0"
      ]
     },
     "execution_count": 104,
     "metadata": {},
     "output_type": "execute_result"
    }
   ],
   "source": [
    "import pandas as pd\n",
    "\n",
    "df = pd.DataFrame({'visits_2021' : [100, 200, 300, 50, 40],\n",
    "                   'visits_2020' : [90, 100, np.nan, 10, 80],\n",
    "                   'visits_2019' : [10, np.nan, 20, 16, 80]}, index=['Moscow', 'Kazan', 'Ufa', 'Yakutsk', 'Novosibirsk'])\n",
    "\n",
    "df"
   ]
  },
  {
   "cell_type": "code",
   "execution_count": 105,
   "id": "0aa8fc70",
   "metadata": {},
   "outputs": [
    {
     "data": {
      "text/plain": [
       "visits_2021    690.0\n",
       "visits_2020    280.0\n",
       "visits_2019    126.0\n",
       "dtype: float64"
      ]
     },
     "execution_count": 105,
     "metadata": {},
     "output_type": "execute_result"
    }
   ],
   "source": [
    "df.sum() # сумма по каждому столбцу"
   ]
  },
  {
   "cell_type": "code",
   "execution_count": 106,
   "id": "4ea23d9d",
   "metadata": {},
   "outputs": [
    {
     "data": {
      "text/plain": [
       "Moscow         200.0\n",
       "Kazan          300.0\n",
       "Ufa            320.0\n",
       "Yakutsk         76.0\n",
       "Novosibirsk    200.0\n",
       "dtype: float64"
      ]
     },
     "execution_count": 106,
     "metadata": {},
     "output_type": "execute_result"
    }
   ],
   "source": [
    "df.sum(axis=1) # сумма по строкам"
   ]
  },
  {
   "cell_type": "code",
   "execution_count": 107,
   "id": "3f76f922",
   "metadata": {},
   "outputs": [
    {
     "data": {
      "text/plain": [
       "visits_2021    138.0\n",
       "visits_2020     70.0\n",
       "visits_2019     31.5\n",
       "dtype: float64"
      ]
     },
     "execution_count": 107,
     "metadata": {},
     "output_type": "execute_result"
    }
   ],
   "source": [
    "df.mean() # среднее значение по каждому столбцу"
   ]
  },
  {
   "cell_type": "code",
   "execution_count": 109,
   "id": "844dfe4a",
   "metadata": {},
   "outputs": [
    {
     "data": {
      "text/plain": [
       "Moscow          66.666667\n",
       "Kazan          150.000000\n",
       "Ufa            160.000000\n",
       "Yakutsk         25.333333\n",
       "Novosibirsk     66.666667\n",
       "dtype: float64"
      ]
     },
     "execution_count": 109,
     "metadata": {},
     "output_type": "execute_result"
    }
   ],
   "source": [
    "df.mean(axis=1) # среднее значение по строкам"
   ]
  },
  {
   "cell_type": "code",
   "execution_count": 113,
   "id": "8c2b4f32",
   "metadata": {},
   "outputs": [
    {
     "data": {
      "text/plain": [
       "Moscow         66.666667\n",
       "Kazan                NaN\n",
       "Ufa                  NaN\n",
       "Yakutsk        25.333333\n",
       "Novosibirsk    66.666667\n",
       "dtype: float64"
      ]
     },
     "execution_count": 113,
     "metadata": {},
     "output_type": "execute_result"
    }
   ],
   "source": [
    "df.mean(axis=1, skipna=False) # с учетом NaN"
   ]
  },
  {
   "cell_type": "code",
   "execution_count": 116,
   "id": "da5f703e",
   "metadata": {},
   "outputs": [
    {
     "data": {
      "text/plain": [
       "visits_2021    40.0\n",
       "visits_2020    10.0\n",
       "visits_2019    10.0\n",
       "dtype: float64"
      ]
     },
     "execution_count": 116,
     "metadata": {},
     "output_type": "execute_result"
    }
   ],
   "source": [
    "df.min() # минимальное значение по столбцам"
   ]
  },
  {
   "cell_type": "code",
   "execution_count": 118,
   "id": "e5fdf6b6",
   "metadata": {},
   "outputs": [
    {
     "data": {
      "text/plain": [
       "Moscow         100.0\n",
       "Kazan          200.0\n",
       "Ufa            300.0\n",
       "Yakutsk         50.0\n",
       "Novosibirsk     80.0\n",
       "dtype: float64"
      ]
     },
     "execution_count": 118,
     "metadata": {},
     "output_type": "execute_result"
    }
   ],
   "source": [
    "df.max(axis=1) # максимальное значение по строкам"
   ]
  },
  {
   "cell_type": "code",
   "execution_count": 121,
   "id": "8e6338ef",
   "metadata": {},
   "outputs": [
    {
     "data": {
      "text/html": [
       "<div>\n",
       "<style scoped>\n",
       "    .dataframe tbody tr th:only-of-type {\n",
       "        vertical-align: middle;\n",
       "    }\n",
       "\n",
       "    .dataframe tbody tr th {\n",
       "        vertical-align: top;\n",
       "    }\n",
       "\n",
       "    .dataframe thead th {\n",
       "        text-align: right;\n",
       "    }\n",
       "</style>\n",
       "<table border=\"1\" class=\"dataframe\">\n",
       "  <thead>\n",
       "    <tr style=\"text-align: right;\">\n",
       "      <th></th>\n",
       "      <th>visits_2021</th>\n",
       "      <th>visits_2020</th>\n",
       "      <th>visits_2019</th>\n",
       "    </tr>\n",
       "  </thead>\n",
       "  <tbody>\n",
       "    <tr>\n",
       "      <th>count</th>\n",
       "      <td>5.000000</td>\n",
       "      <td>4.000000</td>\n",
       "      <td>4.000000</td>\n",
       "    </tr>\n",
       "    <tr>\n",
       "      <th>mean</th>\n",
       "      <td>138.000000</td>\n",
       "      <td>70.000000</td>\n",
       "      <td>31.500000</td>\n",
       "    </tr>\n",
       "    <tr>\n",
       "      <th>std</th>\n",
       "      <td>110.544109</td>\n",
       "      <td>40.824829</td>\n",
       "      <td>32.593455</td>\n",
       "    </tr>\n",
       "    <tr>\n",
       "      <th>min</th>\n",
       "      <td>40.000000</td>\n",
       "      <td>10.000000</td>\n",
       "      <td>10.000000</td>\n",
       "    </tr>\n",
       "    <tr>\n",
       "      <th>25%</th>\n",
       "      <td>50.000000</td>\n",
       "      <td>62.500000</td>\n",
       "      <td>14.500000</td>\n",
       "    </tr>\n",
       "    <tr>\n",
       "      <th>50%</th>\n",
       "      <td>100.000000</td>\n",
       "      <td>85.000000</td>\n",
       "      <td>18.000000</td>\n",
       "    </tr>\n",
       "    <tr>\n",
       "      <th>75%</th>\n",
       "      <td>200.000000</td>\n",
       "      <td>92.500000</td>\n",
       "      <td>35.000000</td>\n",
       "    </tr>\n",
       "    <tr>\n",
       "      <th>max</th>\n",
       "      <td>300.000000</td>\n",
       "      <td>100.000000</td>\n",
       "      <td>80.000000</td>\n",
       "    </tr>\n",
       "  </tbody>\n",
       "</table>\n",
       "</div>"
      ],
      "text/plain": [
       "       visits_2021  visits_2020  visits_2019\n",
       "count     5.000000     4.000000     4.000000\n",
       "mean    138.000000    70.000000    31.500000\n",
       "std     110.544109    40.824829    32.593455\n",
       "min      40.000000    10.000000    10.000000\n",
       "25%      50.000000    62.500000    14.500000\n",
       "50%     100.000000    85.000000    18.000000\n",
       "75%     200.000000    92.500000    35.000000\n",
       "max     300.000000   100.000000    80.000000"
      ]
     },
     "execution_count": 121,
     "metadata": {},
     "output_type": "execute_result"
    }
   ],
   "source": [
    "df.describe() # описательная статистика по столбцам"
   ]
  },
  {
   "cell_type": "code",
   "execution_count": 122,
   "id": "bc5732bb",
   "metadata": {},
   "outputs": [
    {
     "data": {
      "text/html": [
       "<div>\n",
       "<style scoped>\n",
       "    .dataframe tbody tr th:only-of-type {\n",
       "        vertical-align: middle;\n",
       "    }\n",
       "\n",
       "    .dataframe tbody tr th {\n",
       "        vertical-align: top;\n",
       "    }\n",
       "\n",
       "    .dataframe thead th {\n",
       "        text-align: right;\n",
       "    }\n",
       "</style>\n",
       "<table border=\"1\" class=\"dataframe\">\n",
       "  <thead>\n",
       "    <tr style=\"text-align: right;\">\n",
       "      <th></th>\n",
       "      <th>Moscow</th>\n",
       "      <th>Kazan</th>\n",
       "      <th>Ufa</th>\n",
       "      <th>Yakutsk</th>\n",
       "      <th>Novosibirsk</th>\n",
       "    </tr>\n",
       "  </thead>\n",
       "  <tbody>\n",
       "    <tr>\n",
       "      <th>count</th>\n",
       "      <td>3.000000</td>\n",
       "      <td>2.000000</td>\n",
       "      <td>2.000000</td>\n",
       "      <td>3.000000</td>\n",
       "      <td>3.000000</td>\n",
       "    </tr>\n",
       "    <tr>\n",
       "      <th>mean</th>\n",
       "      <td>66.666667</td>\n",
       "      <td>150.000000</td>\n",
       "      <td>160.000000</td>\n",
       "      <td>25.333333</td>\n",
       "      <td>66.666667</td>\n",
       "    </tr>\n",
       "    <tr>\n",
       "      <th>std</th>\n",
       "      <td>49.328829</td>\n",
       "      <td>70.710678</td>\n",
       "      <td>197.989899</td>\n",
       "      <td>21.571586</td>\n",
       "      <td>23.094011</td>\n",
       "    </tr>\n",
       "    <tr>\n",
       "      <th>min</th>\n",
       "      <td>10.000000</td>\n",
       "      <td>100.000000</td>\n",
       "      <td>20.000000</td>\n",
       "      <td>10.000000</td>\n",
       "      <td>40.000000</td>\n",
       "    </tr>\n",
       "    <tr>\n",
       "      <th>25%</th>\n",
       "      <td>50.000000</td>\n",
       "      <td>125.000000</td>\n",
       "      <td>90.000000</td>\n",
       "      <td>13.000000</td>\n",
       "      <td>60.000000</td>\n",
       "    </tr>\n",
       "    <tr>\n",
       "      <th>50%</th>\n",
       "      <td>90.000000</td>\n",
       "      <td>150.000000</td>\n",
       "      <td>160.000000</td>\n",
       "      <td>16.000000</td>\n",
       "      <td>80.000000</td>\n",
       "    </tr>\n",
       "    <tr>\n",
       "      <th>75%</th>\n",
       "      <td>95.000000</td>\n",
       "      <td>175.000000</td>\n",
       "      <td>230.000000</td>\n",
       "      <td>33.000000</td>\n",
       "      <td>80.000000</td>\n",
       "    </tr>\n",
       "    <tr>\n",
       "      <th>max</th>\n",
       "      <td>100.000000</td>\n",
       "      <td>200.000000</td>\n",
       "      <td>300.000000</td>\n",
       "      <td>50.000000</td>\n",
       "      <td>80.000000</td>\n",
       "    </tr>\n",
       "  </tbody>\n",
       "</table>\n",
       "</div>"
      ],
      "text/plain": [
       "           Moscow       Kazan         Ufa    Yakutsk  Novosibirsk\n",
       "count    3.000000    2.000000    2.000000   3.000000     3.000000\n",
       "mean    66.666667  150.000000  160.000000  25.333333    66.666667\n",
       "std     49.328829   70.710678  197.989899  21.571586    23.094011\n",
       "min     10.000000  100.000000   20.000000  10.000000    40.000000\n",
       "25%     50.000000  125.000000   90.000000  13.000000    60.000000\n",
       "50%     90.000000  150.000000  160.000000  16.000000    80.000000\n",
       "75%     95.000000  175.000000  230.000000  33.000000    80.000000\n",
       "max    100.000000  200.000000  300.000000  50.000000    80.000000"
      ]
     },
     "execution_count": 122,
     "metadata": {},
     "output_type": "execute_result"
    }
   ],
   "source": [
    "df.T.describe() # описательная статистика по строкам"
   ]
  },
  {
   "cell_type": "code",
   "execution_count": 124,
   "id": "871490d3",
   "metadata": {},
   "outputs": [
    {
     "data": {
      "text/html": [
       "<div>\n",
       "<style scoped>\n",
       "    .dataframe tbody tr th:only-of-type {\n",
       "        vertical-align: middle;\n",
       "    }\n",
       "\n",
       "    .dataframe tbody tr th {\n",
       "        vertical-align: top;\n",
       "    }\n",
       "\n",
       "    .dataframe thead th {\n",
       "        text-align: right;\n",
       "    }\n",
       "</style>\n",
       "<table border=\"1\" class=\"dataframe\">\n",
       "  <thead>\n",
       "    <tr style=\"text-align: right;\">\n",
       "      <th></th>\n",
       "      <th>visits_2021</th>\n",
       "      <th>visits_2020</th>\n",
       "      <th>visits_2019</th>\n",
       "    </tr>\n",
       "  </thead>\n",
       "  <tbody>\n",
       "    <tr>\n",
       "      <th>Moscow</th>\n",
       "      <td>100</td>\n",
       "      <td>90.0</td>\n",
       "      <td>10.0</td>\n",
       "    </tr>\n",
       "    <tr>\n",
       "      <th>Kazan</th>\n",
       "      <td>200</td>\n",
       "      <td>100.0</td>\n",
       "      <td>NaN</td>\n",
       "    </tr>\n",
       "    <tr>\n",
       "      <th>Ufa</th>\n",
       "      <td>300</td>\n",
       "      <td>NaN</td>\n",
       "      <td>20.0</td>\n",
       "    </tr>\n",
       "    <tr>\n",
       "      <th>Yakutsk</th>\n",
       "      <td>50</td>\n",
       "      <td>10.0</td>\n",
       "      <td>16.0</td>\n",
       "    </tr>\n",
       "    <tr>\n",
       "      <th>Novosibirsk</th>\n",
       "      <td>40</td>\n",
       "      <td>80.0</td>\n",
       "      <td>80.0</td>\n",
       "    </tr>\n",
       "  </tbody>\n",
       "</table>\n",
       "</div>"
      ],
      "text/plain": [
       "             visits_2021  visits_2020  visits_2019\n",
       "Moscow               100         90.0         10.0\n",
       "Kazan                200        100.0          NaN\n",
       "Ufa                  300          NaN         20.0\n",
       "Yakutsk               50         10.0         16.0\n",
       "Novosibirsk           40         80.0         80.0"
      ]
     },
     "execution_count": 124,
     "metadata": {},
     "output_type": "execute_result"
    }
   ],
   "source": [
    "import numpy as np\n",
    "\n",
    "np.abs(df) # по модулю"
   ]
  },
  {
   "cell_type": "markdown",
   "id": "8a03c8a1",
   "metadata": {},
   "source": [
    "Функция **describe** применима и к Series"
   ]
  },
  {
   "cell_type": "code",
   "execution_count": 129,
   "id": "7f10a6a5",
   "metadata": {},
   "outputs": [
    {
     "data": {
      "text/plain": [
       "count     5\n",
       "unique    3\n",
       "top       a\n",
       "freq      3\n",
       "dtype: object"
      ]
     },
     "execution_count": 129,
     "metadata": {},
     "output_type": "execute_result"
    }
   ],
   "source": [
    "s = pd.Series(['a', 'b', 'a', 'c', 'a'])\n",
    "s.describe()"
   ]
  },
  {
   "cell_type": "code",
   "execution_count": 132,
   "id": "df60aed7",
   "metadata": {},
   "outputs": [
    {
     "data": {
      "text/plain": [
       "array(['a', 'b', 'c'], dtype=object)"
      ]
     },
     "execution_count": 132,
     "metadata": {},
     "output_type": "execute_result"
    }
   ],
   "source": [
    "s.unique() # позволяет вытянуть только уникальным элементы"
   ]
  },
  {
   "cell_type": "code",
   "execution_count": 135,
   "id": "ecbdf33f",
   "metadata": {},
   "outputs": [
    {
     "data": {
      "text/plain": [
       "a    3\n",
       "b    1\n",
       "c    1\n",
       "Name: count, dtype: int64"
      ]
     },
     "execution_count": 135,
     "metadata": {},
     "output_type": "execute_result"
    }
   ],
   "source": [
    "s.value_counts() # количество значений в каждом уникальном значении"
   ]
  },
  {
   "cell_type": "code",
   "execution_count": 139,
   "id": "f6fe475a",
   "metadata": {},
   "outputs": [
    {
     "data": {
      "text/plain": [
       "0     True\n",
       "1    False\n",
       "2     True\n",
       "3    False\n",
       "4     True\n",
       "dtype: bool"
      ]
     },
     "execution_count": 139,
     "metadata": {},
     "output_type": "execute_result"
    }
   ],
   "source": [
    "s.isin(['a']) # проверка вхождения значений"
   ]
  },
  {
   "cell_type": "markdown",
   "id": "f3bd4a8e",
   "metadata": {},
   "source": [
    "## 4.1 Что такое формат CSV и как его приручить?"
   ]
  },
  {
   "cell_type": "code",
   "execution_count": 2,
   "id": "a8450acb",
   "metadata": {},
   "outputs": [
    {
     "data": {
      "text/html": [
       "<div>\n",
       "<style scoped>\n",
       "    .dataframe tbody tr th:only-of-type {\n",
       "        vertical-align: middle;\n",
       "    }\n",
       "\n",
       "    .dataframe tbody tr th {\n",
       "        vertical-align: top;\n",
       "    }\n",
       "\n",
       "    .dataframe thead th {\n",
       "        text-align: right;\n",
       "    }\n",
       "</style>\n",
       "<table border=\"1\" class=\"dataframe\">\n",
       "  <thead>\n",
       "    <tr style=\"text-align: right;\">\n",
       "      <th></th>\n",
       "      <th>a</th>\n",
       "      <th>b</th>\n",
       "      <th>c</th>\n",
       "    </tr>\n",
       "  </thead>\n",
       "  <tbody>\n",
       "    <tr>\n",
       "      <th>0</th>\n",
       "      <td>1</td>\n",
       "      <td>2</td>\n",
       "      <td>3</td>\n",
       "    </tr>\n",
       "    <tr>\n",
       "      <th>1</th>\n",
       "      <td>4</td>\n",
       "      <td>5</td>\n",
       "      <td>6</td>\n",
       "    </tr>\n",
       "    <tr>\n",
       "      <th>2</th>\n",
       "      <td>7</td>\n",
       "      <td>8</td>\n",
       "      <td>9</td>\n",
       "    </tr>\n",
       "  </tbody>\n",
       "</table>\n",
       "</div>"
      ],
      "text/plain": [
       "   a  b  c\n",
       "0  1  2  3\n",
       "1  4  5  6\n",
       "2  7  8  9"
      ]
     },
     "execution_count": 2,
     "metadata": {},
     "output_type": "execute_result"
    }
   ],
   "source": [
    "import pandas as pd\n",
    "import numpy as np\n",
    "\n",
    "df = pd.read_csv('example.csv') # чтение файла и создание датафрэйма\n",
    "\n",
    "df"
   ]
  },
  {
   "cell_type": "markdown",
   "id": "4c6a55f7",
   "metadata": {},
   "source": [
    "Если файл лежит отдельно от программы:"
   ]
  },
  {
   "cell_type": "code",
   "execution_count": 5,
   "id": "0bec0200",
   "metadata": {},
   "outputs": [
    {
     "data": {
      "text/html": [
       "<div>\n",
       "<style scoped>\n",
       "    .dataframe tbody tr th:only-of-type {\n",
       "        vertical-align: middle;\n",
       "    }\n",
       "\n",
       "    .dataframe tbody tr th {\n",
       "        vertical-align: top;\n",
       "    }\n",
       "\n",
       "    .dataframe thead th {\n",
       "        text-align: right;\n",
       "    }\n",
       "</style>\n",
       "<table border=\"1\" class=\"dataframe\">\n",
       "  <thead>\n",
       "    <tr style=\"text-align: right;\">\n",
       "      <th></th>\n",
       "      <th>a</th>\n",
       "      <th>b</th>\n",
       "      <th>c</th>\n",
       "    </tr>\n",
       "  </thead>\n",
       "  <tbody>\n",
       "    <tr>\n",
       "      <th>0</th>\n",
       "      <td>vadim</td>\n",
       "      <td>rudman</td>\n",
       "      <td>10</td>\n",
       "    </tr>\n",
       "    <tr>\n",
       "      <th>1</th>\n",
       "      <td>veronika</td>\n",
       "      <td>rudman</td>\n",
       "      <td>10</td>\n",
       "    </tr>\n",
       "  </tbody>\n",
       "</table>\n",
       "</div>"
      ],
      "text/plain": [
       "          a        b   c\n",
       "0     vadim   rudman  10\n",
       "1  veronika   rudman  10"
      ]
     },
     "execution_count": 5,
     "metadata": {},
     "output_type": "execute_result"
    }
   ],
   "source": [
    "df2 = pd.read_csv(r'C:\\Users\\Vadim\\Downloads\\example2.csv')\n",
    "\n",
    "df2"
   ]
  },
  {
   "cell_type": "markdown",
   "id": "e1a6b842",
   "metadata": {},
   "source": [
    "Если разделитель другой:"
   ]
  },
  {
   "cell_type": "code",
   "execution_count": 12,
   "id": "add92c07",
   "metadata": {},
   "outputs": [
    {
     "data": {
      "text/html": [
       "<div>\n",
       "<style scoped>\n",
       "    .dataframe tbody tr th:only-of-type {\n",
       "        vertical-align: middle;\n",
       "    }\n",
       "\n",
       "    .dataframe tbody tr th {\n",
       "        vertical-align: top;\n",
       "    }\n",
       "\n",
       "    .dataframe thead th {\n",
       "        text-align: right;\n",
       "    }\n",
       "</style>\n",
       "<table border=\"1\" class=\"dataframe\">\n",
       "  <thead>\n",
       "    <tr style=\"text-align: right;\">\n",
       "      <th></th>\n",
       "      <th>a</th>\n",
       "      <th>b</th>\n",
       "      <th>c</th>\n",
       "    </tr>\n",
       "  </thead>\n",
       "  <tbody>\n",
       "    <tr>\n",
       "      <th>0</th>\n",
       "      <td>1</td>\n",
       "      <td>2</td>\n",
       "      <td>3</td>\n",
       "    </tr>\n",
       "    <tr>\n",
       "      <th>1</th>\n",
       "      <td>4</td>\n",
       "      <td>5</td>\n",
       "      <td>6</td>\n",
       "    </tr>\n",
       "    <tr>\n",
       "      <th>2</th>\n",
       "      <td>7</td>\n",
       "      <td>8</td>\n",
       "      <td>9</td>\n",
       "    </tr>\n",
       "  </tbody>\n",
       "</table>\n",
       "</div>"
      ],
      "text/plain": [
       "   a  b  c\n",
       "0  1  2  3\n",
       "1  4  5  6\n",
       "2  7  8  9"
      ]
     },
     "execution_count": 12,
     "metadata": {},
     "output_type": "execute_result"
    }
   ],
   "source": [
    "df3 = pd.read_csv(r'C:\\Users\\Vadim\\Downloads\\example3.csv', sep=';')\n",
    "\n",
    "df3"
   ]
  },
  {
   "cell_type": "markdown",
   "id": "600d3d28",
   "metadata": {},
   "source": [
    "Если отсутствует заголовок можно использовать аругмент **header**"
   ]
  },
  {
   "cell_type": "code",
   "execution_count": 16,
   "id": "7d4fbbde",
   "metadata": {},
   "outputs": [
    {
     "data": {
      "text/html": [
       "<div>\n",
       "<style scoped>\n",
       "    .dataframe tbody tr th:only-of-type {\n",
       "        vertical-align: middle;\n",
       "    }\n",
       "\n",
       "    .dataframe tbody tr th {\n",
       "        vertical-align: top;\n",
       "    }\n",
       "\n",
       "    .dataframe thead th {\n",
       "        text-align: right;\n",
       "    }\n",
       "</style>\n",
       "<table border=\"1\" class=\"dataframe\">\n",
       "  <thead>\n",
       "    <tr style=\"text-align: right;\">\n",
       "      <th></th>\n",
       "      <th>0</th>\n",
       "      <th>1</th>\n",
       "      <th>2</th>\n",
       "    </tr>\n",
       "  </thead>\n",
       "  <tbody>\n",
       "    <tr>\n",
       "      <th>0</th>\n",
       "      <td>a</td>\n",
       "      <td>b</td>\n",
       "      <td>c</td>\n",
       "    </tr>\n",
       "    <tr>\n",
       "      <th>1</th>\n",
       "      <td>1</td>\n",
       "      <td>2</td>\n",
       "      <td>3</td>\n",
       "    </tr>\n",
       "    <tr>\n",
       "      <th>2</th>\n",
       "      <td>4</td>\n",
       "      <td>5</td>\n",
       "      <td>6</td>\n",
       "    </tr>\n",
       "    <tr>\n",
       "      <th>3</th>\n",
       "      <td>7</td>\n",
       "      <td>8</td>\n",
       "      <td>9</td>\n",
       "    </tr>\n",
       "  </tbody>\n",
       "</table>\n",
       "</div>"
      ],
      "text/plain": [
       "   0  1  2\n",
       "0  a  b  c\n",
       "1  1  2  3\n",
       "2  4  5  6\n",
       "3  7  8  9"
      ]
     },
     "execution_count": 16,
     "metadata": {},
     "output_type": "execute_result"
    }
   ],
   "source": [
    "df4 = pd.read_csv(r'C:\\Users\\Vadim\\Downloads\\example3.csv', sep=';', header=None)\n",
    "\n",
    "df4"
   ]
  },
  {
   "cell_type": "markdown",
   "id": "77ce7088",
   "metadata": {},
   "source": [
    "Аргумент **names** позволяет изменить название колонок сразу при чтении файла"
   ]
  },
  {
   "cell_type": "code",
   "execution_count": 17,
   "id": "2dc4bce8",
   "metadata": {},
   "outputs": [
    {
     "data": {
      "text/html": [
       "<div>\n",
       "<style scoped>\n",
       "    .dataframe tbody tr th:only-of-type {\n",
       "        vertical-align: middle;\n",
       "    }\n",
       "\n",
       "    .dataframe tbody tr th {\n",
       "        vertical-align: top;\n",
       "    }\n",
       "\n",
       "    .dataframe thead th {\n",
       "        text-align: right;\n",
       "    }\n",
       "</style>\n",
       "<table border=\"1\" class=\"dataframe\">\n",
       "  <thead>\n",
       "    <tr style=\"text-align: right;\">\n",
       "      <th></th>\n",
       "      <th>one</th>\n",
       "      <th>two</th>\n",
       "      <th>three</th>\n",
       "    </tr>\n",
       "  </thead>\n",
       "  <tbody>\n",
       "    <tr>\n",
       "      <th>0</th>\n",
       "      <td>a</td>\n",
       "      <td>b</td>\n",
       "      <td>c</td>\n",
       "    </tr>\n",
       "    <tr>\n",
       "      <th>1</th>\n",
       "      <td>1</td>\n",
       "      <td>2</td>\n",
       "      <td>3</td>\n",
       "    </tr>\n",
       "    <tr>\n",
       "      <th>2</th>\n",
       "      <td>4</td>\n",
       "      <td>5</td>\n",
       "      <td>6</td>\n",
       "    </tr>\n",
       "    <tr>\n",
       "      <th>3</th>\n",
       "      <td>7</td>\n",
       "      <td>8</td>\n",
       "      <td>9</td>\n",
       "    </tr>\n",
       "  </tbody>\n",
       "</table>\n",
       "</div>"
      ],
      "text/plain": [
       "  one two three\n",
       "0   a   b     c\n",
       "1   1   2     3\n",
       "2   4   5     6\n",
       "3   7   8     9"
      ]
     },
     "execution_count": 17,
     "metadata": {},
     "output_type": "execute_result"
    }
   ],
   "source": [
    "df4 = pd.read_csv(r'C:\\Users\\Vadim\\Downloads\\example3.csv', sep=';', names=['one', 'two', 'three'])\n",
    "\n",
    "df4"
   ]
  },
  {
   "cell_type": "markdown",
   "id": "5a03ae1f",
   "metadata": {},
   "source": [
    "## Задачи урока 4.1"
   ]
  },
  {
   "cell_type": "code",
   "execution_count": 3,
   "id": "c247e85a",
   "metadata": {},
   "outputs": [
    {
     "data": {
      "text/html": [
       "<div>\n",
       "<style scoped>\n",
       "    .dataframe tbody tr th:only-of-type {\n",
       "        vertical-align: middle;\n",
       "    }\n",
       "\n",
       "    .dataframe tbody tr th {\n",
       "        vertical-align: top;\n",
       "    }\n",
       "\n",
       "    .dataframe thead th {\n",
       "        text-align: right;\n",
       "    }\n",
       "</style>\n",
       "<table border=\"1\" class=\"dataframe\">\n",
       "  <thead>\n",
       "    <tr style=\"text-align: right;\">\n",
       "      <th></th>\n",
       "      <th>Станция метрополитена</th>\n",
       "      <th>Входы пассажиров</th>\n",
       "    </tr>\n",
       "  </thead>\n",
       "  <tbody>\n",
       "    <tr>\n",
       "      <th>956</th>\n",
       "      <td>Комсомольская</td>\n",
       "      <td>7660212</td>\n",
       "    </tr>\n",
       "  </tbody>\n",
       "</table>\n",
       "</div>"
      ],
      "text/plain": [
       "    Станция метрополитена  Входы пассажиров\n",
       "956         Комсомольская           7660212"
      ]
     },
     "execution_count": 3,
     "metadata": {},
     "output_type": "execute_result"
    }
   ],
   "source": [
    "import pandas as pd\n",
    "\n",
    "df = pd.read_csv(r'C:\\Users\\Vadim\\Downloads\\Пассажиропоток_МосМетро_2.csv', sep=';', skiprows=1)\n",
    "data = df.loc[(df['Квартал'] == 'IV квартал') & (df['Год'] == 2021), ['Станция метрополитена', 'Входы пассажиров']]\n",
    "data.sort_values(by='Входы пассажиров', ascending=False, inplace=True)\n",
    "\n",
    "data.head(1)"
   ]
  },
  {
   "cell_type": "markdown",
   "id": "820e6785",
   "metadata": {},
   "source": [
    "## 4.2 Поподробнее про обработку пропусков"
   ]
  },
  {
   "cell_type": "markdown",
   "id": "51ed258d",
   "metadata": {},
   "source": [
    "Аргумент **skiprows** позволяет указать строки, которые необходимо пропустить при чтении файла, т.к. они могут быть лишними (мусорными)"
   ]
  },
  {
   "cell_type": "code",
   "execution_count": 10,
   "id": "225501e8",
   "metadata": {},
   "outputs": [
    {
     "data": {
      "text/html": [
       "<div>\n",
       "<style scoped>\n",
       "    .dataframe tbody tr th:only-of-type {\n",
       "        vertical-align: middle;\n",
       "    }\n",
       "\n",
       "    .dataframe tbody tr th {\n",
       "        vertical-align: top;\n",
       "    }\n",
       "\n",
       "    .dataframe thead th {\n",
       "        text-align: right;\n",
       "    }\n",
       "</style>\n",
       "<table border=\"1\" class=\"dataframe\">\n",
       "  <thead>\n",
       "    <tr style=\"text-align: right;\">\n",
       "      <th></th>\n",
       "      <th>Станция метрополитена</th>\n",
       "      <th>Линия</th>\n",
       "      <th>Год</th>\n",
       "      <th>Квартал</th>\n",
       "      <th>Входы пассажиров</th>\n",
       "      <th>Выходы пассажиров</th>\n",
       "      <th>global_id</th>\n",
       "      <th>NameOfStation_en</th>\n",
       "      <th>Line_en</th>\n",
       "      <th>Year_en</th>\n",
       "      <th>Quarter_en</th>\n",
       "      <th>IncomingPassengers_en</th>\n",
       "      <th>OutgoingPassengers_en</th>\n",
       "      <th>Unnamed: 13</th>\n",
       "    </tr>\n",
       "  </thead>\n",
       "  <tbody>\n",
       "    <tr>\n",
       "      <th>0</th>\n",
       "      <td>Митино</td>\n",
       "      <td>Арбатско-Покровская линия</td>\n",
       "      <td>2021</td>\n",
       "      <td>I квартал</td>\n",
       "      <td>1913498</td>\n",
       "      <td>1829031</td>\n",
       "      <td>1138975996</td>\n",
       "      <td>NaN</td>\n",
       "      <td>NaN</td>\n",
       "      <td>NaN</td>\n",
       "      <td>NaN</td>\n",
       "      <td>NaN</td>\n",
       "      <td>NaN</td>\n",
       "      <td>NaN</td>\n",
       "    </tr>\n",
       "    <tr>\n",
       "      <th>1</th>\n",
       "      <td>Волоколамская</td>\n",
       "      <td>Арбатско-Покровская линия</td>\n",
       "      <td>2021</td>\n",
       "      <td>I квартал</td>\n",
       "      <td>1236714</td>\n",
       "      <td>1222309</td>\n",
       "      <td>1138975997</td>\n",
       "      <td>NaN</td>\n",
       "      <td>NaN</td>\n",
       "      <td>NaN</td>\n",
       "      <td>NaN</td>\n",
       "      <td>NaN</td>\n",
       "      <td>NaN</td>\n",
       "      <td>NaN</td>\n",
       "    </tr>\n",
       "    <tr>\n",
       "      <th>2</th>\n",
       "      <td>Строгино</td>\n",
       "      <td>Арбатско-Покровская линия</td>\n",
       "      <td>2021</td>\n",
       "      <td>I квартал</td>\n",
       "      <td>1938816</td>\n",
       "      <td>1903731</td>\n",
       "      <td>1138975999</td>\n",
       "      <td>NaN</td>\n",
       "      <td>NaN</td>\n",
       "      <td>NaN</td>\n",
       "      <td>NaN</td>\n",
       "      <td>NaN</td>\n",
       "      <td>NaN</td>\n",
       "      <td>NaN</td>\n",
       "    </tr>\n",
       "    <tr>\n",
       "      <th>3</th>\n",
       "      <td>Крылатское</td>\n",
       "      <td>Арбатско-Покровская линия</td>\n",
       "      <td>2021</td>\n",
       "      <td>I квартал</td>\n",
       "      <td>1849616</td>\n",
       "      <td>1818208</td>\n",
       "      <td>1138976000</td>\n",
       "      <td>NaN</td>\n",
       "      <td>NaN</td>\n",
       "      <td>NaN</td>\n",
       "      <td>NaN</td>\n",
       "      <td>NaN</td>\n",
       "      <td>NaN</td>\n",
       "      <td>NaN</td>\n",
       "    </tr>\n",
       "    <tr>\n",
       "      <th>4</th>\n",
       "      <td>Площадь Революции</td>\n",
       "      <td>Арбатско-Покровская линия</td>\n",
       "      <td>2021</td>\n",
       "      <td>I квартал</td>\n",
       "      <td>2324687</td>\n",
       "      <td>2319343</td>\n",
       "      <td>1138976008</td>\n",
       "      <td>NaN</td>\n",
       "      <td>NaN</td>\n",
       "      <td>NaN</td>\n",
       "      <td>NaN</td>\n",
       "      <td>NaN</td>\n",
       "      <td>NaN</td>\n",
       "      <td>NaN</td>\n",
       "    </tr>\n",
       "    <tr>\n",
       "      <th>...</th>\n",
       "      <td>...</td>\n",
       "      <td>...</td>\n",
       "      <td>...</td>\n",
       "      <td>...</td>\n",
       "      <td>...</td>\n",
       "      <td>...</td>\n",
       "      <td>...</td>\n",
       "      <td>...</td>\n",
       "      <td>...</td>\n",
       "      <td>...</td>\n",
       "      <td>...</td>\n",
       "      <td>...</td>\n",
       "      <td>...</td>\n",
       "      <td>...</td>\n",
       "    </tr>\n",
       "    <tr>\n",
       "      <th>1367</th>\n",
       "      <td>Китай-город</td>\n",
       "      <td>Таганско-Краснопресненская линия</td>\n",
       "      <td>2022</td>\n",
       "      <td>I квартал</td>\n",
       "      <td>0</td>\n",
       "      <td>0</td>\n",
       "      <td>2363487484</td>\n",
       "      <td>NaN</td>\n",
       "      <td>NaN</td>\n",
       "      <td>NaN</td>\n",
       "      <td>NaN</td>\n",
       "      <td>NaN</td>\n",
       "      <td>NaN</td>\n",
       "      <td>NaN</td>\n",
       "    </tr>\n",
       "    <tr>\n",
       "      <th>1368</th>\n",
       "      <td>Киевская</td>\n",
       "      <td>Филёвская линия</td>\n",
       "      <td>2022</td>\n",
       "      <td>I квартал</td>\n",
       "      <td>0</td>\n",
       "      <td>0</td>\n",
       "      <td>2363487549</td>\n",
       "      <td>NaN</td>\n",
       "      <td>NaN</td>\n",
       "      <td>NaN</td>\n",
       "      <td>NaN</td>\n",
       "      <td>NaN</td>\n",
       "      <td>NaN</td>\n",
       "      <td>NaN</td>\n",
       "    </tr>\n",
       "    <tr>\n",
       "      <th>1369</th>\n",
       "      <td>Улица Милашенкова</td>\n",
       "      <td>Московская монорельсовая транспортная система</td>\n",
       "      <td>2021</td>\n",
       "      <td>IV квартал</td>\n",
       "      <td>17991</td>\n",
       "      <td>17295</td>\n",
       "      <td>2363643842</td>\n",
       "      <td>NaN</td>\n",
       "      <td>NaN</td>\n",
       "      <td>NaN</td>\n",
       "      <td>NaN</td>\n",
       "      <td>NaN</td>\n",
       "      <td>NaN</td>\n",
       "      <td>NaN</td>\n",
       "    </tr>\n",
       "    <tr>\n",
       "      <th>1370</th>\n",
       "      <td>Кунцевская</td>\n",
       "      <td>Филёвская линия</td>\n",
       "      <td>2022</td>\n",
       "      <td>I квартал</td>\n",
       "      <td>543507</td>\n",
       "      <td>529972</td>\n",
       "      <td>2363644363</td>\n",
       "      <td>NaN</td>\n",
       "      <td>NaN</td>\n",
       "      <td>NaN</td>\n",
       "      <td>NaN</td>\n",
       "      <td>NaN</td>\n",
       "      <td>NaN</td>\n",
       "      <td>NaN</td>\n",
       "    </tr>\n",
       "    <tr>\n",
       "      <th>1371</th>\n",
       "      <td>Смоленская</td>\n",
       "      <td>Филёвская линия</td>\n",
       "      <td>2022</td>\n",
       "      <td>I квартал</td>\n",
       "      <td>726197</td>\n",
       "      <td>742423</td>\n",
       "      <td>2363644369</td>\n",
       "      <td>NaN</td>\n",
       "      <td>NaN</td>\n",
       "      <td>NaN</td>\n",
       "      <td>NaN</td>\n",
       "      <td>NaN</td>\n",
       "      <td>NaN</td>\n",
       "      <td>NaN</td>\n",
       "    </tr>\n",
       "  </tbody>\n",
       "</table>\n",
       "<p>1372 rows × 14 columns</p>\n",
       "</div>"
      ],
      "text/plain": [
       "     Станция метрополитена                                          Линия  \\\n",
       "0                   Митино                      Арбатско-Покровская линия   \n",
       "1            Волоколамская                      Арбатско-Покровская линия   \n",
       "2                 Строгино                      Арбатско-Покровская линия   \n",
       "3               Крылатское                      Арбатско-Покровская линия   \n",
       "4        Площадь Революции                      Арбатско-Покровская линия   \n",
       "...                    ...                                            ...   \n",
       "1367           Китай-город               Таганско-Краснопресненская линия   \n",
       "1368              Киевская                                Филёвская линия   \n",
       "1369     Улица Милашенкова  Московская монорельсовая транспортная система   \n",
       "1370            Кунцевская                                Филёвская линия   \n",
       "1371            Смоленская                                Филёвская линия   \n",
       "\n",
       "       Год     Квартал  Входы пассажиров  Выходы пассажиров   global_id  \\\n",
       "0     2021   I квартал           1913498            1829031  1138975996   \n",
       "1     2021   I квартал           1236714            1222309  1138975997   \n",
       "2     2021   I квартал           1938816            1903731  1138975999   \n",
       "3     2021   I квартал           1849616            1818208  1138976000   \n",
       "4     2021   I квартал           2324687            2319343  1138976008   \n",
       "...    ...         ...               ...                ...         ...   \n",
       "1367  2022   I квартал                 0                  0  2363487484   \n",
       "1368  2022   I квартал                 0                  0  2363487549   \n",
       "1369  2021  IV квартал             17991              17295  2363643842   \n",
       "1370  2022   I квартал            543507             529972  2363644363   \n",
       "1371  2022   I квартал            726197             742423  2363644369   \n",
       "\n",
       "      NameOfStation_en  Line_en  Year_en  Quarter_en  IncomingPassengers_en  \\\n",
       "0                  NaN      NaN      NaN         NaN                    NaN   \n",
       "1                  NaN      NaN      NaN         NaN                    NaN   \n",
       "2                  NaN      NaN      NaN         NaN                    NaN   \n",
       "3                  NaN      NaN      NaN         NaN                    NaN   \n",
       "4                  NaN      NaN      NaN         NaN                    NaN   \n",
       "...                ...      ...      ...         ...                    ...   \n",
       "1367               NaN      NaN      NaN         NaN                    NaN   \n",
       "1368               NaN      NaN      NaN         NaN                    NaN   \n",
       "1369               NaN      NaN      NaN         NaN                    NaN   \n",
       "1370               NaN      NaN      NaN         NaN                    NaN   \n",
       "1371               NaN      NaN      NaN         NaN                    NaN   \n",
       "\n",
       "      OutgoingPassengers_en  Unnamed: 13  \n",
       "0                       NaN          NaN  \n",
       "1                       NaN          NaN  \n",
       "2                       NaN          NaN  \n",
       "3                       NaN          NaN  \n",
       "4                       NaN          NaN  \n",
       "...                     ...          ...  \n",
       "1367                    NaN          NaN  \n",
       "1368                    NaN          NaN  \n",
       "1369                    NaN          NaN  \n",
       "1370                    NaN          NaN  \n",
       "1371                    NaN          NaN  \n",
       "\n",
       "[1372 rows x 14 columns]"
      ]
     },
     "execution_count": 10,
     "metadata": {},
     "output_type": "execute_result"
    }
   ],
   "source": [
    "import pandas as pd\n",
    "\n",
    "df = pd.read_csv(r'C:\\Users\\Vadim\\Downloads\\Пассажиропоток_МосМетро_2.csv', sep=';', skiprows=1)\n",
    "df"
   ]
  },
  {
   "cell_type": "markdown",
   "id": "528006cf",
   "metadata": {},
   "source": [
    "Бывают ситуации, когда значение пропущено:"
   ]
  },
  {
   "cell_type": "code",
   "execution_count": 14,
   "id": "6cda93a9",
   "metadata": {},
   "outputs": [
    {
     "data": {
      "text/html": [
       "<div>\n",
       "<style scoped>\n",
       "    .dataframe tbody tr th:only-of-type {\n",
       "        vertical-align: middle;\n",
       "    }\n",
       "\n",
       "    .dataframe tbody tr th {\n",
       "        vertical-align: top;\n",
       "    }\n",
       "\n",
       "    .dataframe thead th {\n",
       "        text-align: right;\n",
       "    }\n",
       "</style>\n",
       "<table border=\"1\" class=\"dataframe\">\n",
       "  <thead>\n",
       "    <tr style=\"text-align: right;\">\n",
       "      <th></th>\n",
       "      <th>client</th>\n",
       "      <th>balance</th>\n",
       "      <th>age</th>\n",
       "    </tr>\n",
       "  </thead>\n",
       "  <tbody>\n",
       "    <tr>\n",
       "      <th>0</th>\n",
       "      <td>Ivan</td>\n",
       "      <td>1500.0</td>\n",
       "      <td>25</td>\n",
       "    </tr>\n",
       "    <tr>\n",
       "      <th>1</th>\n",
       "      <td>Petr</td>\n",
       "      <td>NaN</td>\n",
       "      <td>30</td>\n",
       "    </tr>\n",
       "    <tr>\n",
       "      <th>2</th>\n",
       "      <td>Nikolay</td>\n",
       "      <td>600.0</td>\n",
       "      <td>45</td>\n",
       "    </tr>\n",
       "  </tbody>\n",
       "</table>\n",
       "</div>"
      ],
      "text/plain": [
       "    client  balance  age\n",
       "0     Ivan   1500.0   25\n",
       "1     Petr      NaN   30\n",
       "2  Nikolay    600.0   45"
      ]
     },
     "execution_count": 14,
     "metadata": {},
     "output_type": "execute_result"
    }
   ],
   "source": [
    "df2 = pd.read_csv(r'C:\\Users\\Vadim\\Downloads\\example4.csv', sep=';')\n",
    "df2"
   ]
  },
  {
   "cell_type": "markdown",
   "id": "bede92c6",
   "metadata": {},
   "source": [
    "Проверку можно сделать с помощью функции **isnull**"
   ]
  },
  {
   "cell_type": "code",
   "execution_count": 15,
   "id": "7a66ac74",
   "metadata": {},
   "outputs": [
    {
     "data": {
      "text/html": [
       "<div>\n",
       "<style scoped>\n",
       "    .dataframe tbody tr th:only-of-type {\n",
       "        vertical-align: middle;\n",
       "    }\n",
       "\n",
       "    .dataframe tbody tr th {\n",
       "        vertical-align: top;\n",
       "    }\n",
       "\n",
       "    .dataframe thead th {\n",
       "        text-align: right;\n",
       "    }\n",
       "</style>\n",
       "<table border=\"1\" class=\"dataframe\">\n",
       "  <thead>\n",
       "    <tr style=\"text-align: right;\">\n",
       "      <th></th>\n",
       "      <th>client</th>\n",
       "      <th>balance</th>\n",
       "      <th>age</th>\n",
       "    </tr>\n",
       "  </thead>\n",
       "  <tbody>\n",
       "    <tr>\n",
       "      <th>0</th>\n",
       "      <td>False</td>\n",
       "      <td>False</td>\n",
       "      <td>False</td>\n",
       "    </tr>\n",
       "    <tr>\n",
       "      <th>1</th>\n",
       "      <td>False</td>\n",
       "      <td>True</td>\n",
       "      <td>False</td>\n",
       "    </tr>\n",
       "    <tr>\n",
       "      <th>2</th>\n",
       "      <td>False</td>\n",
       "      <td>False</td>\n",
       "      <td>False</td>\n",
       "    </tr>\n",
       "  </tbody>\n",
       "</table>\n",
       "</div>"
      ],
      "text/plain": [
       "   client  balance    age\n",
       "0   False    False  False\n",
       "1   False     True  False\n",
       "2   False    False  False"
      ]
     },
     "execution_count": 15,
     "metadata": {},
     "output_type": "execute_result"
    }
   ],
   "source": [
    "pd.isnull(df2)"
   ]
  },
  {
   "cell_type": "markdown",
   "id": "a31b9b29",
   "metadata": {},
   "source": [
    "Пропуски могут быть в виде **NULL**, **NaN**, **NA** все они будут автоматические определены функцией **read_csv**"
   ]
  },
  {
   "cell_type": "markdown",
   "id": "39ef937e",
   "metadata": {},
   "source": [
    "Что считать пропуском можно установить и самостоятельно, с помощью аргумента **na_values**"
   ]
  },
  {
   "cell_type": "code",
   "execution_count": 16,
   "id": "eb847a26",
   "metadata": {},
   "outputs": [
    {
     "data": {
      "text/html": [
       "<div>\n",
       "<style scoped>\n",
       "    .dataframe tbody tr th:only-of-type {\n",
       "        vertical-align: middle;\n",
       "    }\n",
       "\n",
       "    .dataframe tbody tr th {\n",
       "        vertical-align: top;\n",
       "    }\n",
       "\n",
       "    .dataframe thead th {\n",
       "        text-align: right;\n",
       "    }\n",
       "</style>\n",
       "<table border=\"1\" class=\"dataframe\">\n",
       "  <thead>\n",
       "    <tr style=\"text-align: right;\">\n",
       "      <th></th>\n",
       "      <th>client</th>\n",
       "      <th>balance</th>\n",
       "      <th>age</th>\n",
       "    </tr>\n",
       "  </thead>\n",
       "  <tbody>\n",
       "    <tr>\n",
       "      <th>0</th>\n",
       "      <td>Ivan</td>\n",
       "      <td>1500.0</td>\n",
       "      <td>25</td>\n",
       "    </tr>\n",
       "    <tr>\n",
       "      <th>1</th>\n",
       "      <td>Petr</td>\n",
       "      <td>NaN</td>\n",
       "      <td>30</td>\n",
       "    </tr>\n",
       "    <tr>\n",
       "      <th>2</th>\n",
       "      <td>Nikolay</td>\n",
       "      <td>600.0</td>\n",
       "      <td>45</td>\n",
       "    </tr>\n",
       "  </tbody>\n",
       "</table>\n",
       "</div>"
      ],
      "text/plain": [
       "    client  balance  age\n",
       "0     Ivan   1500.0   25\n",
       "1     Petr      NaN   30\n",
       "2  Nikolay    600.0   45"
      ]
     },
     "execution_count": 16,
     "metadata": {},
     "output_type": "execute_result"
    }
   ],
   "source": [
    "df2 = pd.read_csv(r'C:\\Users\\Vadim\\Downloads\\example4.csv', sep=';')\n",
    "df2"
   ]
  },
  {
   "cell_type": "code",
   "execution_count": 17,
   "id": "4e393738",
   "metadata": {},
   "outputs": [
    {
     "data": {
      "text/html": [
       "<div>\n",
       "<style scoped>\n",
       "    .dataframe tbody tr th:only-of-type {\n",
       "        vertical-align: middle;\n",
       "    }\n",
       "\n",
       "    .dataframe tbody tr th {\n",
       "        vertical-align: top;\n",
       "    }\n",
       "\n",
       "    .dataframe thead th {\n",
       "        text-align: right;\n",
       "    }\n",
       "</style>\n",
       "<table border=\"1\" class=\"dataframe\">\n",
       "  <thead>\n",
       "    <tr style=\"text-align: right;\">\n",
       "      <th></th>\n",
       "      <th>client</th>\n",
       "      <th>balance</th>\n",
       "      <th>age</th>\n",
       "    </tr>\n",
       "  </thead>\n",
       "  <tbody>\n",
       "    <tr>\n",
       "      <th>0</th>\n",
       "      <td>Ivan</td>\n",
       "      <td>1500.0</td>\n",
       "      <td>NaN</td>\n",
       "    </tr>\n",
       "    <tr>\n",
       "      <th>1</th>\n",
       "      <td>Petr</td>\n",
       "      <td>NaN</td>\n",
       "      <td>30.0</td>\n",
       "    </tr>\n",
       "    <tr>\n",
       "      <th>2</th>\n",
       "      <td>Nikolay</td>\n",
       "      <td>600.0</td>\n",
       "      <td>NaN</td>\n",
       "    </tr>\n",
       "  </tbody>\n",
       "</table>\n",
       "</div>"
      ],
      "text/plain": [
       "    client  balance   age\n",
       "0     Ivan   1500.0   NaN\n",
       "1     Petr      NaN  30.0\n",
       "2  Nikolay    600.0   NaN"
      ]
     },
     "execution_count": 17,
     "metadata": {},
     "output_type": "execute_result"
    }
   ],
   "source": [
    "df2 = pd.read_csv(r'C:\\Users\\Vadim\\Downloads\\example4.csv', sep=';', na_values=[25, 45])\n",
    "df2"
   ]
  },
  {
   "cell_type": "markdown",
   "id": "925c7926",
   "metadata": {},
   "source": [
    "В **na_values** можно передать словарь, если необходимо считать пропусками строки, только по определенному столбцу:"
   ]
  },
  {
   "cell_type": "code",
   "execution_count": 18,
   "id": "982f7d8f",
   "metadata": {},
   "outputs": [
    {
     "data": {
      "text/html": [
       "<div>\n",
       "<style scoped>\n",
       "    .dataframe tbody tr th:only-of-type {\n",
       "        vertical-align: middle;\n",
       "    }\n",
       "\n",
       "    .dataframe tbody tr th {\n",
       "        vertical-align: top;\n",
       "    }\n",
       "\n",
       "    .dataframe thead th {\n",
       "        text-align: right;\n",
       "    }\n",
       "</style>\n",
       "<table border=\"1\" class=\"dataframe\">\n",
       "  <thead>\n",
       "    <tr style=\"text-align: right;\">\n",
       "      <th></th>\n",
       "      <th>client</th>\n",
       "      <th>balance</th>\n",
       "      <th>age</th>\n",
       "    </tr>\n",
       "  </thead>\n",
       "  <tbody>\n",
       "    <tr>\n",
       "      <th>0</th>\n",
       "      <td>Ivan</td>\n",
       "      <td>1500.0</td>\n",
       "      <td>NaN</td>\n",
       "    </tr>\n",
       "    <tr>\n",
       "      <th>1</th>\n",
       "      <td>Petr</td>\n",
       "      <td>NaN</td>\n",
       "      <td>NaN</td>\n",
       "    </tr>\n",
       "    <tr>\n",
       "      <th>2</th>\n",
       "      <td>Nikolay</td>\n",
       "      <td>600.0</td>\n",
       "      <td>45.0</td>\n",
       "    </tr>\n",
       "  </tbody>\n",
       "</table>\n",
       "</div>"
      ],
      "text/plain": [
       "    client  balance   age\n",
       "0     Ivan   1500.0   NaN\n",
       "1     Petr      NaN   NaN\n",
       "2  Nikolay    600.0  45.0"
      ]
     },
     "execution_count": 18,
     "metadata": {},
     "output_type": "execute_result"
    }
   ],
   "source": [
    "df2 = pd.read_csv(r'C:\\Users\\Vadim\\Downloads\\example4.csv', sep=';', na_values={'age': [25, 30]})\n",
    "df2"
   ]
  },
  {
   "cell_type": "markdown",
   "id": "878bdcfb",
   "metadata": {},
   "source": [
    "В случае если файл достаточно большой, то не всегда есть смысл его полностью грузить в оперативную память, в таком случае лучше воспользоваться аргументом **nrows** и загрузить только нужное кол-во строк"
   ]
  },
  {
   "cell_type": "code",
   "execution_count": 21,
   "id": "353e4427",
   "metadata": {},
   "outputs": [
    {
     "data": {
      "text/html": [
       "<div>\n",
       "<style scoped>\n",
       "    .dataframe tbody tr th:only-of-type {\n",
       "        vertical-align: middle;\n",
       "    }\n",
       "\n",
       "    .dataframe tbody tr th {\n",
       "        vertical-align: top;\n",
       "    }\n",
       "\n",
       "    .dataframe thead th {\n",
       "        text-align: right;\n",
       "    }\n",
       "</style>\n",
       "<table border=\"1\" class=\"dataframe\">\n",
       "  <thead>\n",
       "    <tr style=\"text-align: right;\">\n",
       "      <th></th>\n",
       "      <th>client</th>\n",
       "      <th>balance</th>\n",
       "      <th>age</th>\n",
       "    </tr>\n",
       "  </thead>\n",
       "  <tbody>\n",
       "    <tr>\n",
       "      <th>0</th>\n",
       "      <td>Ivan</td>\n",
       "      <td>1500.0</td>\n",
       "      <td>25</td>\n",
       "    </tr>\n",
       "    <tr>\n",
       "      <th>1</th>\n",
       "      <td>Petr</td>\n",
       "      <td>NaN</td>\n",
       "      <td>30</td>\n",
       "    </tr>\n",
       "  </tbody>\n",
       "</table>\n",
       "</div>"
      ],
      "text/plain": [
       "  client  balance  age\n",
       "0   Ivan   1500.0   25\n",
       "1   Petr      NaN   30"
      ]
     },
     "execution_count": 21,
     "metadata": {},
     "output_type": "execute_result"
    }
   ],
   "source": [
    "df3 = pd.read_csv(r'C:\\Users\\Vadim\\Downloads\\example4.csv', sep=';', nrows=2)\n",
    "df3"
   ]
  },
  {
   "cell_type": "markdown",
   "id": "69f7e223",
   "metadata": {},
   "source": [
    "Существует похожая функция **head**, которая позволяет выводить первые записи, но она работает уже с загруженными данными"
   ]
  },
  {
   "cell_type": "code",
   "execution_count": 36,
   "id": "3ffbef75",
   "metadata": {},
   "outputs": [
    {
     "data": {
      "text/html": [
       "<div>\n",
       "<style scoped>\n",
       "    .dataframe tbody tr th:only-of-type {\n",
       "        vertical-align: middle;\n",
       "    }\n",
       "\n",
       "    .dataframe tbody tr th {\n",
       "        vertical-align: top;\n",
       "    }\n",
       "\n",
       "    .dataframe thead th {\n",
       "        text-align: right;\n",
       "    }\n",
       "</style>\n",
       "<table border=\"1\" class=\"dataframe\">\n",
       "  <thead>\n",
       "    <tr style=\"text-align: right;\">\n",
       "      <th></th>\n",
       "      <th>client;balance;age</th>\n",
       "    </tr>\n",
       "  </thead>\n",
       "  <tbody>\n",
       "    <tr>\n",
       "      <th>0</th>\n",
       "      <td>Ivan;1500;25</td>\n",
       "    </tr>\n",
       "  </tbody>\n",
       "</table>\n",
       "</div>"
      ],
      "text/plain": [
       "  client;balance;age\n",
       "0       Ivan;1500;25"
      ]
     },
     "execution_count": 36,
     "metadata": {},
     "output_type": "execute_result"
    }
   ],
   "source": [
    "df4 = pd.read_csv(r'C:\\Users\\Vadim\\Downloads\\example4.csv', sep=';')\n",
    "df4.head(1)"
   ]
  },
  {
   "cell_type": "markdown",
   "id": "9b58a514",
   "metadata": {},
   "source": [
    "## Задачи урока 4.2"
   ]
  },
  {
   "cell_type": "code",
   "execution_count": 164,
   "id": "7b0f5e59",
   "metadata": {},
   "outputs": [
    {
     "data": {
      "text/plain": [
       "2514195123.0"
      ]
     },
     "execution_count": 164,
     "metadata": {},
     "output_type": "execute_result"
    }
   ],
   "source": [
    "import pandas as pd\n",
    "\n",
    "df = pd.read_csv(r'C:\\Users\\Vadim\\Downloads\\Пассажиропоток_МосМетро_3.csv', sep='|', skiprows=[*range(5)])\n",
    "clear_data = df.drop(df[df['Линия'].isnull()].index, axis=0)\n",
    "clear_data['Входы пассажиров'].sum()"
   ]
  },
  {
   "cell_type": "code",
   "execution_count": 203,
   "id": "246d9fd4",
   "metadata": {},
   "outputs": [
    {
     "data": {
      "text/plain": [
       "37"
      ]
     },
     "execution_count": 203,
     "metadata": {},
     "output_type": "execute_result"
    }
   ],
   "source": [
    "import pandas as pd\n",
    "\n",
    "df = pd.read_csv(r'C:\\Users\\Vadim\\Downloads\\Пассажиропоток_МосМетро_4.csv', sep='|', na_values={'IncomingPassengers': ['не указано', '0', 0]})\n",
    "sum(df['IncomingPassengers'].isnull())"
   ]
  },
  {
   "cell_type": "markdown",
   "id": "39d875da",
   "metadata": {},
   "source": [
    "## 4.3 Учимся читать большие файлы кусочками"
   ]
  },
  {
   "cell_type": "markdown",
   "id": "9a610788",
   "metadata": {},
   "source": [
    "Файлы бывают по-настоящему огромные, грузить их в память не вариант, можно считывать их кусочками, создавая итератор, который выдает информацию по мере обращения с помощью функции **next** или цикла. Итератор создается благодаря аргументу **chunksize**"
   ]
  },
  {
   "cell_type": "code",
   "execution_count": 124,
   "id": "0b5cf294",
   "metadata": {},
   "outputs": [
    {
     "data": {
      "text/html": [
       "<div>\n",
       "<style scoped>\n",
       "    .dataframe tbody tr th:only-of-type {\n",
       "        vertical-align: middle;\n",
       "    }\n",
       "\n",
       "    .dataframe tbody tr th {\n",
       "        vertical-align: top;\n",
       "    }\n",
       "\n",
       "    .dataframe thead th {\n",
       "        text-align: right;\n",
       "    }\n",
       "</style>\n",
       "<table border=\"1\" class=\"dataframe\">\n",
       "  <thead>\n",
       "    <tr style=\"text-align: right;\">\n",
       "      <th></th>\n",
       "      <th>University Rank</th>\n",
       "      <th>Name of University</th>\n",
       "      <th>Location</th>\n",
       "      <th>No of student</th>\n",
       "      <th>No of student per staff</th>\n",
       "      <th>International Student</th>\n",
       "      <th>Female:Male Ratio</th>\n",
       "      <th>OverAll Score</th>\n",
       "      <th>Teaching Score</th>\n",
       "      <th>Research Score</th>\n",
       "      <th>Citations Score</th>\n",
       "      <th>Industry Income Score</th>\n",
       "      <th>International Outlook Score</th>\n",
       "    </tr>\n",
       "  </thead>\n",
       "  <tbody>\n",
       "    <tr>\n",
       "      <th>0</th>\n",
       "      <td>1</td>\n",
       "      <td>University of Oxford</td>\n",
       "      <td>United Kingdom</td>\n",
       "      <td>20,965</td>\n",
       "      <td>10.6</td>\n",
       "      <td>42%</td>\n",
       "      <td>48 : 52</td>\n",
       "      <td>96.4</td>\n",
       "      <td>92.3</td>\n",
       "      <td>99.7</td>\n",
       "      <td>99.0</td>\n",
       "      <td>74.9</td>\n",
       "      <td>96.2</td>\n",
       "    </tr>\n",
       "    <tr>\n",
       "      <th>1</th>\n",
       "      <td>2</td>\n",
       "      <td>Harvard University</td>\n",
       "      <td>United States</td>\n",
       "      <td>21,887</td>\n",
       "      <td>9.6</td>\n",
       "      <td>25%</td>\n",
       "      <td>50 : 50</td>\n",
       "      <td>95.2</td>\n",
       "      <td>94.8</td>\n",
       "      <td>99.0</td>\n",
       "      <td>99.3</td>\n",
       "      <td>49.5</td>\n",
       "      <td>80.5</td>\n",
       "    </tr>\n",
       "    <tr>\n",
       "      <th>2</th>\n",
       "      <td>3</td>\n",
       "      <td>University of Cambridge</td>\n",
       "      <td>United Kingdom</td>\n",
       "      <td>20,185</td>\n",
       "      <td>11.3</td>\n",
       "      <td>39%</td>\n",
       "      <td>47 : 53</td>\n",
       "      <td>94.8</td>\n",
       "      <td>90.9</td>\n",
       "      <td>99.5</td>\n",
       "      <td>97.0</td>\n",
       "      <td>54.2</td>\n",
       "      <td>95.8</td>\n",
       "    </tr>\n",
       "    <tr>\n",
       "      <th>3</th>\n",
       "      <td>3</td>\n",
       "      <td>Stanford University</td>\n",
       "      <td>United States</td>\n",
       "      <td>16,164</td>\n",
       "      <td>7.1</td>\n",
       "      <td>24%</td>\n",
       "      <td>46 : 54</td>\n",
       "      <td>94.8</td>\n",
       "      <td>94.2</td>\n",
       "      <td>96.7</td>\n",
       "      <td>99.8</td>\n",
       "      <td>65.0</td>\n",
       "      <td>79.8</td>\n",
       "    </tr>\n",
       "    <tr>\n",
       "      <th>4</th>\n",
       "      <td>5</td>\n",
       "      <td>Massachusetts Institute of Technology</td>\n",
       "      <td>United States</td>\n",
       "      <td>11,415</td>\n",
       "      <td>8.2</td>\n",
       "      <td>33%</td>\n",
       "      <td>40 : 60</td>\n",
       "      <td>94.2</td>\n",
       "      <td>90.7</td>\n",
       "      <td>93.6</td>\n",
       "      <td>99.8</td>\n",
       "      <td>90.9</td>\n",
       "      <td>89.3</td>\n",
       "    </tr>\n",
       "  </tbody>\n",
       "</table>\n",
       "</div>"
      ],
      "text/plain": [
       "   University Rank                     Name of University        Location  \\\n",
       "0                1                   University of Oxford  United Kingdom   \n",
       "1                2                     Harvard University   United States   \n",
       "2                3                University of Cambridge  United Kingdom   \n",
       "3                3                    Stanford University   United States   \n",
       "4                5  Massachusetts Institute of Technology   United States   \n",
       "\n",
       "  No of student  No of student per staff International Student  \\\n",
       "0        20,965                     10.6                   42%   \n",
       "1        21,887                      9.6                   25%   \n",
       "2        20,185                     11.3                   39%   \n",
       "3        16,164                      7.1                   24%   \n",
       "4        11,415                      8.2                   33%   \n",
       "\n",
       "  Female:Male Ratio  OverAll Score  Teaching Score  Research Score  \\\n",
       "0           48 : 52           96.4            92.3            99.7   \n",
       "1           50 : 50           95.2            94.8            99.0   \n",
       "2           47 : 53           94.8            90.9            99.5   \n",
       "3           46 : 54           94.8            94.2            96.7   \n",
       "4           40 : 60           94.2            90.7            93.6   \n",
       "\n",
       "   Citations Score  Industry Income Score  International Outlook Score  \n",
       "0             99.0                   74.9                         96.2  \n",
       "1             99.3                   49.5                         80.5  \n",
       "2             97.0                   54.2                         95.8  \n",
       "3             99.8                   65.0                         79.8  \n",
       "4             99.8                   90.9                         89.3  "
      ]
     },
     "execution_count": 124,
     "metadata": {},
     "output_type": "execute_result"
    }
   ],
   "source": [
    "import pandas as pd\n",
    "\n",
    "data = pd.read_csv(r'C:\\Users\\Vadim\\Downloads\\World University Rankings 2023.csv', chunksize=5)\n",
    "next(data)"
   ]
  },
  {
   "cell_type": "markdown",
   "id": "2ae3e12c",
   "metadata": {},
   "source": [
    "Пример использования:"
   ]
  },
  {
   "cell_type": "code",
   "execution_count": 189,
   "id": "19b9e3ea",
   "metadata": {},
   "outputs": [
    {
     "data": {
      "text/plain": [
       "Location\n",
       "United States     173.0\n",
       "Japan             150.0\n",
       "United Kingdom    149.0\n",
       "India              91.0\n",
       "China              82.0\n",
       "dtype: object"
      ]
     },
     "execution_count": 189,
     "metadata": {},
     "output_type": "execute_result"
    }
   ],
   "source": [
    "import pandas as pd\n",
    "\n",
    "totals = pd.Series([])\n",
    "data = pd.read_csv(r'C:\\Users\\Vadim\\Downloads\\World University Rankings 2023.csv', chunksize=5)\n",
    "\n",
    "for df in data: # достаем за каждую итерацию 5 строк\n",
    "    totals = totals.add(df['Location'].value_counts(), fill_value=0)\n",
    "    \n",
    "totals.sort_values(ascending=False, inplace=True)\n",
    "\n",
    "totals.head()"
   ]
  },
  {
   "cell_type": "markdown",
   "id": "30e6c312",
   "metadata": {},
   "source": [
    "**Сохранение датафрэйма в csv**"
   ]
  },
  {
   "cell_type": "code",
   "execution_count": 197,
   "id": "d24d1e13",
   "metadata": {},
   "outputs": [],
   "source": [
    "import pandas as pd\n",
    "\n",
    "data = pd.read_csv(r'C:\\Users\\Vadim\\Downloads\\World University Rankings 2023.csv')\n",
    "new_data = data[:5]\n",
    "\n",
    "new_data.to_csv(r'C:\\Users\\Vadim\\Downloads\\new_data_university.csv', na_rep='Null', columns=['Location', 'Name of University'], index=False)"
   ]
  },
  {
   "cell_type": "markdown",
   "id": "98a97608",
   "metadata": {},
   "source": [
    "Аргумент **na_rep** позволяет задать пропуски в сохраняемом датафрэйме каким угодно именем"
   ]
  },
  {
   "cell_type": "markdown",
   "id": "344b3ab0",
   "metadata": {},
   "source": [
    "Аргумент **columns** позволяет задать сохраняемые столбцы на выбор"
   ]
  },
  {
   "cell_type": "markdown",
   "id": "f87f58c8",
   "metadata": {},
   "source": [
    "Если в сохраняемом файле не нужен индекс, ставим **index=False**"
   ]
  },
  {
   "cell_type": "code",
   "execution_count": 202,
   "id": "e46949fe",
   "metadata": {},
   "outputs": [
    {
     "data": {
      "text/html": [
       "<div>\n",
       "<style scoped>\n",
       "    .dataframe tbody tr th:only-of-type {\n",
       "        vertical-align: middle;\n",
       "    }\n",
       "\n",
       "    .dataframe tbody tr th {\n",
       "        vertical-align: top;\n",
       "    }\n",
       "\n",
       "    .dataframe thead th {\n",
       "        text-align: right;\n",
       "    }\n",
       "</style>\n",
       "<table border=\"1\" class=\"dataframe\">\n",
       "  <thead>\n",
       "    <tr style=\"text-align: right;\">\n",
       "      <th></th>\n",
       "      <th>Name of University</th>\n",
       "    </tr>\n",
       "    <tr>\n",
       "      <th>Location</th>\n",
       "      <th></th>\n",
       "    </tr>\n",
       "  </thead>\n",
       "  <tbody>\n",
       "    <tr>\n",
       "      <th>United Kingdom</th>\n",
       "      <td>University of Oxford</td>\n",
       "    </tr>\n",
       "    <tr>\n",
       "      <th>United States</th>\n",
       "      <td>Harvard University</td>\n",
       "    </tr>\n",
       "    <tr>\n",
       "      <th>United Kingdom</th>\n",
       "      <td>University of Cambridge</td>\n",
       "    </tr>\n",
       "    <tr>\n",
       "      <th>United States</th>\n",
       "      <td>Stanford University</td>\n",
       "    </tr>\n",
       "    <tr>\n",
       "      <th>United States</th>\n",
       "      <td>Massachusetts Institute of Technology</td>\n",
       "    </tr>\n",
       "  </tbody>\n",
       "</table>\n",
       "</div>"
      ],
      "text/plain": [
       "                                   Name of University\n",
       "Location                                             \n",
       "United Kingdom                   University of Oxford\n",
       "United States                      Harvard University\n",
       "United Kingdom                University of Cambridge\n",
       "United States                     Stanford University\n",
       "United States   Massachusetts Institute of Technology"
      ]
     },
     "execution_count": 202,
     "metadata": {},
     "output_type": "execute_result"
    }
   ],
   "source": [
    "data = pd.read_csv(r'C:\\Users\\Vadim\\Downloads\\new_data_university.csv', index_col=0) # задает индекс по колонке\n",
    "\n",
    "data"
   ]
  },
  {
   "cell_type": "markdown",
   "id": "6fff7476",
   "metadata": {},
   "source": [
    "## Задачи урока 4.3"
   ]
  },
  {
   "cell_type": "markdown",
   "id": "db0ce3c3",
   "metadata": {},
   "source": [
    "1."
   ]
  },
  {
   "cell_type": "code",
   "execution_count": 222,
   "id": "6de0edb6",
   "metadata": {},
   "outputs": [],
   "source": [
    "import pandas as pd\n",
    "\n",
    "data = pd.read_csv(r'C:\\Users\\Vadim\\Downloads\\users.csv', on_bad_lines='skip', sep=';')\n",
    "female_data = data[data['sex'] == 'F']\n",
    "\n",
    "female_data.to_csv(r'C:\\Users\\Vadim\\Downloads\\female_users.csv', sep=';', index=False, encoding='utf-8', columns=['username', 'mail'])"
   ]
  },
  {
   "cell_type": "markdown",
   "id": "e09f920d",
   "metadata": {},
   "source": [
    "2."
   ]
  },
  {
   "cell_type": "code",
   "execution_count": 233,
   "id": "99941c47",
   "metadata": {},
   "outputs": [
    {
     "data": {
      "text/plain": [
       "27"
      ]
     },
     "execution_count": 233,
     "metadata": {},
     "output_type": "execute_result"
    }
   ],
   "source": [
    "import pandas as pd\n",
    "\n",
    "data = pd.read_csv(r'C:\\Users\\Vadim\\Downloads\\users.csv', on_bad_lines='skip', sep=';', nrows=50)\n",
    "\n",
    "len(data[data['sex'] == 'M'])"
   ]
  },
  {
   "cell_type": "markdown",
   "id": "e2137d68",
   "metadata": {},
   "source": [
    "3."
   ]
  },
  {
   "cell_type": "code",
   "execution_count": 270,
   "id": "994e5ef3",
   "metadata": {},
   "outputs": [
    {
     "name": "stdout",
     "output_type": "stream",
     "text": [
      "4\n"
     ]
    }
   ],
   "source": [
    "import pandas as pd\n",
    "\n",
    "data = pd.read_csv(r'C:\\Users\\Vadim\\Downloads\\users.csv', on_bad_lines='skip', sep=';', chunksize=30)\n",
    "\n",
    "for index, chunk in enumerate(data):\n",
    "    if index == 4:\n",
    "        print(sum(chunk['blood_group'] == 'A+'))\n",
    "        break"
   ]
  },
  {
   "cell_type": "markdown",
   "id": "e28534c2",
   "metadata": {},
   "source": [
    "## 4.4 Кто такой JSON и как с ним подружиться?"
   ]
  },
  {
   "cell_type": "code",
   "execution_count": 28,
   "id": "345cabc8",
   "metadata": {},
   "outputs": [
    {
     "data": {
      "text/html": [
       "<div>\n",
       "<style scoped>\n",
       "    .dataframe tbody tr th:only-of-type {\n",
       "        vertical-align: middle;\n",
       "    }\n",
       "\n",
       "    .dataframe tbody tr th {\n",
       "        vertical-align: top;\n",
       "    }\n",
       "\n",
       "    .dataframe thead th {\n",
       "        text-align: right;\n",
       "    }\n",
       "</style>\n",
       "<table border=\"1\" class=\"dataframe\">\n",
       "  <thead>\n",
       "    <tr style=\"text-align: right;\">\n",
       "      <th></th>\n",
       "      <th>1. open</th>\n",
       "      <th>2. high</th>\n",
       "      <th>3. low</th>\n",
       "      <th>4. close</th>\n",
       "      <th>5. volume</th>\n",
       "    </tr>\n",
       "  </thead>\n",
       "  <tbody>\n",
       "    <tr>\n",
       "      <th>2023-09-05 19:55:00</th>\n",
       "      <td>148.0100</td>\n",
       "      <td>148.2100</td>\n",
       "      <td>148.0100</td>\n",
       "      <td>148.0500</td>\n",
       "      <td>57</td>\n",
       "    </tr>\n",
       "    <tr>\n",
       "      <th>2023-09-05 19:50:00</th>\n",
       "      <td>148.2900</td>\n",
       "      <td>148.2900</td>\n",
       "      <td>148.2900</td>\n",
       "      <td>148.2900</td>\n",
       "      <td>1782</td>\n",
       "    </tr>\n",
       "    <tr>\n",
       "      <th>2023-09-05 19:30:00</th>\n",
       "      <td>148.1900</td>\n",
       "      <td>148.1900</td>\n",
       "      <td>148.1900</td>\n",
       "      <td>148.1900</td>\n",
       "      <td>1</td>\n",
       "    </tr>\n",
       "    <tr>\n",
       "      <th>2023-09-05 19:15:00</th>\n",
       "      <td>148.0600</td>\n",
       "      <td>148.0600</td>\n",
       "      <td>148.0600</td>\n",
       "      <td>148.0600</td>\n",
       "      <td>1</td>\n",
       "    </tr>\n",
       "    <tr>\n",
       "      <th>2023-09-05 19:10:00</th>\n",
       "      <td>148.0500</td>\n",
       "      <td>148.0500</td>\n",
       "      <td>148.0500</td>\n",
       "      <td>148.0500</td>\n",
       "      <td>1</td>\n",
       "    </tr>\n",
       "    <tr>\n",
       "      <th>...</th>\n",
       "      <td>...</td>\n",
       "      <td>...</td>\n",
       "      <td>...</td>\n",
       "      <td>...</td>\n",
       "      <td>...</td>\n",
       "    </tr>\n",
       "    <tr>\n",
       "      <th>2023-09-05 10:25:00</th>\n",
       "      <td>148.5950</td>\n",
       "      <td>148.6100</td>\n",
       "      <td>148.5000</td>\n",
       "      <td>148.5910</td>\n",
       "      <td>35171</td>\n",
       "    </tr>\n",
       "    <tr>\n",
       "      <th>2023-09-05 10:20:00</th>\n",
       "      <td>148.3400</td>\n",
       "      <td>148.5900</td>\n",
       "      <td>148.3000</td>\n",
       "      <td>148.5900</td>\n",
       "      <td>47876</td>\n",
       "    </tr>\n",
       "    <tr>\n",
       "      <th>2023-09-05 10:15:00</th>\n",
       "      <td>148.3500</td>\n",
       "      <td>148.3900</td>\n",
       "      <td>148.2800</td>\n",
       "      <td>148.3300</td>\n",
       "      <td>22730</td>\n",
       "    </tr>\n",
       "    <tr>\n",
       "      <th>2023-09-05 10:10:00</th>\n",
       "      <td>148.2300</td>\n",
       "      <td>148.4160</td>\n",
       "      <td>148.2300</td>\n",
       "      <td>148.3600</td>\n",
       "      <td>29879</td>\n",
       "    </tr>\n",
       "    <tr>\n",
       "      <th>2023-09-05 10:05:00</th>\n",
       "      <td>148.3300</td>\n",
       "      <td>148.4300</td>\n",
       "      <td>148.2200</td>\n",
       "      <td>148.2300</td>\n",
       "      <td>46093</td>\n",
       "    </tr>\n",
       "  </tbody>\n",
       "</table>\n",
       "<p>100 rows × 5 columns</p>\n",
       "</div>"
      ],
      "text/plain": [
       "                      1. open   2. high    3. low  4. close 5. volume\n",
       "2023-09-05 19:55:00  148.0100  148.2100  148.0100  148.0500        57\n",
       "2023-09-05 19:50:00  148.2900  148.2900  148.2900  148.2900      1782\n",
       "2023-09-05 19:30:00  148.1900  148.1900  148.1900  148.1900         1\n",
       "2023-09-05 19:15:00  148.0600  148.0600  148.0600  148.0600         1\n",
       "2023-09-05 19:10:00  148.0500  148.0500  148.0500  148.0500         1\n",
       "...                       ...       ...       ...       ...       ...\n",
       "2023-09-05 10:25:00  148.5950  148.6100  148.5000  148.5910     35171\n",
       "2023-09-05 10:20:00  148.3400  148.5900  148.3000  148.5900     47876\n",
       "2023-09-05 10:15:00  148.3500  148.3900  148.2800  148.3300     22730\n",
       "2023-09-05 10:10:00  148.2300  148.4160  148.2300  148.3600     29879\n",
       "2023-09-05 10:05:00  148.3300  148.4300  148.2200  148.2300     46093\n",
       "\n",
       "[100 rows x 5 columns]"
      ]
     },
     "execution_count": 28,
     "metadata": {},
     "output_type": "execute_result"
    }
   ],
   "source": [
    "import requests\n",
    "import pandas as pd\n",
    "\n",
    "# replace the \"demo\" apikey below with your own key from https://www.alphavantage.co/support/#api-key\n",
    "url = 'https://www.alphavantage.co/query?function=TIME_SERIES_INTRADAY&symbol=IBM&interval=5min&apikey=demo'\n",
    "r = requests.get(url)\n",
    "data = r.json()\n",
    "\n",
    "df = pd.DataFrame(data['Time Series (5min)']).T\n",
    "df"
   ]
  },
  {
   "cell_type": "markdown",
   "id": "6320cc12",
   "metadata": {},
   "source": [
    "## Задачи урока 4.4"
   ]
  },
  {
   "cell_type": "code",
   "execution_count": 50,
   "id": "01bf0067",
   "metadata": {},
   "outputs": [
    {
     "data": {
      "text/html": [
       "<div>\n",
       "<style scoped>\n",
       "    .dataframe tbody tr th:only-of-type {\n",
       "        vertical-align: middle;\n",
       "    }\n",
       "\n",
       "    .dataframe tbody tr th {\n",
       "        vertical-align: top;\n",
       "    }\n",
       "\n",
       "    .dataframe thead th {\n",
       "        text-align: right;\n",
       "    }\n",
       "</style>\n",
       "<table border=\"1\" class=\"dataframe\">\n",
       "  <thead>\n",
       "    <tr style=\"text-align: right;\">\n",
       "      <th></th>\n",
       "      <th>ID</th>\n",
       "      <th>NameOfTariff</th>\n",
       "      <th>TicketZone</th>\n",
       "      <th>global_id</th>\n",
       "      <th>NumberOfZone</th>\n",
       "      <th>TariffDistance</th>\n",
       "      <th>TypeOfTransport</th>\n",
       "      <th>NameOfCarrier</th>\n",
       "      <th>TicketCost</th>\n",
       "      <th>TicketValidity</th>\n",
       "    </tr>\n",
       "  </thead>\n",
       "  <tbody>\n",
       "    <tr>\n",
       "      <th>17</th>\n",
       "      <td>7300</td>\n",
       "      <td>«Разовый» льготный</td>\n",
       "      <td>[{'TicketZone': 'в пределах железнодорожных ст...</td>\n",
       "      <td>19368812</td>\n",
       "      <td>-</td>\n",
       "      <td>-</td>\n",
       "      <td>Пригородный электропоезд ЦППК, МТППК</td>\n",
       "      <td>[{'NameOfCarrier': 'АО «Центральная пригородна...</td>\n",
       "      <td>18.5</td>\n",
       "      <td>указанная дата, но не более, чем 10 дней от да...</td>\n",
       "    </tr>\n",
       "  </tbody>\n",
       "</table>\n",
       "</div>"
      ],
      "text/plain": [
       "      ID        NameOfTariff  \\\n",
       "17  7300  «Разовый» льготный   \n",
       "\n",
       "                                           TicketZone  global_id NumberOfZone  \\\n",
       "17  [{'TicketZone': 'в пределах железнодорожных ст...   19368812            -   \n",
       "\n",
       "   TariffDistance                       TypeOfTransport  \\\n",
       "17              -  Пригородный электропоезд ЦППК, МТППК   \n",
       "\n",
       "                                        NameOfCarrier  TicketCost  \\\n",
       "17  [{'NameOfCarrier': 'АО «Центральная пригородна...        18.5   \n",
       "\n",
       "                                       TicketValidity  \n",
       "17  указанная дата, но не более, чем 10 дней от да...  "
      ]
     },
     "execution_count": 50,
     "metadata": {},
     "output_type": "execute_result"
    }
   ],
   "source": [
    "import pandas as pd\n",
    "\n",
    "data = pd.read_json(r'C:\\Users\\Vadim\\Downloads\\data-399-2022-07-01.json', encoding='windows-1251')\n",
    "data[data['TicketCost'] == data['TicketCost'].min()]"
   ]
  },
  {
   "cell_type": "code",
   "execution_count": 81,
   "id": "222eb65d",
   "metadata": {},
   "outputs": [],
   "source": [
    "import pandas as pd\n",
    "\n",
    "data = pd.read_csv(r'C:\\Users\\Vadim\\Downloads\\users (3).csv', on_bad_lines='skip', sep=';', usecols=['username', 'name', 'sex'])\n",
    "data.to_json(r'C:\\Users\\Vadim\\Downloads\\new_data.json')"
   ]
  },
  {
   "cell_type": "markdown",
   "id": "be0dbfdc",
   "metadata": {},
   "source": [
    "## Задачи урока 4.5"
   ]
  },
  {
   "cell_type": "markdown",
   "id": "4c027dcb",
   "metadata": {},
   "source": [
    "Задача 1:"
   ]
  },
  {
   "cell_type": "code",
   "execution_count": 56,
   "id": "6fc4bb68",
   "metadata": {
    "scrolled": true
   },
   "outputs": [
    {
     "name": "stdout",
     "output_type": "stream",
     "text": [
      "['/parking_table', '/ser_district_value_counts']\n"
     ]
    }
   ],
   "source": [
    "import pandas as pd\n",
    "\n",
    "with pd.HDFStore(r'C:\\Users\\Vadim\\Downloads\\data_store2.h5') as data:\n",
    "    print(data.keys())"
   ]
  },
  {
   "cell_type": "code",
   "execution_count": 55,
   "id": "01529455",
   "metadata": {},
   "outputs": [
    {
     "data": {
      "text/plain": [
       "26"
      ]
     },
     "execution_count": 55,
     "metadata": {},
     "output_type": "execute_result"
    }
   ],
   "source": [
    "data = pd.read_hdf(r'C:\\Users\\Vadim\\Downloads\\data_store2.h5', key='/parking_table')\n",
    "data[data['District'].isin(['район Тропарёво-Никулино'])].Capacity.sum()"
   ]
  },
  {
   "cell_type": "markdown",
   "id": "31b7a19a",
   "metadata": {},
   "source": [
    "2."
   ]
  },
  {
   "cell_type": "markdown",
   "id": "b0e576ae",
   "metadata": {},
   "source": [
    "Задача 2:"
   ]
  },
  {
   "cell_type": "code",
   "execution_count": 107,
   "id": "b4e9ef7d",
   "metadata": {},
   "outputs": [
    {
     "data": {
      "text/html": [
       "<div>\n",
       "<style scoped>\n",
       "    .dataframe tbody tr th:only-of-type {\n",
       "        vertical-align: middle;\n",
       "    }\n",
       "\n",
       "    .dataframe tbody tr th {\n",
       "        vertical-align: top;\n",
       "    }\n",
       "\n",
       "    .dataframe thead th {\n",
       "        text-align: right;\n",
       "    }\n",
       "</style>\n",
       "<table border=\"1\" class=\"dataframe\">\n",
       "  <thead>\n",
       "    <tr style=\"text-align: right;\">\n",
       "      <th></th>\n",
       "      <th>Наименование субъекта</th>\n",
       "      <th>Код субъекта</th>\n",
       "      <th>январь 2022 г.</th>\n",
       "      <th>2014 г.</th>\n",
       "      <th>2015 г.</th>\n",
       "      <th>2016 г.</th>\n",
       "      <th>2017 г.</th>\n",
       "      <th>2018 г.</th>\n",
       "      <th>2019 г.</th>\n",
       "      <th>2020 г.</th>\n",
       "      <th>январь 2022 г..1</th>\n",
       "      <th>2014 г..1</th>\n",
       "      <th>2015 г..1</th>\n",
       "      <th>2016 г..1</th>\n",
       "      <th>2017 г..1</th>\n",
       "      <th>2018 г..1</th>\n",
       "      <th>2019 г..1</th>\n",
       "      <th>2020 г..1</th>\n",
       "    </tr>\n",
       "  </thead>\n",
       "  <tbody>\n",
       "    <tr>\n",
       "      <th>0</th>\n",
       "      <td>Центральный федеральный округ</td>\n",
       "      <td>30</td>\n",
       "      <td>NaN</td>\n",
       "      <td>131605.0</td>\n",
       "      <td>152840.0</td>\n",
       "      <td>105263.0</td>\n",
       "      <td>101831.0</td>\n",
       "      <td>66646.0</td>\n",
       "      <td>55497.0</td>\n",
       "      <td>-182596.0</td>\n",
       "      <td>-146560.0</td>\n",
       "      <td>NaN</td>\n",
       "      <td>NaN</td>\n",
       "      <td>NaN</td>\n",
       "      <td>NaN</td>\n",
       "      <td>NaN</td>\n",
       "      <td>NaN</td>\n",
       "      <td>NaN</td>\n",
       "    </tr>\n",
       "    <tr>\n",
       "      <th>1</th>\n",
       "      <td>Белгородская область</td>\n",
       "      <td>14000000000</td>\n",
       "      <td>NaN</td>\n",
       "      <td>3828.0</td>\n",
       "      <td>2201.0</td>\n",
       "      <td>2728.0</td>\n",
       "      <td>-2989.0</td>\n",
       "      <td>-2458.0</td>\n",
       "      <td>1733.0</td>\n",
       "      <td>-7892.0</td>\n",
       "      <td>-9342.0</td>\n",
       "      <td>NaN</td>\n",
       "      <td>NaN</td>\n",
       "      <td>NaN</td>\n",
       "      <td>NaN</td>\n",
       "      <td>NaN</td>\n",
       "      <td>NaN</td>\n",
       "      <td>NaN</td>\n",
       "    </tr>\n",
       "    <tr>\n",
       "      <th>2</th>\n",
       "      <td>Брянская область</td>\n",
       "      <td>15000000000</td>\n",
       "      <td>NaN</td>\n",
       "      <td>-9659.0</td>\n",
       "      <td>-7199.0</td>\n",
       "      <td>-5211.0</td>\n",
       "      <td>-9548.0</td>\n",
       "      <td>-10795.0</td>\n",
       "      <td>-7696.0</td>\n",
       "      <td>-9809.0</td>\n",
       "      <td>-13911.0</td>\n",
       "      <td>NaN</td>\n",
       "      <td>NaN</td>\n",
       "      <td>NaN</td>\n",
       "      <td>NaN</td>\n",
       "      <td>NaN</td>\n",
       "      <td>NaN</td>\n",
       "      <td>NaN</td>\n",
       "    </tr>\n",
       "    <tr>\n",
       "      <th>3</th>\n",
       "      <td>Владимирская область</td>\n",
       "      <td>17000000000</td>\n",
       "      <td>NaN</td>\n",
       "      <td>-7708.0</td>\n",
       "      <td>-8445.0</td>\n",
       "      <td>-7569.0</td>\n",
       "      <td>-11262.0</td>\n",
       "      <td>-12532.0</td>\n",
       "      <td>-7389.0</td>\n",
       "      <td>-16317.0</td>\n",
       "      <td>-18440.0</td>\n",
       "      <td>NaN</td>\n",
       "      <td>NaN</td>\n",
       "      <td>NaN</td>\n",
       "      <td>NaN</td>\n",
       "      <td>NaN</td>\n",
       "      <td>NaN</td>\n",
       "      <td>NaN</td>\n",
       "    </tr>\n",
       "    <tr>\n",
       "      <th>4</th>\n",
       "      <td>Воронежская область</td>\n",
       "      <td>20000000000</td>\n",
       "      <td>NaN</td>\n",
       "      <td>2188.0</td>\n",
       "      <td>2330.0</td>\n",
       "      <td>1931.0</td>\n",
       "      <td>-1640.0</td>\n",
       "      <td>-5947.0</td>\n",
       "      <td>-3616.0</td>\n",
       "      <td>-18597.0</td>\n",
       "      <td>-17930.0</td>\n",
       "      <td>NaN</td>\n",
       "      <td>NaN</td>\n",
       "      <td>NaN</td>\n",
       "      <td>NaN</td>\n",
       "      <td>NaN</td>\n",
       "      <td>NaN</td>\n",
       "      <td>NaN</td>\n",
       "    </tr>\n",
       "    <tr>\n",
       "      <th>...</th>\n",
       "      <td>...</td>\n",
       "      <td>...</td>\n",
       "      <td>...</td>\n",
       "      <td>...</td>\n",
       "      <td>...</td>\n",
       "      <td>...</td>\n",
       "      <td>...</td>\n",
       "      <td>...</td>\n",
       "      <td>...</td>\n",
       "      <td>...</td>\n",
       "      <td>...</td>\n",
       "      <td>...</td>\n",
       "      <td>...</td>\n",
       "      <td>...</td>\n",
       "      <td>...</td>\n",
       "      <td>...</td>\n",
       "      <td>...</td>\n",
       "      <td>...</td>\n",
       "    </tr>\n",
       "    <tr>\n",
       "      <th>94</th>\n",
       "      <td>Магаданская область</td>\n",
       "      <td>44000000000</td>\n",
       "      <td>NaN</td>\n",
       "      <td>-2241.0</td>\n",
       "      <td>-1726.0</td>\n",
       "      <td>-775.0</td>\n",
       "      <td>-1479.0</td>\n",
       "      <td>-2857.0</td>\n",
       "      <td>-1085.0</td>\n",
       "      <td>-1115.0</td>\n",
       "      <td>-1267.0</td>\n",
       "      <td>NaN</td>\n",
       "      <td>NaN</td>\n",
       "      <td>NaN</td>\n",
       "      <td>NaN</td>\n",
       "      <td>NaN</td>\n",
       "      <td>NaN</td>\n",
       "      <td>NaN</td>\n",
       "    </tr>\n",
       "    <tr>\n",
       "      <th>95</th>\n",
       "      <td>Сахалинская область</td>\n",
       "      <td>64000000000</td>\n",
       "      <td>NaN</td>\n",
       "      <td>-2636.0</td>\n",
       "      <td>-1098.0</td>\n",
       "      <td>51.0</td>\n",
       "      <td>2837.0</td>\n",
       "      <td>-543.0</td>\n",
       "      <td>-1381.0</td>\n",
       "      <td>-2636.0</td>\n",
       "      <td>-1444.0</td>\n",
       "      <td>NaN</td>\n",
       "      <td>NaN</td>\n",
       "      <td>NaN</td>\n",
       "      <td>NaN</td>\n",
       "      <td>NaN</td>\n",
       "      <td>NaN</td>\n",
       "      <td>NaN</td>\n",
       "    </tr>\n",
       "    <tr>\n",
       "      <th>96</th>\n",
       "      <td>Еврейская автономная область</td>\n",
       "      <td>99000000000</td>\n",
       "      <td>NaN</td>\n",
       "      <td>-2009.0</td>\n",
       "      <td>-2248.0</td>\n",
       "      <td>-1903.0</td>\n",
       "      <td>-2203.0</td>\n",
       "      <td>-2101.0</td>\n",
       "      <td>-1608.0</td>\n",
       "      <td>-1805.0</td>\n",
       "      <td>-2669.0</td>\n",
       "      <td>NaN</td>\n",
       "      <td>NaN</td>\n",
       "      <td>NaN</td>\n",
       "      <td>NaN</td>\n",
       "      <td>NaN</td>\n",
       "      <td>NaN</td>\n",
       "      <td>NaN</td>\n",
       "    </tr>\n",
       "    <tr>\n",
       "      <th>97</th>\n",
       "      <td>Чукотский автономный округ</td>\n",
       "      <td>77000000000</td>\n",
       "      <td>NaN</td>\n",
       "      <td>-15.0</td>\n",
       "      <td>-383.0</td>\n",
       "      <td>-335.0</td>\n",
       "      <td>-474.0</td>\n",
       "      <td>315.0</td>\n",
       "      <td>625.0</td>\n",
       "      <td>-761.0</td>\n",
       "      <td>513.0</td>\n",
       "      <td>NaN</td>\n",
       "      <td>NaN</td>\n",
       "      <td>NaN</td>\n",
       "      <td>NaN</td>\n",
       "      <td>NaN</td>\n",
       "      <td>NaN</td>\n",
       "      <td>NaN</td>\n",
       "    </tr>\n",
       "    <tr>\n",
       "      <th>98</th>\n",
       "      <td>Крымский федеральный округ</td>\n",
       "      <td>39</td>\n",
       "      <td>NaN</td>\n",
       "      <td>0.0</td>\n",
       "      <td>28481.0</td>\n",
       "      <td>NaN</td>\n",
       "      <td>NaN</td>\n",
       "      <td>NaN</td>\n",
       "      <td>NaN</td>\n",
       "      <td>NaN</td>\n",
       "      <td>NaN</td>\n",
       "      <td>NaN</td>\n",
       "      <td>NaN</td>\n",
       "      <td>NaN</td>\n",
       "      <td>NaN</td>\n",
       "      <td>NaN</td>\n",
       "      <td>NaN</td>\n",
       "      <td>NaN</td>\n",
       "    </tr>\n",
       "  </tbody>\n",
       "</table>\n",
       "<p>99 rows × 18 columns</p>\n",
       "</div>"
      ],
      "text/plain": [
       "            Наименование субъекта  Код субъекта  январь 2022 г.   2014 г.  \\\n",
       "0   Центральный федеральный округ            30             NaN  131605.0   \n",
       "1            Белгородская область   14000000000             NaN    3828.0   \n",
       "2                Брянская область   15000000000             NaN   -9659.0   \n",
       "3            Владимирская область   17000000000             NaN   -7708.0   \n",
       "4             Воронежская область   20000000000             NaN    2188.0   \n",
       "..                            ...           ...             ...       ...   \n",
       "94            Магаданская область   44000000000             NaN   -2241.0   \n",
       "95            Сахалинская область   64000000000             NaN   -2636.0   \n",
       "96   Еврейская автономная область   99000000000             NaN   -2009.0   \n",
       "97     Чукотский автономный округ   77000000000             NaN     -15.0   \n",
       "98     Крымский федеральный округ            39             NaN       0.0   \n",
       "\n",
       "     2015 г.   2016 г.   2017 г.  2018 г.  2019 г.   2020 г.  \\\n",
       "0   152840.0  105263.0  101831.0  66646.0  55497.0 -182596.0   \n",
       "1     2201.0    2728.0   -2989.0  -2458.0   1733.0   -7892.0   \n",
       "2    -7199.0   -5211.0   -9548.0 -10795.0  -7696.0   -9809.0   \n",
       "3    -8445.0   -7569.0  -11262.0 -12532.0  -7389.0  -16317.0   \n",
       "4     2330.0    1931.0   -1640.0  -5947.0  -3616.0  -18597.0   \n",
       "..       ...       ...       ...      ...      ...       ...   \n",
       "94   -1726.0    -775.0   -1479.0  -2857.0  -1085.0   -1115.0   \n",
       "95   -1098.0      51.0    2837.0   -543.0  -1381.0   -2636.0   \n",
       "96   -2248.0   -1903.0   -2203.0  -2101.0  -1608.0   -1805.0   \n",
       "97    -383.0    -335.0    -474.0    315.0    625.0    -761.0   \n",
       "98   28481.0       NaN       NaN      NaN      NaN       NaN   \n",
       "\n",
       "    январь 2022 г..1  2014 г..1  2015 г..1  2016 г..1  2017 г..1  2018 г..1  \\\n",
       "0          -146560.0        NaN        NaN        NaN        NaN        NaN   \n",
       "1            -9342.0        NaN        NaN        NaN        NaN        NaN   \n",
       "2           -13911.0        NaN        NaN        NaN        NaN        NaN   \n",
       "3           -18440.0        NaN        NaN        NaN        NaN        NaN   \n",
       "4           -17930.0        NaN        NaN        NaN        NaN        NaN   \n",
       "..               ...        ...        ...        ...        ...        ...   \n",
       "94           -1267.0        NaN        NaN        NaN        NaN        NaN   \n",
       "95           -1444.0        NaN        NaN        NaN        NaN        NaN   \n",
       "96           -2669.0        NaN        NaN        NaN        NaN        NaN   \n",
       "97             513.0        NaN        NaN        NaN        NaN        NaN   \n",
       "98               NaN        NaN        NaN        NaN        NaN        NaN   \n",
       "\n",
       "    2019 г..1  2020 г..1  \n",
       "0         NaN        NaN  \n",
       "1         NaN        NaN  \n",
       "2         NaN        NaN  \n",
       "3         NaN        NaN  \n",
       "4         NaN        NaN  \n",
       "..        ...        ...  \n",
       "94        NaN        NaN  \n",
       "95        NaN        NaN  \n",
       "96        NaN        NaN  \n",
       "97        NaN        NaN  \n",
       "98        NaN        NaN  \n",
       "\n",
       "[99 rows x 18 columns]"
      ]
     },
     "execution_count": 107,
     "metadata": {},
     "output_type": "execute_result"
    }
   ],
   "source": [
    "import pandas as pd\n",
    "\n",
    "data = pd.read_html(r'C:\\Users\\Vadim\\Downloads\\23110000100100200001_Общий_прирост_постоянного_населения.html', \n",
    "                    skiprows=[1, 3, 4], header=1)\n",
    "df = data[0].rename(columns={'Unnamed: 0': 'Наименование субъекта', 'Unnamed: 1': 'Код субъекта'})\n",
    "\n",
    "df"
   ]
  },
  {
   "cell_type": "code",
   "execution_count": 67,
   "id": "3ecdf963",
   "metadata": {},
   "outputs": [
    {
     "data": {
      "text/plain": [
       "90   -8197.0\n",
       "dtype: float64"
      ]
     },
     "execution_count": 67,
     "metadata": {},
     "output_type": "execute_result"
    }
   ],
   "source": [
    "df.loc[df['Наименование субъекта'] == 'Камчатский край', '2014 г.':'2020 г.'].sum(axis=1)"
   ]
  },
  {
   "cell_type": "markdown",
   "id": "94960335",
   "metadata": {},
   "source": [
    "Задача 3:"
   ]
  },
  {
   "cell_type": "code",
   "execution_count": 106,
   "id": "3b3767e4",
   "metadata": {},
   "outputs": [
    {
     "data": {
      "text/html": [
       "<div>\n",
       "<style scoped>\n",
       "    .dataframe tbody tr th:only-of-type {\n",
       "        vertical-align: middle;\n",
       "    }\n",
       "\n",
       "    .dataframe tbody tr th {\n",
       "        vertical-align: top;\n",
       "    }\n",
       "\n",
       "    .dataframe thead th {\n",
       "        text-align: right;\n",
       "    }\n",
       "</style>\n",
       "<table border=\"1\" class=\"dataframe\">\n",
       "  <thead>\n",
       "    <tr style=\"text-align: right;\">\n",
       "      <th></th>\n",
       "      <th>Наименование субъекта</th>\n",
       "      <th>Код субъекта</th>\n",
       "      <th>январь 2022 г.</th>\n",
       "      <th>2014 г.</th>\n",
       "      <th>2015 г.</th>\n",
       "      <th>2016 г.</th>\n",
       "      <th>2017 г.</th>\n",
       "      <th>2018 г.</th>\n",
       "      <th>2019 г.</th>\n",
       "      <th>2020 г.</th>\n",
       "      <th>январь 2022 г..1</th>\n",
       "      <th>2014 г..1</th>\n",
       "      <th>2015 г..1</th>\n",
       "      <th>2016 г..1</th>\n",
       "      <th>2017 г..1</th>\n",
       "      <th>2018 г..1</th>\n",
       "      <th>2019 г..1</th>\n",
       "      <th>2020 г..1</th>\n",
       "    </tr>\n",
       "  </thead>\n",
       "  <tbody>\n",
       "    <tr>\n",
       "      <th>67</th>\n",
       "      <td>Свердловская область</td>\n",
       "      <td>65000000000</td>\n",
       "      <td>NaN</td>\n",
       "      <td>6795.0</td>\n",
       "      <td>2534.0</td>\n",
       "      <td>-665.0</td>\n",
       "      <td>-4085.0</td>\n",
       "      <td>-9557.0</td>\n",
       "      <td>-5018.0</td>\n",
       "      <td>-20614.0</td>\n",
       "      <td>-25727.0</td>\n",
       "      <td>NaN</td>\n",
       "      <td>NaN</td>\n",
       "      <td>NaN</td>\n",
       "      <td>NaN</td>\n",
       "      <td>NaN</td>\n",
       "      <td>NaN</td>\n",
       "      <td>NaN</td>\n",
       "    </tr>\n",
       "  </tbody>\n",
       "</table>\n",
       "</div>"
      ],
      "text/plain": [
       "   Наименование субъекта  Код субъекта  январь 2022 г.  2014 г.  2015 г.  \\\n",
       "67  Свердловская область   65000000000             NaN   6795.0   2534.0   \n",
       "\n",
       "    2016 г.  2017 г.  2018 г.  2019 г.  2020 г.  январь 2022 г..1  2014 г..1  \\\n",
       "67   -665.0  -4085.0  -9557.0  -5018.0 -20614.0          -25727.0        NaN   \n",
       "\n",
       "    2015 г..1  2016 г..1  2017 г..1  2018 г..1  2019 г..1  2020 г..1  \n",
       "67        NaN        NaN        NaN        NaN        NaN        NaN  "
      ]
     },
     "execution_count": 106,
     "metadata": {},
     "output_type": "execute_result"
    }
   ],
   "source": [
    "regions = ['Калужская область', 'Свердловская область', 'Кировская область', 'Ярославская область', 'Сахалинская область', 'Магаданская область']\n",
    "sample_regions = df[df['Наименование субъекта'].isin(regions)]\n",
    "\n",
    "sample_regions[sample_data['2020 г.'] == sample_data['2020 г.'].min()]"
   ]
  },
  {
   "cell_type": "markdown",
   "id": "ff69f2ee",
   "metadata": {},
   "source": [
    "Задача 4:"
   ]
  },
  {
   "cell_type": "code",
   "execution_count": 131,
   "id": "ce02a658",
   "metadata": {},
   "outputs": [
    {
     "data": {
      "text/plain": [
       "5"
      ]
     },
     "execution_count": 131,
     "metadata": {},
     "output_type": "execute_result"
    }
   ],
   "source": [
    "from lxml import objectify\n",
    "\n",
    "parsed = objectify.parse(r'C:\\Users\\Vadim\\Downloads\\users.xml')\n",
    "root = parsed.getroot()\n",
    "\n",
    "data = []\n",
    "\n",
    "for el in root.element:\n",
    "    d = {}\n",
    "    for e in el.getchildren():\n",
    "        d[e.tag] = e.text\n",
    "    data.append(d)\n",
    "    \n",
    "df = pd.DataFrame(data)\n",
    "\n",
    "(df.loc[df['sex'] == 'F', 'blood_group'] == 'B+').sum()"
   ]
  },
  {
   "cell_type": "markdown",
   "id": "b392e382",
   "metadata": {},
   "source": [
    "## Задачи урока 4.6"
   ]
  },
  {
   "cell_type": "markdown",
   "id": "c7ff1a8d",
   "metadata": {},
   "source": [
    "Задача 1:"
   ]
  },
  {
   "cell_type": "code",
   "execution_count": 57,
   "id": "e20c3fad",
   "metadata": {},
   "outputs": [],
   "source": [
    "import sqlalchemy as sql\n",
    "import pandas as pd\n",
    "\n",
    "con = sql.create_engine('sqlite:///C:/Users/Vadim/Downloads/local_db (1).db')\n",
    "df = pd.read_sql('select Name, StationCapacity, Location from stations', con)\n",
    "df['StationCapacity'] = df['StationCapacity'].astype(int)\n",
    "df.sort_values(by=['StationCapacity', 'Name'], ascending=[False, True], inplace=True)\n",
    "\n",
    "df.to_csv('C:/Users/Vadim/Downloads/result.csv', sep=';', index=False, encoding='utf-8')"
   ]
  },
  {
   "cell_type": "markdown",
   "id": "8e13022a",
   "metadata": {},
   "source": [
    "Задача 2:"
   ]
  },
  {
   "cell_type": "code",
   "execution_count": 64,
   "id": "1a7b67b3",
   "metadata": {},
   "outputs": [
    {
     "data": {
      "text/plain": [
       "Пресненский район    11.0\n",
       "Мещанский район      10.0\n",
       "Басманный район       9.0\n",
       "Name: count, dtype: float64"
      ]
     },
     "execution_count": 64,
     "metadata": {},
     "output_type": "execute_result"
    }
   ],
   "source": [
    "import pandas as pd\n",
    "\n",
    "xlsx = pd.ExcelFile(r'C:\\Users\\Vadim\\Downloads\\Зарядные_станции_для_электромобилей.xlsx')\n",
    "\n",
    "df1 = pd.read_excel(xlsx, '0', skiprows=1)\n",
    "df2 = pd.read_excel(xlsx, '1')\n",
    "\n",
    "df1.iloc[:, 3].value_counts().add(df2.iloc[:, 3].value_counts(), fill_value=0).sort_values(ascending=False).head(3)"
   ]
  }
 ],
 "metadata": {
  "kernelspec": {
   "display_name": "Python 3 (ipykernel)",
   "language": "python",
   "name": "python3"
  },
  "language_info": {
   "codemirror_mode": {
    "name": "ipython",
    "version": 3
   },
   "file_extension": ".py",
   "mimetype": "text/x-python",
   "name": "python",
   "nbconvert_exporter": "python",
   "pygments_lexer": "ipython3",
   "version": "3.10.4"
  }
 },
 "nbformat": 4,
 "nbformat_minor": 5
}
